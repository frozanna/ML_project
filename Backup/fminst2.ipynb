{
 "cells": [
  {
   "cell_type": "markdown",
   "metadata": {},
   "source": [
    "1."
   ]
  },
  {
   "cell_type": "code",
   "execution_count": 1,
   "metadata": {
    "pycharm": {
     "is_executing": true
    }
   },
   "outputs": [],
   "source": [
    "from sklearn.metrics import (accuracy_score, f1_score)\n",
    "from sklearn.preprocessing import StandardScaler\n",
    "from sklearn.decomposition import PCA\n",
    "from sklearn.svm import SVC\n",
    "from sklearn.utils import resample\n",
    "import tensorflow as tf\n",
    "import numpy as np\n",
    "from random import sample \n",
    "from copy import deepcopy\n",
    "from random import sample, randint, randrange\n",
    "import imgaug.augmenters as iaa\n",
    "from contextlib import contextmanager\n",
    "from timeit import default_timer\n",
    "from sklearn.model_selection import cross_validate"
   ]
  },
  {
   "cell_type": "code",
   "execution_count": 2,
   "metadata": {
    "pycharm": {
     "is_executing": true
    }
   },
   "outputs": [],
   "source": [
    "import warnings\n",
    "warnings.filterwarnings('ignore')"
   ]
  },
  {
   "cell_type": "code",
   "execution_count": 3,
   "metadata": {
    "pycharm": {
     "is_executing": true
    }
   },
   "outputs": [],
   "source": [
    "(x_train_f, y_train_f), (x_test_f, y_test_f) = tf.keras.datasets.fashion_mnist.load_data()"
   ]
  },
  {
   "cell_type": "code",
   "execution_count": 4,
   "metadata": {
    "pycharm": {
     "is_executing": true
    }
   },
   "outputs": [],
   "source": [
    "x_train = x_train_f.reshape((x_train_f.shape[0],-1))\n",
    "x_test = x_test_f.reshape((x_test_f.shape[0],-1))\n",
    "y_train = y_train_f.reshape((y_train_f.shape[0],))\n",
    "y_test = y_test_f\n",
    "\n",
    "X_concat = np.concatenate([x_train, x_test])\n",
    "Y = np.concatenate([y_train, y_test])\n",
    "\n",
    "scaler = StandardScaler()\n",
    "\n",
    "scaler.fit(X_concat)\n",
    "\n",
    "X_transform = scaler.transform(X_concat)\n",
    "\n",
    "pca = PCA(n_components=50)\n",
    "pca.fit(X_transform)\n",
    "\n",
    "X = pca.transform(X_transform)\n",
    "\n",
    "classes_count = 10"
   ]
  },
  {
   "cell_type": "markdown",
   "metadata": {},
   "source": [
    "2."
   ]
  },
  {
   "cell_type": "markdown",
   "metadata": {},
   "source": [
    "Pełne dane"
   ]
  },
  {
   "cell_type": "code",
   "execution_count": null,
   "metadata": {
    "pycharm": {
     "is_executing": true
    }
   },
   "outputs": [],
   "source": [
    "clf = SVC(probability=True)"
   ]
  },
  {
   "cell_type": "code",
   "execution_count": null,
   "metadata": {
    "pycharm": {
     "is_executing": true
    }
   },
   "outputs": [],
   "source": [
    "scores = cross_validate(clf, X, Y, cv=5, scoring=('accuracy', 'neg_log_loss', 'neg_mean_squared_error', 'roc_auc_ovr', 'f1_weighted', 'precision_weighted', 'recall_weighted'))"
   ]
  },
  {
   "cell_type": "code",
   "execution_count": null,
   "metadata": {
    "pycharm": {
     "is_executing": true
    }
   },
   "outputs": [],
   "source": [
    "scores"
   ]
  },
  {
   "cell_type": "markdown",
   "metadata": {},
   "source": [
    "Niepełne dane i cechy"
   ]
  },
  {
   "cell_type": "code",
   "execution_count": 5,
   "metadata": {
    "pycharm": {
     "is_executing": true
    }
   },
   "outputs": [],
   "source": [
    "def average_pred(predictions):\n",
    "    m = len(predictions[0][0])\n",
    "    all_results = [[0 for x in range(classes_count)] for y in range(m)] \n",
    "    results = [0] * m\n",
    "    for (_, pred_proba) in predictions:\n",
    "        for i in range(m):\n",
    "            for j in range(classes_count):\n",
    "                all_results[i][j] += pred_proba[i][j]\n",
    "    for i in range(m):\n",
    "        results[i] = all_results[i].index(max(all_results[i]))\n",
    "    return results\n",
    "\n",
    "def average_pred_proba(predictions, n_classifiers):\n",
    "    m = len(predictions[0][0])\n",
    "    results = [[0 for x in range(classes_count)] for y in range(m)]\n",
    "    for (_, pred_proba) in predictions:\n",
    "        for i in range(m):\n",
    "            for j in range(classes_count):\n",
    "                results[i][j] += pred_proba[i][j]\n",
    "\n",
    "    for i in range(m):\n",
    "        for j in range(classes_count):\n",
    "            results[i][j] /= n_classifiers            \n",
    "    return results\n",
    "\n",
    "def majority_pred(predictions):\n",
    "    m = len(predictions[0][0])\n",
    "    results = [0] * m\n",
    "    for i in range(m):\n",
    "        all_results = [0 for x in range(classes_count)] \n",
    "        for (pred, _) in predictions:\n",
    "            all_results[pred[i]] += 1\n",
    "        results[i] = all_results.index(max(all_results))\n",
    "        \n",
    "    return results\n",
    "\n",
    "def majority_pred_proba(predictions, n_classifiers):\n",
    "    m = len(predictions[0][0])\n",
    "    results = [[0 for x in range(classes_count)] for y in range(m)]\n",
    "    classifiers_votes_count = [0] * m\n",
    "    majority_results = majority_pred(predictions)\n",
    "    for classifier in range(0, n_classifiers):\n",
    "        for i in range(m):\n",
    "            voted_class = majority_results[i] \n",
    "            (pred, pred_proba) = predictions[classifier]\n",
    "            if(pred[i] == voted_class):\n",
    "                classifiers_votes_count[i] += 1\n",
    "                for j in range(classes_count):\n",
    "                    results[i][j] += pred_proba[i][j]\n",
    "    for i in range(m):\n",
    "        for j in range(classes_count):\n",
    "            results[i][j] /= classifiers_votes_count[i]\n",
    "    return results      \n",
    "    \n",
    "def borda_pred(predictions):\n",
    "    m = len(predictions[0][0])\n",
    "    all_results = [[0 for x in range(classes_count)] for y in range(m)] \n",
    "    results = [0] * m\n",
    "    \n",
    "    def get_final_borda_points(predictions):\n",
    "        return np.argsort(np.argsort(predictions)).tolist()\n",
    "\n",
    "    for (_, pred_proba) in predictions:\n",
    "        for i in range(m):\n",
    "            pred_proba[i] = get_final_borda_points(pred_proba[i])\n",
    "    for (_, pred_proba) in predictions:\n",
    "        for i in range(m):\n",
    "            for j in range(classes_count):\n",
    "                all_results[i][j] += pred_proba[i][j]\n",
    "    for i in range(m):\n",
    "        results[i] = all_results[i].index(max(all_results[i]))\n",
    "    return results\n",
    "\n",
    "def borda_pred_proba(predictions, n_classifiers):\n",
    "    m = len(predictions[0][0])\n",
    "    results = [[0 for x in range(classes_count)] for y in range(m)] \n",
    "    \n",
    "    def get_final_borda_points(predictions):\n",
    "        return np.argsort(np.argsort(predictions)).tolist()\n",
    "\n",
    "    def get_points():\n",
    "        sum = 0\n",
    "        for i in range(classes_count):\n",
    "            sum += i\n",
    "        return sum * n_classifiers\n",
    "    \n",
    "    for (_, pred_proba) in predictions:\n",
    "        for i in range(m):\n",
    "            pred_proba[i] = get_final_borda_points(pred_proba[i])\n",
    "    for (_, pred_proba) in predictions:\n",
    "        for i in range(m):\n",
    "            for j in range(classes_count):\n",
    "                results[i][j] += pred_proba[i][j]\n",
    "                \n",
    "    for i in range(m):\n",
    "        for j in range(classes_count):\n",
    "            results[i][j] /= get_points()\n",
    "        \n",
    "    return results"
   ]
  },
  {
   "cell_type": "code",
   "execution_count": 87,
   "metadata": {
    "pycharm": {
     "is_executing": true
    }
   },
   "outputs": [],
   "source": [
    "class MinorClassifiers:\n",
    "    def __init__(self, samp, feat, voting, max_iter=-1):\n",
    "        self.samp = samp\n",
    "        self.feat = feat\n",
    "        self.classifiers = []\n",
    "        self.predictions = []\n",
    "        self.cut_features = []\n",
    "        self.voting = voting\n",
    "        self.max_iter = max_iter\n",
    "    \n",
    "    def get_params(self, deep = False):\n",
    "        return {\n",
    "            'samp': self.samp,\n",
    "            'feat': self.feat,\n",
    "            'voting': self.voting,\n",
    "            'max_iter': self.max_iter\n",
    "        }\n",
    "    \n",
    "    def predict(self, X):\n",
    "        for i in range(len(self.classifiers)):\n",
    "            classifier = self.classifiers[i]\n",
    "            f = self.cut_features[i]\n",
    "            x_test = X[:,f]\n",
    "            y_pred = classifier.predict(x_test)\n",
    "            pred = classifier.predict_proba(x_test)\n",
    "            self.predictions.append((y_pred, pred))\n",
    "            \n",
    "        if self.voting == 'average':\n",
    "            return average_pred(self.predictions)\n",
    "        \n",
    "        if self.voting == 'majority':\n",
    "            return majority_pred(self.predictions)\n",
    "        \n",
    "        if self.voting == 'borda':\n",
    "            return borda_pred(self.predictions)\n",
    "    \n",
    "    def predict_proba(self, X):\n",
    "        if self.voting == 'average':\n",
    "            return average_pred_proba(self.predictions, len(self.classifiers))\n",
    "        \n",
    "        if self.voting == 'majority':\n",
    "            return majority_pred_proba(self.predictions, len(self.classifiers))\n",
    "        \n",
    "        if self.voting == 'borda':\n",
    "            return borda_pred_proba(self.predictions, len(self.classifiers))\n",
    "        \n",
    "    def fit(self, X, Y):\n",
    "        feature_list = [n for n in range(50)]\n",
    "        samples_all = X.shape[0]\n",
    "        features_all = X.shape[1]\n",
    "        \n",
    "        for i in range(10):\n",
    "            f = sample(feature_list, int(features_all * self.feat))\n",
    "            self.cut_features.append(f)\n",
    "            x_train_f = X[:,f]\n",
    "                \n",
    "            x_train_s, y_train_s = resample(x_train_f, Y, n_samples=int(self.samp * samples_all), replace=False, random_state=0)\n",
    "\n",
    "            svm_clf = SVC(probability=True)\n",
    "            svm_clf.fit(x_train_s, y_train_s)\n",
    "                \n",
    "            self.classifiers.append(svm_clf)"
   ]
  },
  {
   "cell_type": "code",
   "execution_count": 88,
   "metadata": {
    "pycharm": {
     "is_executing": true
    }
   },
   "outputs": [],
   "source": [
    "n_samples = [0.1, 0.35, 0.7]\n",
    "n_features = [0.25, 0.5, 0.75]\n",
    "minors = []"
   ]
  },
  {
   "cell_type": "code",
   "execution_count": 89,
   "metadata": {},
   "outputs": [],
   "source": [
    "for n in n_samples:\n",
    "    minors.append(MinorClassifiers(n, 1, 'average'))\n",
    "    \n",
    "for n in n_features:\n",
    "    minors.append(MinorClassifiers(1, n, 'average'))"
   ]
  },
  {
   "cell_type": "code",
   "execution_count": null,
   "metadata": {
    "pycharm": {
     "is_executing": true
    },
    "scrolled": false
   },
   "outputs": [
    {
     "name": "stdout",
     "output_type": "stream",
     "text": [
      "Samples: 0.1, features: 1\n",
      "{'fit_time': array([84.31182337, 41.57707858, 39.99521232, 40.09037495, 40.52187133]), 'score_time': array([96.89617443, 56.92793465, 57.37920856, 56.68667912, 57.90234208]), 'test_accuracy': array([0.84071429, 0.83478571, 0.84542857, 0.84107143, 0.83164286]), 'test_neg_log_loss': array([-0.43518617, -0.44896716, -0.43659481, -0.44667309, -0.45587556]), 'test_neg_mean_squared_error': array([-2.15207143, -2.07292857, -1.97335714, -2.02228571, -2.14457143]), 'test_roc_auc_ovr': array([0.98494211, 0.98453555, 0.98471949, 0.98439707, 0.98370706]), 'test_f1_weighted': array([0.8391561 , 0.83337703, 0.84363625, 0.83927396, 0.83025872]), 'test_precision_weighted': array([0.83913872, 0.83298658, 0.84356639, 0.83908444, 0.8299967 ]), 'test_recall_weighted': array([0.84071429, 0.83478571, 0.84542857, 0.84107143, 0.83164286])}\n",
      "Samples: 0.35, features: 1\n",
      "{'fit_time': array([360.26168919, 359.53345442, 370.93991184, 350.37274957,\n",
      "       406.04506087]), 'score_time': array([169.18066072, 165.01349115, 163.29849243, 175.5123682 ,\n",
      "       177.11645555]), 'test_accuracy': array([0.867     , 0.85828571, 0.86785714, 0.86228571, 0.85578571]), 'test_neg_log_loss': array([-0.37458176, -0.38662288, -0.37690371, -0.38751696, -0.39584564]), 'test_neg_mean_squared_error': array([-1.80964286, -1.82535714, -1.76028571, -1.78785714, -1.88057143]), 'test_roc_auc_ovr': array([0.98839966, 0.98803457, 0.98807114, 0.98767671, 0.98709211]), 'test_f1_weighted': array([0.86592419, 0.85763402, 0.86674151, 0.86152713, 0.85510894]), 'test_precision_weighted': array([0.86584839, 0.85747452, 0.8664719 , 0.86140608, 0.85495778]), 'test_recall_weighted': array([0.867     , 0.85828571, 0.86785714, 0.86228571, 0.85578571])}\n",
      "Samples: 0.7, features: 1\n",
      "{'fit_time': array([1514.74044871, 1490.03760457, 1489.57918429, 1557.11085701,\n",
      "       1580.86998367]), 'score_time': array([300.04744554, 298.80243111, 300.57700396, 321.65545154,\n",
      "       306.73347664]), 'test_accuracy': array([0.87621429, 0.869     , 0.87614286, 0.87357143, 0.86457143]), 'test_neg_log_loss': array([-0.34643838, -0.35749936, -0.35016429, -0.3578869 , -0.37156872]), 'test_neg_mean_squared_error': array([-1.67171429, -1.72214286, -1.67221429, -1.65978571, -1.78964286]), 'test_roc_auc_ovr': array([0.98989582, 0.98951393, 0.98949146, 0.98935415, 0.98848604]), 'test_f1_weighted': array([0.87533626, 0.86835481, 0.87530097, 0.87302834, 0.8640845 ]), 'test_precision_weighted': array([0.87525365, 0.8681826 , 0.87508912, 0.87299039, 0.86393884]), 'test_recall_weighted': array([0.87621429, 0.869     , 0.87614286, 0.87357143, 0.86457143])}\n",
      "Samples: 1, features: 0.25\n",
      "{'fit_time': array([2394.2928412 , 1960.99851084, 2471.14348221, 2081.36675572,\n",
      "       2105.00464439]), 'score_time': array([280.95140767, 269.65448427, 290.43191671, 268.81477118,\n",
      "       273.1422286 ]), 'test_accuracy': array([0.84964286, 0.84171429, 0.85321429, 0.85421429, 0.8415    ]), 'test_neg_log_loss': array([-0.53515091, -0.52443103, -0.55339481, -0.516753  , -0.53514556]), 'test_neg_mean_squared_error': array([-2.00807143, -1.98685714, -1.99378571, -1.93942857, -2.08421429]), 'test_roc_auc_ovr': array([0.98554685, 0.9844101 , 0.9840532 , 0.98527447, 0.98432231]), 'test_f1_weighted': array([0.84723568, 0.84032391, 0.8513564 , 0.85238464, 0.84009398]), 'test_precision_weighted': array([0.84760981, 0.84005744, 0.85122244, 0.85240706, 0.83954669]), 'test_recall_weighted': array([0.84964286, 0.84171429, 0.85321429, 0.85421429, 0.8415    ])}\n",
      "Samples: 1, features: 0.5\n",
      "{'fit_time': array([2142.20317793, 2244.65578413, 2453.77488136, 2172.01262736,\n",
      "       2166.03626943]), 'score_time': array([291.30873466, 294.23416042, 308.30326986, 289.80146146,\n",
      "       292.52090454]), 'test_accuracy': array([0.87235714, 0.86585714, 0.87242857, 0.8725    , 0.8605    ]), 'test_neg_log_loss': array([-0.36242727, -0.37406484, -0.37196683, -0.3672616 , -0.38742483]), 'test_neg_mean_squared_error': array([-1.71771429, -1.72378571, -1.74535714, -1.67721429, -1.89528571]), 'test_roc_auc_ovr': array([0.98949683, 0.98922866, 0.98897006, 0.98930304, 0.98799145]), 'test_f1_weighted': array([0.87094315, 0.86488645, 0.87129578, 0.87159843, 0.85986083]), 'test_precision_weighted': array([0.8709689 , 0.86455858, 0.8710122 , 0.87150367, 0.85963261]), 'test_recall_weighted': array([0.87235714, 0.86585714, 0.87242857, 0.8725    , 0.8605    ])}\n"
     ]
    }
   ],
   "source": [
    "for minor in minors:\n",
    "    scores = cross_validate(minor, X, Y, cv=5, scoring=('accuracy', 'neg_log_loss', 'neg_mean_squared_error', 'roc_auc_ovr', 'f1_weighted', 'precision_weighted', 'recall_weighted'))\n",
    "    print(\"Samples: \" + str(minor.samp) + \", features: \" + str(minor.feat))\n",
    "    print(scores)"
   ]
  },
  {
   "cell_type": "code",
   "execution_count": null,
   "metadata": {},
   "outputs": [],
   "source": [
    "minors = []\n",
    "for n in n_samples:\n",
    "    minors.append(MinorClassifiers(n, 1, 'majority'))\n",
    "    \n",
    "for n in n_features:\n",
    "    minors.append(MinorClassifiers(1, n, 'majority'))"
   ]
  },
  {
   "cell_type": "code",
   "execution_count": null,
   "metadata": {},
   "outputs": [],
   "source": [
    "for minor in minors:\n",
    "    scores = cross_validate(minor, X, Y, cv=5, scoring=('accuracy', 'neg_log_loss', 'neg_mean_squared_error', 'roc_auc_ovr', 'f1_weighted', 'precision_weighted', 'recall_weighted'))\n",
    "    print(\"Samples: \" + str(minor.samp) + \", features: \" + str(minor.feat))\n",
    "    print(scores)"
   ]
  },
  {
   "cell_type": "code",
   "execution_count": null,
   "metadata": {},
   "outputs": [],
   "source": [
    "minors = []\n",
    "for n in n_samples:\n",
    "    minors.append(MinorClassifiers(n, 1, 'borda'))\n",
    "    \n",
    "for n in n_features:\n",
    "    minors.append(MinorClassifiers(1, n, 'borda'))"
   ]
  },
  {
   "cell_type": "code",
   "execution_count": null,
   "metadata": {},
   "outputs": [],
   "source": [
    "for minor in minors:\n",
    "    scores = cross_validate(minor, X, Y, cv=5, scoring=('accuracy', 'neg_log_loss', 'neg_mean_squared_error', 'roc_auc_ovr', 'f1_weighted', 'precision_weighted', 'recall_weighted'))\n",
    "    print(\"Samples: \" + str(minor.samp) + \", features: \" + str(minor.feat))\n",
    "    print(scores)"
   ]
  },
  {
   "cell_type": "markdown",
   "metadata": {},
   "source": [
    "3a."
   ]
  },
  {
   "cell_type": "code",
   "execution_count": null,
   "metadata": {
    "pycharm": {
     "is_executing": true
    }
   },
   "outputs": [],
   "source": [
    "parts = [0.1, 0.25, 0.5, 0.75] ## for 1.0 already calculated"
   ]
  },
  {
   "cell_type": "code",
   "execution_count": null,
   "metadata": {
    "pycharm": {
     "is_executing": true
    }
   },
   "outputs": [],
   "source": [
    "n_samples = [0.1, 0.25, 0.35, 0.5]\n",
    "n_features = [0.25, 0.5, 0.75]\n",
    "minor = MinorClassifiers(n_samples, n_features)"
   ]
  },
  {
   "cell_type": "code",
   "execution_count": null,
   "metadata": {
    "pycharm": {
     "is_executing": true
    },
    "scrolled": false
   },
   "outputs": [],
   "source": [
    "for p in parts:\n",
    "    new_X = X[:int(p*X.shape[0])]\n",
    "    new_Y = Y[:int(p*Y.shape[0])]\n",
    "    clf = SVC(probability=True)\n",
    "    scores = cross_validate(clf, new_X, new_Y, cv=5, scoring=('accuracy', 'neg_log_loss', 'neg_mean_squared_error', 'roc_auc_ovr', 'f1_weighted', 'precision_weighted', 'recall_weighted'))\n",
    "    print(\"Full \" + str(p) + \"%\")\n",
    "    print(scores)\n",
    "    scores = cross_validate(minor, new_X, new_Y, cv=5, scoring=('accuracy', 'neg_log_loss', 'neg_mean_squared_error', 'roc_auc_ovr', 'f1_weighted', 'precision_weighted', 'recall_weighted'))\n",
    "    print(\"Minor \" + str(p) + \"%\")\n",
    "    print(scores)"
   ]
  },
  {
   "cell_type": "markdown",
   "metadata": {},
   "source": [
    "3b."
   ]
  },
  {
   "cell_type": "code",
   "execution_count": null,
   "metadata": {
    "pycharm": {
     "is_executing": true
    }
   },
   "outputs": [],
   "source": [
    "class MinorClassifiers2:\n",
    "    def __init__(self, n_samples, n_features, iterations):\n",
    "        self.n_samples = n_samples\n",
    "        self.n_features = n_features\n",
    "        self.classifiers = []\n",
    "        self.predictions = []\n",
    "        self.cut_features = []\n",
    "        self.iterations = iterations\n",
    "    \n",
    "    def get_params(self, deep = False):\n",
    "        return {\n",
    "            'n_samples': self.n_samples,\n",
    "            'n_features': self.n_features,  \n",
    "            'iterations': self.iterations\n",
    "        }\n",
    "    \n",
    "    def predict(self, X):\n",
    "        for i in range(len(self.classifiers)):\n",
    "            classifier = self.classifiers[i]\n",
    "            f = self.cut_features[i]\n",
    "            x_test = X[:,f]\n",
    "            y_pred = classifier.predict(x_test)\n",
    "            pred = classifier.predict_proba(x_test)\n",
    "            self.predictions.append((y_pred, pred))\n",
    "            \n",
    "        return average_pred(self.predictions)\n",
    "    \n",
    "    def predict_proba(self, X):\n",
    "        return average_pred_proba(self.predictions, len(self.classifiers))\n",
    "        \n",
    "    def fit(self, X, Y):\n",
    "        feature_list = [n for n in range(50)]\n",
    "        samples_all = X.shape[0]\n",
    "        features_all = X.shape[1]\n",
    "\n",
    "        for samples in self.n_samples:\n",
    "            for features in self.n_features:\n",
    "                f = sample(feature_list, int(features_all * features))\n",
    "                self.cut_features.append(f)\n",
    "                x_train_f = X[:,f]\n",
    "                \n",
    "                x_train_s, y_train_s = resample(x_train_f, Y, n_samples=int(samples * samples_all), replace=False, random_state=0)\n",
    "\n",
    "                svm_clf = SVC(probability=True, max_iter=self.iterations)\n",
    "                svm_clf.fit(x_train_s, y_train_s)\n",
    "                \n",
    "                self.classifiers.append(svm_clf)"
   ]
  },
  {
   "cell_type": "code",
   "execution_count": null,
   "metadata": {
    "pycharm": {
     "is_executing": true
    }
   },
   "outputs": [],
   "source": [
    "n_samples = [0.1, 0.35, 0.7]\n",
    "n_features = [0.25, 0.5, 0.75]\n",
    "minors = []"
   ]
  },
  {
   "cell_type": "code",
   "execution_count": null,
   "metadata": {},
   "outputs": [],
   "source": [
    "for n in n_samples:\n",
    "    minors.append(MinorClassifiers(n, 1))\n",
    "    \n",
    "for n in n_features:\n",
    "    minors.append(MinorClassifiers(1, n))"
   ]
  },
  {
   "cell_type": "code",
   "execution_count": null,
   "metadata": {
    "pycharm": {
     "is_executing": true
    }
   },
   "outputs": [],
   "source": [
    "max_iter = 800\n",
    "clf = SVC(probability=True, max_iter=max_iter)\n",
    "scores = cross_validate(clf, X, Y, cv=5, scoring=('accuracy', 'neg_log_loss', 'neg_mean_squared_error', 'roc_auc_ovr', 'f1_weighted', 'precision_weighted', 'recall_weighted'))\n",
    "scores"
   ]
  },
  {
   "cell_type": "code",
   "execution_count": null,
   "metadata": {
    "pycharm": {
     "is_executing": true
    }
   },
   "outputs": [],
   "source": [
    "max_iter = 750\n",
    "clf = SVC(probability=True, max_iter=max_iter)\n",
    "scores = cross_validate(clf, X, Y, cv=5, scoring=('accuracy', 'neg_log_loss', 'neg_mean_squared_error', 'roc_auc_ovr', 'f1_weighted', 'precision_weighted', 'recall_weighted'))\n",
    "scores"
   ]
  },
  {
   "cell_type": "code",
   "execution_count": null,
   "metadata": {
    "pycharm": {
     "is_executing": true
    }
   },
   "outputs": [],
   "source": [
    "max_iter = 700\n",
    "clf = SVC(probability=True, max_iter=max_iter)\n",
    "scores = cross_validate(clf, X, Y, cv=5, scoring=('accuracy', 'neg_log_loss', 'neg_mean_squared_error', 'roc_auc_ovr', 'f1_weighted', 'precision_weighted', 'recall_weighted'))\n",
    "scores"
   ]
  },
  {
   "cell_type": "code",
   "execution_count": null,
   "metadata": {
    "pycharm": {
     "is_executing": true
    }
   },
   "outputs": [],
   "source": [
    "max_iter = 600\n",
    "minor = MinorClassifiers2(n_samples, n_features, max_iter)\n",
    "scores = cross_validate(minor, X, Y, cv=5, scoring=('accuracy', 'neg_log_loss', 'neg_mean_squared_error', 'roc_auc_ovr', 'f1_weighted', 'precision_weighted', 'recall_weighted'))\n",
    "scores"
   ]
  },
  {
   "cell_type": "code",
   "execution_count": null,
   "metadata": {
    "pycharm": {
     "is_executing": true
    }
   },
   "outputs": [],
   "source": [
    "max_iter = 650\n",
    "minor = MinorClassifiers2(n_samples, n_features, max_iter)\n",
    "scores = cross_validate(minor, X, Y, cv=5, scoring=('accuracy', 'neg_log_loss', 'neg_mean_squared_error', 'roc_auc_ovr', 'f1_weighted', 'precision_weighted', 'recall_weighted'))\n",
    "scores"
   ]
  },
  {
   "cell_type": "code",
   "execution_count": null,
   "metadata": {
    "pycharm": {
     "is_executing": true
    }
   },
   "outputs": [],
   "source": [
    "max_iter = 550\n",
    "minor = MinorClassifiers2(n_samples, n_features, max_iter)\n",
    "scores = cross_validate(minor, X, Y, cv=5, scoring=('accuracy', 'neg_log_loss', 'neg_mean_squared_error', 'roc_auc_ovr', 'f1_weighted', 'precision_weighted', 'recall_weighted'))\n",
    "scores"
   ]
  },
  {
   "cell_type": "code",
   "execution_count": null,
   "metadata": {
    "pycharm": {
     "is_executing": true
    }
   },
   "outputs": [],
   "source": [
    "max_iter = 400\n",
    "clf = SVC(probability=True, max_iter=max_iter)\n",
    "scores = cross_validate(clf, X, Y, cv=5, scoring=('accuracy', 'neg_log_loss', 'neg_mean_squared_error', 'roc_auc_ovr', 'f1_weighted', 'precision_weighted', 'recall_weighted'))\n",
    "scores"
   ]
  },
  {
   "cell_type": "code",
   "execution_count": null,
   "metadata": {
    "pycharm": {
     "is_executing": true
    }
   },
   "outputs": [],
   "source": [
    "max_iter = 350\n",
    "minor = MinorClassifiers2(n_samples, n_features, max_iter)\n",
    "scores = cross_validate(minor, X, Y, cv=5, scoring=('accuracy', 'neg_log_loss', 'neg_mean_squared_error', 'roc_auc_ovr', 'f1_weighted', 'precision_weighted', 'recall_weighted'))\n",
    "scores"
   ]
  },
  {
   "cell_type": "code",
   "execution_count": null,
   "metadata": {
    "pycharm": {
     "is_executing": true
    }
   },
   "outputs": [],
   "source": [
    "max_iter = 200\n",
    "minor = MinorClassifiers2(n_samples, n_features, max_iter)\n",
    "scores = cross_validate(minor, X, Y, cv=5, scoring=('accuracy', 'neg_log_loss', 'neg_mean_squared_error', 'roc_auc_ovr', 'f1_weighted', 'precision_weighted', 'recall_weighted'))\n",
    "scores"
   ]
  },
  {
   "cell_type": "code",
   "execution_count": null,
   "metadata": {
    "pycharm": {
     "is_executing": true
    }
   },
   "outputs": [],
   "source": [
    "max_iter = 250\n",
    "minor = MinorClassifiers2(n_samples, n_features, max_iter)\n",
    "scores = cross_validate(minor, X, Y, cv=5, scoring=('accuracy', 'neg_log_loss', 'neg_mean_squared_error', 'roc_auc_ovr', 'f1_weighted', 'precision_weighted', 'recall_weighted'))\n",
    "scores"
   ]
  },
  {
   "cell_type": "code",
   "execution_count": null,
   "metadata": {
    "pycharm": {
     "is_executing": true
    }
   },
   "outputs": [],
   "source": [
    "max_iter = 150\n",
    "clf = SVC(probability=True, max_iter=max_iter)\n",
    "scores = cross_validate(clf, X, Y, cv=5, scoring=('accuracy', 'neg_log_loss', 'neg_mean_squared_error', 'roc_auc_ovr', 'f1_weighted', 'precision_weighted', 'recall_weighted'))\n",
    "scores"
   ]
  },
  {
   "cell_type": "code",
   "execution_count": null,
   "metadata": {
    "pycharm": {
     "is_executing": true
    }
   },
   "outputs": [],
   "source": [
    "max_iter = 100\n",
    "minor = MinorClassifiers2(n_samples, n_features, max_iter)\n",
    "scores = cross_validate(minor, X, Y, cv=5, scoring=('accuracy', 'neg_log_loss', 'neg_mean_squared_error', 'roc_auc_ovr', 'f1_weighted', 'precision_weighted', 'recall_weighted'))\n",
    "scores"
   ]
  },
  {
   "cell_type": "code",
   "execution_count": null,
   "metadata": {
    "pycharm": {
     "is_executing": true
    }
   },
   "outputs": [],
   "source": [
    "max_iter = 85\n",
    "minor = MinorClassifiers2(n_samples, n_features, max_iter)\n",
    "scores = cross_validate(minor, X, Y, cv=5, scoring=('accuracy', 'neg_log_loss', 'neg_mean_squared_error', 'roc_auc_ovr', 'f1_weighted', 'precision_weighted', 'recall_weighted'))\n",
    "scores"
   ]
  },
  {
   "cell_type": "code",
   "execution_count": null,
   "metadata": {
    "pycharm": {
     "is_executing": true
    }
   },
   "outputs": [],
   "source": [
    "max_iter = 75\n",
    "minor = MinorClassifiers2(n_samples, n_features, max_iter)\n",
    "scores = cross_validate(minor, X, Y, cv=5, scoring=('accuracy', 'neg_log_loss', 'neg_mean_squared_error', 'roc_auc_ovr', 'f1_weighted', 'precision_weighted', 'recall_weighted'))\n",
    "scores"
   ]
  },
  {
   "cell_type": "markdown",
   "metadata": {
    "pycharm": {
     "is_executing": true
    }
   },
   "source": [
    "4. "
   ]
  },
  {
   "cell_type": "code",
   "execution_count": null,
   "metadata": {
    "pycharm": {
     "is_executing": true
    }
   },
   "outputs": [],
   "source": [
    "class MinorClassifiers:\n",
    "    def __init__(self, n_samples, n_features):\n",
    "        self.n_samples = n_samples\n",
    "        self.n_features = n_features\n",
    "        self.classifiers = []\n",
    "        self.predictions = []\n",
    "        self.cut_features = []\n",
    "    \n",
    "    def get_params(self, deep = False):\n",
    "        return {\n",
    "            'n_samples': self.n_samples,\n",
    "            'n_features': self.n_features,   \n",
    "        }\n",
    "    \n",
    "    def predict(self, X):\n",
    "        for i in range(len(self.classifiers)):\n",
    "            classifier = self.classifiers[i]\n",
    "            f = self.cut_features[i]\n",
    "            x_test = X[:,f]\n",
    "            y_pred = classifier.predict(x_test)\n",
    "            pred = classifier.predict_proba(x_test)\n",
    "            self.predictions.append((y_pred, pred))\n",
    "            \n",
    "        return borda_pred(self.predictions)\n",
    "    \n",
    "    def predict_proba(self, X):\n",
    "        return borda_pred_proba(self.predictions, len(self.classifiers))\n",
    "        \n",
    "    def fit(self, X, Y):\n",
    "        feature_list = [n for n in range(50)]\n",
    "        samples_all = X.shape[0]\n",
    "        features_all = X.shape[1]\n",
    "\n",
    "        for samples in self.n_samples:\n",
    "            for features in self.n_features:\n",
    "                f = sample(feature_list, int(features_all * features))\n",
    "                self.cut_features.append(f)\n",
    "                x_train_f = X[:,f]\n",
    "                \n",
    "                x_train_s, y_train_s = resample(x_train_f, Y, n_samples=int(samples * samples_all), replace=False, random_state=0)\n",
    "\n",
    "                svm_clf = SVC(probability=True)\n",
    "                svm_clf.fit(x_train_s, y_train_s)\n",
    "                \n",
    "                self.classifiers.append(svm_clf)"
   ]
  },
  {
   "cell_type": "code",
   "execution_count": null,
   "metadata": {
    "pycharm": {
     "is_executing": true
    }
   },
   "outputs": [],
   "source": [
    "def make_noise_data(data, percent):\n",
    "    m = data.shape[0]\n",
    "    n = data.shape[1]\n",
    "    new_data = deepcopy(data)\n",
    "    for i in range(m):\n",
    "        for j in range(n):\n",
    "            rand = randrange(-1, 2, 2) #random integer from {-1, 1}\n",
    "            new_data[i][j] = (1 + rand * percent) * data[i][j]\n",
    "    return new_data"
   ]
  },
  {
   "cell_type": "code",
   "execution_count": null,
   "metadata": {
    "pycharm": {
     "is_executing": true
    }
   },
   "outputs": [],
   "source": [
    "def make_noise_label(labels, percent):\n",
    "    labels_with_noise = deepcopy(labels)\n",
    "    arr_size = labels.shape[0]\n",
    "    indexes = [n for n in range(arr_size)]\n",
    "    indexes_to_change = sample(indexes, int(arr_size * percent))\n",
    "    \n",
    "    for i in indexes_to_change:\n",
    "        old_val = labels[i]\n",
    "        new_val = randint(0, classes_count-1)\n",
    "        while old_val == new_val:\n",
    "            new_val = randint(0, classes_count-1)\n",
    "        labels_with_noise[i] = new_val\n",
    "        \n",
    "    return labels_with_noise"
   ]
  },
  {
   "cell_type": "code",
   "execution_count": null,
   "metadata": {
    "pycharm": {
     "is_executing": true
    }
   },
   "outputs": [],
   "source": [
    "noises = [0.01, 0.05, 0.1]"
   ]
  },
  {
   "cell_type": "code",
   "execution_count": null,
   "metadata": {
    "pycharm": {
     "is_executing": true
    }
   },
   "outputs": [],
   "source": [
    "for n in noises:\n",
    "    for minor in minors:\n",
    "        new_y_train = make_noise_label(Y, n)\n",
    "        scores = cross_validate(minor, X, new_y_train, cv=5, scoring=('accuracy', 'neg_log_loss', 'neg_mean_squared_error', 'roc_auc_ovr', 'f1_weighted', 'precision_weighted', 'recall_weighted'))\n",
    "        print(\"Samples: \" + str(minor.samp) + \", features: \" + str(minor.feat))\n",
    "        print(\"Noise \" + str(n) + \"%\")\n",
    "        print(scores)"
   ]
  },
  {
   "cell_type": "code",
   "execution_count": null,
   "metadata": {
    "pycharm": {
     "is_executing": true
    }
   },
   "outputs": [],
   "source": [
    "noises = [0.1, 0.2, 0.3]"
   ]
  },
  {
   "cell_type": "code",
   "execution_count": null,
   "metadata": {
    "pycharm": {
     "is_executing": true
    },
    "scrolled": false
   },
   "outputs": [],
   "source": [
    "for n in noises:\n",
    "    new_x_train = make_noise_data(X, n)\n",
    "    scores = cross_validate(minor, new_x_train, Y, cv=5, scoring=('accuracy', 'neg_log_loss', 'neg_mean_squared_error', 'roc_auc_ovr', 'f1_weighted', 'precision_weighted', 'recall_weighted'))\n",
    "    print(\"Samples: \" + str(minor.samp) + \", features: \" + str(minor.feat))\n",
    "    print(\"Noise \" + str(n) + \"%\")\n",
    "    print(scores)"
   ]
  },
  {
   "cell_type": "code",
   "execution_count": null,
   "metadata": {
    "pycharm": {
     "is_executing": true
    }
   },
   "outputs": [],
   "source": []
  }
 ],
 "metadata": {
  "kernelspec": {
   "display_name": "Python 3",
   "language": "python",
   "name": "python3"
  },
  "language_info": {
   "codemirror_mode": {
    "name": "ipython",
    "version": 3
   },
   "file_extension": ".py",
   "mimetype": "text/x-python",
   "name": "python",
   "nbconvert_exporter": "python",
   "pygments_lexer": "ipython3",
   "version": "3.8.0"
  }
 },
 "nbformat": 4,
 "nbformat_minor": 1
}
