{
 "cells": [
  {
   "cell_type": "markdown",
   "metadata": {},
   "source": [
    "1."
   ]
  },
  {
   "cell_type": "code",
   "execution_count": 1,
   "metadata": {
    "pycharm": {
     "is_executing": true
    }
   },
   "outputs": [],
   "source": [
    "from sklearn.metrics import (accuracy_score, f1_score)\n",
    "from sklearn.preprocessing import StandardScaler\n",
    "from sklearn.decomposition import PCA\n",
    "from sklearn.svm import SVC\n",
    "from sklearn.utils import resample\n",
    "import tensorflow as tf\n",
    "import numpy as np\n",
    "from random import sample \n",
    "from copy import deepcopy\n",
    "from random import sample, randint, randrange\n",
    "import imgaug.augmenters as iaa\n",
    "from contextlib import contextmanager\n",
    "from timeit import default_timer\n",
    "from sklearn.model_selection import cross_validate"
   ]
  },
  {
   "cell_type": "code",
   "execution_count": 2,
   "metadata": {
    "pycharm": {
     "is_executing": true
    }
   },
   "outputs": [],
   "source": [
    "import warnings\n",
    "warnings.filterwarnings('ignore')"
   ]
  },
  {
   "cell_type": "code",
   "execution_count": 3,
   "metadata": {
    "pycharm": {
     "is_executing": true
    }
   },
   "outputs": [],
   "source": [
    "(x_train_f, y_train_f), (x_test_f, y_test_f) = tf.keras.datasets.fashion_mnist.load_data()"
   ]
  },
  {
   "cell_type": "code",
   "execution_count": 4,
   "metadata": {
    "pycharm": {
     "is_executing": true
    }
   },
   "outputs": [],
   "source": [
    "x_train = x_train_f.reshape((x_train_f.shape[0],-1))\n",
    "x_test = x_test_f.reshape((x_test_f.shape[0],-1))\n",
    "y_train = y_train_f.reshape((y_train_f.shape[0],))\n",
    "y_test = y_test_f\n",
    "\n",
    "X_concat = np.concatenate([x_train, x_test])\n",
    "Y = np.concatenate([y_train, y_test])\n",
    "\n",
    "scaler = StandardScaler()\n",
    "\n",
    "scaler.fit(X_concat)\n",
    "\n",
    "X_transform = scaler.transform(X_concat)\n",
    "\n",
    "pca = PCA(n_components=50)\n",
    "pca.fit(X_transform)\n",
    "\n",
    "X = pca.transform(X_transform)\n",
    "\n",
    "classes_count = 10"
   ]
  },
  {
   "cell_type": "markdown",
   "metadata": {},
   "source": [
    "2."
   ]
  },
  {
   "cell_type": "markdown",
   "metadata": {},
   "source": [
    "Pełne dane"
   ]
  },
  {
   "cell_type": "code",
   "execution_count": null,
   "metadata": {
    "pycharm": {
     "is_executing": true
    }
   },
   "outputs": [],
   "source": [
    "clf = SVC(probability=True)"
   ]
  },
  {
   "cell_type": "code",
   "execution_count": null,
   "metadata": {
    "pycharm": {
     "is_executing": true
    }
   },
   "outputs": [],
   "source": [
    "scores = cross_validate(clf, X, Y, cv=5, scoring=('accuracy', 'neg_log_loss', 'neg_mean_squared_error', 'roc_auc_ovr', 'f1_weighted', 'precision_weighted', 'recall_weighted'))"
   ]
  },
  {
   "cell_type": "code",
   "execution_count": null,
   "metadata": {
    "pycharm": {
     "is_executing": true
    }
   },
   "outputs": [],
   "source": [
    "scores"
   ]
  },
  {
   "cell_type": "markdown",
   "metadata": {},
   "source": [
    "Niepełne dane i cechy"
   ]
  },
  {
   "cell_type": "code",
   "execution_count": 5,
   "metadata": {
    "pycharm": {
     "is_executing": true
    }
   },
   "outputs": [],
   "source": [
    "def average_pred(predictions):\n",
    "    m = len(predictions[0][0])\n",
    "    all_results = [[0 for x in range(classes_count)] for y in range(m)] \n",
    "    results = [0] * m\n",
    "    for (_, pred_proba) in predictions:\n",
    "        for i in range(m):\n",
    "            for j in range(classes_count):\n",
    "                all_results[i][j] += pred_proba[i][j]\n",
    "    for i in range(m):\n",
    "        results[i] = all_results[i].index(max(all_results[i]))\n",
    "    return results\n",
    "\n",
    "def average_pred_proba(predictions, n_classifiers):\n",
    "    m = len(predictions[0][0])\n",
    "    results = [[0 for x in range(classes_count)] for y in range(m)]\n",
    "    for (_, pred_proba) in predictions:\n",
    "        for i in range(m):\n",
    "            for j in range(classes_count):\n",
    "                results[i][j] += pred_proba[i][j]\n",
    "\n",
    "    for i in range(m):\n",
    "        for j in range(classes_count):\n",
    "            results[i][j] /= n_classifiers            \n",
    "    return results\n",
    "\n",
    "def majority_pred(predictions):\n",
    "    m = len(predictions[0][0])\n",
    "    results = [0] * m\n",
    "    for i in range(m):\n",
    "        all_results = [0 for x in range(classes_count)] \n",
    "        for (pred, _) in predictions:\n",
    "            all_results[pred[i]] += 1\n",
    "        results[i] = all_results.index(max(all_results))\n",
    "        \n",
    "    return results\n",
    "\n",
    "def majority_pred_proba(predictions, n_classifiers):\n",
    "    m = len(predictions[0][0])\n",
    "    results = [[0 for x in range(classes_count)] for y in range(m)]\n",
    "    classifiers_votes_count = [0] * m\n",
    "    majority_results = majority_pred(predictions)\n",
    "    for classifier in range(0, n_classifiers):\n",
    "        for i in range(m):\n",
    "            voted_class = majority_results[i] \n",
    "            (pred, pred_proba) = predictions[classifier]\n",
    "            if(pred[i] == voted_class):\n",
    "                classifiers_votes_count[i] += 1\n",
    "                for j in range(classes_count):\n",
    "                    results[i][j] += pred_proba[i][j]\n",
    "    for i in range(m):\n",
    "        for j in range(classes_count):\n",
    "            results[i][j] /= classifiers_votes_count[i]\n",
    "    return results      \n",
    "    \n",
    "def borda_pred(predictions):\n",
    "    m = len(predictions[0][0])\n",
    "    all_results = [[0 for x in range(classes_count)] for y in range(m)] \n",
    "    results = [0] * m\n",
    "    \n",
    "    def get_final_borda_points(predictions):\n",
    "        return np.argsort(np.argsort(predictions)).tolist()\n",
    "\n",
    "    for (_, pred_proba) in predictions:\n",
    "        for i in range(m):\n",
    "            pred_proba[i] = get_final_borda_points(pred_proba[i])\n",
    "    for (_, pred_proba) in predictions:\n",
    "        for i in range(m):\n",
    "            for j in range(classes_count):\n",
    "                all_results[i][j] += pred_proba[i][j]\n",
    "    for i in range(m):\n",
    "        results[i] = all_results[i].index(max(all_results[i]))\n",
    "    return results\n",
    "\n",
    "def borda_pred_proba(predictions, n_classifiers):\n",
    "    m = len(predictions[0][0])\n",
    "    results = [[0 for x in range(classes_count)] for y in range(m)] \n",
    "    \n",
    "    def get_final_borda_points(predictions):\n",
    "        return np.argsort(np.argsort(predictions)).tolist()\n",
    "\n",
    "    def get_points():\n",
    "        sum = 0\n",
    "        for i in range(classes_count):\n",
    "            sum += i\n",
    "        return sum * n_classifiers\n",
    "    \n",
    "    for (_, pred_proba) in predictions:\n",
    "        for i in range(m):\n",
    "            pred_proba[i] = get_final_borda_points(pred_proba[i])\n",
    "    for (_, pred_proba) in predictions:\n",
    "        for i in range(m):\n",
    "            for j in range(classes_count):\n",
    "                results[i][j] += pred_proba[i][j]\n",
    "                \n",
    "    for i in range(m):\n",
    "        for j in range(classes_count):\n",
    "            results[i][j] /= get_points()\n",
    "        \n",
    "    return results"
   ]
  },
  {
   "cell_type": "code",
   "execution_count": 76,
   "metadata": {
    "pycharm": {
     "is_executing": true
    }
   },
   "outputs": [],
   "source": [
    "class MinorClassifiers:\n",
    "    def __init__(self, samp, feat):\n",
    "        self.samp = samp\n",
    "        self.feat = feat\n",
    "        self.classifiers = []\n",
    "        self.predictions = []\n",
    "        self.cut_features = []\n",
    "    \n",
    "    def get_params(self, deep = False):\n",
    "        return {\n",
    "            'samp': self.samp,\n",
    "            'feat': self.feat,   \n",
    "        }\n",
    "    \n",
    "    def predict(self, X):\n",
    "        for i in range(len(self.classifiers)):\n",
    "            classifier = self.classifiers[i]\n",
    "            f = self.cut_features[i]\n",
    "            x_test = X[:,f]\n",
    "            y_pred = classifier.predict(x_test)\n",
    "            pred = classifier.predict_proba(x_test)\n",
    "            self.predictions.append((y_pred, pred))\n",
    "            \n",
    "        return average_pred(self.predictions)\n",
    "    \n",
    "    def predict_proba(self, X):\n",
    "        return average_pred_proba(self.predictions, len(self.classifiers))\n",
    "        \n",
    "    def fit(self, X, Y):\n",
    "        feature_list = [n for n in range(50)]\n",
    "        samples_all = X.shape[0]\n",
    "        features_all = X.shape[1]\n",
    "        \n",
    "        for i in range(10):\n",
    "            f = sample(feature_list, int(features_all * self.feat))\n",
    "            self.cut_features.append(f)\n",
    "            x_train_f = X[:,f]\n",
    "                \n",
    "            x_train_s, y_train_s = resample(x_train_f, Y, n_samples=int(self.samp * samples_all), replace=False, random_state=0)\n",
    "\n",
    "            svm_clf = SVC(probability=True)\n",
    "            svm_clf.fit(x_train_s, y_train_s)\n",
    "                \n",
    "            self.classifiers.append(svm_clf)"
   ]
  },
  {
   "cell_type": "code",
   "execution_count": 77,
   "metadata": {
    "pycharm": {
     "is_executing": true
    }
   },
   "outputs": [],
   "source": [
    "n_samples = [0.1, 0.35, 0.7]\n",
    "n_features = [0.25, 0.5, 0.75]\n",
    "minors = []"
   ]
  },
  {
   "cell_type": "code",
   "execution_count": 78,
   "metadata": {},
   "outputs": [],
   "source": [
    "for n in n_samples:\n",
    "    minors.append(MinorClassifiers(n, 1))\n",
    "    \n",
    "for n in n_features:\n",
    "    minors.append(MinorClassifiers(1, n))"
   ]
  },
  {
   "cell_type": "code",
   "execution_count": null,
   "metadata": {
    "pycharm": {
     "is_executing": true
    },
    "scrolled": false
   },
   "outputs": [],
   "source": [
    "for minor in minors:\n",
    "    scores = cross_validate(minor, X, Y, cv=5, scoring=('accuracy', 'neg_log_loss', 'neg_mean_squared_error', 'roc_auc_ovr', 'f1_weighted', 'precision_weighted', 'recall_weighted'))\n",
    "    print(\"Samples: \" + str(minor.samp) + \", features: \" + str(minor.feat))\n",
    "    print(scores)"
   ]
  },
  {
   "cell_type": "markdown",
   "metadata": {},
   "source": [
    "3a."
   ]
  },
  {
   "cell_type": "code",
   "execution_count": null,
   "metadata": {
    "pycharm": {
     "is_executing": true
    }
   },
   "outputs": [],
   "source": [
    "parts = [0.1, 0.25, 0.5, 0.75] ## for 1.0 already calculated"
   ]
  },
  {
   "cell_type": "code",
   "execution_count": null,
   "metadata": {
    "pycharm": {
     "is_executing": true
    }
   },
   "outputs": [],
   "source": [
    "n_samples = [0.1, 0.25, 0.35, 0.5]\n",
    "n_features = [0.25, 0.5, 0.75]\n",
    "minor = MinorClassifiers(n_samples, n_features)"
   ]
  },
  {
   "cell_type": "code",
   "execution_count": null,
   "metadata": {
    "pycharm": {
     "is_executing": true
    },
    "scrolled": false
   },
   "outputs": [],
   "source": [
    "for p in parts:\n",
    "    new_X = X[:int(p*X.shape[0])]\n",
    "    new_Y = Y[:int(p*Y.shape[0])]\n",
    "    clf = SVC(probability=True)\n",
    "    scores = cross_validate(clf, new_X, new_Y, cv=5, scoring=('accuracy', 'neg_log_loss', 'neg_mean_squared_error', 'roc_auc_ovr', 'f1_weighted', 'precision_weighted', 'recall_weighted'))\n",
    "    print(\"Full \" + str(p) + \"%\")\n",
    "    print(scores)\n",
    "    scores = cross_validate(minor, new_X, new_Y, cv=5, scoring=('accuracy', 'neg_log_loss', 'neg_mean_squared_error', 'roc_auc_ovr', 'f1_weighted', 'precision_weighted', 'recall_weighted'))\n",
    "    print(\"Minor \" + str(p) + \"%\")\n",
    "    print(scores)"
   ]
  },
  {
   "cell_type": "markdown",
   "metadata": {},
   "source": [
    "3b."
   ]
  },
  {
   "cell_type": "code",
   "execution_count": null,
   "metadata": {
    "pycharm": {
     "is_executing": true
    }
   },
   "outputs": [],
   "source": [
    "class MinorClassifiers2:\n",
    "    def __init__(self, n_samples, n_features, iterations):\n",
    "        self.n_samples = n_samples\n",
    "        self.n_features = n_features\n",
    "        self.classifiers = []\n",
    "        self.predictions = []\n",
    "        self.cut_features = []\n",
    "        self.iterations = iterations\n",
    "    \n",
    "    def get_params(self, deep = False):\n",
    "        return {\n",
    "            'n_samples': self.n_samples,\n",
    "            'n_features': self.n_features,  \n",
    "            'iterations': self.iterations\n",
    "        }\n",
    "    \n",
    "    def predict(self, X):\n",
    "        for i in range(len(self.classifiers)):\n",
    "            classifier = self.classifiers[i]\n",
    "            f = self.cut_features[i]\n",
    "            x_test = X[:,f]\n",
    "            y_pred = classifier.predict(x_test)\n",
    "            pred = classifier.predict_proba(x_test)\n",
    "            self.predictions.append((y_pred, pred))\n",
    "            \n",
    "        return average_pred(self.predictions)\n",
    "    \n",
    "    def predict_proba(self, X):\n",
    "        return average_pred_proba(self.predictions, len(self.classifiers))\n",
    "        \n",
    "    def fit(self, X, Y):\n",
    "        feature_list = [n for n in range(50)]\n",
    "        samples_all = X.shape[0]\n",
    "        features_all = X.shape[1]\n",
    "\n",
    "        for samples in self.n_samples:\n",
    "            for features in self.n_features:\n",
    "                f = sample(feature_list, int(features_all * features))\n",
    "                self.cut_features.append(f)\n",
    "                x_train_f = X[:,f]\n",
    "                \n",
    "                x_train_s, y_train_s = resample(x_train_f, Y, n_samples=int(samples * samples_all), replace=False, random_state=0)\n",
    "\n",
    "                svm_clf = SVC(probability=True, max_iter=self.iterations)\n",
    "                svm_clf.fit(x_train_s, y_train_s)\n",
    "                \n",
    "                self.classifiers.append(svm_clf)"
   ]
  },
  {
   "cell_type": "code",
   "execution_count": null,
   "metadata": {
    "pycharm": {
     "is_executing": true
    }
   },
   "outputs": [],
   "source": [
    "n_samples = [0.1, 0.25, 0.35, 0.5]\n",
    "n_features = [0.25, 0.5, 0.75]"
   ]
  },
  {
   "cell_type": "code",
   "execution_count": null,
   "metadata": {
    "pycharm": {
     "is_executing": true
    }
   },
   "outputs": [],
   "source": [
    "max_iter = 800\n",
    "clf = SVC(probability=True, max_iter=max_iter)\n",
    "scores = cross_validate(clf, X, Y, cv=5, scoring=('accuracy', 'neg_log_loss', 'neg_mean_squared_error', 'roc_auc_ovr', 'f1_weighted', 'precision_weighted', 'recall_weighted'))\n",
    "scores"
   ]
  },
  {
   "cell_type": "code",
   "execution_count": null,
   "metadata": {
    "pycharm": {
     "is_executing": true
    }
   },
   "outputs": [],
   "source": [
    "max_iter = 750\n",
    "clf = SVC(probability=True, max_iter=max_iter)\n",
    "scores = cross_validate(clf, X, Y, cv=5, scoring=('accuracy', 'neg_log_loss', 'neg_mean_squared_error', 'roc_auc_ovr', 'f1_weighted', 'precision_weighted', 'recall_weighted'))\n",
    "scores"
   ]
  },
  {
   "cell_type": "code",
   "execution_count": null,
   "metadata": {
    "pycharm": {
     "is_executing": true
    }
   },
   "outputs": [],
   "source": [
    "max_iter = 700\n",
    "clf = SVC(probability=True, max_iter=max_iter)\n",
    "scores = cross_validate(clf, X, Y, cv=5, scoring=('accuracy', 'neg_log_loss', 'neg_mean_squared_error', 'roc_auc_ovr', 'f1_weighted', 'precision_weighted', 'recall_weighted'))\n",
    "scores"
   ]
  },
  {
   "cell_type": "code",
   "execution_count": null,
   "metadata": {
    "pycharm": {
     "is_executing": true
    }
   },
   "outputs": [],
   "source": [
    "max_iter = 600\n",
    "minor = MinorClassifiers2(n_samples, n_features, max_iter)\n",
    "scores = cross_validate(minor, X, Y, cv=5, scoring=('accuracy', 'neg_log_loss', 'neg_mean_squared_error', 'roc_auc_ovr', 'f1_weighted', 'precision_weighted', 'recall_weighted'))\n",
    "scores"
   ]
  },
  {
   "cell_type": "code",
   "execution_count": null,
   "metadata": {
    "pycharm": {
     "is_executing": true
    }
   },
   "outputs": [],
   "source": [
    "max_iter = 650\n",
    "minor = MinorClassifiers2(n_samples, n_features, max_iter)\n",
    "scores = cross_validate(minor, X, Y, cv=5, scoring=('accuracy', 'neg_log_loss', 'neg_mean_squared_error', 'roc_auc_ovr', 'f1_weighted', 'precision_weighted', 'recall_weighted'))\n",
    "scores"
   ]
  },
  {
   "cell_type": "code",
   "execution_count": null,
   "metadata": {
    "pycharm": {
     "is_executing": true
    }
   },
   "outputs": [],
   "source": [
    "max_iter = 550\n",
    "minor = MinorClassifiers2(n_samples, n_features, max_iter)\n",
    "scores = cross_validate(minor, X, Y, cv=5, scoring=('accuracy', 'neg_log_loss', 'neg_mean_squared_error', 'roc_auc_ovr', 'f1_weighted', 'precision_weighted', 'recall_weighted'))\n",
    "scores"
   ]
  },
  {
   "cell_type": "code",
   "execution_count": null,
   "metadata": {
    "pycharm": {
     "is_executing": true
    }
   },
   "outputs": [],
   "source": [
    "max_iter = 400\n",
    "clf = SVC(probability=True, max_iter=max_iter)\n",
    "scores = cross_validate(clf, X, Y, cv=5, scoring=('accuracy', 'neg_log_loss', 'neg_mean_squared_error', 'roc_auc_ovr', 'f1_weighted', 'precision_weighted', 'recall_weighted'))\n",
    "scores"
   ]
  },
  {
   "cell_type": "code",
   "execution_count": null,
   "metadata": {
    "pycharm": {
     "is_executing": true
    }
   },
   "outputs": [],
   "source": [
    "max_iter = 350\n",
    "minor = MinorClassifiers2(n_samples, n_features, max_iter)\n",
    "scores = cross_validate(minor, X, Y, cv=5, scoring=('accuracy', 'neg_log_loss', 'neg_mean_squared_error', 'roc_auc_ovr', 'f1_weighted', 'precision_weighted', 'recall_weighted'))\n",
    "scores"
   ]
  },
  {
   "cell_type": "code",
   "execution_count": null,
   "metadata": {
    "pycharm": {
     "is_executing": true
    }
   },
   "outputs": [],
   "source": [
    "max_iter = 200\n",
    "minor = MinorClassifiers2(n_samples, n_features, max_iter)\n",
    "scores = cross_validate(minor, X, Y, cv=5, scoring=('accuracy', 'neg_log_loss', 'neg_mean_squared_error', 'roc_auc_ovr', 'f1_weighted', 'precision_weighted', 'recall_weighted'))\n",
    "scores"
   ]
  },
  {
   "cell_type": "code",
   "execution_count": null,
   "metadata": {
    "pycharm": {
     "is_executing": true
    }
   },
   "outputs": [],
   "source": [
    "max_iter = 250\n",
    "minor = MinorClassifiers2(n_samples, n_features, max_iter)\n",
    "scores = cross_validate(minor, X, Y, cv=5, scoring=('accuracy', 'neg_log_loss', 'neg_mean_squared_error', 'roc_auc_ovr', 'f1_weighted', 'precision_weighted', 'recall_weighted'))\n",
    "scores"
   ]
  },
  {
   "cell_type": "code",
   "execution_count": null,
   "metadata": {
    "pycharm": {
     "is_executing": true
    }
   },
   "outputs": [],
   "source": [
    "max_iter = 150\n",
    "clf = SVC(probability=True, max_iter=max_iter)\n",
    "scores = cross_validate(clf, X, Y, cv=5, scoring=('accuracy', 'neg_log_loss', 'neg_mean_squared_error', 'roc_auc_ovr', 'f1_weighted', 'precision_weighted', 'recall_weighted'))\n",
    "scores"
   ]
  },
  {
   "cell_type": "code",
   "execution_count": null,
   "metadata": {
    "pycharm": {
     "is_executing": true
    }
   },
   "outputs": [],
   "source": [
    "max_iter = 100\n",
    "minor = MinorClassifiers2(n_samples, n_features, max_iter)\n",
    "scores = cross_validate(minor, X, Y, cv=5, scoring=('accuracy', 'neg_log_loss', 'neg_mean_squared_error', 'roc_auc_ovr', 'f1_weighted', 'precision_weighted', 'recall_weighted'))\n",
    "scores"
   ]
  },
  {
   "cell_type": "code",
   "execution_count": null,
   "metadata": {
    "pycharm": {
     "is_executing": true
    }
   },
   "outputs": [],
   "source": [
    "max_iter = 85\n",
    "minor = MinorClassifiers2(n_samples, n_features, max_iter)\n",
    "scores = cross_validate(minor, X, Y, cv=5, scoring=('accuracy', 'neg_log_loss', 'neg_mean_squared_error', 'roc_auc_ovr', 'f1_weighted', 'precision_weighted', 'recall_weighted'))\n",
    "scores"
   ]
  },
  {
   "cell_type": "code",
   "execution_count": null,
   "metadata": {
    "pycharm": {
     "is_executing": true
    }
   },
   "outputs": [],
   "source": [
    "max_iter = 75\n",
    "minor = MinorClassifiers2(n_samples, n_features, max_iter)\n",
    "scores = cross_validate(minor, X, Y, cv=5, scoring=('accuracy', 'neg_log_loss', 'neg_mean_squared_error', 'roc_auc_ovr', 'f1_weighted', 'precision_weighted', 'recall_weighted'))\n",
    "scores"
   ]
  },
  {
   "cell_type": "markdown",
   "metadata": {
    "pycharm": {
     "is_executing": true
    }
   },
   "source": [
    "4. "
   ]
  },
  {
   "cell_type": "code",
   "execution_count": null,
   "metadata": {
    "pycharm": {
     "is_executing": true
    }
   },
   "outputs": [],
   "source": [
    "class MinorClassifiers:\n",
    "    def __init__(self, n_samples, n_features):\n",
    "        self.n_samples = n_samples\n",
    "        self.n_features = n_features\n",
    "        self.classifiers = []\n",
    "        self.predictions = []\n",
    "        self.cut_features = []\n",
    "    \n",
    "    def get_params(self, deep = False):\n",
    "        return {\n",
    "            'n_samples': self.n_samples,\n",
    "            'n_features': self.n_features,   \n",
    "        }\n",
    "    \n",
    "    def predict(self, X):\n",
    "        for i in range(len(self.classifiers)):\n",
    "            classifier = self.classifiers[i]\n",
    "            f = self.cut_features[i]\n",
    "            x_test = X[:,f]\n",
    "            y_pred = classifier.predict(x_test)\n",
    "            pred = classifier.predict_proba(x_test)\n",
    "            self.predictions.append((y_pred, pred))\n",
    "            \n",
    "        return borda_pred(self.predictions)\n",
    "    \n",
    "    def predict_proba(self, X):\n",
    "        return borda_pred_proba(self.predictions, len(self.classifiers))\n",
    "        \n",
    "    def fit(self, X, Y):\n",
    "        feature_list = [n for n in range(50)]\n",
    "        samples_all = X.shape[0]\n",
    "        features_all = X.shape[1]\n",
    "\n",
    "        for samples in self.n_samples:\n",
    "            for features in self.n_features:\n",
    "                f = sample(feature_list, int(features_all * features))\n",
    "                self.cut_features.append(f)\n",
    "                x_train_f = X[:,f]\n",
    "                \n",
    "                x_train_s, y_train_s = resample(x_train_f, Y, n_samples=int(samples * samples_all), replace=False, random_state=0)\n",
    "\n",
    "                svm_clf = SVC(probability=True)\n",
    "                svm_clf.fit(x_train_s, y_train_s)\n",
    "                \n",
    "                self.classifiers.append(svm_clf)"
   ]
  },
  {
   "cell_type": "code",
   "execution_count": null,
   "metadata": {
    "pycharm": {
     "is_executing": true
    }
   },
   "outputs": [],
   "source": [
    "def make_noise_data(data, percent):\n",
    "    m = data.shape[0]\n",
    "    n = data.shape[1]\n",
    "    new_data = deepcopy(data)\n",
    "    for i in range(m):\n",
    "        for j in range(n):\n",
    "            rand = randrange(-1, 2, 2) #random integer from {-1, 1}\n",
    "            new_data[i][j] = (1 + rand * percent) * data[i][j]\n",
    "    return new_data"
   ]
  },
  {
   "cell_type": "code",
   "execution_count": null,
   "metadata": {
    "pycharm": {
     "is_executing": true
    }
   },
   "outputs": [],
   "source": [
    "def make_noise_label(labels, percent):\n",
    "    labels_with_noise = deepcopy(labels)\n",
    "    arr_size = labels.shape[0]\n",
    "    indexes = [n for n in range(arr_size)]\n",
    "    indexes_to_change = sample(indexes, int(arr_size * percent))\n",
    "    \n",
    "    for i in indexes_to_change:\n",
    "        old_val = labels[i]\n",
    "        new_val = randint(0, classes_count-1)\n",
    "        while old_val == new_val:\n",
    "            new_val = randint(0, classes_count-1)\n",
    "        labels_with_noise[i] = new_val\n",
    "        \n",
    "    return labels_with_noise"
   ]
  },
  {
   "cell_type": "code",
   "execution_count": null,
   "metadata": {
    "pycharm": {
     "is_executing": true
    }
   },
   "outputs": [],
   "source": [
    "noises = [0.01, 0.05, 0.1]"
   ]
  },
  {
   "cell_type": "code",
   "execution_count": null,
   "metadata": {
    "pycharm": {
     "is_executing": true
    }
   },
   "outputs": [],
   "source": [
    "for n in noises:\n",
    "    new_y_train = make_noise_label(Y, n)\n",
    "    clf = SVC(probability=True)\n",
    "    scores = cross_validate(clf, X, new_y_train, cv=5, scoring=('accuracy', 'neg_log_loss', 'neg_mean_squared_error', 'roc_auc_ovr', 'f1_weighted', 'precision_weighted', 'recall_weighted'))\n",
    "    print(\"Full \" + str(n) + \"%\")\n",
    "    print(scores)\n",
    "    scores = cross_validate(minor, X, new_y_train, cv=5, scoring=('accuracy', 'neg_log_loss', 'neg_mean_squared_error', 'roc_auc_ovr', 'f1_weighted', 'precision_weighted', 'recall_weighted'))\n",
    "    print(\"Minor \" + str(n) + \"%\")\n",
    "    print(scores)"
   ]
  },
  {
   "cell_type": "code",
   "execution_count": null,
   "metadata": {
    "pycharm": {
     "is_executing": true
    }
   },
   "outputs": [],
   "source": [
    "noises = [0.1, 0.2, 0.3]"
   ]
  },
  {
   "cell_type": "code",
   "execution_count": null,
   "metadata": {
    "pycharm": {
     "is_executing": true
    },
    "scrolled": false
   },
   "outputs": [],
   "source": [
    "for n in noises:\n",
    "    new_x_train = make_noise_data(X, n)\n",
    "    clf = SVC(probability=True)\n",
    "    scores = cross_validate(clf, new_x_train, Y, cv=5, scoring=('accuracy', 'neg_log_loss', 'neg_mean_squared_error', 'roc_auc_ovr', 'f1_weighted', 'precision_weighted', 'recall_weighted'))\n",
    "    print(\"Full \" + str(n) + \"%\")\n",
    "    print(scores)\n",
    "    scores = cross_validate(minor, new_x_train, Y, cv=5, scoring=('accuracy', 'neg_log_loss', 'neg_mean_squared_error', 'roc_auc_ovr', 'f1_weighted', 'precision_weighted', 'recall_weighted'))\n",
    "    print(\"Minor \" + str(n) + \"%\")\n",
    "    print(scores)"
   ]
  },
  {
   "cell_type": "code",
   "execution_count": null,
   "metadata": {
    "pycharm": {
     "is_executing": true
    }
   },
   "outputs": [],
   "source": []
  }
 ],
 "metadata": {
  "kernelspec": {
   "display_name": "Python 3",
   "language": "python",
   "name": "python3"
  },
  "language_info": {
   "codemirror_mode": {
    "name": "ipython",
    "version": 3
   },
   "file_extension": ".py",
   "mimetype": "text/x-python",
   "name": "python",
   "nbconvert_exporter": "python",
   "pygments_lexer": "ipython3",
   "version": "3.8.0"
  }
 },
 "nbformat": 4,
 "nbformat_minor": 1
}
