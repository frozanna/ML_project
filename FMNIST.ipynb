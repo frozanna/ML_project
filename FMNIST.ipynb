{
 "cells": [
  {
   "cell_type": "markdown",
   "metadata": {},
   "source": [
    "1."
   ]
  },
  {
   "cell_type": "code",
   "execution_count": 2,
   "metadata": {
    "pycharm": {
     "is_executing": true
    }
   },
   "outputs": [],
   "source": [
    "from sklearn.metrics import (accuracy_score, f1_score)\n",
    "from sklearn.preprocessing import StandardScaler\n",
    "from sklearn.decomposition import PCA\n",
    "from sklearn.svm import SVC\n",
    "from sklearn.utils import resample\n",
    "import tensorflow as tf\n",
    "import numpy as np\n",
    "from random import sample \n",
    "from copy import deepcopy\n",
    "from random import sample, randint, randrange\n",
    "import imgaug.augmenters as iaa\n",
    "from contextlib import contextmanager\n",
    "from timeit import default_timer\n",
    "from sklearn.model_selection import cross_validate"
   ]
  },
  {
   "cell_type": "code",
   "execution_count": 3,
   "metadata": {
    "pycharm": {
     "is_executing": true
    }
   },
   "outputs": [],
   "source": [
    "import warnings\n",
    "warnings.filterwarnings('ignore')"
   ]
  },
  {
   "cell_type": "code",
   "execution_count": 4,
   "metadata": {
    "pycharm": {
     "is_executing": true
    }
   },
   "outputs": [],
   "source": [
    "(x_train_f, y_train_f), (x_test_f, y_test_f) = tf.keras.datasets.fashion_mnist.load_data()"
   ]
  },
  {
   "cell_type": "code",
   "execution_count": 5,
   "metadata": {
    "pycharm": {
     "is_executing": true
    }
   },
   "outputs": [],
   "source": [
    "x_train = x_train_f.reshape((x_train_f.shape[0],-1))\n",
    "x_test = x_test_f.reshape((x_test_f.shape[0],-1))\n",
    "y_train = y_train_f.reshape((y_train_f.shape[0],))\n",
    "y_test = y_test_f\n",
    "\n",
    "X_concat = np.concatenate([x_train, x_test])\n",
    "Y = np.concatenate([y_train, y_test])\n",
    "\n",
    "scaler = StandardScaler()\n",
    "\n",
    "scaler.fit(X_concat)\n",
    "\n",
    "X_transform = scaler.transform(X_concat)\n",
    "\n",
    "pca = PCA(n_components=50)\n",
    "pca.fit(X_transform)\n",
    "\n",
    "X = pca.transform(X_transform)\n",
    "\n",
    "classes_count = 10"
   ]
  },
  {
   "cell_type": "markdown",
   "metadata": {},
   "source": [
    "2."
   ]
  },
  {
   "cell_type": "markdown",
   "metadata": {},
   "source": [
    "Pełne dane"
   ]
  },
  {
   "cell_type": "code",
   "execution_count": 3,
   "metadata": {
    "pycharm": {
     "is_executing": true
    }
   },
   "outputs": [],
   "source": [
    "clf = SVC(probability=True)"
   ]
  },
  {
   "cell_type": "code",
   "execution_count": 4,
   "metadata": {
    "pycharm": {
     "is_executing": true
    }
   },
   "outputs": [],
   "source": [
    "scores = cross_validate(clf, X, Y, cv=5, scoring=('accuracy', 'neg_log_loss', 'neg_mean_squared_error', 'roc_auc_ovr', 'f1_weighted', 'precision_weighted', 'recall_weighted'))"
   ]
  },
  {
   "cell_type": "code",
   "execution_count": 5,
   "metadata": {
    "pycharm": {
     "is_executing": true
    }
   },
   "outputs": [
    {
     "data": {
      "text/plain": [
       "{'fit_time': array([569.94333029, 681.70209527, 523.28199863, 675.5077529 ,\n",
       "        676.29380679]),\n",
       " 'score_time': array([50.25808024, 89.57924485, 65.31366014, 89.0055511 , 87.02576327]),\n",
       " 'test_accuracy': array([0.87992857, 0.87328571, 0.87907143, 0.87614286, 0.86821429]),\n",
       " 'test_neg_log_loss': array([-0.33515649, -0.34396189, -0.33904138, -0.34529357, -0.35832827]),\n",
       " 'test_neg_mean_squared_error': array([-1.62378571, -1.67857143, -1.603     , -1.64307143, -1.74128571]),\n",
       " 'test_roc_auc_ovr': array([0.99038776, 0.99014709, 0.99003381, 0.98998907, 0.98917899]),\n",
       " 'test_f1_weighted': array([0.87905915, 0.87265031, 0.87821835, 0.87516468, 0.86771275]),\n",
       " 'test_precision_weighted': array([0.87914365, 0.87260454, 0.87835215, 0.87529052, 0.86773478]),\n",
       " 'test_recall_weighted': array([0.87992857, 0.87328571, 0.87907143, 0.87614286, 0.86821429])}"
      ]
     },
     "execution_count": 7,
     "metadata": {},
     "output_type": "execute_result"
    }
   ],
   "source": [
    "scores"
   ]
  },
  {
   "cell_type": "markdown",
   "metadata": {},
   "source": [
    "Niepełne dane i cechy"
   ]
  },
  {
   "cell_type": "code",
   "execution_count": 6,
   "metadata": {
    "pycharm": {
     "is_executing": true
    }
   },
   "outputs": [],
   "source": [
    "def average_pred(predictions):\n",
    "    m = len(predictions[0][0])\n",
    "    all_results = [[0 for x in range(classes_count)] for y in range(m)] \n",
    "    results = [0] * m\n",
    "    for (_, pred_proba) in predictions:\n",
    "        for i in range(m):\n",
    "            for j in range(classes_count):\n",
    "                all_results[i][j] += pred_proba[i][j]\n",
    "    for i in range(m):\n",
    "        results[i] = all_results[i].index(max(all_results[i]))\n",
    "    return results\n",
    "\n",
    "def average_pred_proba(predictions, n_classifiers):\n",
    "    m = len(predictions[0][0])\n",
    "    results = [[0 for x in range(classes_count)] for y in range(m)]\n",
    "    for (_, pred_proba) in predictions:\n",
    "        for i in range(m):\n",
    "            for j in range(classes_count):\n",
    "                results[i][j] += pred_proba[i][j]\n",
    "\n",
    "    for i in range(m):\n",
    "        for j in range(classes_count):\n",
    "            results[i][j] /= n_classifiers            \n",
    "    return results\n",
    "\n",
    "def majority_pred(predictions):\n",
    "    m = len(predictions[0][0])\n",
    "    results = [0] * m\n",
    "    for i in range(m):\n",
    "        all_results = [0 for x in range(classes_count)] \n",
    "        for (pred, _) in predictions:\n",
    "            all_results[pred[i]] += 1\n",
    "        results[i] = all_results.index(max(all_results))\n",
    "        \n",
    "    return results\n",
    "\n",
    "def majority_pred_proba(predictions, n_classifiers):\n",
    "    m = len(predictions[0][0])\n",
    "    results = [[0 for x in range(classes_count)] for y in range(m)]\n",
    "    classifiers_votes_count = [0] * m\n",
    "    majority_results = majority_pred(predictions)\n",
    "    for classifier in range(0, n_classifiers):\n",
    "        for i in range(m):\n",
    "            voted_class = majority_results[i] \n",
    "            (pred, pred_proba) = predictions[classifier]\n",
    "            if(pred[i] == voted_class):\n",
    "                classifiers_votes_count[i] += 1\n",
    "                for j in range(classes_count):\n",
    "                    results[i][j] += pred_proba[i][j]\n",
    "    for i in range(m):\n",
    "        for j in range(classes_count):\n",
    "            results[i][j] /= classifiers_votes_count[i]\n",
    "    return results      \n",
    "    \n",
    "def borda_pred(predictions):\n",
    "    m = len(predictions[0][0])\n",
    "    all_results = [[0 for x in range(classes_count)] for y in range(m)] \n",
    "    results = [0] * m\n",
    "    \n",
    "    def get_final_borda_points(predictions):\n",
    "        return np.argsort(np.argsort(predictions)).tolist()\n",
    "\n",
    "    for (_, pred_proba) in predictions:\n",
    "        for i in range(m):\n",
    "            pred_proba[i] = get_final_borda_points(pred_proba[i])\n",
    "    for (_, pred_proba) in predictions:\n",
    "        for i in range(m):\n",
    "            for j in range(classes_count):\n",
    "                all_results[i][j] += pred_proba[i][j]\n",
    "    for i in range(m):\n",
    "        results[i] = all_results[i].index(max(all_results[i]))\n",
    "    return results\n",
    "\n",
    "def borda_pred_proba(predictions, n_classifiers):\n",
    "    m = len(predictions[0][0])\n",
    "    results = [[0 for x in range(classes_count)] for y in range(m)] \n",
    "    \n",
    "    def get_final_borda_points(predictions):\n",
    "        return np.argsort(np.argsort(predictions)).tolist()\n",
    "\n",
    "    def get_points():\n",
    "        sum = 0\n",
    "        for i in range(classes_count):\n",
    "            sum += i\n",
    "        return sum * n_classifiers\n",
    "    \n",
    "    for (_, pred_proba) in predictions:\n",
    "        for i in range(m):\n",
    "            pred_proba[i] = get_final_borda_points(pred_proba[i])\n",
    "    for (_, pred_proba) in predictions:\n",
    "        for i in range(m):\n",
    "            for j in range(classes_count):\n",
    "                results[i][j] += pred_proba[i][j]\n",
    "                \n",
    "    for i in range(m):\n",
    "        for j in range(classes_count):\n",
    "            results[i][j] /= get_points()\n",
    "        \n",
    "    return results"
   ]
  },
  {
   "cell_type": "code",
   "execution_count": 7,
   "metadata": {
    "pycharm": {
     "is_executing": true
    }
   },
   "outputs": [],
   "source": [
    "class MinorClassifiers:\n",
    "    def __init__(self, samp, feat, voting, max_iter=-1):\n",
    "        self.samp = samp\n",
    "        self.feat = feat\n",
    "        self.classifiers = []\n",
    "        self.predictions = []\n",
    "        self.cut_features = []\n",
    "        self.voting = voting\n",
    "        self.max_iter = max_iter\n",
    "    \n",
    "    def get_params(self, deep = False):\n",
    "        return {\n",
    "            'samp': self.samp,\n",
    "            'feat': self.feat,\n",
    "            'voting': self.voting,\n",
    "            'max_iter': self.max_iter\n",
    "        }\n",
    "    \n",
    "    def predict(self, X):\n",
    "        for i in range(len(self.classifiers)):\n",
    "            classifier = self.classifiers[i]\n",
    "            f = self.cut_features[i]\n",
    "            x_test = X[:,f]\n",
    "            y_pred = classifier.predict(x_test)\n",
    "            pred = classifier.predict_proba(x_test)\n",
    "            self.predictions.append((y_pred, pred))\n",
    "            \n",
    "        if self.voting == 'average':\n",
    "            return average_pred(self.predictions)\n",
    "        \n",
    "        if self.voting == 'majority':\n",
    "            return majority_pred(self.predictions)\n",
    "        \n",
    "        if self.voting == 'borda':\n",
    "            return borda_pred(self.predictions)\n",
    "    \n",
    "    def predict_proba(self, X):\n",
    "        if self.voting == 'average':\n",
    "            return average_pred_proba(self.predictions, len(self.classifiers))\n",
    "        \n",
    "        if self.voting == 'majority':\n",
    "            return majority_pred_proba(self.predictions, len(self.classifiers))\n",
    "        \n",
    "        if self.voting == 'borda':\n",
    "            return borda_pred_proba(self.predictions, len(self.classifiers))\n",
    "        \n",
    "    def fit(self, X, Y):\n",
    "        feature_list = [n for n in range(50)]\n",
    "        samples_all = X.shape[0]\n",
    "        features_all = X.shape[1]\n",
    "        \n",
    "        for i in range(10):\n",
    "            f = sample(feature_list, int(features_all * self.feat))\n",
    "            self.cut_features.append(f)\n",
    "            x_train_f = X[:,f]\n",
    "                \n",
    "            x_train_s, y_train_s = resample(x_train_f, Y, n_samples=int(self.samp * samples_all), replace=False, random_state=0)\n",
    "\n",
    "            svm_clf = SVC(probability=True, max_iter=self.max_iter)\n",
    "            svm_clf.fit(x_train_s, y_train_s)\n",
    "                \n",
    "            self.classifiers.append(svm_clf)"
   ]
  },
  {
   "cell_type": "code",
   "execution_count": 7,
   "metadata": {
    "pycharm": {
     "is_executing": true
    }
   },
   "outputs": [],
   "source": [
    "n_samples = [0.1, 0.35, 0.7]\n",
    "n_features = [0.25, 0.5, 0.75]\n",
    "minors = []"
   ]
  },
  {
   "cell_type": "code",
   "execution_count": 89,
   "metadata": {},
   "outputs": [],
   "source": [
    "for n in n_samples:\n",
    "    minors.append(MinorClassifiers(n, 1, 'average'))\n",
    "    \n",
    "for n in n_features:\n",
    "    minors.append(MinorClassifiers(1, n, 'average'))"
   ]
  },
  {
   "cell_type": "code",
   "execution_count": 90,
   "metadata": {
    "pycharm": {
     "is_executing": true
    },
    "scrolled": false
   },
   "outputs": [
    {
     "name": "stdout",
     "output_type": "stream",
     "text": [
      "Samples: 0.1, features: 1\n",
      "{'fit_time': array([84.31182337, 41.57707858, 39.99521232, 40.09037495, 40.52187133]), 'score_time': array([96.89617443, 56.92793465, 57.37920856, 56.68667912, 57.90234208]), 'test_accuracy': array([0.84071429, 0.83478571, 0.84542857, 0.84107143, 0.83164286]), 'test_neg_log_loss': array([-0.43518617, -0.44896716, -0.43659481, -0.44667309, -0.45587556]), 'test_neg_mean_squared_error': array([-2.15207143, -2.07292857, -1.97335714, -2.02228571, -2.14457143]), 'test_roc_auc_ovr': array([0.98494211, 0.98453555, 0.98471949, 0.98439707, 0.98370706]), 'test_f1_weighted': array([0.8391561 , 0.83337703, 0.84363625, 0.83927396, 0.83025872]), 'test_precision_weighted': array([0.83913872, 0.83298658, 0.84356639, 0.83908444, 0.8299967 ]), 'test_recall_weighted': array([0.84071429, 0.83478571, 0.84542857, 0.84107143, 0.83164286])}\n",
      "Samples: 0.35, features: 1\n",
      "{'fit_time': array([360.26168919, 359.53345442, 370.93991184, 350.37274957,\n",
      "       406.04506087]), 'score_time': array([169.18066072, 165.01349115, 163.29849243, 175.5123682 ,\n",
      "       177.11645555]), 'test_accuracy': array([0.867     , 0.85828571, 0.86785714, 0.86228571, 0.85578571]), 'test_neg_log_loss': array([-0.37458176, -0.38662288, -0.37690371, -0.38751696, -0.39584564]), 'test_neg_mean_squared_error': array([-1.80964286, -1.82535714, -1.76028571, -1.78785714, -1.88057143]), 'test_roc_auc_ovr': array([0.98839966, 0.98803457, 0.98807114, 0.98767671, 0.98709211]), 'test_f1_weighted': array([0.86592419, 0.85763402, 0.86674151, 0.86152713, 0.85510894]), 'test_precision_weighted': array([0.86584839, 0.85747452, 0.8664719 , 0.86140608, 0.85495778]), 'test_recall_weighted': array([0.867     , 0.85828571, 0.86785714, 0.86228571, 0.85578571])}\n",
      "Samples: 0.7, features: 1\n",
      "{'fit_time': array([1514.74044871, 1490.03760457, 1489.57918429, 1557.11085701,\n",
      "       1580.86998367]), 'score_time': array([300.04744554, 298.80243111, 300.57700396, 321.65545154,\n",
      "       306.73347664]), 'test_accuracy': array([0.87621429, 0.869     , 0.87614286, 0.87357143, 0.86457143]), 'test_neg_log_loss': array([-0.34643838, -0.35749936, -0.35016429, -0.3578869 , -0.37156872]), 'test_neg_mean_squared_error': array([-1.67171429, -1.72214286, -1.67221429, -1.65978571, -1.78964286]), 'test_roc_auc_ovr': array([0.98989582, 0.98951393, 0.98949146, 0.98935415, 0.98848604]), 'test_f1_weighted': array([0.87533626, 0.86835481, 0.87530097, 0.87302834, 0.8640845 ]), 'test_precision_weighted': array([0.87525365, 0.8681826 , 0.87508912, 0.87299039, 0.86393884]), 'test_recall_weighted': array([0.87621429, 0.869     , 0.87614286, 0.87357143, 0.86457143])}\n",
      "Samples: 1, features: 0.25\n",
      "{'fit_time': array([2394.2928412 , 1960.99851084, 2471.14348221, 2081.36675572,\n",
      "       2105.00464439]), 'score_time': array([280.95140767, 269.65448427, 290.43191671, 268.81477118,\n",
      "       273.1422286 ]), 'test_accuracy': array([0.84964286, 0.84171429, 0.85321429, 0.85421429, 0.8415    ]), 'test_neg_log_loss': array([-0.53515091, -0.52443103, -0.55339481, -0.516753  , -0.53514556]), 'test_neg_mean_squared_error': array([-2.00807143, -1.98685714, -1.99378571, -1.93942857, -2.08421429]), 'test_roc_auc_ovr': array([0.98554685, 0.9844101 , 0.9840532 , 0.98527447, 0.98432231]), 'test_f1_weighted': array([0.84723568, 0.84032391, 0.8513564 , 0.85238464, 0.84009398]), 'test_precision_weighted': array([0.84760981, 0.84005744, 0.85122244, 0.85240706, 0.83954669]), 'test_recall_weighted': array([0.84964286, 0.84171429, 0.85321429, 0.85421429, 0.8415    ])}\n",
      "Samples: 1, features: 0.5\n",
      "{'fit_time': array([2142.20317793, 2244.65578413, 2453.77488136, 2172.01262736,\n",
      "       2166.03626943]), 'score_time': array([291.30873466, 294.23416042, 308.30326986, 289.80146146,\n",
      "       292.52090454]), 'test_accuracy': array([0.87235714, 0.86585714, 0.87242857, 0.8725    , 0.8605    ]), 'test_neg_log_loss': array([-0.36242727, -0.37406484, -0.37196683, -0.3672616 , -0.38742483]), 'test_neg_mean_squared_error': array([-1.71771429, -1.72378571, -1.74535714, -1.67721429, -1.89528571]), 'test_roc_auc_ovr': array([0.98949683, 0.98922866, 0.98897006, 0.98930304, 0.98799145]), 'test_f1_weighted': array([0.87094315, 0.86488645, 0.87129578, 0.87159843, 0.85986083]), 'test_precision_weighted': array([0.8709689 , 0.86455858, 0.8710122 , 0.87150367, 0.85963261]), 'test_recall_weighted': array([0.87235714, 0.86585714, 0.87242857, 0.8725    , 0.8605    ])}\n",
      "Samples: 1, features: 0.75\n",
      "{'fit_time': array([2711.44500089, 2607.53262281, 2772.10728812, 2646.71011305,\n",
      "       2579.34009337]), 'score_time': array([339.0933516 , 335.56114912, 341.27255893, 335.52530169,\n",
      "       331.70359492]), 'test_accuracy': array([0.8785    , 0.87      , 0.87907143, 0.87578571, 0.866     ]), 'test_neg_log_loss': array([-0.33902438, -0.35276752, -0.34072237, -0.34939575, -0.36285993]), 'test_neg_mean_squared_error': array([-1.63835714, -1.68878571, -1.64507143, -1.64628571, -1.81264286]), 'test_roc_auc_ovr': array([0.99040597, 0.98983261, 0.99005958, 0.98987116, 0.98901895]), 'test_f1_weighted': array([0.87751414, 0.86934825, 0.87811709, 0.87516897, 0.86558132]), 'test_precision_weighted': array([0.87738762, 0.86913624, 0.87787283, 0.87506395, 0.86548127]), 'test_recall_weighted': array([0.8785    , 0.87      , 0.87907143, 0.87578571, 0.866     ])}\n"
     ]
    }
   ],
   "source": [
    "for minor in minors:\n",
    "    scores = cross_validate(minor, X, Y, cv=5, scoring=('accuracy', 'neg_log_loss', 'neg_mean_squared_error', 'roc_auc_ovr', 'f1_weighted', 'precision_weighted', 'recall_weighted'))\n",
    "    print(\"Samples: \" + str(minor.samp) + \", features: \" + str(minor.feat))\n",
    "    print(scores)"
   ]
  },
  {
   "cell_type": "code",
   "execution_count": 91,
   "metadata": {},
   "outputs": [],
   "source": [
    "minors = []\n",
    "for n in n_samples:\n",
    "    minors.append(MinorClassifiers(n, 1, 'majority'))\n",
    "    \n",
    "for n in n_features:\n",
    "    minors.append(MinorClassifiers(1, n, 'majority'))"
   ]
  },
  {
   "cell_type": "code",
   "execution_count": 92,
   "metadata": {},
   "outputs": [
    {
     "name": "stdout",
     "output_type": "stream",
     "text": [
      "Samples: 0.1, features: 1\n",
      "{'fit_time': array([56.82572389, 57.20369482, 56.38576436, 55.56382656, 56.58639836]), 'score_time': array([84.32776642, 84.74555922, 84.77660441, 83.66742492, 84.6532557 ]), 'test_accuracy': array([0.83978571, 0.83428571, 0.84357143, 0.83792857, 0.83142857]), 'test_neg_log_loss': array([-0.43522308, -0.44909969, -0.43698738, -0.44666182, -0.45577667]), 'test_neg_mean_squared_error': array([-2.12764286, -2.05285714, -1.9915   , -2.04007143, -2.14814286]), 'test_roc_auc_ovr': array([0.98495772, 0.98454974, 0.98470733, 0.9844151, 0.98372447]), 'test_f1_weighted': array([0.83755568, 0.83249143, 0.84130593, 0.83561584, 0.82991786]), 'test_precision_weighted': array([0.83841189, 0.83256783, 0.84176772, 0.83601731, 0.82983928]), 'test_recall_weighted': array([0.83978571, 0.83428571, 0.84357143, 0.83792857, 0.83142857])}\n",
      "Samples: 0.35, features: 1\n",
      "{'fit_time': array([513.24694347, 517.16748118, 521.75415373, 520.95773458,\n",
      "       512.52031517]), 'score_time': array([239.9120698, 238.51359606, 240.22011065, 239.46867299,\n",
      "       240.4794147 ]), 'test_accuracy': array([0.86635714, 0.858    , 0.86728571, 0.86114286, 0.85692857]), 'test_neg_log_loss': array([-0.37426228, -0.386454 , -0.37657858, -0.38739646, -0.39562683]), 'test_neg_mean_squared_error': array([-1.79428571, -1.77885714, -1.74778571, -1.79128571, -1.83871429]), 'test_roc_auc_ovr': array([0.98844376, 0.98807516, 0.98808896, 0.9877098, 0.98713332]), 'test_f1_weighted': array([0.86511361, 0.85695245, 0.86600306, 0.86017125, 0.8561139 ]), 'test_precision_weighted': array([0.86550264, 0.85705626, 0.86608642, 0.8603553, 0.85611341]), 'test_recall_weighted': array([0.86635714, 0.858    , 0.86728571, 0.86114286, 0.85692857])}\n",
      "Samples: 0.7, features: 1\n",
      "{'fit_time': array([1880.41483665, 1879.87240267, 1845.331388 , 1891.06411743,\n",
      "       1825.38930392]), 'score_time': array([439.49662161, 441.63532591, 439.82338405, 439.32263541,\n",
      "       432.66143107]), 'test_accuracy': array([0.87528571, 0.86864286, 0.87521429, 0.87271429, 0.8645    ]), 'test_neg_log_loss': array([-0.34649926, -0.35757049, -0.35002678, -0.35754694, -0.37079704]), 'test_neg_mean_squared_error': array([-1.67942857, -1.69414286, -1.68157143, -1.65621429, -1.77492857]), 'test_roc_auc_ovr': array([0.98991023, 0.98952195, 0.98949659, 0.98940314, 0.98854075]), 'test_f1_weighted': array([0.87428347, 0.86781542, 0.87429759, 0.8720271, 0.86383894]), 'test_precision_weighted': array([0.87471002, 0.86788598, 0.87436427, 0.87216102, 0.86381796]), 'test_recall_weighted': array([0.87528571, 0.86864286, 0.87521429, 0.87271429, 0.8645    ])}\n",
      "Samples: 1, features: 0.25\n",
      "{'fit_time': array([1994.98081112, 2244.21755433, 2709.3277669, 2609.40332222,\n",
      "       2512.08097243]), 'score_time': array([262.07268548, 285.20339274, 293.27308083, 301.28070331,\n",
      "       301.85783958]), 'test_accuracy': array([0.84785714, 0.8445   , 0.8465   , 0.83585714, 0.83714286]), 'test_neg_log_loss': array([-0.47265377, -0.5008297, -0.51453981, -0.54041144, -0.51947203]), 'test_neg_mean_squared_error': array([-2.0615   , -1.96171429, -2.10042857, -2.172    , -2.20814286]), 'test_roc_auc_ovr': array([0.98535331, 0.98421307, 0.98330474, 0.98174569, 0.98286903]), 'test_f1_weighted': array([0.84506616, 0.84129602, 0.84411816, 0.83290101, 0.83494919]), 'test_precision_weighted': array([0.84693262, 0.84287294, 0.84485821, 0.8337488, 0.8354364 ]), 'test_recall_weighted': array([0.84785714, 0.8445   , 0.8465   , 0.83585714, 0.83714286])}\n",
      "Samples: 1, features: 0.5\n",
      "{'fit_time': array([4204.93122792, 5284.03524017, 3679.60178447, 2805.31469369,\n",
      "       2788.13469672]), 'score_time': array([673.03787684, 374.67341709, 318.09577322, 305.07084799,\n",
      "       305.72039342]), 'test_accuracy': array([0.87164286, 0.86371429, 0.87307143, 0.87071429, 0.85964286]), 'test_neg_log_loss': array([-0.36222779, -0.37695921, -0.36218935, -0.37224564, -0.390588  ]), 'test_neg_mean_squared_error': array([-1.73014286, -1.7745   , -1.74328571, -1.74171429, -1.86321429]), 'test_roc_auc_ovr': array([0.98945143, 0.98893759, 0.98915476, 0.98912179, 0.98789032]), 'test_f1_weighted': array([0.87001144, 0.8623377, 0.87158427, 0.86943992, 0.85871086]), 'test_precision_weighted': array([0.87082634, 0.86249901, 0.8717851, 0.86958638, 0.85862503]), 'test_recall_weighted': array([0.87164286, 0.86371429, 0.87307143, 0.87071429, 0.85964286])}\n",
      "Samples: 1, features: 0.75\n",
      "{'fit_time': array([2761.49133754, 2652.03639197, 2739.06208396, 2804.5443151,\n",
      "       2818.78636312]), 'score_time': array([337.29083252, 331.38901472, 335.53851533, 337.30032897,\n",
      "       335.85870934]), 'test_accuracy': array([0.87642857, 0.87235714, 0.87807143, 0.87521429, 0.86942857]), 'test_neg_log_loss': array([-0.34188342, -0.34991326, -0.34357185, -0.35009621, -0.35995782]), 'test_neg_mean_squared_error': array([-1.65657143, -1.6585   , -1.65521429, -1.65492857, -1.72214286]), 'test_roc_auc_ovr': array([0.99021871, 0.9899847, 0.98991472, 0.98986872, 0.98920473]), 'test_f1_weighted': array([0.87521184, 0.87145714, 0.8769392, 0.87430367, 0.86874891]), 'test_precision_weighted': array([0.87578388, 0.87149641, 0.87698329, 0.87437086, 0.86874838]), 'test_recall_weighted': array([0.87642857, 0.87235714, 0.87807143, 0.87521429, 0.86942857])}\n"
     ]
    }
   ],
   "source": [
    "for minor in minors:\n",
    "    scores = cross_validate(minor, X, Y, cv=5, scoring=('accuracy', 'neg_log_loss', 'neg_mean_squared_error', 'roc_auc_ovr', 'f1_weighted', 'precision_weighted', 'recall_weighted'))\n",
    "    print(\"Samples: \" + str(minor.samp) + \", features: \" + str(minor.feat))\n",
    "    print(scores)"
   ]
  },
  {
   "cell_type": "code",
   "execution_count": 93,
   "metadata": {},
   "outputs": [],
   "source": [
    "minors = []\n",
    "for n in n_samples:\n",
    "    minors.append(MinorClassifiers(n, 1, 'borda'))\n",
    "    \n",
    "for n in n_features:\n",
    "    minors.append(MinorClassifiers(1, n, 'borda'))"
   ]
  },
  {
   "cell_type": "code",
   "execution_count": 94,
   "metadata": {
    "scrolled": false
   },
   "outputs": [
    {
     "name": "stdout",
     "output_type": "stream",
     "text": [
      "Samples: 0.1, features: 1\n",
      "{'fit_time': array([87.44013858, 88.77895427, 86.76357579, 86.24450612, 87.22120094]), 'score_time': array([126.74483824, 126.52158928, 128.14419055, 124.89729929,\n",
      "       127.32271028]), 'test_accuracy': array([0.84042857, 0.8345    , 0.84542857, 0.84078571, 0.83185714]), 'test_neg_log_loss': array([-1.64024205, -1.64302593, -1.63951448, -1.63986571, -1.64830953]), 'test_neg_mean_squared_error': array([-2.1585    , -2.076     , -1.97057143, -2.02171429, -2.13864286]), 'test_roc_auc_ovr': array([0.96908014, 0.96860216, 0.96924101, 0.96847257, 0.96730666]), 'test_f1_weighted': array([0.83886394, 0.8331168 , 0.84362075, 0.83900183, 0.83048114]), 'test_precision_weighted': array([0.83885455, 0.83268507, 0.8435643 , 0.83884806, 0.83024321]), 'test_recall_weighted': array([0.84042857, 0.8345    , 0.84542857, 0.84078571, 0.83185714])}\n",
      "Samples: 0.35, features: 1\n",
      "{'fit_time': array([787.80688047, 785.43082952, 779.7077179 , 475.55766678,\n",
      "       373.69895101]), 'score_time': array([358.67095184, 357.33201504, 361.67175412, 172.0570271 ,\n",
      "       170.18277478]), 'test_accuracy': array([0.86692857, 0.85842857, 0.86792857, 0.86221429, 0.85535714]), 'test_neg_log_loss': array([-1.63420047, -1.63546082, -1.63412704, -1.6375947 , -1.63903849]), 'test_neg_mean_squared_error': array([-1.80692857, -1.82164286, -1.75892857, -1.78757143, -1.884     ]), 'test_roc_auc_ovr': array([0.97441792, 0.97336825, 0.97413472, 0.97317529, 0.97145035]), 'test_f1_weighted': array([0.86584072, 0.85775889, 0.86680874, 0.86145207, 0.85464599]), 'test_precision_weighted': array([0.86578147, 0.85759397, 0.86654267, 0.86132432, 0.85447726]), 'test_recall_weighted': array([0.86692857, 0.85842857, 0.86792857, 0.86221429, 0.85535714])}\n",
      "Samples: 0.7, features: 1\n",
      "{'fit_time': array([1531.61813498, 1591.28403544, 1597.65157795, 1606.35030055,\n",
      "       1450.25359893]), 'score_time': array([312.3092556 , 300.84918523, 307.59736991, 297.90743399,\n",
      "       296.78846765]), 'test_accuracy': array([0.87614286, 0.86921429, 0.87614286, 0.8735    , 0.8645    ]), 'test_neg_log_loss': array([-1.6320791 , -1.63318441, -1.63199348, -1.63486331, -1.63704148]), 'test_neg_mean_squared_error': array([-1.672     , -1.71814286, -1.67257143, -1.66042857, -1.79014286]), 'test_roc_auc_ovr': array([0.97621378, 0.97528196, 0.97618503, 0.97580872, 0.97373034]), 'test_f1_weighted': array([0.87526257, 0.86857018, 0.87530819, 0.8729595 , 0.86401153]), 'test_precision_weighted': array([0.87518614, 0.86839942, 0.87509498, 0.87291673, 0.86386313]), 'test_recall_weighted': array([0.87614286, 0.86921429, 0.87614286, 0.8735    , 0.8645    ])}\n",
      "Samples: 1, features: 0.25\n",
      "{'fit_time': array([2218.77630258, 1880.55881095, 2218.70034719, 2322.72533512,\n",
      "       2278.91890955]), 'score_time': array([288.58477283, 263.5721097 , 283.76553035, 294.49964976,\n",
      "       284.27154446]), 'test_accuracy': array([0.84707143, 0.8445    , 0.85228571, 0.83578571, 0.83971429]), 'test_neg_log_loss': array([-1.66295888, -1.65608827, -1.66179807, -1.66703475, -1.66673294]), 'test_neg_mean_squared_error': array([-2.0335    , -1.99114286, -1.966     , -2.0875    , -2.12242857]), 'test_roc_auc_ovr': array([0.97991293, 0.97906903, 0.97995666, 0.97696914, 0.9779222 ]), 'test_f1_weighted': array([0.84602389, 0.84341745, 0.851722  , 0.83625663, 0.83999477]), 'test_precision_weighted': array([0.84602452, 0.84350124, 0.85184411, 0.83735285, 0.84055896]), 'test_recall_weighted': array([0.84707143, 0.8445    , 0.85228571, 0.83578571, 0.83971429])}\n",
      "Samples: 1, features: 0.5\n",
      "{'fit_time': array([2272.30232358, 2095.31115675, 2307.40432787, 2377.66865659,\n",
      "       2132.91378164]), 'score_time': array([300.01999784, 302.45008826, 305.47822928, 310.82766032,\n",
      "       290.98504281]), 'test_accuracy': array([0.87157143, 0.86678571, 0.87142857, 0.86678571, 0.86171429]), 'test_neg_log_loss': array([-1.63604058, -1.63649691, -1.63683169, -1.63869419, -1.63794516]), 'test_neg_mean_squared_error': array([-1.75271429, -1.71928571, -1.77535714, -1.73778571, -1.87457143]), 'test_roc_auc_ovr': array([0.98335186, 0.98246607, 0.98242427, 0.98217543, 0.98159786]), 'test_f1_weighted': array([0.87030401, 0.86607078, 0.87039456, 0.86622052, 0.86100535]), 'test_precision_weighted': array([0.87042722, 0.86589863, 0.87030766, 0.86615552, 0.86078251]), 'test_recall_weighted': array([0.87157143, 0.86678571, 0.87142857, 0.86678571, 0.86171429])}\n",
      "Samples: 1, features: 0.75\n",
      "{'fit_time': array([5016.02863884, 5303.52745461, 4046.92791653, 4616.64603686,\n",
      "       2963.68739772]), 'score_time': array([731.7498951 , 345.82485294, 686.00152421, 347.10690069,\n",
      "       342.09947658]), 'test_accuracy': array([0.87735714, 0.87157143, 0.87628571, 0.87578571, 0.86585714]), 'test_neg_log_loss': array([-1.63288506, -1.63348665, -1.63245591, -1.63340968, -1.63470393]), 'test_neg_mean_squared_error': array([-1.67078571, -1.68821429, -1.64478571, -1.65892857, -1.79964286]), 'test_roc_auc_ovr': array([0.98229079, 0.98125302, 0.98140759, 0.98185407, 0.98057153]), 'test_f1_weighted': array([0.87631374, 0.87089328, 0.8753102 , 0.87511388, 0.86534639]), 'test_precision_weighted': array([0.87625498, 0.87080896, 0.87514963, 0.87498929, 0.86517786]), 'test_recall_weighted': array([0.87735714, 0.87157143, 0.87628571, 0.87578571, 0.86585714])}\n"
     ]
    }
   ],
   "source": [
    "for minor in minors:\n",
    "    scores = cross_validate(minor, X, Y, cv=5, scoring=('accuracy', 'neg_log_loss', 'neg_mean_squared_error', 'roc_auc_ovr', 'f1_weighted', 'precision_weighted', 'recall_weighted'))\n",
    "    print(\"Samples: \" + str(minor.samp) + \", features: \" + str(minor.feat))\n",
    "    print(scores)"
   ]
  },
  {
   "cell_type": "markdown",
   "metadata": {},
   "source": [
    "3a."
   ]
  },
  {
   "cell_type": "code",
   "execution_count": 8,
   "metadata": {},
   "outputs": [],
   "source": [
    "n_samples = [0.1, 0.35, 0.7]\n",
    "n_features = [0.25, 0.5, 0.75]\n",
    "minors = []\n",
    "for n in n_samples:\n",
    "    minors.append(MinorClassifiers(n, 1, 'average'))\n",
    "    \n",
    "for n in n_features:\n",
    "    minors.append(MinorClassifiers(1, n, 'average'))"
   ]
  },
  {
   "cell_type": "code",
   "execution_count": 9,
   "metadata": {
    "pycharm": {
     "is_executing": true
    }
   },
   "outputs": [],
   "source": [
    "parts = [0.1, 0.25, 0.5, 0.75] ## for 1.0 already calculated"
   ]
  },
  {
   "cell_type": "code",
   "execution_count": 10,
   "metadata": {},
   "outputs": [
    {
     "name": "stdout",
     "output_type": "stream",
     "text": [
      "Full 0.1%\n",
      "{'fit_time': array([5.46239209, 4.65058708, 4.63876724, 4.71758962, 4.71252751]), 'score_time': array([0.65225339, 0.65923309, 0.67614841, 0.67272663, 0.66023946]), 'test_accuracy': array([0.84      , 0.84857143, 0.84928571, 0.85071429, 0.84285714]), 'test_neg_log_loss': array([-0.42436276, -0.44769205, -0.42998709, -0.41914087, -0.44072538]), 'test_neg_mean_squared_error': array([-2.125     , -1.98285714, -1.91357143, -1.73071429, -1.88857143]), 'test_roc_auc_ovr': array([0.98558101, 0.98416104, 0.98490932, 0.98641686, 0.98560762]), 'test_f1_weighted': array([0.83827333, 0.84654821, 0.84728468, 0.84912954, 0.84234899]), 'test_precision_weighted': array([0.83952203, 0.84668943, 0.84702711, 0.85015398, 0.84335987]), 'test_recall_weighted': array([0.84      , 0.84857143, 0.84928571, 0.85071429, 0.84285714])}\n",
      "Full 0.25%\n",
      "{'fit_time': array([25.11102748, 24.30357695, 23.88813043, 23.96315742, 24.14174485]), 'score_time': array([3.64084435, 3.69768977, 3.97439456, 3.64971972, 3.68017387]), 'test_accuracy': array([0.85314286, 0.86371429, 0.86542857, 0.85942857, 0.84885714]), 'test_neg_log_loss': array([-0.39944894, -0.37728078, -0.38602352, -0.39303504, -0.40296198]), 'test_neg_mean_squared_error': array([-2.01828571, -1.71857143, -1.74714286, -1.76285714, -1.884     ]), 'test_roc_auc_ovr': array([0.98700324, 0.98846285, 0.98826965, 0.98701143, 0.98683207]), 'test_f1_weighted': array([0.85127721, 0.86286616, 0.8649534 , 0.85829153, 0.84812273]), 'test_precision_weighted': array([0.85101239, 0.86315407, 0.86540642, 0.85822038, 0.84826136]), 'test_recall_weighted': array([0.85314286, 0.86371429, 0.86542857, 0.85942857, 0.84885714])}\n",
      "Full 0.5%\n",
      "{'fit_time': array([92.51895285, 91.91309309, 89.30571985, 90.60663128, 91.17063236]), 'score_time': array([13.78682423, 11.85591865, 12.29296327, 11.87955618, 12.05728698]), 'test_accuracy': array([0.86928571, 0.87242857, 0.86042857, 0.86871429, 0.86757143]), 'test_neg_log_loss': array([-0.35524705, -0.36027183, -0.37321427, -0.36479955, -0.36441421]), 'test_neg_mean_squared_error': array([-1.69428571, -1.71085714, -1.79757143, -1.67628571, -1.81      ]), 'test_roc_auc_ovr': array([0.98938603, 0.98939713, 0.98845593, 0.98936111, 0.98857432]), 'test_f1_weighted': array([0.86783338, 0.87169381, 0.85919078, 0.86825153, 0.8664396 ]), 'test_precision_weighted': array([0.86799116, 0.87158034, 0.85893622, 0.86835272, 0.86625965]), 'test_recall_weighted': array([0.86928571, 0.87242857, 0.86042857, 0.86871429, 0.86757143])}\n",
      "Full 0.75%\n",
      "{'fit_time': array([214.14810586, 211.85666871, 212.92345238, 212.27550936,\n",
      "       211.00831652]), 'score_time': array([25.24260998, 25.29363441, 25.16550446, 25.14269137, 25.27511477]), 'test_accuracy': array([0.8772381 , 0.87      , 0.87447619, 0.87657143, 0.87447619]), 'test_neg_log_loss': array([-0.34366075, -0.35243638, -0.35006021, -0.35222435, -0.34895201]), 'test_neg_mean_squared_error': array([-1.63847619, -1.67619048, -1.61904762, -1.64838095, -1.65895238]), 'test_roc_auc_ovr': array([0.99000211, 0.98944938, 0.98985065, 0.98930287, 0.98986384]), 'test_f1_weighted': array([0.87630708, 0.86898351, 0.87415546, 0.87552552, 0.8735256 ]), 'test_precision_weighted': array([0.87629338, 0.86887843, 0.87424717, 0.87540618, 0.87365875]), 'test_recall_weighted': array([0.8772381 , 0.87      , 0.87447619, 0.87657143, 0.87447619])}\n"
     ]
    }
   ],
   "source": [
    "for p in parts:\n",
    "    new_X = X[:int(p*X.shape[0])]\n",
    "    new_Y = Y[:int(p*Y.shape[0])]\n",
    "    clf = SVC(probability=True)\n",
    "    scores = cross_validate(clf, new_X, new_Y, cv=5, scoring=('accuracy', 'neg_log_loss', 'neg_mean_squared_error', 'roc_auc_ovr', 'f1_weighted', 'precision_weighted', 'recall_weighted'))\n",
    "    print(\"Full \" + str(p) + \"%\")\n",
    "    print(scores)"
   ]
  },
  {
   "cell_type": "code",
   "execution_count": 10,
   "metadata": {
    "pycharm": {
     "is_executing": true
    },
    "scrolled": false
   },
   "outputs": [
    {
     "name": "stdout",
     "output_type": "stream",
     "text": [
      "Samples: 0.1, features: 1\n",
      "Part: 0.1\n",
      "{'fit_time': array([2.29719567, 1.70368028, 2.15973496, 2.0188539 , 2.19210458]), 'score_time': array([2.05231571, 1.92805362, 1.89582109, 1.60407615, 2.13352513]), 'test_accuracy': array([0.75142857, 0.78571429, 0.77785714, 0.77      , 0.76142857]), 'test_neg_log_loss': array([-0.67599502, -0.63176933, -0.63846399, -0.65180112, -0.64980752]), 'test_neg_mean_squared_error': array([-2.92714286, -2.61214286, -2.92285714, -2.73285714, -3.07785714]), 'test_roc_auc_ovr': array([0.97005722, 0.973803  , 0.97332964, 0.97245143, 0.97235581]), 'test_f1_weighted': array([0.75158389, 0.78841656, 0.77606978, 0.7684865 , 0.76034427]), 'test_precision_weighted': array([0.75540541, 0.79454754, 0.77798412, 0.7690227 , 0.76119575]), 'test_recall_weighted': array([0.75142857, 0.78571429, 0.77785714, 0.77      , 0.76142857])}\n",
      "Samples: 0.35, features: 1\n",
      "Part: 0.1\n",
      "{'fit_time': array([14.8534503 , 14.45188546, 13.14409876, 15.0696094 , 14.83215594]), 'score_time': array([4.61056232, 4.28737545, 5.24730945, 5.22190976, 4.88353729]), 'test_accuracy': array([0.82071429, 0.825     , 0.81714286, 0.82571429, 0.81357143]), 'test_neg_log_loss': array([-0.49598387, -0.50333139, -0.5040695 , -0.49373583, -0.51808733]), 'test_neg_mean_squared_error': array([-2.14857143, -2.23357143, -2.515     , -1.95857143, -2.18214286]), 'test_roc_auc_ovr': array([0.9815027 , 0.98105366, 0.98126028, 0.98224021, 0.98062016]), 'test_f1_weighted': array([0.81966752, 0.82465531, 0.81353138, 0.82348213, 0.81223074]), 'test_precision_weighted': array([0.82018186, 0.82664645, 0.81414878, 0.82369227, 0.81282785]), 'test_recall_weighted': array([0.82071429, 0.825     , 0.81714286, 0.82571429, 0.81357143])}\n",
      "Samples: 0.7, features: 1\n",
      "Part: 0.1\n",
      "{'fit_time': array([45.26402068, 45.26498032, 46.27083135, 49.10364127, 45.55311656]), 'score_time': array([7.93588758, 8.73243022, 9.39694262, 9.34031606, 5.01372552]), 'test_accuracy': array([0.84642857, 0.84714286, 0.835     , 0.83642857, 0.83857143]), 'test_neg_log_loss': array([-0.43800903, -0.4636884 , -0.45369796, -0.44282774, -0.45504717]), 'test_neg_mean_squared_error': array([-1.88214286, -1.88      , -2.26      , -1.89071429, -2.02357143]), 'test_roc_auc_ovr': array([0.98487314, 0.98335975, 0.98362156, 0.98530277, 0.98481709]), 'test_f1_weighted': array([0.84669268, 0.84627718, 0.83222786, 0.835683  , 0.83822527]), 'test_precision_weighted': array([0.84830707, 0.84672989, 0.83174256, 0.83621605, 0.83861607]), 'test_recall_weighted': array([0.84642857, 0.84714286, 0.835     , 0.83642857, 0.83857143])}\n",
      "Samples: 1, features: 0.25\n",
      "Part: 0.1\n",
      "{'fit_time': array([40.16971684, 42.55537534, 36.34723687, 34.63014388, 31.16177106]), 'score_time': array([4.70806313, 4.74266338, 4.34139085, 4.21400356, 4.06661868]), 'test_accuracy': array([0.83      , 0.82071429, 0.82      , 0.83285714, 0.81      ]), 'test_neg_log_loss': array([-0.6542037 , -0.73005354, -0.68498621, -0.67316963, -0.64077983]), 'test_neg_mean_squared_error': array([-2.19785714, -2.375     , -2.31928571, -1.96571429, -2.36071429]), 'test_roc_auc_ovr': array([0.97898259, 0.9762434 , 0.9805418 , 0.98045639, 0.97814941]), 'test_f1_weighted': array([0.82791802, 0.81860557, 0.81552664, 0.83055965, 0.80846347]), 'test_precision_weighted': array([0.82846433, 0.81982152, 0.8165182 , 0.8307278 , 0.80956855]), 'test_recall_weighted': array([0.83      , 0.82071429, 0.82      , 0.83285714, 0.81      ])}\n",
      "Samples: 1, features: 0.5\n",
      "Part: 0.1\n",
      "{'fit_time': array([37.99137735, 35.76625824, 43.34552121, 36.57986355, 38.46422768]), 'score_time': array([4.87872434, 5.01110291, 5.09046078, 4.78820467, 5.06547332]), 'test_accuracy': array([0.84357143, 0.84142857, 0.84      , 0.84714286, 0.83785714]), 'test_neg_log_loss': array([-0.46794924, -0.47995785, -0.4822572 , -0.45249898, -0.47195871]), 'test_neg_mean_squared_error': array([-2.09      , -2.14214286, -2.09714286, -1.70428571, -1.97357143]), 'test_roc_auc_ovr': array([0.98438625, 0.98341205, 0.98428848, 0.98608344, 0.9846362 ]), 'test_f1_weighted': array([0.84129651, 0.84024434, 0.83639879, 0.84623245, 0.83721316]), 'test_precision_weighted': array([0.84209756, 0.84099712, 0.83665918, 0.84663221, 0.83782598]), 'test_recall_weighted': array([0.84357143, 0.84142857, 0.84      , 0.84714286, 0.83785714])}\n",
      "Samples: 1, features: 0.75\n",
      "Part: 0.1\n",
      "{'fit_time': array([41.59972906, 36.76106071, 38.15844107, 39.78490734, 42.77064967]), 'score_time': array([5.56852674, 5.14522791, 5.63194275, 5.57695222, 5.60506392]), 'test_accuracy': array([0.84642857, 0.84928571, 0.84142857, 0.84857143, 0.84285714]), 'test_neg_log_loss': array([-0.43128757, -0.45829074, -0.44499666, -0.43183933, -0.44611792]), 'test_neg_mean_squared_error': array([-1.995     , -2.03571429, -2.10571429, -1.715     , -2.00928571]), 'test_roc_auc_ovr': array([0.98570362, 0.98379559, 0.98426405, 0.98612288, 0.9854077 ]), 'test_f1_weighted': array([0.84477941, 0.8482598 , 0.83892186, 0.84815884, 0.84253085]), 'test_precision_weighted': array([0.84509675, 0.84905161, 0.83895989, 0.84903248, 0.84314256]), 'test_recall_weighted': array([0.84642857, 0.84928571, 0.84142857, 0.84857143, 0.84285714])}\n",
      "Samples: 0.1, features: 1\n",
      "Part: 0.25\n",
      "{'fit_time': array([5.36078715, 5.39070725, 5.35878658, 5.35429025, 5.35678625]), 'score_time': array([6.20897388, 6.00106788, 6.03539419, 5.83018851, 5.85897374]), 'test_accuracy': array([0.81228571, 0.81742857, 0.81142857, 0.80485714, 0.80085714]), 'test_neg_log_loss': array([-0.52646662, -0.52106435, -0.53542966, -0.5369258 , -0.54761284]), 'test_neg_mean_squared_error': array([-2.336     , -2.32057143, -2.51857143, -2.29228571, -2.462     ]), 'test_roc_auc_ovr': array([0.98042094, 0.98141517, 0.97984827, 0.97833685, 0.97822873]), 'test_f1_weighted': array([0.81123288, 0.81785687, 0.81000346, 0.80097963, 0.79986598]), 'test_precision_weighted': array([0.81274116, 0.81967129, 0.81038283, 0.80224814, 0.80051901]), 'test_recall_weighted': array([0.81228571, 0.81742857, 0.81142857, 0.80485714, 0.80085714])}\n",
      "Samples: 0.35, features: 1\n",
      "Part: 0.25\n",
      "{'fit_time': array([38.65981269, 39.35018611, 38.35749507, 38.50873518, 34.86923313]), 'score_time': array([15.52197337, 15.6254406 , 14.87927628, 12.98631787, 14.58481908]), 'test_accuracy': array([0.84228571, 0.84685714, 0.83      , 0.83771429, 0.83371429]), 'test_neg_log_loss': array([-0.44095008, -0.43299008, -0.45087914, -0.44937925, -0.44888657]), 'test_neg_mean_squared_error': array([-2.05457143, -1.91857143, -2.22314286, -2.01771429, -2.05742857]), 'test_roc_auc_ovr': array([0.98478842, 0.98554796, 0.98457444, 0.98359169, 0.98415201]), 'test_f1_weighted': array([0.84052224, 0.84621102, 0.82877642, 0.83603753, 0.83322495]), 'test_precision_weighted': array([0.84025084, 0.84626163, 0.82897452, 0.8360639 , 0.83353877]), 'test_recall_weighted': array([0.84228571, 0.84685714, 0.83      , 0.83771429, 0.83371429])}\n",
      "Samples: 0.7, features: 1\n",
      "Part: 0.25\n",
      "{'fit_time': array([121.73323083, 122.54178333, 119.67870903, 158.24120259,\n",
      "       168.42779207]), 'score_time': array([26.91180301, 27.13946176, 28.03855252, 37.29426527, 31.16595411]), 'test_accuracy': array([0.854     , 0.85914286, 0.85      , 0.85085714, 0.84714286]), 'test_neg_log_loss': array([-0.4077091 , -0.38798991, -0.41122665, -0.40961171, -0.411409  ]), 'test_neg_mean_squared_error': array([-1.91142857, -1.81571429, -1.93028571, -1.93028571, -1.95657143]), 'test_roc_auc_ovr': array([0.98656384, 0.9879528 , 0.98686239, 0.98613248, 0.98629926]), 'test_f1_weighted': array([0.85269969, 0.85880347, 0.84948328, 0.84975511, 0.84686235]), 'test_precision_weighted': array([0.85230883, 0.85873506, 0.84961423, 0.84982682, 0.84698424]), 'test_recall_weighted': array([0.854     , 0.85914286, 0.85      , 0.85085714, 0.84714286])}\n",
      "Samples: 1, features: 0.25\n",
      "Part: 0.25\n",
      "{'fit_time': array([201.91174626, 197.138381  , 243.79176903, 210.29370999,\n",
      "       227.78905797]), 'score_time': array([25.26755214, 28.21205568, 25.54564238, 26.02450728, 26.8792038 ]), 'test_accuracy': array([0.83914286, 0.84228571, 0.83485714, 0.83657143, 0.82857143]), 'test_neg_log_loss': array([-0.57392636, -0.59675076, -0.6118953 , -0.6187032 , -0.62486247]), 'test_neg_mean_squared_error': array([-2.19857143, -2.08428571, -2.20342857, -2.07914286, -2.15371429]), 'test_roc_auc_ovr': array([0.98260943, 0.98341397, 0.98248689, 0.98088372, 0.98227521]), 'test_f1_weighted': array([0.83670622, 0.84067289, 0.83357058, 0.83441525, 0.82719663]), 'test_precision_weighted': array([0.83651706, 0.84088802, 0.83371248, 0.8344132 , 0.82698627]), 'test_recall_weighted': array([0.83914286, 0.84228571, 0.83485714, 0.83657143, 0.82857143])}\n"
     ]
    },
    {
     "name": "stdout",
     "output_type": "stream",
     "text": [
      "Samples: 1, features: 0.5\n",
      "Part: 0.25\n",
      "{'fit_time': array([192.97073984, 205.45588923, 173.9368968 , 175.31263471,\n",
      "       184.64827466]), 'score_time': array([28.03897595, 27.23800111, 25.3146553 , 25.29203749, 26.43889213]), 'test_accuracy': array([0.84942857, 0.85628571, 0.852     , 0.84914286, 0.84114286]), 'test_neg_log_loss': array([-0.42618665, -0.41256305, -0.42656799, -0.43070748, -0.43520494]), 'test_neg_mean_squared_error': array([-1.97885714, -1.79485714, -1.90428571, -1.92428571, -1.99314286]), 'test_roc_auc_ovr': array([0.98629641, 0.98770577, 0.98678364, 0.98585703, 0.98579907]), 'test_f1_weighted': array([0.84772714, 0.85543236, 0.85114852, 0.84761935, 0.84086479]), 'test_precision_weighted': array([0.84718769, 0.85526102, 0.85118413, 0.8477256 , 0.84095856]), 'test_recall_weighted': array([0.84942857, 0.85628571, 0.852     , 0.84914286, 0.84114286])}\n",
      "Samples: 1, features: 0.75\n",
      "Part: 0.25\n",
      "{'fit_time': array([186.57287383, 198.81872892, 231.52305603, 205.95697236,\n",
      "       201.02394795]), 'score_time': array([27.52937961, 32.14547896, 31.12843013, 31.14599347, 30.64687014]), 'test_accuracy': array([0.85742857, 0.86657143, 0.86171429, 0.85657143, 0.85057143]), 'test_neg_log_loss': array([-0.39643224, -0.37616444, -0.4016364 , -0.39823357, -0.40093489]), 'test_neg_mean_squared_error': array([-1.91771429, -1.71714286, -1.76742857, -1.86971429, -1.90142857]), 'test_roc_auc_ovr': array([0.98725879, 0.98880917, 0.98761389, 0.98715425, 0.98699848]), 'test_f1_weighted': array([0.85570531, 0.86589504, 0.86091988, 0.85537281, 0.85042407]), 'test_precision_weighted': array([0.85538882, 0.86576617, 0.86106933, 0.85536547, 0.85056705]), 'test_recall_weighted': array([0.85742857, 0.86657143, 0.86171429, 0.85657143, 0.85057143])}\n",
      "Samples: 0.1, features: 1\n",
      "Part: 0.5\n",
      "{'fit_time': array([15.64068699, 15.47464299, 15.49176264, 15.52384329, 16.35122681]), 'score_time': array([20.2165339 , 19.66538143, 20.07005477, 19.88838553, 20.18729544]), 'test_accuracy': array([0.83042857, 0.82228571, 0.81685714, 0.81685714, 0.81928571]), 'test_neg_log_loss': array([-0.47326206, -0.48746092, -0.49441201, -0.48304502, -0.48303232]), 'test_neg_mean_squared_error': array([-2.16414286, -2.25971429, -2.28385714, -2.30685714, -2.43171429]), 'test_roc_auc_ovr': array([0.98313164, 0.98228462, 0.98210567, 0.98273719, 0.98192486]), 'test_f1_weighted': array([0.82874555, 0.82058827, 0.81577283, 0.81714451, 0.81881346]), 'test_precision_weighted': array([0.82887697, 0.82071472, 0.81518672, 0.81756147, 0.81918099]), 'test_recall_weighted': array([0.83042857, 0.82228571, 0.81685714, 0.81685714, 0.81928571])}\n",
      "Samples: 0.35, features: 1\n",
      "Part: 0.5\n",
      "{'fit_time': array([112.21678519, 111.01020765, 110.47042012, 112.14960647,\n",
      "       120.94055724]), 'score_time': array([49.5735209 , 49.22872281, 49.79207587, 51.20974708, 53.52238345]), 'test_accuracy': array([0.85528571, 0.85085714, 0.84028571, 0.854     , 0.85114286]), 'test_neg_log_loss': array([-0.39950192, -0.41391632, -0.42242911, -0.40979588, -0.41254768]), 'test_neg_mean_squared_error': array([-1.90885714, -1.93185714, -1.99514286, -1.83542857, -2.00214286]), 'test_roc_auc_ovr': array([0.98719024, 0.98647565, 0.98605558, 0.98699749, 0.98597476]), 'test_f1_weighted': array([0.85372798, 0.84970313, 0.83926536, 0.8534197 , 0.85069354]), 'test_precision_weighted': array([0.85358686, 0.84959946, 0.83868516, 0.85336699, 0.85115256]), 'test_recall_weighted': array([0.85528571, 0.85085714, 0.84028571, 0.854     , 0.85114286])}\n",
      "Samples: 0.7, features: 1\n",
      "Part: 0.5\n",
      "{'fit_time': array([409.78464055, 403.85244417, 402.47634506, 416.12956953,\n",
      "       405.90862489]), 'score_time': array([88.96355057, 88.62163663, 87.57865214, 88.98052526, 88.82175589]), 'test_accuracy': array([0.86757143, 0.86228571, 0.85257143, 0.86728571, 0.86457143]), 'test_neg_log_loss': array([-0.36903768, -0.38181274, -0.38953803, -0.37620809, -0.3774549 ]), 'test_neg_mean_squared_error': array([-1.72857143, -1.826     , -1.86942857, -1.71471429, -1.83614286]), 'test_roc_auc_ovr': array([0.98867582, 0.98818202, 0.98780552, 0.98883287, 0.98793323]), 'test_f1_weighted': array([0.86638806, 0.86109537, 0.85165449, 0.86722039, 0.86404656]), 'test_precision_weighted': array([0.86626309, 0.86083355, 0.8512197 , 0.86740355, 0.86396699]), 'test_recall_weighted': array([0.86757143, 0.86228571, 0.85257143, 0.86728571, 0.86457143])}\n",
      "Samples: 1, features: 0.25\n",
      "Part: 0.5\n",
      "{'fit_time': array([667.15164876, 764.68696404, 650.26399422, 707.68619704,\n",
      "       684.42625499]), 'score_time': array([81.2483871 , 87.48828697, 91.00654745, 83.37867141, 87.13956022]), 'test_accuracy': array([0.84785714, 0.84342857, 0.827     , 0.83885714, 0.83657143]), 'test_neg_log_loss': array([-0.55936505, -0.60839661, -0.57708722, -0.57567894, -0.61282386]), 'test_neg_mean_squared_error': array([-1.98414286, -2.05342857, -2.19828571, -2.00828571, -2.28      ]), 'test_roc_auc_ovr': array([0.98371062, 0.98341049, 0.98242906, 0.98400126, 0.98168408]), 'test_f1_weighted': array([0.84526791, 0.84113165, 0.82432838, 0.83800791, 0.83490014]), 'test_precision_weighted': array([0.8457808 , 0.84154653, 0.82356105, 0.83787354, 0.83423214]), 'test_recall_weighted': array([0.84785714, 0.84342857, 0.827     , 0.83885714, 0.83657143])}\n",
      "Samples: 1, features: 0.5\n",
      "Part: 0.5\n",
      "{'fit_time': array([620.54054689, 650.33564472, 649.95941401, 720.40635729,\n",
      "       623.16636348]), 'score_time': array([88.42167473, 91.45456815, 90.89007878, 91.08347344, 87.4806118 ]), 'test_accuracy': array([0.86685714, 0.85485714, 0.85257143, 0.86871429, 0.86357143]), 'test_neg_log_loss': array([-0.38466015, -0.41425341, -0.41042483, -0.39152408, -0.3930272 ]), 'test_neg_mean_squared_error': array([-1.71285714, -1.86371429, -1.88728571, -1.71457143, -1.86557143]), 'test_roc_auc_ovr': array([0.98863538, 0.98734729, 0.98749577, 0.9888412 , 0.98743542]), 'test_f1_weighted': array([0.86530296, 0.85324676, 0.851411  , 0.8684646 , 0.86245437]), 'test_precision_weighted': array([0.86528611, 0.85312073, 0.85085382, 0.86860882, 0.8620575 ]), 'test_recall_weighted': array([0.86685714, 0.85485714, 0.85257143, 0.86871429, 0.86357143])}\n",
      "Samples: 1, features: 0.75\n",
      "Part: 0.5\n",
      "{'fit_time': array([796.18179464, 741.56004333, 698.68824458, 721.5308156 ,\n",
      "       756.84417391]), 'score_time': array([99.15236473, 98.54911542, 98.12615514, 99.24074578, 98.69685173]), 'test_accuracy': array([0.87328571, 0.868     , 0.85785714, 0.86614286, 0.867     ]), 'test_neg_log_loss': array([-0.35272612, -0.37393258, -0.38008048, -0.37347118, -0.36854331]), 'test_neg_mean_squared_error': array([-1.64314286, -1.74157143, -1.81385714, -1.75642857, -1.82628571]), 'test_roc_auc_ovr': array([0.98983331, 0.98878748, 0.98835658, 0.9890295 , 0.98837353]), 'test_f1_weighted': array([0.87200689, 0.8668975 , 0.85677456, 0.86594158, 0.86606279]), 'test_precision_weighted': array([0.8718447 , 0.86665076, 0.85636559, 0.86610167, 0.8656588 ]), 'test_recall_weighted': array([0.87328571, 0.868     , 0.85785714, 0.86614286, 0.867     ])}\n",
      "Samples: 0.1, features: 1\n",
      "Part: 0.75\n",
      "{'fit_time': array([26.49708414, 26.6001842 , 27.11083412, 26.3745079 , 26.39560008]), 'score_time': array([36.63833809, 37.04918814, 37.52236485, 37.16498947, 37.47938466]), 'test_accuracy': array([0.82961905, 0.82333333, 0.83133333, 0.83742857, 0.83457143]), 'test_neg_log_loss': array([-0.46309971, -0.47630018, -0.46068197, -0.45014632, -0.45208614]), 'test_neg_mean_squared_error': array([-2.1847619 , -2.20533333, -2.11733333, -2.08609524, -2.12895238]), 'test_roc_auc_ovr': array([0.98341318, 0.98266576, 0.98377223, 0.98373756, 0.98419757]), 'test_f1_weighted': array([0.82755415, 0.82104078, 0.8299181 , 0.8359764 , 0.83376877]), 'test_precision_weighted': array([0.82798976, 0.82080925, 0.83004327, 0.83553268, 0.83406289]), 'test_recall_weighted': array([0.82961905, 0.82333333, 0.83133333, 0.83742857, 0.83457143])}\n",
      "Samples: 0.35, features: 1\n",
      "Part: 0.75\n",
      "{'fit_time': array([232.67174935, 231.65103102, 233.08213925, 230.33221221,\n",
      "       229.14817142]), 'score_time': array([102.92052436, 102.53610206, 103.57509732, 105.47508979,\n",
      "       105.03571296]), 'test_accuracy': array([0.86285714, 0.85152381, 0.86      , 0.8632381 , 0.85809524]), 'test_neg_log_loss': array([-0.38311919, -0.40285263, -0.39014847, -0.38606989, -0.38998387]), 'test_neg_mean_squared_error': array([-1.80914286, -1.85019048, -1.84971429, -1.81438095, -1.84419048]), 'test_roc_auc_ovr': array([0.98801829, 0.98678089, 0.98773906, 0.9874593 , 0.98771384]), 'test_f1_weighted': array([0.86195117, 0.85038523, 0.85936851, 0.86209753, 0.85747326]), 'test_precision_weighted': array([0.86197086, 0.85014023, 0.85921184, 0.86159682, 0.8574702 ]), 'test_recall_weighted': array([0.86285714, 0.85152381, 0.86      , 0.8632381 , 0.85809524])}\n"
     ]
    },
    {
     "name": "stdout",
     "output_type": "stream",
     "text": [
      "Samples: 0.7, features: 1\n",
      "Part: 0.75\n",
      "{'fit_time': array([992.65783238, 972.19321179, 969.12032366, 992.69585729,\n",
      "       982.43080115]), 'score_time': array([184.77053499, 185.0336144 , 184.29363942, 187.15090632,\n",
      "       186.47876716]), 'test_accuracy': array([0.87361905, 0.8647619 , 0.87133333, 0.87133333, 0.87104762]), 'test_neg_log_loss': array([-0.35374136, -0.37110207, -0.36068511, -0.36008983, -0.36138627]), 'test_neg_mean_squared_error': array([-1.67028571, -1.766     , -1.70485714, -1.75219048, -1.71619048]), 'test_roc_auc_ovr': array([0.98954335, 0.9884767 , 0.98932537, 0.98889936, 0.98919016]), 'test_f1_weighted': array([0.87266227, 0.8633564 , 0.87105127, 0.87034925, 0.87038592]), 'test_precision_weighted': array([0.87253932, 0.86324064, 0.87101501, 0.86987684, 0.87032348]), 'test_recall_weighted': array([0.87361905, 0.8647619 , 0.87133333, 0.87133333, 0.87104762])}\n",
      "Samples: 1, features: 0.25\n",
      "Part: 0.75\n",
      "{'fit_time': array([1525.12347174, 1419.57922053, 1441.5380671 , 1403.44258237,\n",
      "       1370.16653538]), 'score_time': array([177.09619665, 175.07892275, 175.88075233, 174.331846  ,\n",
      "       172.03710747]), 'test_accuracy': array([0.8512381 , 0.84238095, 0.8532381 , 0.85228571, 0.8507619 ]), 'test_neg_log_loss': array([-0.55220562, -0.56029173, -0.55004711, -0.53880909, -0.53733281]), 'test_neg_mean_squared_error': array([-2.02990476, -2.05057143, -1.88761905, -2.00828571, -1.96647619]), 'test_roc_auc_ovr': array([0.98465409, 0.98398505, 0.98481039, 0.98454241, 0.98489242]), 'test_f1_weighted': array([0.84943756, 0.84013038, 0.85206799, 0.85034545, 0.84928655]), 'test_precision_weighted': array([0.85003885, 0.83987974, 0.85203538, 0.85004265, 0.84938009]), 'test_recall_weighted': array([0.8512381 , 0.84238095, 0.8532381 , 0.85228571, 0.8507619 ])}\n",
      "Samples: 1, features: 0.5\n",
      "Part: 0.75\n",
      "{'fit_time': array([1492.9442184 , 1696.32618785, 1533.81937957, 1501.59954166,\n",
      "       1570.65728688]), 'score_time': array([185.10443568, 189.06018066, 184.74184918, 189.12457919,\n",
      "       189.37597942]), 'test_accuracy': array([0.86961905, 0.86714286, 0.86819048, 0.87      , 0.86695238]), 'test_neg_log_loss': array([-0.37143045, -0.38055582, -0.37708394, -0.37545976, -0.38162883]), 'test_neg_mean_squared_error': array([-1.72342857, -1.73495238, -1.73314286, -1.718     , -1.79390476]), 'test_roc_auc_ovr': array([0.98943623, 0.98873429, 0.98919421, 0.98848621, 0.98873453]), 'test_f1_weighted': array([0.86839885, 0.8660162 , 0.86761877, 0.86894256, 0.86615081]), 'test_precision_weighted': array([0.86806885, 0.86578839, 0.86760746, 0.8685697 , 0.86597064]), 'test_recall_weighted': array([0.86961905, 0.86714286, 0.86819048, 0.87      , 0.86695238])}\n",
      "Samples: 1, features: 0.75\n",
      "Part: 0.75\n",
      "{'fit_time': array([1807.33623052, 1867.73326397, 1525.82269597, 1396.55309963,\n",
      "       1488.07841372]), 'score_time': array([215.91505957, 233.36999917, 195.4089942 , 200.88372612,\n",
      "       194.26213312]), 'test_accuracy': array([0.87457143, 0.8672381 , 0.87257143, 0.87438095, 0.87457143]), 'test_neg_log_loss': array([-0.34906405, -0.36193228, -0.35397589, -0.35401035, -0.35264719]), 'test_neg_mean_squared_error': array([-1.67190476, -1.72961905, -1.70019048, -1.67866667, -1.70980952]), 'test_roc_auc_ovr': array([0.98996723, 0.98912028, 0.98976768, 0.98934014, 0.98973955]), 'test_f1_weighted': array([0.87364695, 0.86608728, 0.87216753, 0.87342338, 0.8740762 ]), 'test_precision_weighted': array([0.87345168, 0.86596732, 0.87214639, 0.87306639, 0.87407694]), 'test_recall_weighted': array([0.87457143, 0.8672381 , 0.87257143, 0.87438095, 0.87457143])}\n"
     ]
    }
   ],
   "source": [
    "for p in parts:\n",
    "    for minor in minors:\n",
    "        new_X = X[:int(p*X.shape[0])]\n",
    "        new_Y = Y[:int(p*Y.shape[0])]\n",
    "        scores = cross_validate(minor, new_X, new_Y, cv=5, scoring=('accuracy', 'neg_log_loss', 'neg_mean_squared_error', 'roc_auc_ovr', 'f1_weighted', 'precision_weighted', 'recall_weighted'))\n",
    "        print(\"Samples: \" + str(minor.samp) + \", features: \" + str(minor.feat))\n",
    "        print(\"Part: \" + str(p))\n",
    "        print(scores)"
   ]
  },
  {
   "cell_type": "markdown",
   "metadata": {},
   "source": [
    "3b."
   ]
  },
  {
   "cell_type": "code",
   "execution_count": 15,
   "metadata": {},
   "outputs": [
    {
     "name": "stdout",
     "output_type": "stream",
     "text": [
      "{'fit_time': array([268.49231243, 270.47176385, 274.89406872, 282.98455596,\n",
      "       271.60984707]), 'score_time': array([32.86756682, 34.2289772 , 33.26482916, 36.63378453, 31.50107074]), 'test_accuracy': array([0.76364286, 0.76157143, 0.78378571, 0.73871429, 0.76592857]), 'test_neg_log_loss': array([-0.79471302, -0.836688  , -0.82049978, -0.89372988, -0.83243672]), 'test_neg_mean_squared_error': array([-3.38771429, -3.27492857, -3.165     , -3.61707143, -3.31528571]), 'test_roc_auc_ovr': array([0.96845503, 0.96680759, 0.96788232, 0.9684521 , 0.9693496 ]), 'test_f1_weighted': array([0.75952819, 0.76216814, 0.78354667, 0.72532567, 0.76561288]), 'test_precision_weighted': array([0.80279123, 0.79242146, 0.81372721, 0.79975356, 0.80461454]), 'test_recall_weighted': array([0.76364286, 0.76157143, 0.78378571, 0.73871429, 0.76592857])}"
     ]
    }
   ],
   "source": [
    "max_iter = 800\n",
    "clf = SVC(probability=True, max_iter=max_iter)\n",
    "scores = cross_validate(clf, X, Y, cv=5, scoring=('accuracy', 'neg_log_loss', 'neg_mean_squared_error', 'roc_auc_ovr', 'f1_weighted', 'precision_weighted', 'recall_weighted'))\n",
    "scores"
   ]
  },
  {
   "cell_type": "code",
   "execution_count": 16,
   "metadata": {},
   "outputs": [
    {
     "name": "stdout",
     "output_type": "stream",
     "text": [
      "{'fit_time': array([169.78876853, 170.64779186, 170.36103034, 170.39319086,\n",
      "       169.5521059 ]), 'score_time': array([22.95931482, 22.83487535, 22.81313467, 22.78349543, 22.98829341]), 'test_accuracy': array([0.677     , 0.68321429, 0.63707143, 0.63164286, 0.70964286]), 'test_neg_log_loss': array([-1.08670584, -1.02812242, -1.13246654, -1.16859031, -1.0744041 ]), 'test_neg_mean_squared_error': array([-3.90014286, -3.71557143, -4.53885714, -4.02442857, -3.10528571]), 'test_roc_auc_ovr': array([0.9394987 , 0.94849325, 0.93504347, 0.93088563, 0.93814107]), 'test_f1_weighted': array([0.67837373, 0.68697439, 0.64258247, 0.62774827, 0.70924032]), 'test_precision_weighted': array([0.69171156, 0.70522007, 0.67686811, 0.65040435, 0.71485179]), 'test_recall_weighted': array([0.677     , 0.68321429, 0.63707143, 0.63164286, 0.70964286])}"
     ]
    }
   ],
   "source": [
    "max_iter = 400\n",
    "clf = SVC(probability=True, max_iter=max_iter)\n",
    "scores = cross_validate(clf, X, Y, cv=5, scoring=('accuracy', 'neg_log_loss', 'neg_mean_squared_error', 'roc_auc_ovr', 'f1_weighted', 'precision_weighted', 'recall_weighted'))\n",
    "scores"
   ]
  },
  {
   "cell_type": "code",
   "execution_count": 17,
   "metadata": {},
   "outputs": [
    {
     "name": "stdout",
     "output_type": "stream",
     "text": [
      "{'fit_time': array([87.91286635, 88.58666968, 88.71988821, 88.33225298,\n",
      "       88.12497497]), 'score_time': array([12.3018477 , 12.46776652, 12.30523252, 12.27081656, 12.26265287]), 'test_accuracy': array([0.61464286, 0.59164286, 0.54007143, 0.57585714, 0.56771429]), 'test_neg_log_loss': array([-1.10343767, -1.27323033, -1.28397075, -1.1111919 , -1.13579455]), 'test_neg_mean_squared_error': array([-4.49442857, -4.36507143, -5.49335714, -4.46364286, -4.81364286]), 'test_roc_auc_ovr': array([0.93929826, 0.92563028, 0.92711858, 0.93997434, 0.9348088 ]), 'test_f1_weighted': array([0.60758766, 0.56649061, 0.53495911, 0.56497117, 0.54736532]), 'test_precision_weighted': array([0.61144946, 0.56724206, 0.54080434, 0.5945054 , 0.57911227]), 'test_recall_weighted': array([0.61464286, 0.59164286, 0.54007143, 0.57585714, 0.56771429])}"
     ]
    }
   ],
   "source": [
    "max_iter = 150\n",
    "clf = SVC(probability=True, max_iter=max_iter)\n",
    "scores = cross_validate(clf, X, Y, cv=5, scoring=('accuracy', 'neg_log_loss', 'neg_mean_squared_error', 'roc_auc_ovr', 'f1_weighted', 'precision_weighted', 'recall_weighted'))\n",
    "scores"
   ]
  },
  {
   "cell_type": "code",
   "execution_count": null,
   "metadata": {},
   "outputs": [],
   "source": []
  },
  {
   "cell_type": "code",
   "execution_count": 22,
   "metadata": {},
   "outputs": [],
   "source": [
    "n_samples = [0.1, 0.35, 0.7]\n",
    "n_features = [0.25, 0.5, 0.75]"
   ]
  },
  {
   "cell_type": "code",
   "execution_count": 30,
   "metadata": {},
   "outputs": [
    {
     "data": {
      "text/plain": [
       "{'fit_time': array([296.42285895, 314.18454361, 292.06716371, 293.75242424,\n",
       "        289.61418462]),\n",
       " 'score_time': array([141.14618993, 137.48688149, 137.79954123, 136.86935616,\n",
       "        136.98183751]),\n",
       " 'test_accuracy': array([0.70564286, 0.70921429, 0.70228571, 0.70378571, 0.70064286]),\n",
       " 'test_neg_log_loss': array([-0.65224121, -0.6607985 , -0.6896096 , -0.67687165, -0.68862129]),\n",
       " 'test_neg_mean_squared_error': array([-4.68835714, -5.07421429, -4.93992857, -5.02314286, -4.90035714]),\n",
       " 'test_roc_auc_ovr': array([0.97834201, 0.97702676, 0.97704669, 0.97672786, 0.97688595]),\n",
       " 'test_f1_weighted': array([0.67871371, 0.69188892, 0.67905816, 0.68498253, 0.67920567]),\n",
       " 'test_precision_weighted': array([0.83238957, 0.81504231, 0.82473694, 0.82529234, 0.82584915]),\n",
       " 'test_recall_weighted': array([0.70564286, 0.70921429, 0.70228571, 0.70378571, 0.70064286])}"
      ]
     },
     "execution_count": 30,
     "metadata": {},
     "output_type": "execute_result"
    }
   ],
   "source": [
    "minor = MinorClassifiers(0.35, 1, 'average', 400)\n",
    "scores = cross_validate(minor, X, Y, cv=5, scoring=('accuracy', 'neg_log_loss', 'neg_mean_squared_error', 'roc_auc_ovr', 'f1_weighted', 'precision_weighted', 'recall_weighted'))\n",
    "scores"
   ]
  },
  {
   "cell_type": "code",
   "execution_count": 31,
   "metadata": {},
   "outputs": [
    {
     "data": {
      "text/plain": [
       "{'fit_time': array([279.49761558, 280.31250954, 280.48036766, 281.46957493,\n",
       "        279.62691021]),\n",
       " 'score_time': array([132.83870506, 132.28659678, 131.50510097, 131.00428843,\n",
       "        130.32982969]),\n",
       " 'test_accuracy': array([0.70192857, 0.69421429, 0.70178571, 0.6895    , 0.6845    ]),\n",
       " 'test_neg_log_loss': array([-0.68592075, -0.70732949, -0.70387432, -0.72512659, -0.75756024]),\n",
       " 'test_neg_mean_squared_error': array([-4.57571429, -4.71678571, -4.69321429, -5.09792857, -4.83107143]),\n",
       " 'test_roc_auc_ovr': array([0.97468954, 0.97576062, 0.97483064, 0.97357005, 0.9729724 ]),\n",
       " 'test_f1_weighted': array([0.67487227, 0.67015095, 0.67754063, 0.66651744, 0.65850158]),\n",
       " 'test_precision_weighted': array([0.82101709, 0.82014848, 0.81387572, 0.81427703, 0.81348623]),\n",
       " 'test_recall_weighted': array([0.70192857, 0.69421429, 0.70178571, 0.6895    , 0.6845    ])}"
      ]
     },
     "execution_count": 31,
     "metadata": {},
     "output_type": "execute_result"
    }
   ],
   "source": [
    "minor = MinorClassifiers(0.35, 1, 'average', 350)\n",
    "scores = cross_validate(minor, X, Y, cv=5, scoring=('accuracy', 'neg_log_loss', 'neg_mean_squared_error', 'roc_auc_ovr', 'f1_weighted', 'precision_weighted', 'recall_weighted'))\n",
    "scores"
   ]
  },
  {
   "cell_type": "code",
   "execution_count": 38,
   "metadata": {},
   "outputs": [
    {
     "data": {
      "text/plain": [
       "{'fit_time': array([272.20656681, 272.8075633 , 301.00371122, 273.41464877,\n",
       "        270.1839304 ]),\n",
       " 'score_time': array([130.04804945, 136.5688436 , 129.10406375, 130.21395874,\n",
       "        126.81948853]),\n",
       " 'test_accuracy': array([0.69492857, 0.71714286, 0.72057143, 0.70221429, 0.69764286]),\n",
       " 'test_neg_log_loss': array([-0.73153558, -0.72855036, -0.69474643, -0.72889211, -0.69621021]),\n",
       " 'test_neg_mean_squared_error': array([-4.66171429, -3.73721429, -3.87871429, -4.4805    , -4.69692857]),\n",
       " 'test_roc_auc_ovr': array([0.97085696, 0.96877766, 0.97141086, 0.97214607, 0.97363734]),\n",
       " 'test_f1_weighted': array([0.66684237, 0.69666593, 0.70379803, 0.68220469, 0.68098542]),\n",
       " 'test_precision_weighted': array([0.80080046, 0.81082563, 0.80123557, 0.81184496, 0.80110919]),\n",
       " 'test_recall_weighted': array([0.69492857, 0.71714286, 0.72057143, 0.70221429, 0.69764286])}"
      ]
     },
     "execution_count": 38,
     "metadata": {},
     "output_type": "execute_result"
    }
   ],
   "source": [
    "minor = MinorClassifiers(0.35, 1, 'average', 325)\n",
    "scores = cross_validate(minor, X, Y, cv=5, scoring=('accuracy', 'neg_log_loss', 'neg_mean_squared_error', 'roc_auc_ovr', 'f1_weighted', 'precision_weighted', 'recall_weighted'))\n",
    "scores"
   ]
  },
  {
   "cell_type": "code",
   "execution_count": 32,
   "metadata": {
    "pycharm": {
     "is_executing": true
    }
   },
   "outputs": [
    {
     "data": {
      "text/plain": [
       "{'fit_time': array([218.38733387, 218.69842768, 219.05990887, 217.95086741,\n",
       "        217.42693925]),\n",
       " 'score_time': array([104.77483416, 107.56812811, 104.91655803, 102.73763847,\n",
       "        104.16188884]),\n",
       " 'test_accuracy': array([0.66042857, 0.66192857, 0.6625    , 0.641     , 0.7145    ]),\n",
       " 'test_neg_log_loss': array([-0.88054859, -0.87242599, -0.8779921 , -0.89199159, -0.82719791]),\n",
       " 'test_neg_mean_squared_error': array([-4.39142857, -4.52264286, -4.144     , -4.44057143, -3.86471429]),\n",
       " 'test_roc_auc_ovr': array([0.96081893, 0.96158988, 0.96194729, 0.9615229 , 0.964138  ]),\n",
       " 'test_f1_weighted': array([0.65934874, 0.65605568, 0.66088375, 0.63967771, 0.71981044]),\n",
       " 'test_precision_weighted': array([0.75427786, 0.76055296, 0.76237524, 0.73385164, 0.77709154]),\n",
       " 'test_recall_weighted': array([0.66042857, 0.66192857, 0.6625    , 0.641     , 0.7145    ])}"
      ]
     },
     "execution_count": 32,
     "metadata": {},
     "output_type": "execute_result"
    }
   ],
   "source": [
    "minor = MinorClassifiers(0.35, 1, 'average', 200)\n",
    "scores = cross_validate(minor, X, Y, cv=5, scoring=('accuracy', 'neg_log_loss', 'neg_mean_squared_error', 'roc_auc_ovr', 'f1_weighted', 'precision_weighted', 'recall_weighted'))\n",
    "scores"
   ]
  },
  {
   "cell_type": "code",
   "execution_count": 33,
   "metadata": {},
   "outputs": [
    {
     "data": {
      "text/plain": [
       "{'fit_time': array([185.09186244, 185.3493154 , 185.91444302, 184.81984925,\n",
       "        184.33586097]),\n",
       " 'score_time': array([90.63734865, 92.96006083, 91.17755127, 88.53236294, 90.94236302]),\n",
       " 'test_accuracy': array([0.6345    , 0.63521429, 0.606     , 0.59842857, 0.61642857]),\n",
       " 'test_neg_log_loss': array([-0.91330331, -0.95978   , -0.98914976, -1.04721473, -1.03362223]),\n",
       " 'test_neg_mean_squared_error': array([-4.55307143, -4.14028571, -4.71614286, -5.03157143, -4.98171429]),\n",
       " 'test_roc_auc_ovr': array([0.95974012, 0.95836996, 0.95459847, 0.94863881, 0.94953623]),\n",
       " 'test_f1_weighted': array([0.63316902, 0.63351194, 0.60652329, 0.59973702, 0.61603834]),\n",
       " 'test_precision_weighted': array([0.72450816, 0.71632629, 0.70322777, 0.73177081, 0.73710985]),\n",
       " 'test_recall_weighted': array([0.6345    , 0.63521429, 0.606     , 0.59842857, 0.61642857])}"
      ]
     },
     "execution_count": 33,
     "metadata": {},
     "output_type": "execute_result"
    }
   ],
   "source": [
    "minor = MinorClassifiers(0.35, 1, 'average', 150)\n",
    "scores = cross_validate(minor, X, Y, cv=5, scoring=('accuracy', 'neg_log_loss', 'neg_mean_squared_error', 'roc_auc_ovr', 'f1_weighted', 'precision_weighted', 'recall_weighted'))\n",
    "scores"
   ]
  },
  {
   "cell_type": "code",
   "execution_count": 37,
   "metadata": {},
   "outputs": [
    {
     "data": {
      "text/plain": [
       "{'fit_time': array([171.25957131, 167.23069859, 165.14174056, 163.58293629,\n",
       "        163.4891398 ]),\n",
       " 'score_time': array([82.69252539, 85.02434945, 81.92288828, 80.1411829 , 83.26068544]),\n",
       " 'test_accuracy': array([0.63907143, 0.61507143, 0.61442857, 0.61364286, 0.61492857]),\n",
       " 'test_neg_log_loss': array([-0.93658792, -1.0396887 , -0.98166522, -1.06591713, -1.05640836]),\n",
       " 'test_neg_mean_squared_error': array([-4.01264286, -3.8065    , -4.59385714, -4.62592857, -4.68785714]),\n",
       " 'test_roc_auc_ovr': array([0.95764981, 0.94423691, 0.95411729, 0.94365022, 0.94747456]),\n",
       " 'test_f1_weighted': array([0.62501887, 0.61381167, 0.61504007, 0.60866136, 0.61454495]),\n",
       " 'test_precision_weighted': array([0.70689379, 0.67438205, 0.69712075, 0.68619174, 0.71361828]),\n",
       " 'test_recall_weighted': array([0.63907143, 0.61507143, 0.61442857, 0.61364286, 0.61492857])}"
      ]
     },
     "execution_count": 37,
     "metadata": {},
     "output_type": "execute_result"
    }
   ],
   "source": [
    "minor = MinorClassifiers(0.35, 1, 'average', 125)\n",
    "scores = cross_validate(minor, X, Y, cv=5, scoring=('accuracy', 'neg_log_loss', 'neg_mean_squared_error', 'roc_auc_ovr', 'f1_weighted', 'precision_weighted', 'recall_weighted'))\n",
    "scores"
   ]
  },
  {
   "cell_type": "code",
   "execution_count": 34,
   "metadata": {},
   "outputs": [
    {
     "data": {
      "text/plain": [
       "{'fit_time': array([142.281394  , 142.45767403, 142.72049356, 142.17265463,\n",
       "        141.7577405 ]),\n",
       " 'score_time': array([72.24895477, 73.91322851, 71.99611974, 71.33585787, 73.52608013]),\n",
       " 'test_accuracy': array([0.65585714, 0.60621429, 0.652     , 0.64578571, 0.62778571]),\n",
       " 'test_neg_log_loss': array([-0.96976767, -1.0451028 , -0.99191688, -1.0305175 , -1.01883576]),\n",
       " 'test_neg_mean_squared_error': array([-3.64735714, -3.98307143, -3.98542857, -4.14192857, -4.87278571]),\n",
       " 'test_roc_auc_ovr': array([0.95230012, 0.9486736 , 0.9544467 , 0.94446413, 0.95226727]),\n",
       " 'test_f1_weighted': array([0.65034748, 0.59878786, 0.64806086, 0.64563062, 0.62409013]),\n",
       " 'test_precision_weighted': array([0.69082564, 0.66886807, 0.70894459, 0.68725273, 0.69423514]),\n",
       " 'test_recall_weighted': array([0.65585714, 0.60621429, 0.652     , 0.64578571, 0.62778571])}"
      ]
     },
     "execution_count": 34,
     "metadata": {},
     "output_type": "execute_result"
    }
   ],
   "source": [
    "minor = MinorClassifiers(0.35, 1, 'average', 100)\n",
    "scores = cross_validate(minor, X, Y, cv=5, scoring=('accuracy', 'neg_log_loss', 'neg_mean_squared_error', 'roc_auc_ovr', 'f1_weighted', 'precision_weighted', 'recall_weighted'))\n",
    "scores"
   ]
  },
  {
   "cell_type": "code",
   "execution_count": 35,
   "metadata": {},
   "outputs": [
    {
     "data": {
      "text/plain": [
       "{'fit_time': array([114.78482962, 114.96514177, 115.35730958, 115.20922613,\n",
       "        115.17951584]),\n",
       " 'score_time': array([60.35450459, 62.32924438, 59.55043364, 60.04241347, 61.50837064]),\n",
       " 'test_accuracy': array([0.61714286, 0.6285    , 0.61621429, 0.6655    , 0.62764286]),\n",
       " 'test_neg_log_loss': array([-1.00778558, -1.06327628, -1.08779895, -0.93664721, -1.03722654]),\n",
       " 'test_neg_mean_squared_error': array([-4.622     , -4.44307143, -4.59857143, -3.73007143, -3.92771429]),\n",
       " 'test_roc_auc_ovr': array([0.94494785, 0.94658784, 0.94405069, 0.95323101, 0.94647372]),\n",
       " 'test_f1_weighted': array([0.61135051, 0.62326141, 0.60415674, 0.6641064 , 0.61210561]),\n",
       " 'test_precision_weighted': array([0.64582973, 0.66041884, 0.65600692, 0.6944696 , 0.62501711]),\n",
       " 'test_recall_weighted': array([0.61714286, 0.6285    , 0.61621429, 0.6655    , 0.62764286])}"
      ]
     },
     "execution_count": 35,
     "metadata": {},
     "output_type": "execute_result"
    }
   ],
   "source": [
    "minor = MinorClassifiers(0.35, 1, 'average', 75)\n",
    "scores = cross_validate(minor, X, Y, cv=5, scoring=('accuracy', 'neg_log_loss', 'neg_mean_squared_error', 'roc_auc_ovr', 'f1_weighted', 'precision_weighted', 'recall_weighted'))\n",
    "scores"
   ]
  },
  {
   "cell_type": "code",
   "execution_count": 36,
   "metadata": {},
   "outputs": [
    {
     "data": {
      "text/plain": [
       "{'fit_time': array([83.15531611, 83.90358305, 84.11916018, 84.99377131, 83.63079143]),\n",
       " 'score_time': array([46.45082307, 46.89669585, 45.71877241, 46.01510477, 46.73188281]),\n",
       " 'test_accuracy': array([0.5745    , 0.57264286, 0.61435714, 0.65035714, 0.54092857]),\n",
       " 'test_neg_log_loss': array([-1.12836647, -1.17872121, -1.09114444, -1.02428432, -1.17571353]),\n",
       " 'test_neg_mean_squared_error': array([-5.804     , -5.24514286, -4.34107143, -4.34192857, -5.13764286]),\n",
       " 'test_roc_auc_ovr': array([0.93659325, 0.93538302, 0.94217975, 0.95056589, 0.93448474]),\n",
       " 'test_f1_weighted': array([0.553685  , 0.56224468, 0.59892286, 0.64254125, 0.51605662]),\n",
       " 'test_precision_weighted': array([0.59309169, 0.5911449 , 0.61528258, 0.66604915, 0.56102059]),\n",
       " 'test_recall_weighted': array([0.5745    , 0.57264286, 0.61435714, 0.65035714, 0.54092857])}"
      ]
     },
     "execution_count": 36,
     "metadata": {},
     "output_type": "execute_result"
    }
   ],
   "source": [
    "minor = MinorClassifiers(0.35, 1, 'average', 50)\n",
    "scores = cross_validate(minor, X, Y, cv=5, scoring=('accuracy', 'neg_log_loss', 'neg_mean_squared_error', 'roc_auc_ovr', 'f1_weighted', 'precision_weighted', 'recall_weighted'))\n",
    "scores"
   ]
  },
  {
   "cell_type": "code",
   "execution_count": null,
   "metadata": {},
   "outputs": [],
   "source": []
  },
  {
   "cell_type": "code",
   "execution_count": 39,
   "metadata": {},
   "outputs": [
    {
     "data": {
      "text/plain": [
       "{'fit_time': array([986.641325  , 991.45128489, 985.79248118, 985.58623242,\n",
       "        986.20748425]),\n",
       " 'score_time': array([194.97903705, 201.66469526, 197.82561541, 196.4134748 ,\n",
       "        198.61544871]),\n",
       " 'test_accuracy': array([0.6355    , 0.5995    , 0.62971429, 0.59885714, 0.68807143]),\n",
       " 'test_neg_log_loss': array([-0.86531025, -1.02396551, -0.90704313, -1.00910107, -0.86015374]),\n",
       " 'test_neg_mean_squared_error': array([-4.92171429, -5.82628571, -5.04435714, -5.83714286, -4.51135714]),\n",
       " 'test_roc_auc_ovr': array([0.9628437 , 0.95237955, 0.96018144, 0.95429294, 0.95695315]),\n",
       " 'test_f1_weighted': array([0.61873455, 0.57144158, 0.61114802, 0.58103993, 0.69238337]),\n",
       " 'test_precision_weighted': array([0.74091902, 0.75153889, 0.74356474, 0.75336962, 0.7865239 ]),\n",
       " 'test_recall_weighted': array([0.6355    , 0.5995    , 0.62971429, 0.59885714, 0.68807143])}"
      ]
     },
     "execution_count": 39,
     "metadata": {},
     "output_type": "execute_result"
    }
   ],
   "source": [
    "minor = MinorClassifiers(0.7, 1, 'average', 400)\n",
    "scores = cross_validate(minor, X, Y, cv=5, scoring=('accuracy', 'neg_log_loss', 'neg_mean_squared_error', 'roc_auc_ovr', 'f1_weighted', 'precision_weighted', 'recall_weighted'))\n",
    "scores"
   ]
  },
  {
   "cell_type": "code",
   "execution_count": 40,
   "metadata": {},
   "outputs": [
    {
     "data": {
      "text/plain": [
       "{'fit_time': array([920.20909882, 948.12369418, 924.54665852, 920.57072186,\n",
       "        922.41450477]),\n",
       " 'score_time': array([183.11328387, 187.75370359, 185.01358628, 182.29643297,\n",
       "        187.39569259]),\n",
       " 'test_accuracy': array([0.675     , 0.5975    , 0.59857143, 0.64635714, 0.63842857]),\n",
       " 'test_neg_log_loss': array([-0.85318975, -1.02876073, -1.00327972, -0.92549352, -0.98442991]),\n",
       " 'test_neg_mean_squared_error': array([-4.226     , -5.56314286, -5.34778571, -4.59035714, -5.27607143]),\n",
       " 'test_roc_auc_ovr': array([0.95828353, 0.94982933, 0.95197585, 0.95641992, 0.95343668]),\n",
       " 'test_f1_weighted': array([0.67809087, 0.58263064, 0.59125805, 0.64164446, 0.63667307]),\n",
       " 'test_precision_weighted': array([0.76657291, 0.73098318, 0.73628971, 0.75445496, 0.77088624]),\n",
       " 'test_recall_weighted': array([0.675     , 0.5975    , 0.59857143, 0.64635714, 0.63842857])}"
      ]
     },
     "execution_count": 40,
     "metadata": {},
     "output_type": "execute_result"
    }
   ],
   "source": [
    "minor = MinorClassifiers(0.7, 1, 'average', 350)\n",
    "scores = cross_validate(minor, X, Y, cv=5, scoring=('accuracy', 'neg_log_loss', 'neg_mean_squared_error', 'roc_auc_ovr', 'f1_weighted', 'precision_weighted', 'recall_weighted'))\n",
    "scores"
   ]
  },
  {
   "cell_type": "code",
   "execution_count": 43,
   "metadata": {},
   "outputs": [
    {
     "data": {
      "text/plain": [
       "{'fit_time': array([539.26484847, 555.10156274, 546.74318695, 542.00018144,\n",
       "        542.47315764]),\n",
       " 'score_time': array([116.23794198, 115.1909759 , 114.04470491, 114.34042358,\n",
       "        114.78279185]),\n",
       " 'test_accuracy': array([0.60121429, 0.62935714, 0.61628571, 0.56014286, 0.59014286]),\n",
       " 'test_neg_log_loss': array([-1.01876255, -1.00185183, -1.03331889, -1.2219924 , -1.10831312]),\n",
       " 'test_neg_mean_squared_error': array([-4.28935714, -4.79628571, -4.78921429, -5.15085714, -5.16157143]),\n",
       " 'test_roc_auc_ovr': array([0.94677043, 0.95122565, 0.94927902, 0.92949911, 0.94404551]),\n",
       " 'test_f1_weighted': array([0.59584986, 0.62223107, 0.60980938, 0.55539665, 0.57997708]),\n",
       " 'test_precision_weighted': array([0.62594603, 0.68747142, 0.68537658, 0.64269245, 0.64864441]),\n",
       " 'test_recall_weighted': array([0.60121429, 0.62935714, 0.61628571, 0.56014286, 0.59014286])}"
      ]
     },
     "execution_count": 43,
     "metadata": {},
     "output_type": "execute_result"
    }
   ],
   "source": [
    "minor = MinorClassifiers(0.7, 1, 'average', 150)\n",
    "scores = cross_validate(minor, X, Y, cv=5, scoring=('accuracy', 'neg_log_loss', 'neg_mean_squared_error', 'roc_auc_ovr', 'f1_weighted', 'precision_weighted', 'recall_weighted'))\n",
    "scores"
   ]
  },
  {
   "cell_type": "code",
   "execution_count": 44,
   "metadata": {},
   "outputs": [
    {
     "data": {
      "text/plain": [
       "{'fit_time': array([399.08553672, 402.3629117 , 400.57509232, 407.8192277 ,\n",
       "        412.66565299]),\n",
       " 'score_time': array([87.45647311, 87.58016014, 86.6333468 , 87.13858438, 86.44907975]),\n",
       " 'test_accuracy': array([0.52714286, 0.61628571, 0.55542857, 0.61778571, 0.55264286]),\n",
       " 'test_neg_log_loss': array([-1.26660848, -1.11162926, -1.10135726, -1.07869131, -1.23508521]),\n",
       " 'test_neg_mean_squared_error': array([-5.11592857, -4.89371429, -4.97114286, -4.20364286, -5.60457143]),\n",
       " 'test_roc_auc_ovr': array([0.92376393, 0.93903109, 0.93591284, 0.93982449, 0.92910115]),\n",
       " 'test_f1_weighted': array([0.52817091, 0.60873015, 0.54260554, 0.60433089, 0.5457999 ]),\n",
       " 'test_precision_weighted': array([0.55096905, 0.63188001, 0.56448916, 0.61687993, 0.57711326]),\n",
       " 'test_recall_weighted': array([0.52714286, 0.61628571, 0.55542857, 0.61778571, 0.55264286])}"
      ]
     },
     "execution_count": 44,
     "metadata": {},
     "output_type": "execute_result"
    }
   ],
   "source": [
    "minor = MinorClassifiers(0.7, 1, 'average', 100)\n",
    "scores = cross_validate(minor, X, Y, cv=5, scoring=('accuracy', 'neg_log_loss', 'neg_mean_squared_error', 'roc_auc_ovr', 'f1_weighted', 'precision_weighted', 'recall_weighted'))\n",
    "scores"
   ]
  },
  {
   "cell_type": "code",
   "execution_count": 46,
   "metadata": {},
   "outputs": [
    {
     "data": {
      "text/plain": [
       "{'fit_time': array([319.28643894, 321.50856805, 320.2868917 , 322.14102435,\n",
       "        321.1473887 ]),\n",
       " 'score_time': array([71.10918617, 71.32742023, 71.13590097, 71.90008473, 71.54242134]),\n",
       " 'test_accuracy': array([0.5795    , 0.59557143, 0.55892857, 0.59921429, 0.59071429]),\n",
       " 'test_neg_log_loss': array([-1.1546669 , -1.14175081, -1.177203  , -1.11262423, -1.13883695]),\n",
       " 'test_neg_mean_squared_error': array([-5.38507143, -5.25321429, -4.75278571, -4.81614286, -5.2885    ]),\n",
       " 'test_roc_auc_ovr': array([0.93613401, 0.93689145, 0.93083939, 0.94045861, 0.93372145]),\n",
       " 'test_f1_weighted': array([0.57249565, 0.5831948 , 0.55530921, 0.57084809, 0.56695303]),\n",
       " 'test_precision_weighted': array([0.58527911, 0.60500898, 0.58946407, 0.59167332, 0.58411026]),\n",
       " 'test_recall_weighted': array([0.5795    , 0.59557143, 0.55892857, 0.59921429, 0.59071429])}"
      ]
     },
     "execution_count": 46,
     "metadata": {},
     "output_type": "execute_result"
    }
   ],
   "source": [
    "minor = MinorClassifiers(0.7, 1, 'average', 75)\n",
    "scores = cross_validate(minor, X, Y, cv=5, scoring=('accuracy', 'neg_log_loss', 'neg_mean_squared_error', 'roc_auc_ovr', 'f1_weighted', 'precision_weighted', 'recall_weighted'))\n",
    "scores"
   ]
  },
  {
   "cell_type": "code",
   "execution_count": 50,
   "metadata": {},
   "outputs": [
    {
     "data": {
      "text/plain": [
       "{'fit_time': array([282.52659225, 286.09214711, 284.34584928, 285.34522057,\n",
       "        287.08991742]),\n",
       " 'score_time': array([64.09338307, 64.16477585, 64.02074313, 64.72416663, 64.39476657]),\n",
       " 'test_accuracy': array([0.57685714, 0.58085714, 0.55842857, 0.58164286, 0.62057143]),\n",
       " 'test_neg_log_loss': array([-1.17383863, -1.21183463, -1.22119085, -1.16396554, -1.1187706 ]),\n",
       " 'test_neg_mean_squared_error': array([-5.51021429, -5.78957143, -5.15614286, -5.76557143, -5.38792857]),\n",
       " 'test_roc_auc_ovr': array([0.9313747 , 0.92761656, 0.92631667, 0.93259505, 0.93817542]),\n",
       " 'test_f1_weighted': array([0.57044623, 0.57202595, 0.54815742, 0.55842003, 0.60693943]),\n",
       " 'test_precision_weighted': array([0.58776344, 0.58864016, 0.58931006, 0.57901571, 0.6186146 ]),\n",
       " 'test_recall_weighted': array([0.57685714, 0.58085714, 0.55842857, 0.58164286, 0.62057143])}"
      ]
     },
     "execution_count": 50,
     "metadata": {},
     "output_type": "execute_result"
    }
   ],
   "source": [
    "minor = MinorClassifiers(0.7, 1, 'average', 65)\n",
    "scores = cross_validate(minor, X, Y, cv=5, scoring=('accuracy', 'neg_log_loss', 'neg_mean_squared_error', 'roc_auc_ovr', 'f1_weighted', 'precision_weighted', 'recall_weighted'))\n",
    "scores"
   ]
  },
  {
   "cell_type": "code",
   "execution_count": 51,
   "metadata": {},
   "outputs": [
    {
     "data": {
      "text/plain": [
       "{'fit_time': array([279.00218487, 274.27297997, 272.11184263, 269.39266396,\n",
       "        268.51408267]),\n",
       " 'score_time': array([60.85277581, 60.66021705, 59.99221563, 61.5861783 , 61.05079293]),\n",
       " 'test_accuracy': array([0.55271429, 0.57828571, 0.53921429, 0.57228571, 0.5485    ]),\n",
       " 'test_neg_log_loss': array([-1.24739813, -1.21778978, -1.27137555, -1.15264473, -1.23066381]),\n",
       " 'test_neg_mean_squared_error': array([-5.75578571, -5.8255    , -5.83335714, -5.83028571, -6.7485    ]),\n",
       " 'test_roc_auc_ovr': array([0.92090773, 0.92841288, 0.9198478 , 0.93292489, 0.92382675]),\n",
       " 'test_f1_weighted': array([0.5501913 , 0.5687654 , 0.52360922, 0.5503146 , 0.52183911]),\n",
       " 'test_precision_weighted': array([0.57353519, 0.58204052, 0.54820956, 0.57320188, 0.54034695]),\n",
       " 'test_recall_weighted': array([0.55271429, 0.57828571, 0.53921429, 0.57228571, 0.5485    ])}"
      ]
     },
     "execution_count": 51,
     "metadata": {},
     "output_type": "execute_result"
    }
   ],
   "source": [
    "minor = MinorClassifiers(0.7, 1, 'average', 60)\n",
    "scores = cross_validate(minor, X, Y, cv=5, scoring=('accuracy', 'neg_log_loss', 'neg_mean_squared_error', 'roc_auc_ovr', 'f1_weighted', 'precision_weighted', 'recall_weighted'))\n",
    "scores"
   ]
  },
  {
   "cell_type": "code",
   "execution_count": 47,
   "metadata": {},
   "outputs": [
    {
     "data": {
      "text/plain": [
       "{'fit_time': array([228.39742541, 229.75483036, 242.25878525, 241.69006896,\n",
       "        245.85980535]),\n",
       " 'score_time': array([52.81404734, 52.95384741, 52.91180277, 53.12450433, 53.40163898]),\n",
       " 'test_accuracy': array([0.52278571, 0.58442857, 0.58771429, 0.5635    , 0.57035714]),\n",
       " 'test_neg_log_loss': array([-1.2990195 , -1.22766467, -1.20601421, -1.221807  , -1.21056531]),\n",
       " 'test_neg_mean_squared_error': array([-6.86064286, -5.78128571, -5.71057143, -6.49678571, -6.06192857]),\n",
       " 'test_roc_auc_ovr': array([0.91603058, 0.92808567, 0.92875082, 0.92572411, 0.9278385 ]),\n",
       " 'test_f1_weighted': array([0.50740534, 0.57909704, 0.56364542, 0.54343816, 0.54520297]),\n",
       " 'test_precision_weighted': array([0.58042513, 0.58872959, 0.5894495 , 0.58532003, 0.55835676]),\n",
       " 'test_recall_weighted': array([0.52278571, 0.58442857, 0.58771429, 0.5635    , 0.57035714])}"
      ]
     },
     "execution_count": 47,
     "metadata": {},
     "output_type": "execute_result"
    }
   ],
   "source": [
    "minor = MinorClassifiers(0.7, 1, 'average', 50)\n",
    "scores = cross_validate(minor, X, Y, cv=5, scoring=('accuracy', 'neg_log_loss', 'neg_mean_squared_error', 'roc_auc_ovr', 'f1_weighted', 'precision_weighted', 'recall_weighted'))\n",
    "scores"
   ]
  },
  {
   "cell_type": "code",
   "execution_count": 53,
   "metadata": {},
   "outputs": [
    {
     "data": {
      "text/plain": [
       "{'fit_time': array([167.97897172, 167.95495629, 168.66336131, 168.4537673 ,\n",
       "        168.52511621]),\n",
       " 'score_time': array([40.83498216, 40.67140341, 41.19097114, 40.7477138 , 41.09799814]),\n",
       " 'test_accuracy': array([0.525     , 0.47642857, 0.49128571, 0.52278571, 0.51385714]),\n",
       " 'test_neg_log_loss': array([-1.33984928, -1.46743225, -1.37512639, -1.33583124, -1.35874479]),\n",
       " 'test_neg_mean_squared_error': array([-6.37135714, -8.80242857, -7.79328571, -7.09857143, -7.123     ]),\n",
       " 'test_roc_auc_ovr': array([0.92039049, 0.88552589, 0.9064088 , 0.91192555, 0.90119968]),\n",
       " 'test_f1_weighted': array([0.50031763, 0.47059719, 0.48385736, 0.49695447, 0.4981503 ]),\n",
       " 'test_precision_weighted': array([0.58274083, 0.53870349, 0.53314898, 0.52247604, 0.5365456 ]),\n",
       " 'test_recall_weighted': array([0.525     , 0.47642857, 0.49128571, 0.52278571, 0.51385714])}"
      ]
     },
     "execution_count": 53,
     "metadata": {},
     "output_type": "execute_result"
    }
   ],
   "source": [
    "minor = MinorClassifiers(0.7, 1, 'average', 35)\n",
    "scores = cross_validate(minor, X, Y, cv=5, scoring=('accuracy', 'neg_log_loss', 'neg_mean_squared_error', 'roc_auc_ovr', 'f1_weighted', 'precision_weighted', 'recall_weighted'))\n",
    "scores"
   ]
  },
  {
   "cell_type": "code",
   "execution_count": 48,
   "metadata": {},
   "outputs": [
    {
     "data": {
      "text/plain": [
       "{'fit_time': array([126.27484155, 123.82787967, 125.49757195, 124.18005061,\n",
       "        124.83183122]),\n",
       " 'score_time': array([31.92747474, 31.26302195, 32.69752789, 31.86574483, 32.6289022 ]),\n",
       " 'test_accuracy': array([0.47557143, 0.40135714, 0.46928571, 0.49764286, 0.47214286]),\n",
       " 'test_neg_log_loss': array([-1.39282119, -1.59682887, -1.40947916, -1.36147062, -1.42801129]),\n",
       " 'test_neg_mean_squared_error': array([-9.06478571, -9.63942857, -8.18864286, -8.51792857, -8.64735714]),\n",
       " 'test_roc_auc_ovr': array([0.91394932, 0.87057964, 0.9026254 , 0.90738758, 0.8914552 ]),\n",
       " 'test_f1_weighted': array([0.45825646, 0.39471684, 0.45150222, 0.48241735, 0.45950732]),\n",
       " 'test_precision_weighted': array([0.63869722, 0.52325566, 0.5077085 , 0.51758134, 0.51737294]),\n",
       " 'test_recall_weighted': array([0.47557143, 0.40135714, 0.46928571, 0.49764286, 0.47214286])}"
      ]
     },
     "execution_count": 48,
     "metadata": {},
     "output_type": "execute_result"
    }
   ],
   "source": [
    "minor = MinorClassifiers(0.7, 1, 'average', 25)\n",
    "scores = cross_validate(minor, X, Y, cv=5, scoring=('accuracy', 'neg_log_loss', 'neg_mean_squared_error', 'roc_auc_ovr', 'f1_weighted', 'precision_weighted', 'recall_weighted'))\n",
    "scores"
   ]
  },
  {
   "cell_type": "code",
   "execution_count": 54,
   "metadata": {},
   "outputs": [
    {
     "data": {
      "text/plain": [
       "{'fit_time': array([106.31739163,  91.54695654,  90.85926032,  90.57167554,\n",
       "         90.56801534]),\n",
       " 'score_time': array([24.02064371, 22.83422279, 23.80629206, 23.48782492, 23.90958548]),\n",
       " 'test_accuracy': array([0.39078571, 0.32857143, 0.4065    , 0.42992857, 0.48721429]),\n",
       " 'test_neg_log_loss': array([-1.57028592, -1.67840578, -1.54537708, -1.52856506, -1.41873629]),\n",
       " 'test_neg_mean_squared_error': array([ -9.95814286, -10.76878571, -10.01185714,  -9.81835714,\n",
       "         -8.24521429]),\n",
       " 'test_roc_auc_ovr': array([0.88994333, 0.85954538, 0.88479089, 0.87395492, 0.91607156]),\n",
       " 'test_f1_weighted': array([0.34291846, 0.30042982, 0.38472652, 0.41152021, 0.49463488]),\n",
       " 'test_precision_weighted': array([0.52240807, 0.4538486 , 0.47327846, 0.46788032, 0.56659668]),\n",
       " 'test_recall_weighted': array([0.39078571, 0.32857143, 0.4065    , 0.42992857, 0.48721429])}"
      ]
     },
     "execution_count": 54,
     "metadata": {},
     "output_type": "execute_result"
    }
   ],
   "source": [
    "minor = MinorClassifiers(0.7, 1, 'average', 17)\n",
    "scores = cross_validate(minor, X, Y, cv=5, scoring=('accuracy', 'neg_log_loss', 'neg_mean_squared_error', 'roc_auc_ovr', 'f1_weighted', 'precision_weighted', 'recall_weighted'))\n",
    "scores"
   ]
  },
  {
   "cell_type": "code",
   "execution_count": 52,
   "metadata": {},
   "outputs": [
    {
     "data": {
      "text/plain": [
       "{'fit_time': array([80.41246128, 79.24889326, 79.92349625, 79.97187304, 79.83688998]),\n",
       " 'score_time': array([21.56283808, 20.69777656, 21.44565177, 21.18762422, 21.67076564]),\n",
       " 'test_accuracy': array([0.37642857, 0.34371429, 0.40857143, 0.42364286, 0.44592857]),\n",
       " 'test_neg_log_loss': array([-1.60958337, -1.69969677, -1.59288056, -1.55483473, -1.47080487]),\n",
       " 'test_neg_mean_squared_error': array([-10.82721429, -11.08342857,  -9.40728571, -11.01492857,\n",
       "         -8.81935714]),\n",
       " 'test_roc_auc_ovr': array([0.88238917, 0.84631275, 0.87818853, 0.87154743, 0.91117233]),\n",
       " 'test_f1_weighted': array([0.33454128, 0.31082798, 0.38547232, 0.40443118, 0.4458218 ]),\n",
       " 'test_precision_weighted': array([0.46939045, 0.40462287, 0.5041977 , 0.44760012, 0.54795977]),\n",
       " 'test_recall_weighted': array([0.37642857, 0.34371429, 0.40857143, 0.42364286, 0.44592857])}"
      ]
     },
     "execution_count": 52,
     "metadata": {},
     "output_type": "execute_result"
    }
   ],
   "source": [
    "minor = MinorClassifiers(0.7, 1, 'average', 15)\n",
    "scores = cross_validate(minor, X, Y, cv=5, scoring=('accuracy', 'neg_log_loss', 'neg_mean_squared_error', 'roc_auc_ovr', 'f1_weighted', 'precision_weighted', 'recall_weighted'))\n",
    "scores"
   ]
  },
  {
   "cell_type": "code",
   "execution_count": 49,
   "metadata": {},
   "outputs": [
    {
     "data": {
      "text/plain": [
       "{'fit_time': array([56.3200326 , 55.75302386, 56.43872952, 56.21218753, 56.26777244]),\n",
       " 'score_time': array([15.97350717, 15.11374903, 15.7972703 , 15.33176255, 15.74773359]),\n",
       " 'test_accuracy': array([0.39028571, 0.37992857, 0.40621429, 0.3925    , 0.44414286]),\n",
       " 'test_neg_log_loss': array([-1.66596632, -1.74725657, -1.63922296, -1.66297541, -1.57671205]),\n",
       " 'test_neg_mean_squared_error': array([-10.93307143, -13.21614286, -11.80507143, -12.642     ,\n",
       "        -12.02757143]),\n",
       " 'test_roc_auc_ovr': array([0.88841149, 0.83603315, 0.87340285, 0.85249926, 0.89777504]),\n",
       " 'test_f1_weighted': array([0.33333076, 0.35510236, 0.35868573, 0.36680717, 0.42512291]),\n",
       " 'test_precision_weighted': array([0.47783895, 0.45469359, 0.51067583, 0.53222786, 0.57916256]),\n",
       " 'test_recall_weighted': array([0.39028571, 0.37992857, 0.40621429, 0.3925    , 0.44414286])}"
      ]
     },
     "execution_count": 49,
     "metadata": {},
     "output_type": "execute_result"
    }
   ],
   "source": [
    "minor = MinorClassifiers(0.7, 1, 'average', 10)\n",
    "scores = cross_validate(minor, X, Y, cv=5, scoring=('accuracy', 'neg_log_loss', 'neg_mean_squared_error', 'roc_auc_ovr', 'f1_weighted', 'precision_weighted', 'recall_weighted'))\n",
    "scores"
   ]
  },
  {
   "cell_type": "code",
   "execution_count": null,
   "metadata": {},
   "outputs": [],
   "source": []
  },
  {
   "cell_type": "code",
   "execution_count": 55,
   "metadata": {},
   "outputs": [
    {
     "data": {
      "text/plain": [
       "{'fit_time': array([406.58318591, 407.81274128, 418.6465621 , 419.49554396,\n",
       "        414.05800676]),\n",
       " 'score_time': array([91.42204952, 92.39797235, 93.13732553, 96.36500454, 94.19888878]),\n",
       " 'test_accuracy': array([0.28835714, 0.28214286, 0.293     , 0.27407143, 0.259     ]),\n",
       " 'test_neg_log_loss': array([-1.84253628, -1.92583275, -1.81558522, -1.93051637, -1.93760063]),\n",
       " 'test_neg_mean_squared_error': array([-18.465     , -17.40792857, -18.76214286, -20.59328571,\n",
       "        -21.04685714]),\n",
       " 'test_roc_auc_ovr': array([0.8687839 , 0.85780973, 0.89145804, 0.8338061 , 0.84896467]),\n",
       " 'test_f1_weighted': array([0.22283508, 0.22330065, 0.23118764, 0.20790178, 0.18970064]),\n",
       " 'test_precision_weighted': array([0.53298158, 0.51983743, 0.58080211, 0.53731076, 0.44624252]),\n",
       " 'test_recall_weighted': array([0.28835714, 0.28214286, 0.293     , 0.27407143, 0.259     ])}"
      ]
     },
     "execution_count": 55,
     "metadata": {},
     "output_type": "execute_result"
    }
   ],
   "source": [
    "minor = MinorClassifiers(1, 0.25, 'average', 200)\n",
    "scores = cross_validate(minor, X, Y, cv=5, scoring=('accuracy', 'neg_log_loss', 'neg_mean_squared_error', 'roc_auc_ovr', 'f1_weighted', 'precision_weighted', 'recall_weighted'))\n",
    "scores"
   ]
  },
  {
   "cell_type": "code",
   "execution_count": 56,
   "metadata": {},
   "outputs": [
    {
     "data": {
      "text/plain": [
       "{'fit_time': array([313.89002514, 314.23753071, 320.79831624, 307.32875514,\n",
       "        321.73126006]),\n",
       " 'score_time': array([76.31072545, 75.43037033, 75.58613157, 75.61714244, 77.14964318]),\n",
       " 'test_accuracy': array([0.2525    , 0.25628571, 0.28835714, 0.26464286, 0.20507143]),\n",
       " 'test_neg_log_loss': array([-1.94288152, -1.95327251, -1.9103359 , -1.90185319, -2.10620843]),\n",
       " 'test_neg_mean_squared_error': array([-20.97328571, -22.11421429, -19.22785714, -20.02442857,\n",
       "        -26.04757143]),\n",
       " 'test_roc_auc_ovr': array([0.85181339, 0.85707765, 0.84113318, 0.83612134, 0.78961074]),\n",
       " 'test_f1_weighted': array([0.18007703, 0.18877256, 0.23583106, 0.20330655, 0.13746501]),\n",
       " 'test_precision_weighted': array([0.46046439, 0.56670018, 0.46478286, 0.44818184, 0.56609089]),\n",
       " 'test_recall_weighted': array([0.2525    , 0.25628571, 0.28835714, 0.26464286, 0.20507143])}"
      ]
     },
     "execution_count": 56,
     "metadata": {},
     "output_type": "execute_result"
    }
   ],
   "source": [
    "minor = MinorClassifiers(1, 0.25, 'average', 150)\n",
    "scores = cross_validate(minor, X, Y, cv=5, scoring=('accuracy', 'neg_log_loss', 'neg_mean_squared_error', 'roc_auc_ovr', 'f1_weighted', 'precision_weighted', 'recall_weighted'))\n",
    "scores"
   ]
  },
  {
   "cell_type": "code",
   "execution_count": 60,
   "metadata": {},
   "outputs": [
    {
     "data": {
      "text/plain": [
       "{'fit_time': array([265.96350861, 266.65783262, 264.39328361, 261.26265049,\n",
       "        255.28132033]),\n",
       " 'score_time': array([64.82917142, 68.22424054, 65.33852911, 65.99755692, 63.65140676]),\n",
       " 'test_accuracy': array([0.31207143, 0.21092857, 0.26292857, 0.35364286, 0.29957143]),\n",
       " 'test_neg_log_loss': array([-1.94160416, -2.06878118, -2.00303763, -1.89074224, -1.93251037]),\n",
       " 'test_neg_mean_squared_error': array([-20.60542857, -22.31664286, -20.72635714, -16.45971429,\n",
       "        -16.2455    ]),\n",
       " 'test_roc_auc_ovr': array([0.84506382, 0.76765372, 0.83343897, 0.84421467, 0.83795812]),\n",
       " 'test_f1_weighted': array([0.25817451, 0.15522835, 0.21411381, 0.3203743 , 0.25664232]),\n",
       " 'test_precision_weighted': array([0.57190506, 0.49181366, 0.44279824, 0.47493635, 0.42628197]),\n",
       " 'test_recall_weighted': array([0.31207143, 0.21092857, 0.26292857, 0.35364286, 0.29957143])}"
      ]
     },
     "execution_count": 60,
     "metadata": {},
     "output_type": "execute_result"
    }
   ],
   "source": [
    "minor = MinorClassifiers(1, 0.25, 'average', 125)\n",
    "scores = cross_validate(minor, X, Y, cv=5, scoring=('accuracy', 'neg_log_loss', 'neg_mean_squared_error', 'roc_auc_ovr', 'f1_weighted', 'precision_weighted', 'recall_weighted'))\n",
    "scores"
   ]
  },
  {
   "cell_type": "code",
   "execution_count": 57,
   "metadata": {},
   "outputs": [
    {
     "data": {
      "text/plain": [
       "{'fit_time': array([216.14537501, 217.23633051, 215.22439551, 216.34083056,\n",
       "        213.13596272]),\n",
       " 'score_time': array([56.41407466, 57.01150227, 57.00154614, 56.29222035, 55.27818394]),\n",
       " 'test_accuracy': array([0.2705    , 0.23385714, 0.25471429, 0.28742857, 0.28      ]),\n",
       " 'test_neg_log_loss': array([-2.05486073, -2.07735042, -2.00941624, -2.07912148, -1.95808968]),\n",
       " 'test_neg_mean_squared_error': array([-20.49214286, -22.28235714, -20.89614286, -18.27235714,\n",
       "        -18.66185714]),\n",
       " 'test_roc_auc_ovr': array([0.778278  , 0.76308872, 0.82231271, 0.77847462, 0.8188336 ]),\n",
       " 'test_f1_weighted': array([0.22925418, 0.19803983, 0.21479341, 0.24634565, 0.24522165]),\n",
       " 'test_precision_weighted': array([0.43890188, 0.41873981, 0.48615203, 0.39721805, 0.44961912]),\n",
       " 'test_recall_weighted': array([0.2705    , 0.23385714, 0.25471429, 0.28742857, 0.28      ])}"
      ]
     },
     "execution_count": 57,
     "metadata": {},
     "output_type": "execute_result"
    }
   ],
   "source": [
    "minor = MinorClassifiers(1, 0.25, 'average', 100)\n",
    "scores = cross_validate(minor, X, Y, cv=5, scoring=('accuracy', 'neg_log_loss', 'neg_mean_squared_error', 'roc_auc_ovr', 'f1_weighted', 'precision_weighted', 'recall_weighted'))\n",
    "scores"
   ]
  },
  {
   "cell_type": "code",
   "execution_count": 58,
   "metadata": {},
   "outputs": [
    {
     "data": {
      "text/plain": [
       "{'fit_time': array([165.6325357 , 164.51508284, 162.56578517, 162.96758914,\n",
       "        161.52698874]),\n",
       " 'score_time': array([46.35500693, 45.67637897, 45.67880726, 47.13040233, 44.58344316]),\n",
       " 'test_accuracy': array([0.2275    , 0.28564286, 0.30971429, 0.2315    , 0.3035    ]),\n",
       " 'test_neg_log_loss': array([-2.14310534, -2.06058168, -1.96417382, -2.15067018, -2.04924856]),\n",
       " 'test_neg_mean_squared_error': array([-23.62321429, -19.69271429, -18.2245    , -24.20471429,\n",
       "        -17.22      ]),\n",
       " 'test_roc_auc_ovr': array([0.71841049, 0.8001375 , 0.81916642, 0.71612803, 0.80549721]),\n",
       " 'test_f1_weighted': array([0.18803853, 0.2568765 , 0.29148854, 0.20523895, 0.27213389]),\n",
       " 'test_precision_weighted': array([0.42837694, 0.44018942, 0.46379113, 0.44356723, 0.43278922]),\n",
       " 'test_recall_weighted': array([0.2275    , 0.28564286, 0.30971429, 0.2315    , 0.3035    ])}"
      ]
     },
     "execution_count": 58,
     "metadata": {},
     "output_type": "execute_result"
    }
   ],
   "source": [
    "minor = MinorClassifiers(1, 0.25, 'average', 75)\n",
    "scores = cross_validate(minor, X, Y, cv=5, scoring=('accuracy', 'neg_log_loss', 'neg_mean_squared_error', 'roc_auc_ovr', 'f1_weighted', 'precision_weighted', 'recall_weighted'))\n",
    "scores"
   ]
  },
  {
   "cell_type": "code",
   "execution_count": 59,
   "metadata": {},
   "outputs": [
    {
     "data": {
      "text/plain": [
       "{'fit_time': array([110.88628078, 110.74154639, 110.56458545, 110.77741647,\n",
       "        110.29150581]),\n",
       " 'score_time': array([32.72580218, 33.66157341, 34.51647329, 32.83388805, 33.52570605]),\n",
       " 'test_accuracy': array([0.31428571, 0.29514286, 0.199     , 0.3595    , 0.24935714]),\n",
       " 'test_neg_log_loss': array([-2.03130074, -2.10940904, -2.16050899, -2.00981217, -2.12895473]),\n",
       " 'test_neg_mean_squared_error': array([-15.36657143, -18.05792857, -19.71042857, -17.43514286,\n",
       "        -17.87185714]),\n",
       " 'test_roc_auc_ovr': array([0.76961168, 0.76847942, 0.70991837, 0.81835635, 0.70340269]),\n",
       " 'test_f1_weighted': array([0.30165984, 0.2996204 , 0.18353594, 0.35472614, 0.25360801]),\n",
       " 'test_precision_weighted': array([0.41895125, 0.44414874, 0.32818147, 0.50918037, 0.35223711]),\n",
       " 'test_recall_weighted': array([0.31428571, 0.29514286, 0.199     , 0.3595    , 0.24935714])}"
      ]
     },
     "execution_count": 59,
     "metadata": {},
     "output_type": "execute_result"
    }
   ],
   "source": [
    "minor = MinorClassifiers(1, 0.25, 'average', 50)\n",
    "scores = cross_validate(minor, X, Y, cv=5, scoring=('accuracy', 'neg_log_loss', 'neg_mean_squared_error', 'roc_auc_ovr', 'f1_weighted', 'precision_weighted', 'recall_weighted'))\n",
    "scores"
   ]
  },
  {
   "cell_type": "code",
   "execution_count": 62,
   "metadata": {},
   "outputs": [
    {
     "data": {
      "text/plain": [
       "{'fit_time': array([88.28466296, 81.65510488, 80.80373263, 80.65896988, 80.52924061]),\n",
       " 'score_time': array([25.35922766, 25.53961873, 25.12945032, 25.54995346, 25.32177567]),\n",
       " 'test_accuracy': array([0.18771429, 0.26342857, 0.24678571, 0.24757143, 0.21042857]),\n",
       " 'test_neg_log_loss': array([-2.19027528, -2.14533155, -2.13428563, -2.19354463, -2.16679224]),\n",
       " 'test_neg_mean_squared_error': array([-16.72914286, -22.79985714, -17.81671429, -22.34085714,\n",
       "        -18.22685714]),\n",
       " 'test_roc_auc_ovr': array([0.6388361 , 0.72616958, 0.69476046, 0.7155396 , 0.71689516]),\n",
       " 'test_f1_weighted': array([0.18197434, 0.24892668, 0.24679065, 0.24254143, 0.20638936]),\n",
       " 'test_precision_weighted': array([0.31022523, 0.37675377, 0.33870295, 0.43676287, 0.33988329]),\n",
       " 'test_recall_weighted': array([0.18771429, 0.26342857, 0.24678571, 0.24757143, 0.21042857])}"
      ]
     },
     "execution_count": 62,
     "metadata": {},
     "output_type": "execute_result"
    }
   ],
   "source": [
    "minor = MinorClassifiers(1, 0.25, 'average', 35)\n",
    "scores = cross_validate(minor, X, Y, cv=5, scoring=('accuracy', 'neg_log_loss', 'neg_mean_squared_error', 'roc_auc_ovr', 'f1_weighted', 'precision_weighted', 'recall_weighted'))\n",
    "scores"
   ]
  },
  {
   "cell_type": "code",
   "execution_count": 61,
   "metadata": {},
   "outputs": [
    {
     "data": {
      "text/plain": [
       "{'fit_time': array([48.22742319, 48.14788699, 48.33357239, 48.04281139, 50.91272211]),\n",
       " 'score_time': array([16.16131687, 16.02982521, 15.76152611, 15.90311503, 16.26365662]),\n",
       " 'test_accuracy': array([0.33742857, 0.32857143, 0.35442857, 0.38314286, 0.21357143]),\n",
       " 'test_neg_log_loss': array([-2.13912946, -2.14420601, -2.11507086, -2.07620991, -2.26429729]),\n",
       " 'test_neg_mean_squared_error': array([-16.17757143, -15.91421429, -16.0145    , -16.14592857,\n",
       "        -19.76271429]),\n",
       " 'test_roc_auc_ovr': array([0.76623991, 0.71862607, 0.76944871, 0.80314656, 0.60274795]),\n",
       " 'test_f1_weighted': array([0.33256767, 0.32109021, 0.34678852, 0.3851458 , 0.21754201]),\n",
       " 'test_precision_weighted': array([0.4535035 , 0.37849033, 0.38645567, 0.45500229, 0.3297921 ]),\n",
       " 'test_recall_weighted': array([0.33742857, 0.32857143, 0.35442857, 0.38314286, 0.21357143])}"
      ]
     },
     "execution_count": 61,
     "metadata": {},
     "output_type": "execute_result"
    }
   ],
   "source": [
    "minor = MinorClassifiers(1, 0.25, 'average', 20)\n",
    "scores = cross_validate(minor, X, Y, cv=5, scoring=('accuracy', 'neg_log_loss', 'neg_mean_squared_error', 'roc_auc_ovr', 'f1_weighted', 'precision_weighted', 'recall_weighted'))\n",
    "scores"
   ]
  },
  {
   "cell_type": "code",
   "execution_count": null,
   "metadata": {},
   "outputs": [],
   "source": []
  },
  {
   "cell_type": "code",
   "execution_count": 63,
   "metadata": {},
   "outputs": [
    {
     "data": {
      "text/plain": [
       "{'fit_time': array([ 956.98348141, 1190.58367205,  763.96592999,  603.93747234,\n",
       "         528.9153955 ]),\n",
       " 'score_time': array([196.78776312, 193.63710928, 109.94623065, 102.85365725,\n",
       "         92.14072633]),\n",
       " 'test_accuracy': array([0.55764286, 0.53642857, 0.59764286, 0.52      , 0.40985714]),\n",
       " 'test_neg_log_loss': array([-1.28851054, -1.34845585, -1.21221832, -1.3583285 , -1.48131617]),\n",
       " 'test_neg_mean_squared_error': array([ -7.03264286,  -8.53414286,  -6.36321429,  -8.10207143,\n",
       "        -11.94485714]),\n",
       " 'test_roc_auc_ovr': array([0.9425194 , 0.93778287, 0.94679934, 0.93656423, 0.92210219]),\n",
       " 'test_f1_weighted': array([0.54391289, 0.5231569 , 0.58746871, 0.50872923, 0.38234899]),\n",
       " 'test_precision_weighted': array([0.61128599, 0.62227528, 0.67502655, 0.6035732 , 0.51082416]),\n",
       " 'test_recall_weighted': array([0.55764286, 0.53642857, 0.59764286, 0.52      , 0.40985714])}"
      ]
     },
     "execution_count": 63,
     "metadata": {},
     "output_type": "execute_result"
    }
   ],
   "source": [
    "minor = MinorClassifiers(1, 0.5, 'average', 150)\n",
    "scores = cross_validate(minor, X, Y, cv=5, scoring=('accuracy', 'neg_log_loss', 'neg_mean_squared_error', 'roc_auc_ovr', 'f1_weighted', 'precision_weighted', 'recall_weighted'))\n",
    "scores"
   ]
  },
  {
   "cell_type": "code",
   "execution_count": 64,
   "metadata": {},
   "outputs": [
    {
     "data": {
      "text/plain": [
       "{'fit_time': array([403.39759231, 395.57485795, 394.52115512, 555.34990501,\n",
       "        437.63361073]),\n",
       " 'score_time': array([71.91559267, 70.27218342, 74.70916152, 84.64124703, 67.6369369 ]),\n",
       " 'test_accuracy': array([0.51907143, 0.51642857, 0.43007143, 0.5245    , 0.50557143]),\n",
       " 'test_neg_log_loss': array([-1.44829103, -1.41424552, -1.52002325, -1.40176898, -1.42139254]),\n",
       " 'test_neg_mean_squared_error': array([ -9.025     ,  -8.94992857, -11.04692857,  -9.12614286,\n",
       "         -9.4335    ]),\n",
       " 'test_roc_auc_ovr': array([0.91720806, 0.92475079, 0.90521959, 0.92681743, 0.92635863]),\n",
       " 'test_f1_weighted': array([0.50718234, 0.51160013, 0.41678298, 0.52104975, 0.49187699]),\n",
       " 'test_precision_weighted': array([0.57071834, 0.59142985, 0.51374254, 0.59875997, 0.59378284]),\n",
       " 'test_recall_weighted': array([0.51907143, 0.51642857, 0.43007143, 0.5245    , 0.50557143])}"
      ]
     },
     "execution_count": 64,
     "metadata": {},
     "output_type": "execute_result"
    }
   ],
   "source": [
    "minor = MinorClassifiers(1, 0.5, 'average', 100)\n",
    "scores = cross_validate(minor, X, Y, cv=5, scoring=('accuracy', 'neg_log_loss', 'neg_mean_squared_error', 'roc_auc_ovr', 'f1_weighted', 'precision_weighted', 'recall_weighted'))\n",
    "scores"
   ]
  },
  {
   "cell_type": "code",
   "execution_count": 65,
   "metadata": {},
   "outputs": [
    {
     "data": {
      "text/plain": [
       "{'fit_time': array([277.88545871, 272.85462189, 271.8572371 , 269.76975107,\n",
       "        265.66976762]),\n",
       " 'score_time': array([54.46540213, 55.07202053, 80.74313474, 59.2318666 , 55.4976337 ]),\n",
       " 'test_accuracy': array([0.49492857, 0.50385714, 0.52314286, 0.51192857, 0.46842857]),\n",
       " 'test_neg_log_loss': array([-1.53348639, -1.53948784, -1.47043889, -1.50447709, -1.52873079]),\n",
       " 'test_neg_mean_squared_error': array([-10.33471429, -11.40121429,  -8.95792857, -10.02414286,\n",
       "        -10.54478571]),\n",
       " 'test_roc_auc_ovr': array([0.91828632, 0.9090065 , 0.91733758, 0.91413551, 0.9077846 ]),\n",
       " 'test_f1_weighted': array([0.48075827, 0.49734934, 0.51062444, 0.50629545, 0.4508824 ]),\n",
       " 'test_precision_weighted': array([0.55795908, 0.60774645, 0.55956679, 0.57680614, 0.52480659]),\n",
       " 'test_recall_weighted': array([0.49492857, 0.50385714, 0.52314286, 0.51192857, 0.46842857])}"
      ]
     },
     "execution_count": 65,
     "metadata": {},
     "output_type": "execute_result"
    }
   ],
   "source": [
    "minor = MinorClassifiers(1, 0.5, 'average', 75)\n",
    "scores = cross_validate(minor, X, Y, cv=5, scoring=('accuracy', 'neg_log_loss', 'neg_mean_squared_error', 'roc_auc_ovr', 'f1_weighted', 'precision_weighted', 'recall_weighted'))\n",
    "scores"
   ]
  },
  {
   "cell_type": "code",
   "execution_count": 70,
   "metadata": {},
   "outputs": [
    {
     "data": {
      "text/plain": [
       "{'fit_time': array([335.22147393, 314.85721636, 257.92502165, 259.9761982 ,\n",
       "        255.01151466]),\n",
       " 'score_time': array([58.9679215 , 50.57985663, 48.55298281, 49.24956203, 49.76311827]),\n",
       " 'test_accuracy': array([0.48692857, 0.43935714, 0.49385714, 0.49021429, 0.47607143]),\n",
       " 'test_neg_log_loss': array([-1.56654299, -1.6655439 , -1.55248562, -1.57097901, -1.62433908]),\n",
       " 'test_neg_mean_squared_error': array([-12.03707143, -12.65042857, -10.18742857, -11.00528571,\n",
       "        -11.09685714]),\n",
       " 'test_roc_auc_ovr': array([0.89620201, 0.88133541, 0.90865062, 0.90612745, 0.89067766]),\n",
       " 'test_f1_weighted': array([0.4814952 , 0.44282382, 0.4885999 , 0.48636423, 0.47474305]),\n",
       " 'test_precision_weighted': array([0.58223476, 0.55076319, 0.54867503, 0.55831745, 0.52700219]),\n",
       " 'test_recall_weighted': array([0.48692857, 0.43935714, 0.49385714, 0.49021429, 0.47607143])}"
      ]
     },
     "execution_count": 70,
     "metadata": {},
     "output_type": "execute_result"
    }
   ],
   "source": [
    "minor = MinorClassifiers(1, 0.5, 'average', 65)\n",
    "scores = cross_validate(minor, X, Y, cv=5, scoring=('accuracy', 'neg_log_loss', 'neg_mean_squared_error', 'roc_auc_ovr', 'f1_weighted', 'precision_weighted', 'recall_weighted'))\n",
    "scores"
   ]
  },
  {
   "cell_type": "code",
   "execution_count": 86,
   "metadata": {},
   "outputs": [
    {
     "data": {
      "text/plain": [
       "{'fit_time': array([462.09767962, 466.92024803, 251.44462633, 279.54543447,\n",
       "        237.82723069]),\n",
       " 'score_time': array([93.11277318, 64.20347404, 44.37069702, 43.83991694, 43.34510636]),\n",
       " 'test_accuracy': array([0.4975    , 0.45421429, 0.46178571, 0.53507143, 0.49557143]),\n",
       " 'test_neg_log_loss': array([-1.62552348, -1.64786075, -1.67013372, -1.59763612, -1.54045651]),\n",
       " 'test_neg_mean_squared_error': array([ -9.22214286, -12.97878571, -10.51842857,  -9.3205    ,\n",
       "        -10.04342857]),\n",
       " 'test_roc_auc_ovr': array([0.90022805, 0.89168003, 0.89223255, 0.90752453, 0.89951583]),\n",
       " 'test_f1_weighted': array([0.48099955, 0.44690962, 0.46113709, 0.5193939 , 0.47912726]),\n",
       " 'test_precision_weighted': array([0.53791722, 0.56877366, 0.5247416 , 0.5912206 , 0.53667805]),\n",
       " 'test_recall_weighted': array([0.4975    , 0.45421429, 0.46178571, 0.53507143, 0.49557143])}"
      ]
     },
     "execution_count": 86,
     "metadata": {},
     "output_type": "execute_result"
    }
   ],
   "source": [
    "minor = MinorClassifiers(1, 0.5, 'average', 55)\n",
    "scores = cross_validate(minor, X, Y, cv=5, scoring=('accuracy', 'neg_log_loss', 'neg_mean_squared_error', 'roc_auc_ovr', 'f1_weighted', 'precision_weighted', 'recall_weighted'))\n",
    "scores"
   ]
  },
  {
   "cell_type": "code",
   "execution_count": 66,
   "metadata": {},
   "outputs": [
    {
     "data": {
      "text/plain": [
       "{'fit_time': array([208.16430426, 205.71958971, 216.15533972, 202.08698773,\n",
       "        201.38510776]),\n",
       " 'score_time': array([40.31113195, 40.72430444, 41.01101065, 39.50999928, 40.55594659]),\n",
       " 'test_accuracy': array([0.48335714, 0.46557143, 0.47907143, 0.5115    , 0.4645    ]),\n",
       " 'test_neg_log_loss': array([-1.66965847, -1.7063596 , -1.69806032, -1.61771908, -1.67204362]),\n",
       " 'test_neg_mean_squared_error': array([-11.78707143, -12.25492857, -12.14028571,  -9.78964286,\n",
       "        -12.02307143]),\n",
       " 'test_roc_auc_ovr': array([0.88519778, 0.87157388, 0.89058486, 0.90817913, 0.88623533]),\n",
       " 'test_f1_weighted': array([0.47488518, 0.45602154, 0.47079243, 0.50479185, 0.44707346]),\n",
       " 'test_precision_weighted': array([0.55734835, 0.54443268, 0.56543286, 0.56932264, 0.55150044]),\n",
       " 'test_recall_weighted': array([0.48335714, 0.46557143, 0.47907143, 0.5115    , 0.4645    ])}"
      ]
     },
     "execution_count": 66,
     "metadata": {},
     "output_type": "execute_result"
    }
   ],
   "source": [
    "minor = MinorClassifiers(1, 0.5, 'average', 50)\n",
    "scores = cross_validate(minor, X, Y, cv=5, scoring=('accuracy', 'neg_log_loss', 'neg_mean_squared_error', 'roc_auc_ovr', 'f1_weighted', 'precision_weighted', 'recall_weighted'))\n",
    "scores"
   ]
  },
  {
   "cell_type": "code",
   "execution_count": 87,
   "metadata": {},
   "outputs": [
    {
     "data": {
      "text/plain": [
       "{'fit_time': array([197.82009172, 201.2009933 , 198.40350318, 200.3753171 ,\n",
       "        197.73498225]),\n",
       " 'score_time': array([36.71669769, 37.63194108, 37.27467513, 37.90374517, 36.99289012]),\n",
       " 'test_accuracy': array([0.489     , 0.4315    , 0.45371429, 0.42628571, 0.43628571]),\n",
       " 'test_neg_log_loss': array([-1.59537795, -1.71141775, -1.75327174, -1.73882495, -1.65923031]),\n",
       " 'test_neg_mean_squared_error': array([-10.13485714, -13.52521429, -12.08957143, -13.97864286,\n",
       "        -10.52992857]),\n",
       " 'test_roc_auc_ovr': array([0.90452755, 0.87859356, 0.8676295 , 0.85810739, 0.88242406]),\n",
       " 'test_f1_weighted': array([0.48163384, 0.42549441, 0.43951185, 0.41647823, 0.41677854]),\n",
       " 'test_precision_weighted': array([0.53554265, 0.57163768, 0.52103478, 0.53733372, 0.49748016]),\n",
       " 'test_recall_weighted': array([0.489     , 0.4315    , 0.45371429, 0.42628571, 0.43628571])}"
      ]
     },
     "execution_count": 87,
     "metadata": {},
     "output_type": "execute_result"
    }
   ],
   "source": [
    "minor = MinorClassifiers(1, 0.5, 'average', 45)\n",
    "scores = cross_validate(minor, X, Y, cv=5, scoring=('accuracy', 'neg_log_loss', 'neg_mean_squared_error', 'roc_auc_ovr', 'f1_weighted', 'precision_weighted', 'recall_weighted'))\n",
    "scores"
   ]
  },
  {
   "cell_type": "code",
   "execution_count": 71,
   "metadata": {},
   "outputs": [
    {
     "data": {
      "text/plain": [
       "{'fit_time': array([161.27654696, 160.75344968, 161.34567857, 160.96548104,\n",
       "        161.19671416]),\n",
       " 'score_time': array([34.27233601, 32.95263433, 34.39874053, 33.71570063, 34.43368149]),\n",
       " 'test_accuracy': array([0.42264286, 0.49378571, 0.45978571, 0.52464286, 0.41421429]),\n",
       " 'test_neg_log_loss': array([-1.73169733, -1.64848449, -1.72606124, -1.66644639, -1.76431247]),\n",
       " 'test_neg_mean_squared_error': array([-14.83328571,  -9.48028571, -12.67907143,  -9.31078571,\n",
       "        -14.41407143]),\n",
       " 'test_roc_auc_ovr': array([0.8680238 , 0.89165678, 0.87168552, 0.90624531, 0.85536688]),\n",
       " 'test_f1_weighted': array([0.4197386 , 0.47609794, 0.45735867, 0.50415674, 0.40078745]),\n",
       " 'test_precision_weighted': array([0.51460272, 0.57019784, 0.55577576, 0.58295985, 0.51722292]),\n",
       " 'test_recall_weighted': array([0.42264286, 0.49378571, 0.45978571, 0.52464286, 0.41421429])}"
      ]
     },
     "execution_count": 71,
     "metadata": {},
     "output_type": "execute_result"
    }
   ],
   "source": [
    "minor = MinorClassifiers(1, 0.5, 'average', 40)\n",
    "scores = cross_validate(minor, X, Y, cv=5, scoring=('accuracy', 'neg_log_loss', 'neg_mean_squared_error', 'roc_auc_ovr', 'f1_weighted', 'precision_weighted', 'recall_weighted'))\n",
    "scores"
   ]
  },
  {
   "cell_type": "code",
   "execution_count": 67,
   "metadata": {},
   "outputs": [
    {
     "data": {
      "text/plain": [
       "{'fit_time': array([144.05908561, 143.2655704 , 142.39475799, 143.68716979,\n",
       "        143.19930387]),\n",
       " 'score_time': array([30.35370255, 30.65963697, 30.80450654, 30.71820235, 30.73316312]),\n",
       " 'test_accuracy': array([0.44985714, 0.42857143, 0.46107143, 0.45892857, 0.46035714]),\n",
       " 'test_neg_log_loss': array([-1.75017351, -1.79793346, -1.83483606, -1.71117839, -1.79460806]),\n",
       " 'test_neg_mean_squared_error': array([-12.66335714, -14.38435714, -12.14235714, -11.81128571,\n",
       "        -11.52485714]),\n",
       " 'test_roc_auc_ovr': array([0.86220961, 0.85151529, 0.86073412, 0.8739936 , 0.85434766]),\n",
       " 'test_f1_weighted': array([0.44274589, 0.42066477, 0.46341548, 0.44087865, 0.45242449]),\n",
       " 'test_precision_weighted': array([0.50377001, 0.52638676, 0.55231644, 0.50301792, 0.51443573]),\n",
       " 'test_recall_weighted': array([0.44985714, 0.42857143, 0.46107143, 0.45892857, 0.46035714])}"
      ]
     },
     "execution_count": 67,
     "metadata": {},
     "output_type": "execute_result"
    }
   ],
   "source": [
    "minor = MinorClassifiers(1, 0.5, 'average', 35)\n",
    "scores = cross_validate(minor, X, Y, cv=5, scoring=('accuracy', 'neg_log_loss', 'neg_mean_squared_error', 'roc_auc_ovr', 'f1_weighted', 'precision_weighted', 'recall_weighted'))\n",
    "scores"
   ]
  },
  {
   "cell_type": "code",
   "execution_count": 68,
   "metadata": {},
   "outputs": [
    {
     "data": {
      "text/plain": [
       "{'fit_time': array([104.38752222, 104.41383743, 104.77667832, 104.10911679,\n",
       "        104.69900012]),\n",
       " 'score_time': array([23.39634705, 23.19027209, 23.65782118, 23.4804852 , 23.80704474]),\n",
       " 'test_accuracy': array([0.44421429, 0.41742857, 0.45021429, 0.42521429, 0.41485714]),\n",
       " 'test_neg_log_loss': array([-1.85370232, -1.7862257 , -1.86164504, -1.8696393 , -1.93487088]),\n",
       " 'test_neg_mean_squared_error': array([-13.63107143, -12.90035714, -12.00371429, -13.63492857,\n",
       "        -14.39421429]),\n",
       " 'test_roc_auc_ovr': array([0.84658139, 0.85338694, 0.84164394, 0.84541982, 0.82440534]),\n",
       " 'test_f1_weighted': array([0.42301945, 0.39828718, 0.43789774, 0.40536443, 0.39371166]),\n",
       " 'test_precision_weighted': array([0.50388771, 0.54696182, 0.52736243, 0.52252472, 0.447323  ]),\n",
       " 'test_recall_weighted': array([0.44421429, 0.41742857, 0.45021429, 0.42521429, 0.41485714])}"
      ]
     },
     "execution_count": 68,
     "metadata": {},
     "output_type": "execute_result"
    }
   ],
   "source": [
    "minor = MinorClassifiers(1, 0.5, 'average', 25)\n",
    "scores = cross_validate(minor, X, Y, cv=5, scoring=('accuracy', 'neg_log_loss', 'neg_mean_squared_error', 'roc_auc_ovr', 'f1_weighted', 'precision_weighted', 'recall_weighted'))\n",
    "scores"
   ]
  },
  {
   "cell_type": "code",
   "execution_count": 73,
   "metadata": {},
   "outputs": [
    {
     "data": {
      "text/plain": [
       "{'fit_time': array([84.78406477, 85.2114253 , 84.52296591, 85.14145398, 85.18974996]),\n",
       " 'score_time': array([20.00648618, 19.81563163, 19.56334424, 19.91039801, 19.85698318]),\n",
       " 'test_accuracy': array([0.41007143, 0.36985714, 0.46978571, 0.43271429, 0.40785714]),\n",
       " 'test_neg_log_loss': array([-1.8360594 , -1.91415748, -1.72030452, -1.83050794, -1.85369325]),\n",
       " 'test_neg_mean_squared_error': array([-14.05721429, -16.21614286, -12.49542857, -13.70535714,\n",
       "        -13.9145    ]),\n",
       " 'test_roc_auc_ovr': array([0.84619769, 0.81956502, 0.88025529, 0.85719179, 0.82722386]),\n",
       " 'test_f1_weighted': array([0.40696028, 0.35560659, 0.45343374, 0.41044796, 0.38920592]),\n",
       " 'test_precision_weighted': array([0.4743215 , 0.508099  , 0.56248155, 0.50343365, 0.45044322]),\n",
       " 'test_recall_weighted': array([0.41007143, 0.36985714, 0.46978571, 0.43271429, 0.40785714])}"
      ]
     },
     "execution_count": 73,
     "metadata": {},
     "output_type": "execute_result"
    }
   ],
   "source": [
    "minor = MinorClassifiers(1, 0.5, 'average', 20)\n",
    "scores = cross_validate(minor, X, Y, cv=5, scoring=('accuracy', 'neg_log_loss', 'neg_mean_squared_error', 'roc_auc_ovr', 'f1_weighted', 'precision_weighted', 'recall_weighted'))\n",
    "scores"
   ]
  },
  {
   "cell_type": "code",
   "execution_count": 72,
   "metadata": {},
   "outputs": [
    {
     "data": {
      "text/plain": [
       "{'fit_time': array([73.6317153 , 73.54530215, 75.66650176, 73.65973186, 74.56347346]),\n",
       " 'score_time': array([17.57123446, 17.81765246, 17.50822401, 17.60376048, 17.43839502]),\n",
       " 'test_accuracy': array([0.38285714, 0.40864286, 0.36057143, 0.43814286, 0.44285714]),\n",
       " 'test_neg_log_loss': array([-1.92851899, -1.97153973, -1.93714085, -1.84028564, -1.84092561]),\n",
       " 'test_neg_mean_squared_error': array([-14.78271429, -13.85828571, -14.97185714, -14.5565    ,\n",
       "        -13.69271429]),\n",
       " 'test_roc_auc_ovr': array([0.83024028, 0.80317113, 0.82346129, 0.85225571, 0.84654593]),\n",
       " 'test_f1_weighted': array([0.37325563, 0.39339374, 0.33789081, 0.42952594, 0.43013741]),\n",
       " 'test_precision_weighted': array([0.50338208, 0.51430441, 0.46689105, 0.49964996, 0.53503024]),\n",
       " 'test_recall_weighted': array([0.38285714, 0.40864286, 0.36057143, 0.43814286, 0.44285714])}"
      ]
     },
     "execution_count": 72,
     "metadata": {},
     "output_type": "execute_result"
    }
   ],
   "source": [
    "minor = MinorClassifiers(1, 0.5, 'average', 17)\n",
    "scores = cross_validate(minor, X, Y, cv=5, scoring=('accuracy', 'neg_log_loss', 'neg_mean_squared_error', 'roc_auc_ovr', 'f1_weighted', 'precision_weighted', 'recall_weighted'))\n",
    "scores"
   ]
  },
  {
   "cell_type": "code",
   "execution_count": 69,
   "metadata": {},
   "outputs": [
    {
     "data": {
      "text/plain": [
       "{'fit_time': array([46.8632257 , 46.82730269, 46.5325346 , 46.38738751, 47.57580209]),\n",
       " 'score_time': array([11.85789418, 11.79204321, 11.76211739, 11.7751019 , 11.78913617]),\n",
       " 'test_accuracy': array([0.38714286, 0.34985714, 0.3515    , 0.37885714, 0.36928571]),\n",
       " 'test_neg_log_loss': array([-1.9869174 , -2.0670739 , -2.00191973, -1.99406435, -2.00891447]),\n",
       " 'test_neg_mean_squared_error': array([-16.4625    , -14.63464286, -14.83257143, -17.64485714,\n",
       "        -17.39364286]),\n",
       " 'test_roc_auc_ovr': array([0.79185326, 0.74647559, 0.77878526, 0.79226176, 0.78617892]),\n",
       " 'test_f1_weighted': array([0.37784755, 0.33681632, 0.32188222, 0.37166826, 0.3514858 ]),\n",
       " 'test_precision_weighted': array([0.48671874, 0.43918286, 0.37750038, 0.5529473 , 0.49202013]),\n",
       " 'test_recall_weighted': array([0.38714286, 0.34985714, 0.3515    , 0.37885714, 0.36928571])}"
      ]
     },
     "execution_count": 69,
     "metadata": {},
     "output_type": "execute_result"
    }
   ],
   "source": [
    "minor = MinorClassifiers(1, 0.5, 'average', 10)\n",
    "scores = cross_validate(minor, X, Y, cv=5, scoring=('accuracy', 'neg_log_loss', 'neg_mean_squared_error', 'roc_auc_ovr', 'f1_weighted', 'precision_weighted', 'recall_weighted'))\n",
    "scores"
   ]
  },
  {
   "cell_type": "code",
   "execution_count": null,
   "metadata": {},
   "outputs": [],
   "source": []
  },
  {
   "cell_type": "code",
   "execution_count": 74,
   "metadata": {},
   "outputs": [
    {
     "data": {
      "text/plain": [
       "{'fit_time': array([521.75239086, 539.56865168, 535.4280529 , 539.82829881,\n",
       "        563.05885363]),\n",
       " 'score_time': array([76.65035415, 79.74872398, 79.30715132, 79.55968881, 76.31492257]),\n",
       " 'test_accuracy': array([0.58892857, 0.60778571, 0.61071429, 0.59314286, 0.55307143]),\n",
       " 'test_neg_log_loss': array([-1.19471572, -1.20803477, -1.1677398 , -1.21199298, -1.24724678]),\n",
       " 'test_neg_mean_squared_error': array([-6.21128571, -6.176     , -5.804     , -6.04507143, -6.50185714]),\n",
       " 'test_roc_auc_ovr': array([0.94069406, 0.94424976, 0.94673237, 0.94051134, 0.93384379]),\n",
       " 'test_f1_weighted': array([0.57856441, 0.5964571 , 0.60294627, 0.58178735, 0.53077565]),\n",
       " 'test_precision_weighted': array([0.59778382, 0.63465305, 0.62820486, 0.60315246, 0.56391115]),\n",
       " 'test_recall_weighted': array([0.58892857, 0.60778571, 0.61071429, 0.59314286, 0.55307143])}"
      ]
     },
     "execution_count": 74,
     "metadata": {},
     "output_type": "execute_result"
    }
   ],
   "source": [
    "minor = MinorClassifiers(1, 0.75, 'average', 100)\n",
    "scores = cross_validate(minor, X, Y, cv=5, scoring=('accuracy', 'neg_log_loss', 'neg_mean_squared_error', 'roc_auc_ovr', 'f1_weighted', 'precision_weighted', 'recall_weighted'))\n",
    "scores"
   ]
  },
  {
   "cell_type": "code",
   "execution_count": 75,
   "metadata": {},
   "outputs": [
    {
     "data": {
      "text/plain": [
       "{'fit_time': array([411.33266187, 410.08182764, 414.80697131, 410.58777499,\n",
       "        409.20496583]),\n",
       " 'score_time': array([62.98871613, 63.82553554, 65.27762961, 65.00812817, 63.0729506 ]),\n",
       " 'test_accuracy': array([0.55321429, 0.55942857, 0.544     , 0.54007143, 0.54164286]),\n",
       " 'test_neg_log_loss': array([-1.31326995, -1.30792991, -1.31093335, -1.33941048, -1.32752467]),\n",
       " 'test_neg_mean_squared_error': array([-7.845     , -7.56871429, -8.22885714, -8.26642857, -7.53928571]),\n",
       " 'test_roc_auc_ovr': array([0.92690457, 0.93144437, 0.92377033, 0.92396627, 0.92679624]),\n",
       " 'test_f1_weighted': array([0.54415156, 0.55348429, 0.53960492, 0.53610701, 0.52641107]),\n",
       " 'test_precision_weighted': array([0.57064981, 0.58996099, 0.57710061, 0.57578191, 0.55728175]),\n",
       " 'test_recall_weighted': array([0.55321429, 0.55942857, 0.544     , 0.54007143, 0.54164286])}"
      ]
     },
     "execution_count": 75,
     "metadata": {},
     "output_type": "execute_result"
    }
   ],
   "source": [
    "minor = MinorClassifiers(1, 0.75, 'average', 75)\n",
    "scores = cross_validate(minor, X, Y, cv=5, scoring=('accuracy', 'neg_log_loss', 'neg_mean_squared_error', 'roc_auc_ovr', 'f1_weighted', 'precision_weighted', 'recall_weighted'))\n",
    "scores"
   ]
  },
  {
   "cell_type": "code",
   "execution_count": 76,
   "metadata": {},
   "outputs": [
    {
     "data": {
      "text/plain": [
       "{'fit_time': array([331.55507684, 334.44962168, 334.6291678 , 333.14210129,\n",
       "        338.86247444]),\n",
       " 'score_time': array([53.01084447, 53.71146154, 53.46694613, 53.35215688, 54.22893333]),\n",
       " 'test_accuracy': array([0.5435    , 0.539     , 0.54292857, 0.57364286, 0.54985714]),\n",
       " 'test_neg_log_loss': array([-1.33697498, -1.38037885, -1.35205054, -1.30760264, -1.36684406]),\n",
       " 'test_neg_mean_squared_error': array([-7.86621429, -8.37364286, -7.72442857, -7.08592857, -8.12428571]),\n",
       " 'test_roc_auc_ovr': array([0.92228369, 0.92044719, 0.92264284, 0.93180551, 0.92024976]),\n",
       " 'test_f1_weighted': array([0.53416411, 0.53321212, 0.53757903, 0.56498253, 0.53921442]),\n",
       " 'test_precision_weighted': array([0.5652627 , 0.56795373, 0.57134423, 0.58991723, 0.5773893 ]),\n",
       " 'test_recall_weighted': array([0.5435    , 0.539     , 0.54292857, 0.57364286, 0.54985714])}"
      ]
     },
     "execution_count": 76,
     "metadata": {},
     "output_type": "execute_result"
    }
   ],
   "source": [
    "minor = MinorClassifiers(1, 0.75, 'average', 60)\n",
    "scores = cross_validate(minor, X, Y, cv=5, scoring=('accuracy', 'neg_log_loss', 'neg_mean_squared_error', 'roc_auc_ovr', 'f1_weighted', 'precision_weighted', 'recall_weighted'))\n",
    "scores"
   ]
  },
  {
   "cell_type": "code",
   "execution_count": 77,
   "metadata": {},
   "outputs": [
    {
     "data": {
      "text/plain": [
       "{'fit_time': array([273.32174778, 271.16651583, 273.85580778, 273.92159462,\n",
       "        270.96831465]),\n",
       " 'score_time': array([45.28265023, 45.72998571, 46.74565887, 46.54114032, 46.86298275]),\n",
       " 'test_accuracy': array([0.52378571, 0.49642857, 0.574     , 0.54971429, 0.55085714]),\n",
       " 'test_neg_log_loss': array([-1.44575697, -1.4449028 , -1.33478778, -1.38130774, -1.41827536]),\n",
       " 'test_neg_mean_squared_error': array([-8.4225    , -7.76142857, -7.38257143, -7.55757143, -8.09921429]),\n",
       " 'test_roc_auc_ovr': array([0.91710446, 0.90759177, 0.93052242, 0.92412435, 0.91418887]),\n",
       " 'test_f1_weighted': array([0.51690324, 0.48606984, 0.5660404 , 0.54168244, 0.54089977]),\n",
       " 'test_precision_weighted': array([0.55839568, 0.55729187, 0.59377446, 0.57639462, 0.56293116]),\n",
       " 'test_recall_weighted': array([0.52378571, 0.49642857, 0.574     , 0.54971429, 0.55085714])}"
      ]
     },
     "execution_count": 77,
     "metadata": {},
     "output_type": "execute_result"
    }
   ],
   "source": [
    "minor = MinorClassifiers(1, 0.75, 'average', 50)\n",
    "scores = cross_validate(minor, X, Y, cv=5, scoring=('accuracy', 'neg_log_loss', 'neg_mean_squared_error', 'roc_auc_ovr', 'f1_weighted', 'precision_weighted', 'recall_weighted'))\n",
    "scores"
   ]
  },
  {
   "cell_type": "code",
   "execution_count": 88,
   "metadata": {},
   "outputs": [
    {
     "data": {
      "text/plain": [
       "{'fit_time': array([308.23570991, 296.08728218, 290.78469253, 291.57393551,\n",
       "        290.11198568]),\n",
       " 'score_time': array([43.06828666, 43.89277053, 43.16428804, 43.74510717, 43.26962614]),\n",
       " 'test_accuracy': array([0.52221429, 0.53835714, 0.5375    , 0.49871429, 0.51128571]),\n",
       " 'test_neg_log_loss': array([-1.41925373, -1.4456693 , -1.38488614, -1.4603455 , -1.43092889]),\n",
       " 'test_neg_mean_squared_error': array([-8.73235714, -9.43257143, -7.77578571, -9.67107143, -8.14942857]),\n",
       " 'test_roc_auc_ovr': array([0.91191632, 0.90968392, 0.92395407, 0.90534471, 0.91258611]),\n",
       " 'test_f1_weighted': array([0.51978735, 0.53340364, 0.52025159, 0.49413272, 0.48221086]),\n",
       " 'test_precision_weighted': array([0.56549918, 0.58193448, 0.57355592, 0.55075879, 0.53909149]),\n",
       " 'test_recall_weighted': array([0.52221429, 0.53835714, 0.5375    , 0.49871429, 0.51128571])}"
      ]
     },
     "execution_count": 88,
     "metadata": {},
     "output_type": "execute_result"
    }
   ],
   "source": [
    "minor = MinorClassifiers(1, 0.75, 'average', 45)\n",
    "scores = cross_validate(minor, X, Y, cv=5, scoring=('accuracy', 'neg_log_loss', 'neg_mean_squared_error', 'roc_auc_ovr', 'f1_weighted', 'precision_weighted', 'recall_weighted'))\n",
    "scores"
   ]
  },
  {
   "cell_type": "code",
   "execution_count": 11,
   "metadata": {},
   "outputs": [
    {
     "data": {
      "text/plain": [
       "{'fit_time': array([322.53996468, 404.56392717, 510.94665003, 507.57748365,\n",
       "        503.49685931]),\n",
       " 'score_time': array([39.72186565, 52.16873908, 70.43777895, 70.4358604 , 73.20933461]),\n",
       " 'test_accuracy': array([0.53214286, 0.50478571, 0.49157143, 0.475     , 0.49114286]),\n",
       " 'test_neg_log_loss': array([-1.40845501, -1.48995101, -1.46394908, -1.52131972, -1.52504276]),\n",
       " 'test_neg_mean_squared_error': array([-8.372     , -9.13228571, -9.80228571, -9.19635714, -9.51178571]),\n",
       " 'test_roc_auc_ovr': array([0.91417173, 0.90908273, 0.91073535, 0.90153003, 0.9040769 ]),\n",
       " 'test_f1_weighted': array([0.52103612, 0.50228205, 0.48724505, 0.46606924, 0.47732279]),\n",
       " 'test_precision_weighted': array([0.55419896, 0.56482545, 0.56057627, 0.54796737, 0.52587233]),\n",
       " 'test_recall_weighted': array([0.53214286, 0.50478571, 0.49157143, 0.475     , 0.49114286])}"
      ]
     },
     "execution_count": 11,
     "metadata": {},
     "output_type": "execute_result"
    }
   ],
   "source": [
    "minor = MinorClassifiers(1, 0.75, 'average', 40)\n",
    "scores = cross_validate(minor, X, Y, cv=5, scoring=('accuracy', 'neg_log_loss', 'neg_mean_squared_error', 'roc_auc_ovr', 'f1_weighted', 'precision_weighted', 'recall_weighted'))\n",
    "scores"
   ]
  },
  {
   "cell_type": "code",
   "execution_count": 78,
   "metadata": {},
   "outputs": [
    {
     "data": {
      "text/plain": [
       "{'fit_time': array([207.17076492, 212.90225983, 216.38435388, 204.55270171,\n",
       "        204.8181076 ]),\n",
       " 'score_time': array([37.20586205, 36.38500643, 37.74322581, 35.64859533, 35.26901865]),\n",
       " 'test_accuracy': array([0.50892857, 0.47328571, 0.53171429, 0.52278571, 0.49542857]),\n",
       " 'test_neg_log_loss': array([-1.50565308, -1.51269286, -1.5179592 , -1.44394178, -1.4891825 ]),\n",
       " 'test_neg_mean_squared_error': array([-10.17385714,  -9.33164286,  -9.83585714,  -9.139     ,\n",
       "         -8.53607143]),\n",
       " 'test_roc_auc_ovr': array([0.90516216, 0.89873124, 0.9027058 , 0.91748011, 0.9017652 ]),\n",
       " 'test_f1_weighted': array([0.50169549, 0.45826317, 0.52251136, 0.52159767, 0.4718188 ]),\n",
       " 'test_precision_weighted': array([0.5660375 , 0.55196614, 0.57402917, 0.58671309, 0.505369  ]),\n",
       " 'test_recall_weighted': array([0.50892857, 0.47328571, 0.53171429, 0.52278571, 0.49542857])}"
      ]
     },
     "execution_count": 78,
     "metadata": {},
     "output_type": "execute_result"
    }
   ],
   "source": [
    "minor = MinorClassifiers(1, 0.75, 'average', 35)\n",
    "scores = cross_validate(minor, X, Y, cv=5, scoring=('accuracy', 'neg_log_loss', 'neg_mean_squared_error', 'roc_auc_ovr', 'f1_weighted', 'precision_weighted', 'recall_weighted'))\n",
    "scores"
   ]
  },
  {
   "cell_type": "code",
   "execution_count": 82,
   "metadata": {},
   "outputs": [
    {
     "data": {
      "text/plain": [
       "{'fit_time': array([520.84710932, 305.0349648 , 516.70040345, 517.7560606 ,\n",
       "        511.90243506]),\n",
       " 'score_time': array([49.83183026, 92.28943348, 94.36861825, 93.15736103, 93.56156468]),\n",
       " 'test_accuracy': array([0.53964286, 0.49507143, 0.53107143, 0.55007143, 0.51335714]),\n",
       " 'test_neg_log_loss': array([-1.42569812, -1.44658763, -1.40271424, -1.4171155 , -1.39542757]),\n",
       " 'test_neg_mean_squared_error': array([-8.866     , -9.74407143, -8.018     , -8.11778571, -7.37092857]),\n",
       " 'test_roc_auc_ovr': array([0.91519396, 0.90799346, 0.9183157 , 0.92042298, 0.91299078]),\n",
       " 'test_f1_weighted': array([0.53658025, 0.49187083, 0.52454665, 0.54759776, 0.48872158]),\n",
       " 'test_precision_weighted': array([0.56681527, 0.54656591, 0.56715886, 0.58105375, 0.5373847 ]),\n",
       " 'test_recall_weighted': array([0.53964286, 0.49507143, 0.53107143, 0.55007143, 0.51335714])}"
      ]
     },
     "execution_count": 82,
     "metadata": {},
     "output_type": "execute_result"
    }
   ],
   "source": [
    "minor = MinorClassifiers(1, 0.75, 'average', 45)\n",
    "scores = cross_validate(minor, X, Y, cv=5, scoring=('accuracy', 'neg_log_loss', 'neg_mean_squared_error', 'roc_auc_ovr', 'f1_weighted', 'precision_weighted', 'recall_weighted'))\n",
    "scores"
   ]
  },
  {
   "cell_type": "code",
   "execution_count": 20,
   "metadata": {},
   "outputs": [
    {
     "data": {
      "text/plain": [
       "{'fit_time': array([451.48101759, 448.33198857, 454.86333036, 457.95929885,\n",
       "        460.51726484]),\n",
       " 'score_time': array([59.18930221, 59.20171475, 58.58895755, 58.5455029 , 62.48744559]),\n",
       " 'test_accuracy': array([0.48685714, 0.4675    , 0.478     , 0.50557143, 0.5245    ]),\n",
       " 'test_neg_log_loss': array([-1.53776107, -1.52495898, -1.49507382, -1.53579522, -1.56354638]),\n",
       " 'test_neg_mean_squared_error': array([-10.54907143,  -9.29978571,  -9.29578571,  -9.40428571,\n",
       "        -10.44471429]),\n",
       " 'test_roc_auc_ovr': array([0.90547578, 0.89674217, 0.90305764, 0.90090298, 0.89727179]),\n",
       " 'test_f1_weighted': array([0.492386  , 0.4565555 , 0.46429339, 0.50259538, 0.51407951]),\n",
       " 'test_precision_weighted': array([0.57578388, 0.54610833, 0.56110214, 0.55439255, 0.55659042]),\n",
       " 'test_recall_weighted': array([0.48685714, 0.4675    , 0.478     , 0.50557143, 0.5245    ])}"
      ]
     },
     "execution_count": 20,
     "metadata": {},
     "output_type": "execute_result"
    }
   ],
   "source": [
    "minor = MinorClassifiers(1, 0.75, 'average', 35)\n",
    "scores = cross_validate(minor, X, Y, cv=5, scoring=('accuracy', 'neg_log_loss', 'neg_mean_squared_error', 'roc_auc_ovr', 'f1_weighted', 'precision_weighted', 'recall_weighted'))\n",
    "scores"
   ]
  },
  {
   "cell_type": "code",
   "execution_count": 15,
   "metadata": {},
   "outputs": [
    {
     "data": {
      "text/plain": [
       "{'fit_time': array([394.01500368, 392.82663441, 387.47874117, 396.43253732,\n",
       "        398.30700898]),\n",
       " 'score_time': array([51.68606687, 53.23127651, 52.72960925, 55.77597332, 56.33389735]),\n",
       " 'test_accuracy': array([0.51535714, 0.50078571, 0.41057143, 0.47507143, 0.48      ]),\n",
       " 'test_neg_log_loss': array([-1.55502531, -1.49745348, -1.62580389, -1.58836749, -1.53697519]),\n",
       " 'test_neg_mean_squared_error': array([-10.28671429,  -9.03578571, -10.90792857, -10.49828571,\n",
       "         -9.50607143]),\n",
       " 'test_roc_auc_ovr': array([0.89987024, 0.90100165, 0.87832647, 0.89514706, 0.89804591]),\n",
       " 'test_f1_weighted': array([0.51668575, 0.48939733, 0.39821087, 0.47111152, 0.46233152]),\n",
       " 'test_precision_weighted': array([0.56526261, 0.57548431, 0.52167031, 0.54563698, 0.51440972]),\n",
       " 'test_recall_weighted': array([0.51535714, 0.50078571, 0.41057143, 0.47507143, 0.48      ])}"
      ]
     },
     "execution_count": 15,
     "metadata": {},
     "output_type": "execute_result"
    }
   ],
   "source": [
    "minor = MinorClassifiers(1, 0.75, 'average', 30)\n",
    "scores = cross_validate(minor, X, Y, cv=5, scoring=('accuracy', 'neg_log_loss', 'neg_mean_squared_error', 'roc_auc_ovr', 'f1_weighted', 'precision_weighted', 'recall_weighted'))\n",
    "scores"
   ]
  },
  {
   "cell_type": "code",
   "execution_count": 19,
   "metadata": {},
   "outputs": [
    {
     "data": {
      "text/plain": [
       "{'fit_time': array([362.70391798, 356.90701079, 359.82514381, 357.44739413,\n",
       "        356.23155975]),\n",
       " 'score_time': array([49.90893888, 49.36405182, 47.27458763, 49.51216435, 51.53476858]),\n",
       " 'test_accuracy': array([0.47835714, 0.48057143, 0.49207143, 0.43878571, 0.44642857]),\n",
       " 'test_neg_log_loss': array([-1.59722091, -1.55371356, -1.56073236, -1.59394003, -1.64559104]),\n",
       " 'test_neg_mean_squared_error': array([-10.4835    , -10.9055    ,  -9.574     , -10.10428571,\n",
       "        -10.12342857]),\n",
       " 'test_roc_auc_ovr': array([0.88847812, 0.89772522, 0.90140186, 0.87461633, 0.87313584]),\n",
       " 'test_f1_weighted': array([0.46434671, 0.47136866, 0.48882973, 0.42824179, 0.42608542]),\n",
       " 'test_precision_weighted': array([0.54229923, 0.58699393, 0.57116543, 0.52283942, 0.48071663]),\n",
       " 'test_recall_weighted': array([0.47835714, 0.48057143, 0.49207143, 0.43878571, 0.44642857])}"
      ]
     },
     "execution_count": 19,
     "metadata": {},
     "output_type": "execute_result"
    }
   ],
   "source": [
    "minor = MinorClassifiers(1, 0.75, 'average', 27)\n",
    "scores = cross_validate(minor, X, Y, cv=5, scoring=('accuracy', 'neg_log_loss', 'neg_mean_squared_error', 'roc_auc_ovr', 'f1_weighted', 'precision_weighted', 'recall_weighted'))\n",
    "scores"
   ]
  },
  {
   "cell_type": "code",
   "execution_count": 79,
   "metadata": {},
   "outputs": [
    {
     "data": {
      "text/plain": [
       "{'fit_time': array([150.28962469, 149.40990043, 149.88650036, 150.36196566,\n",
       "        150.02560139]),\n",
       " 'score_time': array([26.75279999, 27.04740477, 27.45977306, 27.18761873, 27.11735106]),\n",
       " 'test_accuracy': array([0.46821429, 0.44778571, 0.48221429, 0.47042857, 0.48021429]),\n",
       " 'test_neg_log_loss': array([-1.64767457, -1.55590165, -1.56769521, -1.6045631 , -1.54033575]),\n",
       " 'test_neg_mean_squared_error': array([-10.37257143, -10.69778571, -10.85371429, -10.47714286,\n",
       "         -9.26385714]),\n",
       " 'test_roc_auc_ovr': array([0.87569865, 0.88938107, 0.89944863, 0.89230429, 0.89409635]),\n",
       " 'test_f1_weighted': array([0.46401766, 0.43663339, 0.48236   , 0.46535133, 0.45749385]),\n",
       " 'test_precision_weighted': array([0.53669609, 0.55712883, 0.56734936, 0.5815889 , 0.52591803]),\n",
       " 'test_recall_weighted': array([0.46821429, 0.44778571, 0.48221429, 0.47042857, 0.48021429])}"
      ]
     },
     "execution_count": 79,
     "metadata": {},
     "output_type": "execute_result"
    }
   ],
   "source": [
    "minor = MinorClassifiers(1, 0.75, 'average', 25)\n",
    "scores = cross_validate(minor, X, Y, cv=5, scoring=('accuracy', 'neg_log_loss', 'neg_mean_squared_error', 'roc_auc_ovr', 'f1_weighted', 'precision_weighted', 'recall_weighted'))\n",
    "scores"
   ]
  },
  {
   "cell_type": "code",
   "execution_count": 92,
   "metadata": {},
   "outputs": [
    {
     "data": {
      "text/plain": [
       "{'fit_time': array([106.81243253, 106.48246837, 106.74202013, 106.82598734,\n",
       "        106.65281272]),\n",
       " 'score_time': array([18.23206472, 18.64603996, 18.45040488, 18.3291223 , 18.36816287]),\n",
       " 'test_accuracy': array([0.47135714, 0.44414286, 0.4005    , 0.42742857, 0.44628571]),\n",
       " 'test_neg_log_loss': array([-1.73414841, -1.75384909, -1.71900526, -1.7154375 , -1.73896861]),\n",
       " 'test_neg_mean_squared_error': array([-12.75592857, -12.46907143, -13.42571429, -12.55792857,\n",
       "        -13.11135714]),\n",
       " 'test_roc_auc_ovr': array([0.87365436, 0.86338177, 0.88533036, 0.87417493, 0.87147953]),\n",
       " 'test_f1_weighted': array([0.45240156, 0.43122008, 0.38716733, 0.40733447, 0.42631088]),\n",
       " 'test_precision_weighted': array([0.58079907, 0.55144477, 0.56547948, 0.57960526, 0.56964707]),\n",
       " 'test_recall_weighted': array([0.47135714, 0.44414286, 0.4005    , 0.42742857, 0.44628571])}"
      ]
     },
     "execution_count": 92,
     "metadata": {},
     "output_type": "execute_result"
    }
   ],
   "source": [
    "minor = MinorClassifiers(1, 0.75, 'average', 15)\n",
    "scores = cross_validate(minor, X, Y, cv=5, scoring=('accuracy', 'neg_log_loss', 'neg_mean_squared_error', 'roc_auc_ovr', 'f1_weighted', 'precision_weighted', 'recall_weighted'))\n",
    "scores"
   ]
  },
  {
   "cell_type": "code",
   "execution_count": 14,
   "metadata": {},
   "outputs": [
    {
     "data": {
      "text/plain": [
       "{'fit_time': array([119.58573318, 111.7580924 , 153.23480082, 158.49286532,\n",
       "        159.41713357]),\n",
       " 'score_time': array([16.73025179, 19.04306579, 24.42577791, 27.09413099, 26.15965366]),\n",
       " 'test_accuracy': array([0.43621429, 0.38785714, 0.3935    , 0.41807143, 0.41628571]),\n",
       " 'test_neg_log_loss': array([-1.84461299, -1.7881891 , -1.79770897, -1.81350886, -1.8121919 ]),\n",
       " 'test_neg_mean_squared_error': array([-14.6075    , -14.45307143, -15.17328571, -14.68707143,\n",
       "        -15.80585714]),\n",
       " 'test_roc_auc_ovr': array([0.84551129, 0.85227616, 0.86218762, 0.87182911, 0.84419668]),\n",
       " 'test_f1_weighted': array([0.40885767, 0.36113715, 0.38377145, 0.39704378, 0.38790379]),\n",
       " 'test_precision_weighted': array([0.55941997, 0.57521608, 0.6051934 , 0.56944648, 0.54917677]),\n",
       " 'test_recall_weighted': array([0.43621429, 0.38785714, 0.3935    , 0.41807143, 0.41628571])}"
      ]
     },
     "execution_count": 14,
     "metadata": {},
     "output_type": "execute_result"
    }
   ],
   "source": [
    "minor = MinorClassifiers(1, 0.75, 'average', 11)\n",
    "scores = cross_validate(minor, X, Y, cv=5, scoring=('accuracy', 'neg_log_loss', 'neg_mean_squared_error', 'roc_auc_ovr', 'f1_weighted', 'precision_weighted', 'recall_weighted'))\n",
    "scores"
   ]
  },
  {
   "cell_type": "code",
   "execution_count": 91,
   "metadata": {},
   "outputs": [
    {
     "data": {
      "text/plain": [
       "{'fit_time': array([85.36399961, 85.32352495, 85.47160029, 85.20026016, 85.55496907]),\n",
       " 'score_time': array([13.97271538, 13.69775796, 13.81598949, 13.6288631 , 13.59755087]),\n",
       " 'test_accuracy': array([0.35992857, 0.37478571, 0.36828571, 0.43171429, 0.43057143]),\n",
       " 'test_neg_log_loss': array([-1.91410148, -1.8417944 , -1.89110759, -1.74065176, -1.76524238]),\n",
       " 'test_neg_mean_squared_error': array([-16.38735714, -15.83721429, -16.65371429, -13.9195    ,\n",
       "        -14.24221429]),\n",
       " 'test_roc_auc_ovr': array([0.84746911, 0.84917054, 0.84929931, 0.88103235, 0.86712117]),\n",
       " 'test_f1_weighted': array([0.34526788, 0.34949244, 0.34131278, 0.39863914, 0.38757032]),\n",
       " 'test_precision_weighted': array([0.56909061, 0.57195762, 0.58783102, 0.58259735, 0.53038963]),\n",
       " 'test_recall_weighted': array([0.35992857, 0.37478571, 0.36828571, 0.43171429, 0.43057143])}"
      ]
     },
     "execution_count": 91,
     "metadata": {},
     "output_type": "execute_result"
    }
   ],
   "source": [
    "minor = MinorClassifiers(1, 0.75, 'average', 10)\n",
    "scores = cross_validate(minor, X, Y, cv=5, scoring=('accuracy', 'neg_log_loss', 'neg_mean_squared_error', 'roc_auc_ovr', 'f1_weighted', 'precision_weighted', 'recall_weighted'))\n",
    "scores"
   ]
  },
  {
   "cell_type": "markdown",
   "metadata": {
    "pycharm": {
     "is_executing": true
    }
   },
   "source": [
    "4. "
   ]
  },
  {
   "cell_type": "code",
   "execution_count": 11,
   "metadata": {
    "pycharm": {
     "is_executing": true
    }
   },
   "outputs": [],
   "source": [
    "def make_noise_data(data, percent):\n",
    "    m = data.shape[0]\n",
    "    n = data.shape[1]\n",
    "    new_data = deepcopy(data)\n",
    "    for i in range(m):\n",
    "        for j in range(n):\n",
    "            rand = randrange(-1, 2, 2) #random integer from {-1, 1}\n",
    "            new_data[i][j] = (1 + rand * percent) * data[i][j]\n",
    "    return new_data"
   ]
  },
  {
   "cell_type": "code",
   "execution_count": 12,
   "metadata": {
    "pycharm": {
     "is_executing": true
    }
   },
   "outputs": [],
   "source": [
    "def make_noise_label(labels, percent):\n",
    "    labels_with_noise = deepcopy(labels)\n",
    "    arr_size = labels.shape[0]\n",
    "    indexes = [n for n in range(arr_size)]\n",
    "    indexes_to_change = sample(indexes, int(arr_size * percent))\n",
    "    \n",
    "    for i in indexes_to_change:\n",
    "        old_val = labels[i]\n",
    "        new_val = randint(0, classes_count-1)\n",
    "        while old_val == new_val:\n",
    "            new_val = randint(0, classes_count-1)\n",
    "        labels_with_noise[i] = new_val\n",
    "        \n",
    "    return labels_with_noise"
   ]
  },
  {
   "cell_type": "code",
   "execution_count": 18,
   "metadata": {},
   "outputs": [],
   "source": [
    "n_samples = [0.1, 0.35, 0.7]\n",
    "n_features = [0.25, 0.5, 0.75]\n",
    "minors = []\n",
    "for n in n_samples:\n",
    "    minors.append(MinorClassifiers(n, 1, 'average'))\n",
    "    \n",
    "for n in n_features:\n",
    "    minors.append(MinorClassifiers(1, n, 'average'))"
   ]
  },
  {
   "cell_type": "code",
   "execution_count": 14,
   "metadata": {
    "pycharm": {
     "is_executing": true
    }
   },
   "outputs": [],
   "source": [
    "noises = [0.01, 0.05, 0.1]"
   ]
  },
  {
   "cell_type": "code",
   "execution_count": 15,
   "metadata": {},
    "outputs": [
    {
     "name": "stdout",
     "output_type": "stream",
     "text": [
      "Full 0.01%\n",
      "{'fit_time': array([456.81661558, 456.1075387 , 454.05069327, 454.65215397,\n",
      "       443.14230084]), 'score_time': array([46.84140134, 47.64082694, 46.40989137, 46.6297276 , 46.05647755]), 'test_accuracy': array([0.87014286, 0.86435714, 0.86914286, 0.86728571, 0.85992857]), 'test_neg_log_loss': array([-0.40421965, -0.41409273, -0.40907839, -0.4109215 , -0.42168201]), 'test_neg_mean_squared_error': array([-1.80942857, -1.84857143, -1.78692857, -1.86557143, -1.91507143]), 'test_roc_auc_ovr': array([0.98470132, 0.98428659, 0.98451878, 0.98457667, 0.98398773]), 'test_f1_weighted': array([0.86932354, 0.86370591, 0.8683069 , 0.86642266, 0.85950861]), 'test_precision_weighted': array([0.86936324, 0.86376591, 0.8684633 , 0.8665921 , 0.8595742 ]), 'test_recall_weighted': array([0.87014286, 0.86435714, 0.86914286, 0.86728571, 0.85992857])}\n",
      "Full 0.05%\n",
      "{'fit_time': array([692.17911267, 690.1500957 , 687.48242617, 693.06894517,\n",
      "       690.06399322]), 'score_time': array([54.93726802, 54.73340106, 54.27690244, 55.08552575, 54.22110271]), 'test_accuracy': array([0.83264286, 0.82921429, 0.83314286, 0.83214286, 0.82514286]), 'test_neg_log_loss': array([-0.61760268, -0.62207945, -0.62238315, -0.61198407, -0.6297524 ]), 'test_neg_mean_squared_error': array([-2.4545    , -2.47092857, -2.3975    , -2.54107143, -2.53428571]), 'test_roc_auc_ovr': array([0.96162603, 0.96162857, 0.96129842, 0.96391026, 0.96204101]), 'test_f1_weighted': array([0.83171659, 0.82866254, 0.83216202, 0.83119419, 0.82481859]), 'test_precision_weighted': array([0.83156701, 0.82892645, 0.8322395 , 0.83138577, 0.82502133]), 'test_recall_weighted': array([0.83264286, 0.82921429, 0.83314286, 0.83214286, 0.82514286])}\n",
      "Full 0.1%\n",
      "{'fit_time': array([ 982.99737859,  981.30396485,  991.6036365 , 1004.03927708,\n",
      "        992.65786266]), 'score_time': array([62.41161847, 62.18869543, 62.44493866, 62.31157613, 62.28619146]), 'test_accuracy': array([0.78992857, 0.782     , 0.79057143, 0.78942857, 0.78007143]), 'test_neg_log_loss': array([-0.82954598, -0.84159028, -0.83093223, -0.82322047, -0.85565929]), 'test_neg_mean_squared_error': array([-3.3465    , -3.29521429, -3.24821429, -3.17257143, -3.38014286]), 'test_roc_auc_ovr': array([0.93491656, 0.93483679, 0.93537088, 0.93636633, 0.93188474]), 'test_f1_weighted': array([0.78882812, 0.78122518, 0.78981835, 0.78849472, 0.77960611]), 'test_precision_weighted': array([0.78855425, 0.78135056, 0.78996741, 0.78877474, 0.77957951]), 'test_recall_weighted': array([0.78992857, 0.782     , 0.79057143, 0.78942857, 0.78007143])}\n"
      ]
    }
   ],
   "source": [
    "for n in noises:\n",
    "    new_y_train = make_noise_label(Y, n)\n",
    "    clf = SVC(probability=True)\n",
    "    scores = cross_validate(clf, X, new_y_train, cv=5, scoring=('accuracy', 'neg_log_loss', 'neg_mean_squared_error', 'roc_auc_ovr', 'f1_weighted', 'precision_weighted', 'recall_weighted'))\n",
    "    print(\"Full \" + str(n) + \"%\")\n",
    "    print(scores)"
   ]
  },
  {
   "cell_type": "code",
   "execution_count": 15,
   "metadata": {
    "pycharm": {
     "is_executing": true
    },
    "scrolled": false
   },
   "outputs": [
    {
     "name": "stdout",
     "output_type": "stream",
     "text": [
      "Samples: 0.1, features: 1\n",
      "Noise 0.01\n",
      "{'fit_time': array([44.15251517, 44.40823722, 44.79876828, 43.93469787, 44.49649692]), 'score_time': array([58.73130631, 58.48243427, 58.53770328, 57.89160728, 58.73069668]), 'test_accuracy': array([0.83142857, 0.82771429, 0.83778571, 0.83185714, 0.8245    ]), 'test_neg_log_loss': array([-0.50686052, -0.50839664, -0.49776846, -0.51577597, -0.51521768]), 'test_neg_mean_squared_error': array([-2.31857143, -2.2025    , -2.13964286, -2.20085714, -2.29007143]), 'test_roc_auc_ovr': array([0.97865446, 0.97919225, 0.97944031, 0.97802815, 0.97875112]), 'test_f1_weighted': array([0.82986614, 0.82632357, 0.8357828 , 0.83005499, 0.82315756]), 'test_precision_weighted': array([0.8298868 , 0.8260838 , 0.83581026, 0.82992718, 0.82284182]), 'test_recall_weighted': array([0.83142857, 0.82771429, 0.83778571, 0.83185714, 0.8245    ])}\n",
      "Samples: 0.35, features: 1\n",
      "Noise 0.01\n",
      "{'fit_time': array([401.97660613, 411.0583744 , 404.74461555, 401.73142743,\n",
      "       400.05051756]), 'score_time': array([169.58967519, 167.61274648, 169.08238435, 168.96605492,\n",
      "       168.28341007]), 'test_accuracy': array([0.8565    , 0.85085714, 0.85885714, 0.85535714, 0.84671429]), 'test_neg_log_loss': array([-0.44770264, -0.45006962, -0.44559742, -0.44390688, -0.46453264]), 'test_neg_mean_squared_error': array([-2.03428571, -1.95914286, -1.90928571, -1.91414286, -2.03007143]), 'test_roc_auc_ovr': array([0.98229395, 0.98296311, 0.9821472 , 0.98303799, 0.98139415]), 'test_f1_weighted': array([0.85536221, 0.85022651, 0.85761901, 0.85453019, 0.84598033]), 'test_precision_weighted': array([0.85526612, 0.85019304, 0.85731315, 0.85440041, 0.84595719]), 'test_recall_weighted': array([0.8565    , 0.85085714, 0.85885714, 0.85535714, 0.84671429])}\n",
      "Samples: 0.7, features: 1\n",
      "Noise 0.01\n",
      "{'fit_time': array([1741.32118797, 1791.25573516, 1739.59996462, 1730.89535522,\n",
      "       1738.13037467]), 'score_time': array([314.07390332, 312.31813979, 323.11385942, 312.43164706,\n",
      "       310.3760457 ]), 'test_accuracy': array([0.86721429, 0.8615    , 0.86778571, 0.86442857, 0.85557143]), 'test_neg_log_loss': array([-0.41501777, -0.42268413, -0.41997306, -0.42518189, -0.43988001]), 'test_neg_mean_squared_error': array([-1.823     , -1.84471429, -1.879     , -1.818     , -1.96792857]), 'test_roc_auc_ovr': array([0.98416005, 0.98418442, 0.98357841, 0.98368362, 0.98260521]), 'test_f1_weighted': array([0.86617913, 0.86095103, 0.86704101, 0.86387061, 0.8550219 ]), 'test_precision_weighted': array([0.86607498, 0.86094958, 0.8669669 , 0.86383087, 0.85489932]), 'test_recall_weighted': array([0.86721429, 0.8615    , 0.86778571, 0.86442857, 0.85557143])}\n",
      "Samples: 1, features: 0.25\n",
      "Noise 0.01\n",
      "{'fit_time': array([2304.9132359 , 2502.29262018, 2689.18059635, 2602.62389445,\n",
      "       5360.12723851]), 'score_time': array([285.65596962, 291.78031278, 298.49259663, 322.10566306,\n",
      "       619.92622876]), 'test_accuracy': array([0.84242857, 0.83842857, 0.85057143, 0.84114286, 0.82942857]), 'test_neg_log_loss': array([-0.58620644, -0.59968511, -0.607684  , -0.61901264, -0.60915181]), 'test_neg_mean_squared_error': array([-2.14207143, -2.11371429, -2.10485714, -2.1425    , -2.25264286]), 'test_roc_auc_ovr': array([0.98000832, 0.98071815, 0.98000683, 0.97871846, 0.97771662]), 'test_f1_weighted': array([0.83989982, 0.83671187, 0.84843688, 0.83972843, 0.82786235]), 'test_precision_weighted': array([0.84061216, 0.83638386, 0.84846302, 0.83996198, 0.82739824]), 'test_recall_weighted': array([0.84242857, 0.83842857, 0.85057143, 0.84114286, 0.82942857])}\n",
      "Samples: 1, features: 0.5\n",
      "Noise 0.01\n",
      "{'fit_time': array([4009.12389874, 2775.6900773 , 2977.6118052 , 2984.1350348 ,\n",
      "       2889.6591413 ]), 'score_time': array([312.5659318 , 314.88363957, 311.60913849, 314.60512543,\n",
      "       313.18734026]), 'test_accuracy': array([0.86271429, 0.85814286, 0.86535714, 0.85807143, 0.84985714]), 'test_neg_log_loss': array([-0.43653484, -0.44067684, -0.42822288, -0.44559527, -0.45237213]), 'test_neg_mean_squared_error': array([-1.87521429, -1.92042857, -1.88342857, -1.94342857, -2.08742857]), 'test_roc_auc_ovr': array([0.98365533, 0.98345224, 0.98405119, 0.98309992, 0.98266577]), 'test_f1_weighted': array([0.86128321, 0.85720465, 0.86423166, 0.85723584, 0.84909445]), 'test_precision_weighted': array([0.86105552, 0.85708397, 0.86397949, 0.85717242, 0.84881032]), 'test_recall_weighted': array([0.86271429, 0.85814286, 0.86535714, 0.85807143, 0.84985714])}\n",
      "Samples: 1, features: 0.75\n",
      "Noise 0.01\n",
      "{'fit_time': array([3886.98062491, 3834.35294175, 3593.30036569, 3578.74257779,\n",
      "       3594.70912647]), 'score_time': array([382.57865071, 350.99613714, 356.85238719, 355.63727498,\n",
      "       353.74253893]), 'test_accuracy': array([0.86864286, 0.8635    , 0.8695    , 0.86742857, 0.85757143]), 'test_neg_log_loss': array([-0.40945646, -0.41945965, -0.41057907, -0.41454023, -0.43424984]), 'test_neg_mean_squared_error': array([-1.79835714, -1.85978571, -1.8365    , -1.8065    , -1.94842857]), 'test_roc_auc_ovr': array([0.9849214 , 0.98414931, 0.98465227, 0.98453635, 0.98325415]), 'test_f1_weighted': array([0.86778746, 0.86293942, 0.86851675, 0.86666593, 0.85719922]), 'test_precision_weighted': array([0.86772147, 0.86285561, 0.8682977 , 0.86656234, 0.85723624]), 'test_recall_weighted': array([0.86864286, 0.8635    , 0.8695    , 0.86742857, 0.85757143])}\n",
      "Samples: 0.1, features: 1\n",
      "Noise 0.05\n",
      "{'fit_time': array([56.25365233, 55.86305356, 55.67668533, 55.40608382, 54.89460754]), 'score_time': array([63.53641272, 62.37576437, 63.03551912, 62.47531509, 63.04701424]), 'test_accuracy': array([0.79771429, 0.78928571, 0.80307143, 0.79878571, 0.79128571]), 'test_neg_log_loss': array([-0.69149287, -0.73955589, -0.69669097, -0.70177369, -0.7130312 ]), 'test_neg_mean_squared_error': array([-2.90407143, -2.94171429, -2.78085714, -2.83228571, -2.91892857]), 'test_roc_auc_ovr': array([0.95868071, 0.95298184, 0.95799302, 0.95748313, 0.95671821]), 'test_f1_weighted': array([0.79580302, 0.78747686, 0.80070685, 0.79657145, 0.78982022]), 'test_precision_weighted': array([0.79607755, 0.7872923 , 0.80129391, 0.79682441, 0.78963334]), 'test_recall_weighted': array([0.79771429, 0.78928571, 0.80307143, 0.79878571, 0.79128571])}\n",
      "Samples: 0.35, features: 1\n",
      "Noise 0.05\n",
      "{'fit_time': array([583.37647462, 587.28346443, 582.50786138, 575.15845323,\n",
      "       581.09555459]), 'score_time': array([192.88321495, 192.38821697, 192.65851569, 191.71329165,\n",
      "       193.48158097]), 'test_accuracy': array([0.82171429, 0.81871429, 0.82342857, 0.81714286, 0.81378571]), 'test_neg_log_loss': array([-0.65690528, -0.6446089 , -0.64681264, -0.66549498, -0.66361195]), 'test_neg_mean_squared_error': array([-2.65507143, -2.56692857, -2.61721429, -2.64671429, -2.65642857]), 'test_roc_auc_ovr': array([0.95955657, 0.96175803, 0.96045491, 0.95943441, 0.95949071]), 'test_f1_weighted': array([0.82025907, 0.81791002, 0.82199713, 0.81602527, 0.81296722]), 'test_precision_weighted': array([0.82003814, 0.81794903, 0.82178121, 0.81603077, 0.81291589]), 'test_recall_weighted': array([0.82171429, 0.81871429, 0.82342857, 0.81714286, 0.81378571])}\n",
      "Samples: 0.7, features: 1\n",
      "Noise 0.05\n",
      "{'fit_time': array([2762.84314752, 2770.52354717, 3032.88755393, 3410.86001062,\n",
      "       2630.97443628]), 'score_time': array([360.23404527, 359.277457  , 774.81500936, 359.42235589,\n",
      "       358.99438643]), 'test_accuracy': array([0.83057143, 0.8305    , 0.831     , 0.8295    , 0.8195    ]), 'test_neg_log_loss': array([-0.62795893, -0.61158451, -0.63320314, -0.6251929 , -0.6475557 ]), 'test_neg_mean_squared_error': array([-2.52092857, -2.47142857, -2.59057143, -2.50292857, -2.69728571]), 'test_roc_auc_ovr': array([0.96092361, 0.96397157, 0.96033793, 0.96224406, 0.95981567]), 'test_f1_weighted': array([0.82977578, 0.82986064, 0.83023459, 0.82885705, 0.81896955]), 'test_precision_weighted': array([0.82977205, 0.82992963, 0.8299681 , 0.82873564, 0.81885409]), 'test_recall_weighted': array([0.83057143, 0.8305    , 0.831     , 0.8295    , 0.8195    ])}\n",
      "Samples: 1, features: 0.25\n",
      "Noise 0.05\n",
      "{'fit_time': array([3219.99170589, 3396.41449213, 6179.34512091, 5532.94693232,\n",
      "       4555.20075798]), 'score_time': array([315.23105788, 316.99068785, 638.27180672, 317.77032876,\n",
      "       605.60227275]), 'test_accuracy': array([0.80557143, 0.80314286, 0.81035714, 0.80507143, 0.80164286]), 'test_neg_log_loss': array([-0.78746973, -0.80679785, -0.78448045, -0.78028797, -0.80325696]), 'test_neg_mean_squared_error': array([-2.81478571, -2.92564286, -2.72464286, -2.91514286, -2.91485714]), 'test_roc_auc_ovr': array([0.95775337, 0.95684225, 0.95783552, 0.95804966, 0.95722419]), 'test_f1_weighted': array([0.80259693, 0.80143637, 0.80814527, 0.80299261, 0.79987129]), 'test_precision_weighted': array([0.80358827, 0.80148713, 0.80829181, 0.80317656, 0.79952045]), 'test_recall_weighted': array([0.80557143, 0.80314286, 0.81035714, 0.80507143, 0.80164286])}\n"
     ]
    },
    {
     "name": "stdout",
     "output_type": "stream",
     "text": [
      "Samples: 1, features: 0.5\n",
      "Noise 0.05\n",
      "{'fit_time': array([7456.3474493 , 4555.71863914, 4421.3907001 , 4470.64562774,\n",
      "       4042.51135516]), 'score_time': array([391.29696631, 345.14422894, 362.64291573, 353.39773846,\n",
      "       346.18799686]), 'test_accuracy': array([0.82971429, 0.82092857, 0.82928571, 0.82121429, 0.81585714]), 'test_neg_log_loss': array([-0.63374688, -0.64638837, -0.63908584, -0.6578005 , -0.66521278]), 'test_neg_mean_squared_error': array([-2.52857143, -2.537     , -2.49314286, -2.67028571, -2.74814286]), 'test_roc_auc_ovr': array([0.96294216, 0.96115132, 0.96161057, 0.96014319, 0.95944963]), 'test_f1_weighted': array([0.82829739, 0.82002003, 0.82827487, 0.8203129 , 0.81496664]), 'test_precision_weighted': array([0.82843742, 0.81996462, 0.82844782, 0.82031528, 0.81471603]), 'test_recall_weighted': array([0.82971429, 0.82092857, 0.82928571, 0.82121429, 0.81585714])}\n",
      "Samples: 1, features: 0.75\n",
      "Noise 0.05\n",
      "{'fit_time': array([ 5302.86048484,  5247.91040945,  8157.29574442,  5006.21922946,\n",
      "       11458.49424601]), 'score_time': array([405.33361697, 404.88391829, 414.40246129, 928.22925615,\n",
      "       404.0765717 ]), 'test_accuracy': array([0.83235714, 0.82771429, 0.8335    , 0.83207143, 0.82514286]), 'test_neg_log_loss': array([-0.61473317, -0.62763498, -0.6207325 , -0.62332388, -0.62573254]), 'test_neg_mean_squared_error': array([-2.491     , -2.50928571, -2.46307143, -2.5675    , -2.52371429]), 'test_roc_auc_ovr': array([0.9633662 , 0.96187163, 0.96208003, 0.96182906, 0.96292743]), 'test_f1_weighted': array([0.83107807, 0.82696035, 0.83252891, 0.83139968, 0.82431182]), 'test_precision_weighted': array([0.83105934, 0.82682208, 0.83250444, 0.83135621, 0.82390624]), 'test_recall_weighted': array([0.83235714, 0.82771429, 0.8335    , 0.83207143, 0.82514286])}\n",
      "Samples: 0.1, features: 1\n",
      "Noise 0.1\n",
      "{'fit_time': array([70.14235663, 71.79515266, 70.11104488, 69.89259338, 70.15532708]), 'score_time': array([68.27850747, 70.21312761, 69.49390078, 69.34435034, 69.09857512]), 'test_accuracy': array([0.75078571, 0.754     , 0.75835714, 0.75107143, 0.74871429]), 'test_neg_log_loss': array([-0.92102691, -0.91156672, -0.90981679, -0.93687844, -0.9207547 ]), 'test_neg_mean_squared_error': array([-3.83135714, -3.63971429, -3.635     , -3.76364286, -3.86935714]), 'test_roc_auc_ovr': array([0.92930471, 0.93153073, 0.93026331, 0.92639277, 0.93029405]), 'test_f1_weighted': array([0.7489261 , 0.75237745, 0.75593981, 0.74890726, 0.74730177]), 'test_precision_weighted': array([0.74899132, 0.75211289, 0.75637131, 0.74890711, 0.74695672]), 'test_recall_weighted': array([0.75078571, 0.754     , 0.75835714, 0.75107143, 0.74871429])}\n",
      "Samples: 0.35, features: 1\n",
      "Noise 0.1\n",
      "{'fit_time': array([778.09384632, 778.41116214, 774.26207066, 780.62753224,\n",
      "       780.8714056 ]), 'score_time': array([217.75725389, 216.75146151, 217.33139515, 217.20455384,\n",
      "       220.85880041]), 'test_accuracy': array([0.77864286, 0.77321429, 0.78007143, 0.77807143, 0.76728571]), 'test_neg_log_loss': array([-0.86790348, -0.87118874, -0.86773875, -0.8496059 , -0.8874863 ]), 'test_neg_mean_squared_error': array([-3.57957143, -3.58      , -3.4315    , -3.32828571, -3.58107143]), 'test_roc_auc_ovr': array([0.9318926 , 0.93209072, 0.93170441, 0.93580626, 0.93004996]), 'test_f1_weighted': array([0.777249  , 0.77184689, 0.77880436, 0.77683193, 0.7661708 ]), 'test_precision_weighted': array([0.7777206 , 0.77201013, 0.77884034, 0.77660775, 0.76600535]), 'test_recall_weighted': array([0.77864286, 0.77321429, 0.78007143, 0.77807143, 0.76728571])}\n",
      "Samples: 0.7, features: 1\n",
      "Noise 0.1\n",
      "{'fit_time': array([3619.1237061 , 3618.64627123, 3780.30633068, 4140.83480501,\n",
      "       3621.32356715]), 'score_time': array([407.69695044, 407.42891407, 431.08076406, 410.0026195 ,\n",
      "       407.03409338]), 'test_accuracy': array([0.78714286, 0.77992857, 0.7875    , 0.78721429, 0.77807143]), 'test_neg_log_loss': array([-0.84124966, -0.85111257, -0.84434551, -0.83508033, -0.85078257]), 'test_neg_mean_squared_error': array([-3.35471429, -3.39585714, -3.37457143, -3.26814286, -3.42157143]), 'test_roc_auc_ovr': array([0.93381856, 0.93340589, 0.93361794, 0.93590999, 0.93425125]), 'test_f1_weighted': array([0.78567944, 0.77909076, 0.78653693, 0.78699418, 0.77758164]), 'test_precision_weighted': array([0.78542673, 0.77910113, 0.78639032, 0.78722451, 0.7776729 ]), 'test_recall_weighted': array([0.78714286, 0.77992857, 0.7875    , 0.78721429, 0.77807143])}\n",
      "Samples: 1, features: 0.25\n",
      "Noise 0.1\n",
      "{'fit_time': array([4530.19982409, 3833.59613299, 3917.71867585, 4479.39819598,\n",
      "       3809.20365715]), 'score_time': array([745.20541477, 324.66265154, 368.68169117, 353.17766476,\n",
      "       321.97958589]), 'test_accuracy': array([0.76328571, 0.76171429, 0.76742857, 0.75671429, 0.76221429]), 'test_neg_log_loss': array([-0.98780555, -0.97098085, -0.96954057, -1.00615714, -0.96978196]), 'test_neg_mean_squared_error': array([-3.7475    , -3.54178571, -3.67557143, -3.66085714, -3.66842857]), 'test_roc_auc_ovr': array([0.9299134 , 0.93075374, 0.93042544, 0.92881109, 0.93212047]), 'test_f1_weighted': array([0.76054135, 0.75991454, 0.76561496, 0.75411341, 0.76018469]), 'test_precision_weighted': array([0.76169775, 0.75974556, 0.76569349, 0.75407443, 0.75992694]), 'test_recall_weighted': array([0.76328571, 0.76171429, 0.76742857, 0.75671429, 0.76221429])}\n",
      "Samples: 1, features: 0.5\n",
      "Noise 0.1\n",
      "{'fit_time': array([5061.75967383, 5088.49510145, 5075.65607142, 5047.08943272,\n",
      "       5143.00521779]), 'score_time': array([391.57755089, 387.84138322, 390.39206076, 389.7121911 ,\n",
      "       387.89824247]), 'test_accuracy': array([0.78371429, 0.78085714, 0.78264286, 0.78257143, 0.77635714]), 'test_neg_log_loss': array([-0.8500118 , -0.8581088 , -0.86265937, -0.8490391 , -0.86310099]), 'test_neg_mean_squared_error': array([-3.467     , -3.31378571, -3.42878571, -3.33714286, -3.44392857]), 'test_roc_auc_ovr': array([0.9352133 , 0.93426362, 0.93307293, 0.93605432, 0.93483162]), 'test_f1_weighted': array([0.78238952, 0.77973654, 0.78181168, 0.78148687, 0.77533311]), 'test_precision_weighted': array([0.78270588, 0.77964174, 0.78173612, 0.78175258, 0.77482328]), 'test_recall_weighted': array([0.78371429, 0.78085714, 0.78264286, 0.78257143, 0.77635714])}\n",
      "Samples: 1, features: 0.75\n",
      "Noise 0.1\n",
      "{'fit_time': array([6750.2669158 , 6733.20253348, 6829.10204244, 6727.93177319,\n",
      "       6797.06084347]), 'score_time': array([458.50467825, 457.59793544, 465.71020389, 457.99263477,\n",
      "       460.5936842 ]), 'test_accuracy': array([0.78792857, 0.78692857, 0.78521429, 0.7865    , 0.78178571]), 'test_neg_log_loss': array([-0.83661911, -0.83249484, -0.84790068, -0.84701196, -0.84182176]), 'test_neg_mean_squared_error': array([-3.28457143, -3.26178571, -3.46435714, -3.3945    , -3.39242857]), 'test_roc_auc_ovr': array([0.93456409, 0.9362993 , 0.93271619, 0.9325671 , 0.93535169]), 'test_f1_weighted': array([0.78673636, 0.78596977, 0.78392989, 0.78553953, 0.78119989]), 'test_precision_weighted': array([0.78669504, 0.78603185, 0.78387072, 0.78534895, 0.78152674]), 'test_recall_weighted': array([0.78792857, 0.78692857, 0.78521429, 0.7865    , 0.78178571])}\n"
     ]
    }
   ],
   "source": [
    "for n in noises:\n",
    "    for minor in minors:\n",
    "        new_y_train = make_noise_label(Y, n)\n",
    "        scores = cross_validate(minor, X, new_y_train, cv=5, scoring=('accuracy', 'neg_log_loss', 'neg_mean_squared_error', 'roc_auc_ovr', 'f1_weighted', 'precision_weighted', 'recall_weighted'))\n",
    "        print(\"Samples: \" + str(minor.samp) + \", features: \" + str(minor.feat))\n",
    "        print(\"Noise \" + str(n))\n",
    "        print(scores)"
   ]
  },
  {
   "cell_type": "code",
   "execution_count": 19,
   "metadata": {
    "pycharm": {
     "is_executing": true
    }
   },
   "outputs": [],
   "source": [
    "noises = [0.1, 0.2, 0.3]"
   ]
  },
  {
   "cell_type": "code",
   "execution_count": 20,
   "metadata": {},
      "outputs": [
    {
     "name": "stdout",
     "output_type": "stream",
     "text": [
      "Full 0.1%\n",
      "{'fit_time': array([391.33737779, 392.77413607, 392.44460082, 386.7590735 ,\n",
      "       399.97994089]), 'score_time': array([44.76011014, 44.9320941 , 44.95547462, 43.93913484, 44.93002605]), 'test_accuracy': array([0.8775    , 0.87271429, 0.87607143, 0.8735    , 0.86671429]), 'test_neg_log_loss': array([-0.34456843, -0.35030322, -0.34749276, -0.35349998, -0.36641845]), 'test_neg_mean_squared_error': array([-1.65657143, -1.6615    , -1.64278571, -1.69457143, -1.76514286]), 'test_roc_auc_ovr': array([0.98989768, 0.98986078, 0.98968087, 0.98961975, 0.98871485]), 'test_f1_weighted': array([0.87646635, 0.87198031, 0.87513805, 0.87254236, 0.86606023]), 'test_precision_weighted': array([0.87652458, 0.87194339, 0.87531651, 0.8727319 , 0.86597874]), 'test_recall_weighted': array([0.8775    , 0.87271429, 0.87607143, 0.8735    , 0.86671429])}\n",
      "Full 0.2%\n",
      "{'fit_time': array([421.31390333, 422.70350432, 426.59197259, 422.88736916,\n",
      "       404.47163606]), 'score_time': array([47.49341798, 47.41816473, 48.46637249, 47.68384051, 46.34008956]), 'test_accuracy': array([0.86914286, 0.86414286, 0.86935714, 0.86735714, 0.85857143]), 'test_neg_log_loss': array([-0.36206575, -0.36846437, -0.36602189, -0.36901728, -0.38403164]), 'test_neg_mean_squared_error': array([-1.76271429, -1.74735714, -1.75178571, -1.72757143, -1.86971429]), 'test_roc_auc_ovr': array([0.9890175 , 0.98895063, 0.9887368 , 0.98886778, 0.98783321]), 'test_f1_weighted': array([0.86804231, 0.86349396, 0.86816215, 0.86626057, 0.85770815]), 'test_precision_weighted': array([0.86794251, 0.86350939, 0.86825117, 0.86643651, 0.85751285]), 'test_recall_weighted': array([0.86914286, 0.86414286, 0.86935714, 0.86735714, 0.85857143])}\n",
      "Full 0.3%\n",
      "{'fit_time': array([442.91717362, 442.82838225, 438.07991815, 439.31945324,\n",
      "       442.31974816]), 'score_time': array([49.17498016, 48.78145552, 49.34039617, 48.48488855, 48.90866256]), 'test_accuracy': array([0.8655    , 0.85864286, 0.85921429, 0.86121429, 0.85378571]), 'test_neg_log_loss': array([-0.37758565, -0.38948571, -0.38774365, -0.38904876, -0.39944748]), 'test_neg_mean_squared_error': array([-1.78657143, -1.84578571, -1.8515    , -1.78328571, -1.93257143]), 'test_roc_auc_ovr': array([0.98816458, 0.98782399, 0.98745721, 0.98770659, 0.98699977]), 'test_f1_weighted': array([0.86417785, 0.85762751, 0.85803128, 0.85958468, 0.85267145]), 'test_precision_weighted': array([0.86398922, 0.85747171, 0.85791051, 0.85981647, 0.85230702]), 'test_recall_weighted': array([0.8655    , 0.85864286, 0.85921429, 0.86121429, 0.85378571])}\n"
      ]
    }
   ],
   "source": [
    "for n in noises:\n",
    "    new_x_train = make_noise_data(X, n)\n",
    "    clf = SVC(probability=True)\n",
    "    scores = cross_validate(clf, new_x_train, Y, cv=5, scoring=('accuracy', 'neg_log_loss', 'neg_mean_squared_error', 'roc_auc_ovr', 'f1_weighted', 'precision_weighted', 'recall_weighted'))\n",
    "    print(\"Full \" + str(n) + \"%\")\n",
    "    print(scores)"
   ]
  },
  {
   "cell_type": "code",
   "execution_count": 20,
   "metadata": {
    "pycharm": {
     "is_executing": true
    },
    "scrolled": false
   },
   "outputs": [
    {
     "name": "stdout",
     "output_type": "stream",
     "text": [
      "Samples: 0.1, features: 1\n",
      "Noise 0.1\n",
      "{'fit_time': array([47.13355684, 41.3211596 , 40.28899074, 40.85308266, 40.49138474]), 'score_time': array([57.35100174, 56.90003872, 57.0849297 , 56.27276921, 57.60540533]), 'test_accuracy': array([0.83871429, 0.83428571, 0.84192857, 0.83907143, 0.82864286]), 'test_neg_log_loss': array([-0.44221281, -0.45527807, -0.44261212, -0.45291123, -0.46276772]), 'test_neg_mean_squared_error': array([-2.18692857, -2.05435714, -2.002     , -2.05428571, -2.17128571]), 'test_roc_auc_ovr': array([0.98450359, 0.98417258, 0.98444783, 0.98402373, 0.98332779]), 'test_f1_weighted': array([0.83725635, 0.83282733, 0.83973607, 0.83713447, 0.82726621]), 'test_precision_weighted': array([0.83727799, 0.83233749, 0.83977594, 0.83682986, 0.82700069]), 'test_recall_weighted': array([0.83871429, 0.83428571, 0.84192857, 0.83907143, 0.82864286])}\n",
      "Samples: 0.35, features: 1\n",
      "Noise 0.1\n",
      "{'fit_time': array([377.78099251, 366.9104805 , 364.55141234, 360.51012778,\n",
      "       362.62381554]), 'score_time': array([164.09388328, 163.5110507 , 163.55359364, 163.81594038,\n",
      "       164.19827461]), 'test_accuracy': array([0.86228571, 0.85685714, 0.86721429, 0.85978571, 0.85292857]), 'test_neg_log_loss': array([-0.3823573 , -0.39543771, -0.38371095, -0.39485175, -0.40380441]), 'test_neg_mean_squared_error': array([-1.84742857, -1.81107143, -1.80178571, -1.77964286, -1.89385714]), 'test_roc_auc_ovr': array([0.98801155, 0.9875994 , 0.98772628, 0.98733893, 0.98670559]), 'test_f1_weighted': array([0.86120981, 0.85597129, 0.86606273, 0.85883127, 0.85236133]), 'test_precision_weighted': array([0.8610384 , 0.85578741, 0.86577143, 0.8586306 , 0.85225986]), 'test_recall_weighted': array([0.86228571, 0.85685714, 0.86721429, 0.85978571, 0.85292857])}\n",
      "Samples: 0.7, features: 1\n",
      "Noise 0.1\n",
      "{'fit_time': array([1559.40965796, 1933.1947906 , 1504.8209219 , 1501.83586097,\n",
      "       1498.67614794]), 'score_time': array([320.23951459, 378.17787671, 300.8551836 , 341.96551108,\n",
      "       299.25167537]), 'test_accuracy': array([0.87228571, 0.867     , 0.87421429, 0.87021429, 0.86257143]), 'test_neg_log_loss': array([-0.3534922 , -0.36471127, -0.35767186, -0.36636627, -0.3770069 ]), 'test_neg_mean_squared_error': array([-1.72592857, -1.7085    , -1.69742857, -1.71942857, -1.82564286]), 'test_roc_auc_ovr': array([0.98963715, 0.98920647, 0.98911681, 0.98896895, 0.98824463]), 'test_f1_weighted': array([0.87141116, 0.86634587, 0.87342139, 0.86953486, 0.86211472]), 'test_precision_weighted': array([0.87129071, 0.86621706, 0.87317649, 0.86947487, 0.8619527 ]), 'test_recall_weighted': array([0.87228571, 0.867     , 0.87421429, 0.87021429, 0.86257143])}\n",
      "Samples: 1, features: 0.25\n",
      "Noise 0.1\n",
      "{'fit_time': array([2224.88082004, 2411.26909709, 2318.90694642, 2667.67379546,\n",
      "       2701.40760589]), 'score_time': array([291.40307093, 285.88985085, 298.39761138, 316.54938412,\n",
      "       313.79181266]), 'test_accuracy': array([0.84785714, 0.84657143, 0.84928571, 0.84478571, 0.83714286]), 'test_neg_log_loss': array([-0.54935384, -0.55447637, -0.53133302, -0.56762743, -0.57904344]), 'test_neg_mean_squared_error': array([-2.06614286, -2.00957143, -2.00557143, -2.0035    , -2.1485    ]), 'test_roc_auc_ovr': array([0.9851749 , 0.98522665, 0.98442883, 0.98403126, 0.98289052]), 'test_f1_weighted': array([0.84500057, 0.84426455, 0.84703719, 0.84272013, 0.83538715]), 'test_precision_weighted': array([0.84590954, 0.84446227, 0.84711437, 0.84317886, 0.83481534]), 'test_recall_weighted': array([0.84785714, 0.84657143, 0.84928571, 0.84478571, 0.83714286])}\n",
      "Samples: 1, features: 0.5\n",
      "Noise 0.1\n",
      "{'fit_time': array([2975.80960894, 3152.75505757, 2910.98499799, 3802.38732123,\n",
      "       2606.87851191]), 'score_time': array([327.09618974, 333.63248277, 321.89317203, 324.42201781,\n",
      "       311.07228875]), 'test_accuracy': array([0.86892857, 0.86657143, 0.87121429, 0.86785714, 0.85785714]), 'test_neg_log_loss': array([-0.37432753, -0.38174922, -0.37641573, -0.3784291 , -0.39057122]), 'test_neg_mean_squared_error': array([-1.75485714, -1.69435714, -1.73121429, -1.75685714, -1.89328571]), 'test_roc_auc_ovr': array([0.98912003, 0.98903913, 0.98870208, 0.98888368, 0.9879088 ]), 'test_f1_weighted': array([0.86755894, 0.86577285, 0.87001207, 0.86690629, 0.85711796]), 'test_precision_weighted': array([0.86750419, 0.86559614, 0.8698834 , 0.86675198, 0.85681376]), 'test_recall_weighted': array([0.86892857, 0.86657143, 0.87121429, 0.86785714, 0.85785714])}\n",
      "Samples: 1, features: 0.75\n",
      "Noise 0.1\n",
      "{'fit_time': array([2754.33858395, 2744.28709292, 2810.83081818, 2836.99801421,\n",
      "       2791.20371914]), 'score_time': array([341.12729573, 337.74954224, 341.37871718, 341.40826845,\n",
      "       337.92550397]), 'test_accuracy': array([0.87478571, 0.87214286, 0.87657143, 0.87378571, 0.86457143]), 'test_neg_log_loss': array([-0.34774628, -0.35658306, -0.35056932, -0.35552071, -0.36775756]), 'test_neg_mean_squared_error': array([-1.69285714, -1.6255    , -1.68921429, -1.66035714, -1.81557143]), 'test_roc_auc_ovr': array([0.99000252, 0.98971961, 0.98959341, 0.98962922, 0.98875628]), 'test_f1_weighted': array([0.87388861, 0.8714815 , 0.8755923 , 0.87302599, 0.86405803]), 'test_precision_weighted': array([0.87368197, 0.8714165 , 0.87529095, 0.87286079, 0.86385446]), 'test_recall_weighted': array([0.87478571, 0.87214286, 0.87657143, 0.87378571, 0.86457143])}\n",
      "Samples: 0.1, features: 1\n",
      "Noise 0.2\n",
      "{'fit_time': array([42.57459688, 42.95613885, 42.12666059, 41.51720381, 42.08967209]), 'score_time': array([58.66705489, 59.15396285, 58.69545984, 58.38977313, 59.05227304]), 'test_accuracy': array([0.83371429, 0.82857143, 0.83364286, 0.83278571, 0.824     ]), 'test_neg_log_loss': array([-0.46059187, -0.47111595, -0.46153468, -0.47090507, -0.47711852]), 'test_neg_mean_squared_error': array([-2.18985714, -2.11807143, -2.12178571, -2.12242857, -2.229     ]), 'test_roc_auc_ovr': array([0.98343274, 0.98326148, 0.98314873, 0.98285127, 0.98240329]), 'test_f1_weighted': array([0.83200139, 0.8270098 , 0.83190646, 0.83099403, 0.82249007]), 'test_precision_weighted': array([0.8318335 , 0.82645881, 0.83165103, 0.83062181, 0.82203131]), 'test_recall_weighted': array([0.83371429, 0.82857143, 0.83364286, 0.83278571, 0.824     ])}\n",
      "Samples: 0.35, features: 1\n",
      "Noise 0.2\n",
      "{'fit_time': array([375.51024508, 379.36230016, 378.31723046, 375.16669631,\n",
      "       388.30557013]), 'score_time': array([168.33769846, 168.0994904 , 168.58001113, 167.89229369,\n",
      "       169.41719294]), 'test_accuracy': array([0.85685714, 0.85292857, 0.85842857, 0.85442857, 0.84828571]), 'test_neg_log_loss': array([-0.40061671, -0.4083805 , -0.40090183, -0.40636287, -0.42060685]), 'test_neg_mean_squared_error': array([-1.88214286, -1.86657143, -1.86985714, -1.87942857, -1.9915    ]), 'test_roc_auc_ovr': array([0.98717198, 0.98695134, 0.98677637, 0.98660801, 0.98572204]), 'test_f1_weighted': array([0.85546441, 0.85178726, 0.85701756, 0.85327687, 0.84757197]), 'test_precision_weighted': array([0.85532634, 0.85146285, 0.85666704, 0.85302595, 0.84743357]), 'test_recall_weighted': array([0.85685714, 0.85292857, 0.85842857, 0.85442857, 0.84828571])}\n",
      "Samples: 0.7, features: 1\n",
      "Noise 0.2\n",
      "{'fit_time': array([1574.25407338, 1572.11833668, 1579.63655066, 1576.12028766,\n",
      "       1573.34072804]), 'score_time': array([309.47152472, 308.31269431, 346.69503093, 309.63179255,\n",
      "       309.33290958]), 'test_accuracy': array([0.86614286, 0.862     , 0.86685714, 0.86564286, 0.85435714]), 'test_neg_log_loss': array([-0.37101798, -0.38060476, -0.37409721, -0.38099042, -0.39484221]), 'test_neg_mean_squared_error': array([-1.81742857, -1.7415    , -1.79871429, -1.75928571, -1.91571429]), 'test_roc_auc_ovr': array([0.98867908, 0.98838588, 0.9883187 , 0.98811519, 0.98712381]), 'test_f1_weighted': array([0.8651705 , 0.86123903, 0.86570184, 0.86492587, 0.85358261]), 'test_precision_weighted': array([0.86497683, 0.86102308, 0.86536616, 0.8648038 , 0.85324126]), 'test_recall_weighted': array([0.86614286, 0.862     , 0.86685714, 0.86564286, 0.85435714])}\n",
      "Samples: 1, features: 0.25\n",
      "Noise 0.2\n",
      "{'fit_time': array([2314.35103226, 2528.5440414 , 2481.47806668, 2735.04084086,\n",
      "       2241.40684724]), 'score_time': array([293.74522138, 298.05489731, 303.40855646, 313.27855754,\n",
      "       291.43501329]), 'test_accuracy': array([0.84257143, 0.83628571, 0.843     , 0.84021429, 0.82964286]), 'test_neg_log_loss': array([-0.56697267, -0.59669335, -0.58403108, -0.61637713, -0.58353882]), 'test_neg_mean_squared_error': array([-2.05864286, -2.12035714, -2.05192857, -2.12571429, -2.2305    ]), 'test_roc_auc_ovr': array([0.98403006, 0.98309564, 0.9837784 , 0.98252267, 0.98210851]), 'test_f1_weighted': array([0.83962872, 0.83395893, 0.84058374, 0.83854728, 0.82750096]), 'test_precision_weighted': array([0.84032273, 0.83397485, 0.84049538, 0.83839649, 0.82689142]), 'test_recall_weighted': array([0.84257143, 0.83628571, 0.843     , 0.84021429, 0.82964286])}\n"
     ]
    },
    {
     "name": "stdout",
     "output_type": "stream",
     "text": [
      "Samples: 1, features: 0.5\n",
      "Noise 0.2\n",
      "{'fit_time': array([2449.06383133, 2714.39082479, 2426.28336358, 2421.42372942,\n",
      "       2653.66901302]), 'score_time': array([312.70195961, 327.19612384, 316.39450645, 317.94203401,\n",
      "       318.79683685]), 'test_accuracy': array([0.864     , 0.85907143, 0.86414286, 0.86142857, 0.85607143]), 'test_neg_log_loss': array([-0.38483655, -0.40624795, -0.39526215, -0.40303768, -0.40678339]), 'test_neg_mean_squared_error': array([-1.82642857, -1.83692857, -1.84771429, -1.83692857, -1.94935714]), 'test_roc_auc_ovr': array([0.98880637, 0.9881393 , 0.98796058, 0.9877812 , 0.98740941]), 'test_f1_weighted': array([0.86261984, 0.85815696, 0.86285125, 0.86031367, 0.85522885]), 'test_precision_weighted': array([0.86247068, 0.85795957, 0.86257403, 0.86033349, 0.85482821]), 'test_recall_weighted': array([0.864     , 0.85907143, 0.86414286, 0.86142857, 0.85607143])}\n",
      "Samples: 1, features: 0.75\n",
      "Noise 0.2\n",
      "{'fit_time': array([2957.80772328, 2938.78233671, 2903.90740061, 2997.13972831,\n",
      "       2927.24250507]), 'score_time': array([351.9783566 , 353.18498373, 352.72194934, 356.66883755,\n",
      "       351.74329829]), 'test_accuracy': array([0.86835714, 0.8625    , 0.86742857, 0.86507143, 0.85878571]), 'test_neg_log_loss': array([-0.36513517, -0.37443188, -0.36951617, -0.37993348, -0.38682079]), 'test_neg_mean_squared_error': array([-1.72714286, -1.766     , -1.75678571, -1.80471429, -1.87092857]), 'test_roc_auc_ovr': array([0.98907347, 0.98884846, 0.9885837 , 0.98831854, 0.98770008]), 'test_f1_weighted': array([0.86690595, 0.86186062, 0.86636321, 0.86429969, 0.858209  ]), 'test_precision_weighted': array([0.86677717, 0.86162982, 0.86612391, 0.86415501, 0.85798469]), 'test_recall_weighted': array([0.86835714, 0.8625    , 0.86742857, 0.86507143, 0.85878571])}\n",
      "Samples: 0.1, features: 1\n",
      "Noise 0.3\n",
      "{'fit_time': array([45.06176853, 45.17624426, 44.42271161, 43.85479617, 44.28486943]), 'score_time': array([60.78019452, 60.27192879, 60.55587602, 60.17775273, 61.14507699]), 'test_accuracy': array([0.826     , 0.81707143, 0.82814286, 0.82457143, 0.81735714]), 'test_neg_log_loss': array([-0.48616086, -0.50092153, -0.48684495, -0.49799366, -0.50214682]), 'test_neg_mean_squared_error': array([-2.26428571, -2.33757143, -2.15714286, -2.19742857, -2.296     ]), 'test_roc_auc_ovr': array([0.9817314 , 0.98130382, 0.98172077, 0.98116992, 0.98105968]), 'test_f1_weighted': array([0.82386141, 0.81519492, 0.82582112, 0.82217985, 0.81613775]), 'test_precision_weighted': array([0.82348506, 0.81448828, 0.82551953, 0.82165904, 0.81599093]), 'test_recall_weighted': array([0.826     , 0.81707143, 0.82814286, 0.82457143, 0.81735714])}\n",
      "Samples: 0.35, features: 1\n",
      "Noise 0.3\n",
      "{'fit_time': array([406.49887872, 406.29330993, 406.92093277, 402.27075791,\n",
      "       404.30870366]), 'score_time': array([176.33080554, 176.14393806, 177.69540238, 176.17853737,\n",
      "       177.33101845]), 'test_accuracy': array([0.84678571, 0.84142857, 0.85121429, 0.84385714, 0.8385    ]), 'test_neg_log_loss': array([-0.42152348, -0.43512832, -0.42419093, -0.43709888, -0.4436452 ]), 'test_neg_mean_squared_error': array([-2.00621429, -2.03314286, -1.93978571, -2.00492857, -2.07492857]), 'test_roc_auc_ovr': array([0.98600947, 0.98544186, 0.98552394, 0.98487057, 0.98441069]), 'test_f1_weighted': array([0.8452417 , 0.8400778 , 0.84978951, 0.84248568, 0.83775193]), 'test_precision_weighted': array([0.84502227, 0.83953853, 0.84934766, 0.84212021, 0.83750534]), 'test_recall_weighted': array([0.84678571, 0.84142857, 0.85121429, 0.84385714, 0.8385    ])}\n",
      "Samples: 0.7, features: 1\n",
      "Noise 0.3\n",
      "{'fit_time': array([1699.64752245, 1700.9067235 , 1702.57826066, 1701.4609251 ,\n",
      "       1703.20330858]), 'score_time': array([324.43864107, 323.88248515, 324.21705651, 324.78798676,\n",
      "       323.74053669]), 'test_accuracy': array([0.859     , 0.85435714, 0.85807143, 0.85435714, 0.8495    ]), 'test_neg_log_loss': array([-0.39706887, -0.39762668, -0.39717192, -0.40422252, -0.41698341]), 'test_neg_mean_squared_error': array([-1.857     , -1.8525    , -1.90092857, -1.92042857, -2.00242857]), 'test_roc_auc_ovr': array([0.98719163, 0.98746394, 0.98704144, 0.98698522, 0.98600495]), 'test_f1_weighted': array([0.85780303, 0.85363673, 0.85689169, 0.85356744, 0.84876797]), 'test_precision_weighted': array([0.85760091, 0.8534242 , 0.85659334, 0.85336285, 0.84848418]), 'test_recall_weighted': array([0.859     , 0.85435714, 0.85807143, 0.85435714, 0.8495    ])}\n",
      "Samples: 1, features: 0.25\n",
      "Noise 0.3\n",
      "{'fit_time': array([2304.89932704, 2827.17147064, 2631.35998726, 2763.06684756,\n",
      "       2852.91384745]), 'score_time': array([296.60593414, 312.67890096, 322.01983643, 322.08508134,\n",
      "       320.32628441]), 'test_accuracy': array([0.83307143, 0.83264286, 0.82407143, 0.83328571, 0.82421429]), 'test_neg_log_loss': array([-0.58420096, -0.62953609, -0.64027265, -0.64364023, -0.6598329 ]), 'test_neg_mean_squared_error': array([-2.21364286, -2.18464286, -2.29878571, -2.19928571, -2.33128571]), 'test_roc_auc_ovr': array([0.98286318, 0.98241916, 0.98002659, 0.98217012, 0.98032948]), 'test_f1_weighted': array([0.82909666, 0.83035361, 0.82124359, 0.83095742, 0.82205067]), 'test_precision_weighted': array([0.83088253, 0.82995995, 0.82124403, 0.83092724, 0.82139738]), 'test_recall_weighted': array([0.83307143, 0.83264286, 0.82407143, 0.83328571, 0.82421429])}\n",
      "Samples: 1, features: 0.5\n",
      "Noise 0.3\n",
      "{'fit_time': array([2845.88779664, 2766.0545814 , 2915.31258678, 2865.7593534 ,\n",
      "       2592.3176043 ]), 'score_time': array([341.80979705, 335.83054304, 343.96807718, 342.71349025,\n",
      "       323.47451925]), 'test_accuracy': array([0.86157143, 0.85514286, 0.85557143, 0.85628571, 0.84735714]), 'test_neg_log_loss': array([-0.41462025, -0.42628342, -0.42709911, -0.42974973, -0.42674066]), 'test_neg_mean_squared_error': array([-1.90142857, -1.8665    , -1.96264286, -1.82214286, -2.01507143]), 'test_roc_auc_ovr': array([0.98763127, 0.98721741, 0.98656218, 0.9865938 , 0.98606315]), 'test_f1_weighted': array([0.85969479, 0.85375814, 0.85419355, 0.85492387, 0.84629382]), 'test_precision_weighted': array([0.85984874, 0.85342912, 0.85377494, 0.854875  , 0.84579669]), 'test_recall_weighted': array([0.86157143, 0.85514286, 0.85557143, 0.85628571, 0.84735714])}\n",
      "Samples: 1, features: 0.75\n",
      "Noise 0.3\n",
      "{'fit_time': array([3233.22758675, 3277.30818009, 3282.58442187, 3132.68713403,\n",
      "       3338.91807652]), 'score_time': array([370.05467463, 372.90003633, 372.03506446, 367.51247549,\n",
      "       377.80231023]), 'test_accuracy': array([0.866     , 0.85785714, 0.86292857, 0.858     , 0.85042857]), 'test_neg_log_loss': array([-0.37793016, -0.3959835 , -0.38894234, -0.39795344, -0.41202933]), 'test_neg_mean_squared_error': array([-1.79571429, -1.81642857, -1.84521429, -1.83471429, -1.9715    ]), 'test_roc_auc_ovr': array([0.98867325, 0.98782852, 0.98774278, 0.98746305, 0.98660149]), 'test_f1_weighted': array([0.86480925, 0.85699418, 0.86188476, 0.85671552, 0.84954632]), 'test_precision_weighted': array([0.86455999, 0.85669979, 0.86154854, 0.85644706, 0.84912329]), 'test_recall_weighted': array([0.866     , 0.85785714, 0.86292857, 0.858     , 0.85042857])}\n"
     ]
    }
   ],
   "source": [
    "for n in noises:\n",
    "    for minor in minors:\n",
    "        new_x_train = make_noise_data(X, n)\n",
    "        scores = cross_validate(minor, new_x_train, Y, cv=5, scoring=('accuracy', 'neg_log_loss', 'neg_mean_squared_error', 'roc_auc_ovr', 'f1_weighted', 'precision_weighted', 'recall_weighted'))\n",
    "        print(\"Samples: \" + str(minor.samp) + \", features: \" + str(minor.feat))\n",
    "        print(\"Noise \" + str(n))\n",
    "        print(scores)"
   ]
  },
  {
   "cell_type": "code",
   "execution_count": null,
   "metadata": {
    "pycharm": {
     "is_executing": true
    }
   },
   "outputs": [],
   "source": []
  }
 ],
 "metadata": {
  "kernelspec": {
   "display_name": "Python 3",
   "language": "python",
   "name": "python3"
  },
  "language_info": {
   "codemirror_mode": {
    "name": "ipython",
    "version": 3
   },
   "file_extension": ".py",
   "mimetype": "text/x-python",
   "name": "python",
   "nbconvert_exporter": "python",
   "pygments_lexer": "ipython3",
   "version": "3.8.0"
  }
 },
 "nbformat": 4,
 "nbformat_minor": 1
}
