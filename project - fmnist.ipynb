{
 "cells": [
  {
   "cell_type": "markdown",
   "metadata": {},
   "source": [
    "1."
   ]
  },
  {
   "cell_type": "code",
   "execution_count": 1,
   "metadata": {
    "pycharm": {
     "is_executing": true
    }
   },
   "outputs": [],
   "source": [
    "from sklearn.metrics import (accuracy_score, f1_score)\n",
    "from sklearn.preprocessing import StandardScaler\n",
    "from sklearn.decomposition import PCA\n",
    "from sklearn.svm import SVC\n",
    "from sklearn.utils import resample\n",
    "import tensorflow as tf\n",
    "import numpy as np\n",
    "from random import sample \n",
    "from copy import deepcopy\n",
    "from random import sample, randint, randrange\n",
    "import imgaug.augmenters as iaa\n",
    "from contextlib import contextmanager\n",
    "from timeit import default_timer\n",
    "from sklearn.model_selection import cross_validate"
   ]
  },
  {
   "cell_type": "code",
   "execution_count": 2,
   "metadata": {
    "pycharm": {
     "is_executing": true
    }
   },
   "outputs": [],
   "source": [
    "@contextmanager\n",
    "def elapsed_timer():\n",
    "    start_time = default_timer()\n",
    "\n",
    "    class _Timer():\n",
    "      start = start_time\n",
    "      end = default_timer()\n",
    "      duration = end - start\n",
    "\n",
    "    yield _Timer\n",
    "\n",
    "    end_time = default_timer()\n",
    "    _Timer.end = end_time\n",
    "    _Timer.duration = end_time - start_time"
   ]
  },
  {
   "cell_type": "code",
   "execution_count": 3,
   "metadata": {
    "pycharm": {
     "is_executing": true
    }
   },
   "outputs": [],
   "source": [
    "(x_train_f, y_train_f), (x_test_f, y_test_f) = tf.keras.datasets.fashion_mnist.load_data()"
   ]
  },
  {
   "cell_type": "code",
   "execution_count": 4,
   "metadata": {
    "pycharm": {
     "is_executing": true
    }
   },
   "outputs": [],
   "source": [
    "x_train = x_train_f.reshape((x_train_f.shape[0],-1))\n",
    "x_test = x_test_f.reshape((x_test_f.shape[0],-1))\n",
    "y_train = y_train_f.reshape((y_train_f.shape[0],))\n",
    "y_test = y_test_f\n",
    "\n",
    "X_concat = np.concatenate([x_train, x_test])\n",
    "Y = np.concatenate([y_train, y_test])\n",
    "\n",
    "scaler = StandardScaler()\n",
    "\n",
    "scaler.fit(X_concat)\n",
    "\n",
    "X_transform = scaler.transform(X_concat)\n",
    "\n",
    "pca = PCA(n_components=50)\n",
    "pca.fit(X_transform)\n",
    "\n",
    "X = pca.transform(X_transform)\n",
    "\n",
    "classes_count = 10"
   ]
  },
  {
   "cell_type": "code",
   "execution_count": 5,
   "metadata": {},
   "outputs": [],
   "source": [
    "X = X[:5000]\n",
    "Y = Y[:5000]"
   ]
  },
  {
   "cell_type": "markdown",
   "metadata": {},
   "source": [
    "2."
   ]
  },
  {
   "cell_type": "markdown",
   "metadata": {},
   "source": [
    "Pełne dane"
   ]
  },
  {
   "cell_type": "code",
   "execution_count": 6,
   "metadata": {},
   "outputs": [],
   "source": [
    "clf = SVC(probability=True)"
   ]
  },
  {
   "cell_type": "code",
   "execution_count": 8,
   "metadata": {},
   "outputs": [],
   "source": [
    "scores = cross_validate(clf, X, Y, cv=5, scoring=('accuracy', 'neg_log_loss', 'neg_mean_squared_error', 'roc_auc_ovr', 'f1_weighted', 'precision_weighted', 'recall_weighted'))"
   ]
  },
  {
   "cell_type": "code",
   "execution_count": 9,
   "metadata": {},
   "outputs": [
    {
     "data": {
      "text/plain": [
       "{'fit_time': array([2.37255764, 2.33812141, 2.48247051, 2.51903653, 2.48422027]),\n",
       " 'score_time': array([0.31694555, 0.30446696, 0.30755639, 0.31117487, 0.31472564]),\n",
       " 'test_accuracy': array([0.843, 0.826, 0.832, 0.833, 0.871]),\n",
       " 'test_neg_log_loss': array([-0.43356853, -0.47976882, -0.47008644, -0.458468  , -0.38718756]),\n",
       " 'test_roc_auc_ovr': array([0.98515158, 0.98275645, 0.98229374, 0.98334632, 0.98752266])}"
      ]
     },
     "execution_count": 9,
     "metadata": {},
     "output_type": "execute_result"
    }
   ],
   "source": [
    "scores"
   ]
  },
  {
   "cell_type": "code",
   "execution_count": 6,
   "metadata": {
    "pycharm": {
     "is_executing": true
    }
   },
   "outputs": [],
   "source": [
    "def get_full_prediction(x_tr, y_tr, x_te):\n",
    "    clf = SVC(probability=True)\n",
    "    clf.fit(x_tr, y_tr)\n",
    "    y_pred = clf.predict(x_te)\n",
    "    pred = clf.predict_proba(x_te)\n",
    "    return (y_pred, pred)"
   ]
  },
  {
   "cell_type": "code",
   "execution_count": null,
   "metadata": {
    "pycharm": {
     "is_executing": true
    }
   },
   "outputs": [],
   "source": [
    "predictions = get_full_prediction(x_train, y_train, x_test)"
   ]
  },
  {
   "cell_type": "code",
   "execution_count": null,
   "metadata": {
    "pycharm": {
     "is_executing": true
    }
   },
   "outputs": [],
   "source": [
    "(y_pred, _) = predictions"
   ]
  },
  {
   "cell_type": "code",
   "execution_count": null,
   "metadata": {
    "pycharm": {
     "is_executing": true
    }
   },
   "outputs": [],
   "source": [
    "print(accuracy_score(y_test, y_pred))\n",
    "print(f1_score(y_test, y_pred, average='weighted'))"
   ]
  },
  {
   "cell_type": "markdown",
   "metadata": {},
   "source": [
    "Niepełne dane i cechy"
   ]
  },
  {
   "cell_type": "code",
   "execution_count": 211,
   "metadata": {
    "pycharm": {
     "is_executing": true
    }
   },
   "outputs": [],
   "source": [
    "def average_pred(predictions):\n",
    "    m = len(predictions[0][0])\n",
    "    all_results = [[0 for x in range(classes_count)] for y in range(m)] \n",
    "    results = [0] * m\n",
    "    for (_, pred_proba) in predictions:\n",
    "        for i in range(m):\n",
    "            for j in range(classes_count):\n",
    "                all_results[i][j] += pred_proba[i][j]\n",
    "    for i in range(m):\n",
    "        results[i] = all_results[i].index(max(all_results[i]))\n",
    "    return results\n",
    "\n",
    "def average_pred_proba(predictions, n_classifiers):\n",
    "    m = len(predictions[0][0])\n",
    "    results = [[0 for x in range(classes_count)] for y in range(m)]\n",
    "    for (_, pred_proba) in predictions:\n",
    "        for i in range(m):\n",
    "            for j in range(classes_count):\n",
    "                results[i][j] += pred_proba[i][j]\n",
    "\n",
    "    for i in range(m):\n",
    "        for j in range(classes_count):\n",
    "            results[i][j] /= n_classifiers            \n",
    "    return results\n",
    "\n",
    "def majority_pred(predictions):\n",
    "    m = len(predictions[0][0])\n",
    "    results = [0] * m\n",
    "    for i in range(m):\n",
    "        all_results = [0 for x in range(classes_count)] \n",
    "        for (pred, _) in predictions:\n",
    "            all_results[pred[i]] += 1\n",
    "        results[i] = all_results.index(max(all_results))\n",
    "        \n",
    "    return results\n",
    "\n",
    "def borda_pred(predictions):\n",
    "    m = len(predictions[0][0])\n",
    "    all_results = [[0 for x in range(classes_count)] for y in range(m)] \n",
    "    results = [0] * m\n",
    "    \n",
    "    def get_final_borda_points(predictions):\n",
    "        return np.argsort(np.argsort(predictions)).tolist()\n",
    "\n",
    "    for (_, pred_proba) in predictions:\n",
    "        for i in range(m):\n",
    "            pred_proba[i] = get_final_borda_points(pred_proba[i])\n",
    "    for (_, pred_proba) in predictions:\n",
    "        for i in range(m):\n",
    "            for j in range(classes_count):\n",
    "                all_results[i][j] += pred_proba[i][j]\n",
    "    for i in range(m):\n",
    "        results[i] = all_results[i].index(max(all_results[i]))\n",
    "    return results\n",
    "\n",
    "def borda_pred_proba(predictions, n_classifiers):\n",
    "    m = len(predictions[0][0])\n",
    "    results = [[0 for x in range(classes_count)] for y in range(m)] \n",
    "    \n",
    "    def get_final_borda_points(predictions):\n",
    "        return np.argsort(np.argsort(predictions)).tolist()\n",
    "\n",
    "    def get_points():\n",
    "        sum = 0\n",
    "        for i in range(classes_count):\n",
    "            sum += i\n",
    "        return sum * n_classifiers\n",
    "    \n",
    "    for (_, pred_proba) in predictions:\n",
    "        for i in range(m):\n",
    "            pred_proba[i] = get_final_borda_points(pred_proba[i])\n",
    "    for (_, pred_proba) in predictions:\n",
    "        for i in range(m):\n",
    "            for j in range(classes_count):\n",
    "                results[i][j] += pred_proba[i][j]\n",
    "                \n",
    "    for i in range(m):\n",
    "        for j in range(classes_count):\n",
    "            results[i][j] /= get_points()\n",
    "        \n",
    "    return results"
   ]
  },
  {
   "cell_type": "code",
   "execution_count": 212,
   "metadata": {},
   "outputs": [],
   "source": [
    "class MinorClassifiers:\n",
    "    def __init__(self, n_samples, n_features):\n",
    "        self.n_samples = n_samples\n",
    "        self.n_features = n_features\n",
    "        self.classifiers = []\n",
    "        self.predictions = []\n",
    "        self.cut_features = []\n",
    "    \n",
    "    def get_params(self, deep = False):\n",
    "        return {\n",
    "            'n_samples': self.n_samples,\n",
    "            'n_features': self.n_features,   \n",
    "        }\n",
    "    \n",
    "    def predict(self, X):\n",
    "        for i in range(len(self.classifiers)):\n",
    "            classifier = self.classifiers[i]\n",
    "            f = self.cut_features[i]\n",
    "            x_test = X[:,f]\n",
    "            y_pred = classifier.predict(x_test)\n",
    "            pred = classifier.predict_proba(x_test)\n",
    "            self.predictions.append((y_pred, pred))\n",
    "            \n",
    "        return majority_pred(self.predictions)\n",
    "    \n",
    "    def predict_proba(self, X):\n",
    "        return borda_pred_proba(self.predictions, len(self.classifiers))\n",
    "        \n",
    "    def fit(self, X, Y):\n",
    "        feature_list = [n for n in range(50)]\n",
    "        samples_all = X.shape[0]\n",
    "        features_all = X.shape[1]\n",
    "\n",
    "        for samples in self.n_samples:\n",
    "            for features in self.n_features:\n",
    "                f = sample(feature_list, int(features_all * features))\n",
    "                self.cut_features.append(f)\n",
    "                x_train_f = X[:,f]\n",
    "                \n",
    "                x_train_s, y_train_s = resample(x_train_f, Y, n_samples=int(samples * samples_all), replace=False, random_state=0)\n",
    "\n",
    "                svm_clf = SVC(probability=True)\n",
    "                svm_clf.fit(x_train_s, y_train_s)\n",
    "                \n",
    "                self.classifiers.append(svm_clf)"
   ]
  },
  {
   "cell_type": "code",
   "execution_count": 213,
   "metadata": {
    "pycharm": {
     "is_executing": true
    }
   },
   "outputs": [],
   "source": [
    "n_samples = [0.1, 0.25, 0.35, 0.5]\n",
    "n_features = [0.25, 0.5, 0.75]"
   ]
  },
  {
   "cell_type": "code",
   "execution_count": 214,
   "metadata": {},
   "outputs": [],
   "source": [
    "n_samples = [0.1, 0.25]\n",
    "n_features = [0.25, 0.5]"
   ]
  },
  {
   "cell_type": "code",
   "execution_count": 215,
   "metadata": {},
   "outputs": [],
   "source": [
    "minor = MinorClassifiers(n_samples, n_features)"
   ]
  },
  {
   "cell_type": "code",
   "execution_count": 216,
   "metadata": {
    "scrolled": false
   },
   "outputs": [],
   "source": [
    "scores = cross_validate(minor, X, Y, cv=5, scoring=('accuracy', 'neg_log_loss', 'neg_mean_squared_error', 'roc_auc_ovr', 'f1_weighted', 'precision_weighted', 'recall_weighted'))"
   ]
  },
  {
   "cell_type": "code",
   "execution_count": 217,
   "metadata": {},
   "outputs": [
    {
     "data": {
      "text/plain": [
       "{'fit_time': array([0.50507832, 0.46871352, 0.40498924, 0.42737055, 0.44281554]),\n",
       " 'score_time': array([0.28923082, 0.28775692, 0.30119681, 0.28623629, 0.26807547]),\n",
       " 'test_accuracy': array([0.763, 0.748, 0.742, 0.769, 0.792]),\n",
       " 'test_neg_log_loss': array([-1.71655802, -1.6858606 , -1.69580007, -1.69538118, -1.67441495]),\n",
       " 'test_neg_mean_squared_error': array([-3.281, -3.034, -2.865, -3.08 , -2.482]),\n",
       " 'test_roc_auc_ovr': array([0.94467398, 0.95568265, 0.95562878, 0.96352094, 0.96559779]),\n",
       " 'test_f1_weighted': array([0.76157004, 0.74447995, 0.73515268, 0.76898455, 0.78159475]),\n",
       " 'test_precision_weighted': array([0.76617381, 0.74807137, 0.74419921, 0.77633688, 0.80040467]),\n",
       " 'test_recall_weighted': array([0.763, 0.748, 0.742, 0.769, 0.792])}"
      ]
     },
     "execution_count": 217,
     "metadata": {},
     "output_type": "execute_result"
    }
   ],
   "source": [
    "scores"
   ]
  },
  {
   "cell_type": "code",
   "execution_count": null,
   "metadata": {
    "pycharm": {
     "is_executing": true
    }
   },
   "outputs": [],
   "source": [
    "def get_minor_predictions(x_tr, y_tr, x_te, samples_perc, features_perc):\n",
    "    feature_list = [n for n in range(50)]\n",
    "    predictions = []\n",
    "    samples_all = x_tr.shape[0]\n",
    "    features_all = x_tr.shape[1]\n",
    "    \n",
    "    for samples in samples_perc:\n",
    "        for features in features_perc:\n",
    "            f = sample(feature_list, int(features_all * features))\n",
    "            x_train_f = x_tr[:,f]\n",
    "            x_test_f = x_te[:,f]\n",
    "            \n",
    "            x_train_s, y_train_s = resample(x_train_f, y_tr, n_samples=int(samples * samples_all), replace=False, random_state=0)\n",
    "            \n",
    "            svm_clf = SVC(probability=True)\n",
    "            svm_clf.fit(x_train_s, y_train_s)\n",
    "            \n",
    "            y_pred = svm_clf.predict(x_test_f)\n",
    "            pred = svm_clf.predict_proba(x_test_f)\n",
    "            \n",
    "            predictions.append((y_pred, pred))\n",
    "            \n",
    "    return predictions"
   ]
  },
  {
   "cell_type": "code",
   "execution_count": 88,
   "metadata": {
    "pycharm": {
     "is_executing": true
    }
   },
   "outputs": [
    {
     "ename": "ValueError",
     "evalue": "Sample larger than population or is negative",
     "output_type": "error",
     "traceback": [
      "\u001b[1;31m---------------------------------------------------------------------------\u001b[0m",
      "\u001b[1;31mValueError\u001b[0m                                Traceback (most recent call last)",
      "\u001b[1;32m<ipython-input-88-e006c042362d>\u001b[0m in \u001b[0;36m<module>\u001b[1;34m\u001b[0m\n\u001b[1;32m----> 1\u001b[1;33m \u001b[0mpred\u001b[0m \u001b[1;33m=\u001b[0m \u001b[0mget_minor_predictions\u001b[0m\u001b[1;33m(\u001b[0m\u001b[0mx_train\u001b[0m\u001b[1;33m,\u001b[0m \u001b[0my_train\u001b[0m\u001b[1;33m,\u001b[0m \u001b[0mx_test\u001b[0m\u001b[1;33m,\u001b[0m \u001b[0mn_samples\u001b[0m\u001b[1;33m,\u001b[0m \u001b[0mn_features\u001b[0m\u001b[1;33m)\u001b[0m\u001b[1;33m\u001b[0m\u001b[1;33m\u001b[0m\u001b[0m\n\u001b[0m",
      "\u001b[1;32m<ipython-input-87-1d3970cfb133>\u001b[0m in \u001b[0;36mget_minor_predictions\u001b[1;34m(x_tr, y_tr, x_te, samples_perc, features_perc)\u001b[0m\n\u001b[0;32m      7\u001b[0m     \u001b[1;32mfor\u001b[0m \u001b[0msamples\u001b[0m \u001b[1;32min\u001b[0m \u001b[0msamples_perc\u001b[0m\u001b[1;33m:\u001b[0m\u001b[1;33m\u001b[0m\u001b[1;33m\u001b[0m\u001b[0m\n\u001b[0;32m      8\u001b[0m         \u001b[1;32mfor\u001b[0m \u001b[0mfeatures\u001b[0m \u001b[1;32min\u001b[0m \u001b[0mfeatures_perc\u001b[0m\u001b[1;33m:\u001b[0m\u001b[1;33m\u001b[0m\u001b[1;33m\u001b[0m\u001b[0m\n\u001b[1;32m----> 9\u001b[1;33m             \u001b[0mf\u001b[0m \u001b[1;33m=\u001b[0m \u001b[0msample\u001b[0m\u001b[1;33m(\u001b[0m\u001b[0mfeature_list\u001b[0m\u001b[1;33m,\u001b[0m \u001b[0mint\u001b[0m\u001b[1;33m(\u001b[0m\u001b[0mfeatures_all\u001b[0m \u001b[1;33m*\u001b[0m \u001b[0mfeatures\u001b[0m\u001b[1;33m)\u001b[0m\u001b[1;33m)\u001b[0m\u001b[1;33m\u001b[0m\u001b[1;33m\u001b[0m\u001b[0m\n\u001b[0m\u001b[0;32m     10\u001b[0m             \u001b[0mx_train_f\u001b[0m \u001b[1;33m=\u001b[0m \u001b[0mx_tr\u001b[0m\u001b[1;33m[\u001b[0m\u001b[1;33m:\u001b[0m\u001b[1;33m,\u001b[0m\u001b[0mf\u001b[0m\u001b[1;33m]\u001b[0m\u001b[1;33m\u001b[0m\u001b[1;33m\u001b[0m\u001b[0m\n\u001b[0;32m     11\u001b[0m             \u001b[0mx_test_f\u001b[0m \u001b[1;33m=\u001b[0m \u001b[0mx_te\u001b[0m\u001b[1;33m[\u001b[0m\u001b[1;33m:\u001b[0m\u001b[1;33m,\u001b[0m\u001b[0mf\u001b[0m\u001b[1;33m]\u001b[0m\u001b[1;33m\u001b[0m\u001b[1;33m\u001b[0m\u001b[0m\n",
      "\u001b[1;32mc:\\users\\ania\\appdata\\local\\programs\\python\\python38\\lib\\random.py\u001b[0m in \u001b[0;36msample\u001b[1;34m(self, population, k)\u001b[0m\n\u001b[0;32m    361\u001b[0m         \u001b[0mn\u001b[0m \u001b[1;33m=\u001b[0m \u001b[0mlen\u001b[0m\u001b[1;33m(\u001b[0m\u001b[0mpopulation\u001b[0m\u001b[1;33m)\u001b[0m\u001b[1;33m\u001b[0m\u001b[1;33m\u001b[0m\u001b[0m\n\u001b[0;32m    362\u001b[0m         \u001b[1;32mif\u001b[0m \u001b[1;32mnot\u001b[0m \u001b[1;36m0\u001b[0m \u001b[1;33m<=\u001b[0m \u001b[0mk\u001b[0m \u001b[1;33m<=\u001b[0m \u001b[0mn\u001b[0m\u001b[1;33m:\u001b[0m\u001b[1;33m\u001b[0m\u001b[1;33m\u001b[0m\u001b[0m\n\u001b[1;32m--> 363\u001b[1;33m             \u001b[1;32mraise\u001b[0m \u001b[0mValueError\u001b[0m\u001b[1;33m(\u001b[0m\u001b[1;34m\"Sample larger than population or is negative\"\u001b[0m\u001b[1;33m)\u001b[0m\u001b[1;33m\u001b[0m\u001b[1;33m\u001b[0m\u001b[0m\n\u001b[0m\u001b[0;32m    364\u001b[0m         \u001b[0mresult\u001b[0m \u001b[1;33m=\u001b[0m \u001b[1;33m[\u001b[0m\u001b[1;32mNone\u001b[0m\u001b[1;33m]\u001b[0m \u001b[1;33m*\u001b[0m \u001b[0mk\u001b[0m\u001b[1;33m\u001b[0m\u001b[1;33m\u001b[0m\u001b[0m\n\u001b[0;32m    365\u001b[0m         \u001b[0msetsize\u001b[0m \u001b[1;33m=\u001b[0m \u001b[1;36m21\u001b[0m        \u001b[1;31m# size of a small set minus size of an empty list\u001b[0m\u001b[1;33m\u001b[0m\u001b[1;33m\u001b[0m\u001b[0m\n",
      "\u001b[1;31mValueError\u001b[0m: Sample larger than population or is negative"
     ]
    }
   ],
   "source": [
    "pred = get_minor_predictions(x_train, y_train, x_test, n_samples, n_features)"
   ]
  },
  {
   "cell_type": "code",
   "execution_count": 89,
   "metadata": {
    "pycharm": {
     "is_executing": true
    }
   },
   "outputs": [
    {
     "ename": "NameError",
     "evalue": "name 'pred' is not defined",
     "output_type": "error",
     "traceback": [
      "\u001b[1;31m---------------------------------------------------------------------------\u001b[0m",
      "\u001b[1;31mNameError\u001b[0m                                 Traceback (most recent call last)",
      "\u001b[1;32m<ipython-input-89-0cb97b8823b2>\u001b[0m in \u001b[0;36m<module>\u001b[1;34m\u001b[0m\n\u001b[1;32m----> 1\u001b[1;33m \u001b[0mprint\u001b[0m\u001b[1;33m(\u001b[0m\u001b[0maccuracy_score\u001b[0m\u001b[1;33m(\u001b[0m\u001b[0my_test\u001b[0m\u001b[1;33m,\u001b[0m \u001b[0mmajority_pred\u001b[0m\u001b[1;33m(\u001b[0m\u001b[0mpred\u001b[0m\u001b[1;33m)\u001b[0m\u001b[1;33m)\u001b[0m\u001b[1;33m)\u001b[0m\u001b[1;33m\u001b[0m\u001b[1;33m\u001b[0m\u001b[0m\n\u001b[0m\u001b[0;32m      2\u001b[0m \u001b[0mprint\u001b[0m\u001b[1;33m(\u001b[0m\u001b[0mf1_score\u001b[0m\u001b[1;33m(\u001b[0m\u001b[0my_test\u001b[0m\u001b[1;33m,\u001b[0m \u001b[0mmajority_pred\u001b[0m\u001b[1;33m(\u001b[0m\u001b[0mpred\u001b[0m\u001b[1;33m)\u001b[0m\u001b[1;33m,\u001b[0m \u001b[0maverage\u001b[0m\u001b[1;33m=\u001b[0m\u001b[1;34m'weighted'\u001b[0m\u001b[1;33m)\u001b[0m\u001b[1;33m)\u001b[0m\u001b[1;33m\u001b[0m\u001b[1;33m\u001b[0m\u001b[0m\n",
      "\u001b[1;31mNameError\u001b[0m: name 'pred' is not defined"
     ]
    }
   ],
   "source": [
    "print(accuracy_score(y_test, majority_pred(pred)))\n",
    "print(f1_score(y_test, majority_pred(pred), average='weighted'))"
   ]
  },
  {
   "cell_type": "code",
   "execution_count": 90,
   "metadata": {
    "pycharm": {
     "is_executing": true
    }
   },
   "outputs": [
    {
     "ename": "NameError",
     "evalue": "name 'pred' is not defined",
     "output_type": "error",
     "traceback": [
      "\u001b[1;31m---------------------------------------------------------------------------\u001b[0m",
      "\u001b[1;31mNameError\u001b[0m                                 Traceback (most recent call last)",
      "\u001b[1;32m<ipython-input-90-9e3e91d4e8da>\u001b[0m in \u001b[0;36m<module>\u001b[1;34m\u001b[0m\n\u001b[1;32m----> 1\u001b[1;33m \u001b[0mprint\u001b[0m\u001b[1;33m(\u001b[0m\u001b[0maccuracy_score\u001b[0m\u001b[1;33m(\u001b[0m\u001b[0my_test\u001b[0m\u001b[1;33m,\u001b[0m \u001b[0maverage_pred\u001b[0m\u001b[1;33m(\u001b[0m\u001b[0mpred\u001b[0m\u001b[1;33m)\u001b[0m\u001b[1;33m)\u001b[0m\u001b[1;33m)\u001b[0m\u001b[1;33m\u001b[0m\u001b[1;33m\u001b[0m\u001b[0m\n\u001b[0m\u001b[0;32m      2\u001b[0m \u001b[0mprint\u001b[0m\u001b[1;33m(\u001b[0m\u001b[0mf1_score\u001b[0m\u001b[1;33m(\u001b[0m\u001b[0my_test\u001b[0m\u001b[1;33m,\u001b[0m \u001b[0maverage_pred\u001b[0m\u001b[1;33m(\u001b[0m\u001b[0mpred\u001b[0m\u001b[1;33m)\u001b[0m\u001b[1;33m,\u001b[0m \u001b[0maverage\u001b[0m\u001b[1;33m=\u001b[0m\u001b[1;34m'weighted'\u001b[0m\u001b[1;33m)\u001b[0m\u001b[1;33m)\u001b[0m\u001b[1;33m\u001b[0m\u001b[1;33m\u001b[0m\u001b[0m\n",
      "\u001b[1;31mNameError\u001b[0m: name 'pred' is not defined"
     ]
    }
   ],
   "source": [
    "print(accuracy_score(y_test, average_pred(pred)))\n",
    "print(f1_score(y_test, average_pred(pred), average='weighted'))"
   ]
  },
  {
   "cell_type": "code",
   "execution_count": null,
   "metadata": {
    "pycharm": {
     "is_executing": true
    }
   },
   "outputs": [],
   "source": [
    "print(accuracy_score(y_test, borda_pred(pred)))\n",
    "print(f1_score(y_test, borda_pred(pred), average='weighted'))"
   ]
  },
  {
   "cell_type": "code",
   "execution_count": null,
   "metadata": {
    "pycharm": {
     "is_executing": true
    }
   },
   "outputs": [],
   "source": []
  },
  {
   "cell_type": "markdown",
   "metadata": {},
   "source": [
    "3a."
   ]
  },
  {
   "cell_type": "code",
   "execution_count": null,
   "metadata": {
    "pycharm": {
     "is_executing": true
    }
   },
   "outputs": [],
   "source": [
    "clf_100iter = SVC(probability=True, max_iter=100)"
   ]
  },
  {
   "cell_type": "code",
   "execution_count": null,
   "metadata": {
    "pycharm": {
     "is_executing": true
    }
   },
   "outputs": [],
   "source": [
    "with elapsed_timer() as t:\n",
    "    clf_100iter.fit(x_train, y_train)\n",
    "\n",
    "print(\"duration: \" + str(t.duration))"
   ]
  },
  {
   "cell_type": "code",
   "execution_count": null,
   "metadata": {
    "pycharm": {
     "is_executing": true
    }
   },
   "outputs": [],
   "source": [
    "clf_7iter.fit(x_train, y_train)\n",
    "y_pred_7ter = clf_7iter.predict(x_test)\n",
    "pred_7iter = clf_7iter.predict_proba(x_test)"
   ]
  },
  {
   "cell_type": "code",
   "execution_count": null,
   "metadata": {
    "pycharm": {
     "is_executing": true
    }
   },
   "outputs": [],
   "source": [
    "pred_7iter"
   ]
  },
  {
   "cell_type": "code",
   "execution_count": null,
   "metadata": {
    "pycharm": {
     "is_executing": true
    }
   },
   "outputs": [],
   "source": [
    "from sklearn.metrics import accuracy_score\n",
    "accuracy_7iter = accuracy_score(y_test, y_pred_7ter)\n",
    "accuracy = accuracy_score(y_test, y_pred)"
   ]
  },
  {
   "cell_type": "code",
   "execution_count": null,
   "metadata": {
    "pycharm": {
     "is_executing": true
    }
   },
   "outputs": [],
   "source": [
    "accuracy_7iter"
   ]
  },
  {
   "cell_type": "code",
   "execution_count": null,
   "metadata": {
    "pycharm": {
     "is_executing": true
    }
   },
   "outputs": [],
   "source": [
    "accuracy"
   ]
  },
  {
   "cell_type": "markdown",
   "metadata": {
    "pycharm": {
     "is_executing": true
    }
   },
   "source": [
    "4. "
   ]
  },
  {
   "cell_type": "code",
   "execution_count": 7,
   "metadata": {
    "pycharm": {
     "is_executing": true
    }
   },
   "outputs": [],
   "source": [
    "def make_noise_data(data, percent):\n",
    "    m = data.shape[0]\n",
    "    n = data.shape[1]\n",
    "    new_data = deepcopy(data)\n",
    "    for i in range(m):\n",
    "        for j in range(n):\n",
    "            rand = randrange(-1, 2, 2) #random integer from {-1, 1}\n",
    "            new_data[i][j] = (1 + rand * percent) * data[i][j]\n",
    "    return new_data"
   ]
  },
  {
   "cell_type": "code",
   "execution_count": null,
   "metadata": {
    "pycharm": {
     "is_executing": true
    }
   },
   "outputs": [],
   "source": [
    "def make_noise_label(labels, percent):\n",
    "    labels_with_noise = deepcopy(labels)\n",
    "    arr_size = labels.shape[0]\n",
    "    indexes = [n for n in range(arr_size)]\n",
    "    indexes_to_change = sample(indexes, int(arr_size * percent))\n",
    "    \n",
    "    for i in indexes_to_change:\n",
    "        old_val = labels[i]\n",
    "        new_val = randint(0, classes_count)\n",
    "        while old_val == new_val:\n",
    "            new_val = randint(0, classes_count)\n",
    "        labels_with_noise[i] = new_val\n",
    "        \n",
    "    return labels_with_noise"
   ]
  },
  {
   "cell_type": "code",
   "execution_count": null,
   "metadata": {
    "pycharm": {
     "is_executing": true
    }
   },
   "outputs": [],
   "source": [
    "new_y_train = make_noise_label(Y, 0.2)"
   ]
  },
  {
   "cell_type": "code",
   "execution_count": null,
   "metadata": {
    "pycharm": {
     "is_executing": true
    }
   },
   "outputs": [],
   "source": [
    "pred = get_minor_predictions(x_train, new_y_train, x_test, n_samples, n_features)"
   ]
  },
  {
   "cell_type": "code",
   "execution_count": null,
   "metadata": {
    "pycharm": {
     "is_executing": true
    }
   },
   "outputs": [],
   "source": [
    "print(accuracy_score(y_test, majority_pred(pred)))\n",
    "print(f1_score(y_test, majority_pred(pred), average='weighted'))"
   ]
  },
  {
   "cell_type": "code",
   "execution_count": 11,
   "metadata": {
    "pycharm": {
     "is_executing": true
    }
   },
   "outputs": [],
   "source": [
    "new_x_train = make_noise_data(X, 0.2)"
   ]
  },
  {
   "cell_type": "code",
   "execution_count": null,
   "metadata": {
    "pycharm": {
     "is_executing": true
    }
   },
   "outputs": [],
   "source": [
    "pred = get_minor_predictions(new_x_train, y_train, x_test, n_samples, n_features)"
   ]
  },
  {
   "cell_type": "code",
   "execution_count": null,
   "metadata": {
    "pycharm": {
     "is_executing": true
    }
   },
   "outputs": [],
   "source": [
    "print(accuracy_score(y_test, majority_pred(pred)))\n",
    "print(f1_score(y_test, majority_pred(pred), average='weighted'))"
   ]
  },
  {
   "cell_type": "code",
   "execution_count": null,
   "metadata": {
    "pycharm": {
     "is_executing": true
    }
   },
   "outputs": [],
   "source": []
  }
 ],
 "metadata": {
  "kernelspec": {
   "display_name": "Python 3",
   "language": "python",
   "name": "python3"
  },
  "language_info": {
   "codemirror_mode": {
    "name": "ipython",
    "version": 3
   },
   "file_extension": ".py",
   "mimetype": "text/x-python",
   "name": "python",
   "nbconvert_exporter": "python",
   "pygments_lexer": "ipython3",
   "version": "3.8.0"
  }
 },
 "nbformat": 4,
 "nbformat_minor": 1
}
