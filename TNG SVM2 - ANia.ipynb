{
 "cells": [
  {
   "cell_type": "code",
   "execution_count": 1,
   "metadata": {
    "pycharm": {
     "is_executing": true
    }
   },
   "outputs": [],
   "source": [
    "from sklearn.datasets import fetch_20newsgroups\n",
    "import numpy as np\n",
    "from sklearn.feature_extraction.text import TfidfVectorizer\n",
    "from sklearn.utils import resample\n",
    "from sklearn import preprocessing\n",
    "import statistics\n",
    "from sklearn.preprocessing import StandardScaler\n",
    "from sklearn.decomposition import TruncatedSVD\n",
    "from sklearn.svm import SVC\n",
    "from sklearn.metrics import accuracy_score, f1_score, log_loss, average_precision_score\n",
    "from random import sample, randint, randrange\n",
    "from copy import deepcopy\n",
    "from sklearn.model_selection import cross_validate"
   ]
  },
  {
   "cell_type": "code",
   "execution_count": 2,
   "metadata": {},
   "outputs": [],
   "source": [
    "import warnings\n",
    "warnings.filterwarnings('ignore')"
   ]
  },
  {
   "cell_type": "code",
   "execution_count": 3,
   "metadata": {},
   "outputs": [],
   "source": [
    "newsgroups_train = fetch_20newsgroups(subset='train')\n",
    "newsgroups_test = fetch_20newsgroups(subset='test')"
   ]
  },
  {
   "cell_type": "code",
   "execution_count": 4,
   "metadata": {},
   "outputs": [],
   "source": [
    "vectorizer = TfidfVectorizer()\n",
    "x_train = vectorizer.fit_transform(newsgroups_train.data)\n",
    "y_train = newsgroups_train.target\n",
    "x_test = vectorizer.transform(newsgroups_test.data)\n",
    "y_test = newsgroups_test.target\n",
    "classes_count = 20"
   ]
  },
  {
   "cell_type": "markdown",
   "metadata": {},
   "source": [
    "Change dimensions to 500"
   ]
  },
  {
   "cell_type": "code",
   "execution_count": 5,
   "metadata": {},
   "outputs": [],
   "source": [
    "svd = TruncatedSVD(n_components=500)\n",
    "svd.fit(x_train)\n",
    "svd_x_train = svd.transform(x_train)\n",
    "svd_x_test = svd.transform(x_test)"
   ]
  },
  {
   "cell_type": "code",
   "execution_count": 6,
   "metadata": {},
   "outputs": [],
   "source": [
    "svd_x_train = np.concatenate((svd_x_train, svd_x_test))\n",
    "y_train = np.concatenate((y_train, y_test))"
   ]
  },
  {
   "cell_type": "markdown",
   "metadata": {},
   "source": [
    "SVM on full data and full features"
   ]
  },
  {
   "cell_type": "code",
   "execution_count": 38,
   "metadata": {},
   "outputs": [],
   "source": [
    "clf = SVC(probability=True, max_iter=200)\n",
    "#clf.fit(svd_x_train, y_train)\n",
    "#clf.fit(x_train_res, y_train_res)"
   ]
  },
  {
   "cell_type": "code",
   "execution_count": 16,
   "metadata": {},
   "outputs": [],
   "source": [
    "m = svd_x_train.shape[0]"
   ]
  },
  {
   "cell_type": "code",
   "execution_count": 45,
   "metadata": {},
   "outputs": [],
   "source": [
    "m3 = int(m*0.1)\n",
    "svd_x_train_10 = svd_x_train[:m3]\n",
    "y_train_10 = y_train[:m3]"
   ]
  },
  {
   "cell_type": "code",
   "execution_count": 14,
   "metadata": {},
   "outputs": [],
   "source": [
    "y_train_noise_40 = make_noise_label(y_train, 0.4)"
   ]
  },
  {
   "cell_type": "code",
   "execution_count": 39,
   "metadata": {},
   "outputs": [
    {
     "data": {
      "text/plain": [
       "array([ 0,  1,  2,  3,  4,  5,  6,  7,  8,  9, 10, 11, 12, 13, 14, 15, 16,\n",
       "       17, 18, 19])"
      ]
     },
     "execution_count": 39,
     "metadata": {},
     "output_type": "execute_result"
    }
   ],
   "source": [
    "np.unique(y_train)"
   ]
  },
  {
   "cell_type": "code",
   "execution_count": 15,
   "metadata": {},
   "outputs": [
    {
     "name": "stdout",
     "output_type": "stream",
     "text": [
      "(18846,)\n",
      "(18846, 500)\n"
     ]
    }
   ],
   "source": [
    "print(y_train_noise_40.shape)\n",
    "print(svd_x_train.shape)"
   ]
  },
  {
   "cell_type": "code",
   "execution_count": 39,
   "metadata": {},
   "outputs": [
    {
     "name": "stderr",
     "output_type": "stream",
     "text": [
      "C:\\Users\\majer\\Anaconda3\\lib\\site-packages\\sklearn\\svm\\_base.py:231: ConvergenceWarning: Solver terminated early (max_iter=200).  Consider pre-processing your data with StandardScaler or MinMaxScaler.\n",
      "  % self.max_iter, ConvergenceWarning)\n",
      "C:\\Users\\majer\\Anaconda3\\lib\\site-packages\\sklearn\\svm\\_base.py:231: ConvergenceWarning: Solver terminated early (max_iter=200).  Consider pre-processing your data with StandardScaler or MinMaxScaler.\n",
      "  % self.max_iter, ConvergenceWarning)\n",
      "C:\\Users\\majer\\Anaconda3\\lib\\site-packages\\sklearn\\svm\\_base.py:231: ConvergenceWarning: Solver terminated early (max_iter=200).  Consider pre-processing your data with StandardScaler or MinMaxScaler.\n",
      "  % self.max_iter, ConvergenceWarning)\n",
      "C:\\Users\\majer\\Anaconda3\\lib\\site-packages\\sklearn\\svm\\_base.py:231: ConvergenceWarning: Solver terminated early (max_iter=200).  Consider pre-processing your data with StandardScaler or MinMaxScaler.\n",
      "  % self.max_iter, ConvergenceWarning)\n",
      "C:\\Users\\majer\\Anaconda3\\lib\\site-packages\\sklearn\\svm\\_base.py:231: ConvergenceWarning: Solver terminated early (max_iter=200).  Consider pre-processing your data with StandardScaler or MinMaxScaler.\n",
      "  % self.max_iter, ConvergenceWarning)\n"
     ]
    }
   ],
   "source": [
    "scores = cross_validate(clf, svd_x_train, y_train, cv=5, scoring=('accuracy', \n",
    "                                                    'neg_log_loss', \n",
    "                                                    'neg_mean_squared_error', \n",
    "                                                    'roc_auc_ovr', \n",
    "                                                    'f1_weighted', \n",
    "                                                    'precision_weighted', \n",
    "                                                    'recall_weighted'))"
   ]
  },
  {
   "cell_type": "code",
   "execution_count": 40,
   "metadata": {},
   "outputs": [
    {
     "data": {
      "text/plain": [
       "{'fit_time': array([453.452003  , 452.28610563, 452.48716164, 447.85763693,\n",
       "        450.32840657]),\n",
       " 'score_time': array([46.16600728, 46.40932512, 46.56393313, 45.55130672, 45.94004512]),\n",
       " 'test_accuracy': array([0.86949602, 0.88007429, 0.88166622, 0.83443884, 0.83762271]),\n",
       " 'test_neg_log_loss': array([-0.47028495, -0.45748055, -0.45810768, -0.56722823, -0.54911391]),\n",
       " 'test_neg_mean_squared_error': array([-6.30371353, -5.90501459, -5.07084107, -9.62111966, -9.44229239]),\n",
       " 'test_roc_auc_ovr': array([0.99272923, 0.99265828, 0.99277632, 0.98831115, 0.98951535]),\n",
       " 'test_f1_weighted': array([0.87051746, 0.88002696, 0.88256631, 0.83389696, 0.83774838]),\n",
       " 'test_precision_weighted': array([0.8735847 , 0.88092778, 0.8848363 , 0.83623437, 0.84251736]),\n",
       " 'test_recall_weighted': array([0.86949602, 0.88007429, 0.88166622, 0.83443884, 0.83762271])}"
      ]
     },
     "execution_count": 40,
     "metadata": {},
     "output_type": "execute_result"
    }
   ],
   "source": [
    "scores"
   ]
  },
  {
   "cell_type": "code",
   "execution_count": 16,
   "metadata": {},
   "outputs": [
    {
     "name": "stderr",
     "output_type": "stream",
     "text": [
      "C:\\Users\\majer\\Anaconda3\\lib\\site-packages\\sklearn\\metrics\\_classification.py:1272: UndefinedMetricWarning: Precision is ill-defined and being set to 0.0 in labels with no predicted samples. Use `zero_division` parameter to control this behavior.\n",
      "  _warn_prf(average, modifier, msg_start, len(result))\n",
      "C:\\Users\\majer\\Anaconda3\\lib\\site-packages\\sklearn\\metrics\\_classification.py:1272: UndefinedMetricWarning: Precision is ill-defined and being set to 0.0 in labels with no predicted samples. Use `zero_division` parameter to control this behavior.\n",
      "  _warn_prf(average, modifier, msg_start, len(result))\n",
      "C:\\Users\\majer\\Anaconda3\\lib\\site-packages\\sklearn\\metrics\\_classification.py:1272: UndefinedMetricWarning: Precision is ill-defined and being set to 0.0 in labels with no predicted samples. Use `zero_division` parameter to control this behavior.\n",
      "  _warn_prf(average, modifier, msg_start, len(result))\n",
      "C:\\Users\\majer\\Anaconda3\\lib\\site-packages\\sklearn\\metrics\\_classification.py:1272: UndefinedMetricWarning: Precision is ill-defined and being set to 0.0 in labels with no predicted samples. Use `zero_division` parameter to control this behavior.\n",
      "  _warn_prf(average, modifier, msg_start, len(result))\n"
     ]
    }
   ],
   "source": [
    "scores = cross_validate(clf, svd_x_train, y_train_noise_40, cv=5, scoring=('accuracy', \n",
    "                                                    'neg_log_loss', \n",
    "                                                    'neg_mean_squared_error', \n",
    "                                                    'roc_auc_ovr', \n",
    "                                                    'f1_weighted', \n",
    "                                                    'precision_weighted', \n",
    "                                                    'recall_weighted'))"
   ]
  },
  {
   "cell_type": "code",
   "execution_count": 17,
   "metadata": {},
   "outputs": [
    {
     "data": {
      "text/plain": [
       "{'fit_time': array([1244.50412655, 1570.05026317, 1476.82827353, 1522.17273259,\n",
       "        1421.41617584]),\n",
       " 'score_time': array([72.63192344, 82.25924134, 82.61139894, 88.18289876, 73.61998105]),\n",
       " 'test_accuracy': array([0.5       , 0.50464314, 0.4887238 , 0.49376492, 0.47545768]),\n",
       " 'test_neg_log_loss': array([-2.27421874, -2.24522513, -2.30234006, -2.23431492, -2.29031023]),\n",
       " 'test_neg_mean_squared_error': array([-34.75251989, -34.11488458, -34.23985142, -35.36004245,\n",
       "        -34.06924914]),\n",
       " 'test_roc_auc_ovr': array([0.77234373, 0.77954066, 0.75769786, 0.7747673 , 0.76451044]),\n",
       " 'test_f1_weighted': array([0.49584589, 0.49774046, 0.48334969, 0.48867876, 0.46880907]),\n",
       " 'test_precision_weighted': array([0.49512082, 0.49420359, 0.48109027, 0.48748494, 0.46745597]),\n",
       " 'test_recall_weighted': array([0.5       , 0.50464314, 0.4887238 , 0.49376492, 0.47545768])}"
      ]
     },
     "execution_count": 17,
     "metadata": {},
     "output_type": "execute_result"
    }
   ],
   "source": [
    "scores"
   ]
  },
  {
   "cell_type": "code",
   "execution_count": 9,
   "metadata": {},
   "outputs": [],
   "source": [
    "y_pred = clf.predict(svd_x_test)\n",
    "#y_pred = clf.predict(x_test_res)"
   ]
  },
  {
   "cell_type": "code",
   "execution_count": 10,
   "metadata": {},
   "outputs": [],
   "source": [
    "accuracy = accuracy_score(y_test, y_pred)\n",
    "#accuracy = accuracy_score(y_test_res, y_pred)"
   ]
  },
  {
   "cell_type": "code",
   "execution_count": 11,
   "metadata": {},
   "outputs": [
    {
     "data": {
      "text/plain": [
       "0.7873074880509825"
      ]
     },
     "execution_count": 11,
     "metadata": {},
     "output_type": "execute_result"
    }
   ],
   "source": [
    "accuracy #0.78956"
   ]
  },
  {
   "cell_type": "code",
   "execution_count": 12,
   "metadata": {},
   "outputs": [
    {
     "data": {
      "text/plain": [
       "0.7888587724079459"
      ]
     },
     "execution_count": 12,
     "metadata": {},
     "output_type": "execute_result"
    }
   ],
   "source": [
    "f_score = f1_score(y_test, y_pred, average='weighted')\n",
    "#f_score = f1_score(y_test_res, y_pred, average='weighted')\n",
    "f_score"
   ]
  },
  {
   "cell_type": "markdown",
   "metadata": {},
   "source": [
    "10 sub-classifiers"
   ]
  },
  {
   "cell_type": "code",
   "execution_count": 10,
   "metadata": {},
   "outputs": [],
   "source": [
    "n_samples = [0.1, 0.35, 0.7]\n",
    "n_features = [0.25, 0.5, 0.75]\n",
    "\n",
    "samples_all = svd_x_train.shape[0]\n",
    "features_all = svd_x_train.shape[1]"
   ]
  },
  {
   "cell_type": "code",
   "execution_count": 11,
   "metadata": {},
   "outputs": [],
   "source": [
    "class MinorClassifiers:\n",
    "    def __init__(self, samp, feat, voting, max_iter=-1):\n",
    "        self.samp = samp\n",
    "        self.feat = feat\n",
    "        self.classifiers = []\n",
    "        self.predictions = []\n",
    "        self.cut_features = []\n",
    "        self.voting = voting\n",
    "        self.max_iter = max_iter\n",
    "    \n",
    "    def get_params(self, deep = False):\n",
    "        return {\n",
    "            'samp': self.samp,\n",
    "            'feat': self.feat,\n",
    "            'voting': self.voting,\n",
    "            'max_iter': self.max_iter\n",
    "        }\n",
    "    \n",
    "    def predict(self, X):\n",
    "        for i in range(len(self.classifiers)):\n",
    "            classifier = self.classifiers[i]\n",
    "            f = self.cut_features[i]\n",
    "            x_test = X[:,f]\n",
    "            y_pred = classifier.predict(x_test)\n",
    "            pred = classifier.predict_proba(x_test)\n",
    "            self.predictions.append((y_pred, pred))\n",
    "            \n",
    "        if self.voting == 'average':\n",
    "            return average_pred(self.predictions)\n",
    "        \n",
    "        if self.voting == 'majority':\n",
    "            return majority_pred(self.predictions)\n",
    "        \n",
    "        if self.voting == 'borda':\n",
    "            return borda_pred(self.predictions)\n",
    "    \n",
    "    def predict_proba(self, X):\n",
    "        if self.voting == 'average':\n",
    "            return average_pred_proba(self.predictions, len(self.classifiers))\n",
    "        \n",
    "        if self.voting == 'majority':\n",
    "            return majority_pred_proba(self.predictions, len(self.classifiers))\n",
    "        \n",
    "        if self.voting == 'borda':\n",
    "            return borda_pred_proba(self.predictions, len(self.classifiers))\n",
    "        \n",
    "    def fit(self, X, Y):\n",
    "        feature_list = [n for n in range(500)]\n",
    "        samples_all = X.shape[0]\n",
    "        features_all = X.shape[1]\n",
    "        \n",
    "        for i in range(10):\n",
    "            f = sample(feature_list, int(features_all * self.feat))\n",
    "            self.cut_features.append(f)\n",
    "            x_train_f = X[:,f]\n",
    "                \n",
    "            x_train_s, y_train_s = resample(x_train_f, Y, n_samples=int(self.samp * samples_all), replace=False, random_state=0)\n",
    "\n",
    "            svm_clf = SVC(probability=True, max_iter=self.max_iter)\n",
    "            svm_clf.fit(x_train_s, y_train_s)\n",
    "                \n",
    "            self.classifiers.append(svm_clf)"
   ]
  },
  {
   "cell_type": "code",
   "execution_count": 12,
   "metadata": {},
   "outputs": [],
   "source": [
    "def average_pred(predictions):\n",
    "    #predictions = list of tuples \n",
    "    m = len(predictions[0][0])\n",
    "    all_results = [[0 for x in range(classes_count)] for y in range(m)] \n",
    "    results = [0] * m\n",
    "    for (_, pred_proba) in predictions:\n",
    "        for i in range(m):\n",
    "            for j in range(classes_count):\n",
    "                all_results[i][j] += pred_proba[i][j]\n",
    "    for i in range(m):\n",
    "        results[i] = all_results[i].index(max(all_results[i]))\n",
    "    return results\n",
    "\n",
    "def average_pred_proba(predictions, n_classifiers):\n",
    "    m = len(predictions[0][0])\n",
    "    results = [[0 for x in range(classes_count)] for y in range(m)]\n",
    "    for (_, pred_proba) in predictions:\n",
    "        for i in range(m):\n",
    "            for j in range(classes_count):\n",
    "                results[i][j] += pred_proba[i][j]\n",
    "    for i in range(m):\n",
    "        for j in range(classes_count):\n",
    "            results[i][j] /= n_classifiers            \n",
    "    return results\n",
    "\n",
    "def majority_pred(predictions):\n",
    "    m = len(predictions[0][0])\n",
    "    results = [0] * m\n",
    "    for i in range(m):\n",
    "        all_results = [0 for x in range(classes_count)] \n",
    "        for (pred, _) in predictions:\n",
    "            all_results[pred[i]] += 1\n",
    "        results[i] = all_results.index(max(all_results))        \n",
    "    return results\n",
    "\n",
    "def majority_pred_proba(predictions, n_classifiers):\n",
    "    m = len(predictions[0][0])\n",
    "    results = [[0 for x in range(classes_count)] for y in range(m)]\n",
    "    classifiers_votes_count = [0] * m\n",
    "    majority_results = majority_pred(predictions)\n",
    "    for classifier in range(0, n_classifiers):\n",
    "        for i in range(m):\n",
    "            voted_class = majority_results[i] \n",
    "            (pred, pred_proba) = predictions[classifier]\n",
    "            if(pred[i] == voted_class):\n",
    "                classifiers_votes_count[i] += 1\n",
    "                for j in range(classes_count):\n",
    "                    results[i][j] += pred_proba[i][j]\n",
    "    for i in range(m):\n",
    "        for j in range(classes_count):\n",
    "            results[i][j] /= classifiers_votes_count[i]\n",
    "    return results      \n",
    "    \n",
    "\n",
    "def borda_pred(predictions):\n",
    "    m = len(predictions[0][0])\n",
    "    all_results = [[0 for x in range(classes_count)] for y in range(m)] \n",
    "    results = [0] * m\n",
    "    \n",
    "    def get_final_borda_points(predictions):\n",
    "        return np.argsort(np.argsort(predictions)).tolist()\n",
    "\n",
    "    for (_, pred_proba) in predictions:\n",
    "        for i in range(m):\n",
    "            pred_proba[i] = get_final_borda_points(pred_proba[i])\n",
    "    for (_, pred_proba) in predictions:\n",
    "        for i in range(m):\n",
    "            for j in range(classes_count):\n",
    "                all_results[i][j] += pred_proba[i][j]\n",
    "    for i in range(m):\n",
    "        results[i] = all_results[i].index(max(all_results[i]))\n",
    "    return results\n",
    "\n",
    "def borda_pred_proba(predictions, n_classifiers):\n",
    "    m = len(predictions[0][0])\n",
    "    results = [[0 for x in range(classes_count)] for y in range(m)] \n",
    "    \n",
    "    def get_final_borda_points(predictions):\n",
    "        return np.argsort(np.argsort(predictions)).tolist()\n",
    "\n",
    "    def get_points():\n",
    "        sum = 0\n",
    "        for i in range(classes_count):\n",
    "            sum += i\n",
    "        return sum * n_classifiers\n",
    "    \n",
    "    for (_, pred_proba) in predictions:\n",
    "        for i in range(m):\n",
    "            pred_proba[i] = get_final_borda_points(pred_proba[i])\n",
    "    for (_, pred_proba) in predictions:\n",
    "        for i in range(m):\n",
    "            for j in range(classes_count):\n",
    "                results[i][j] += pred_proba[i][j]\n",
    "    for i in range(m):\n",
    "        for j in range(classes_count):\n",
    "            results[i][j] /= get_points()\n",
    "        \n",
    "    return results"
   ]
  },
  {
   "cell_type": "code",
   "execution_count": 13,
   "metadata": {},
   "outputs": [],
   "source": [
    "n_samples = [0.1, 0.35, 0.7]\n",
    "n_features = [0.25, 0.5, 0.75]\n",
    "minors = []"
   ]
  },
  {
   "cell_type": "code",
   "execution_count": 12,
   "metadata": {},
   "outputs": [],
   "source": [
    "for n in n_samples:\n",
    "    minors.append(MinorClassifiers(n, 1, 'average'))\n",
    "    \n",
    "for n in n_features:\n",
    "    minors.append(MinorClassifiers(1, n, 'average'))"
   ]
  },
  {
   "cell_type": "code",
   "execution_count": 13,
   "metadata": {},
   "outputs": [
    {
     "name": "stdout",
     "output_type": "stream",
     "text": [
      "Samples: 0.1, features: 1\n",
      "{'fit_time': array([148.91131902, 146.96860027, 145.08941054, 151.25387406,\n",
      "       145.18135452]), 'score_time': array([79.84562659, 85.42474294, 78.85297894, 84.54803824, 79.84669614]), 'test_accuracy': array([0.74217507, 0.7460865 , 0.73839215, 0.70443088, 0.70018573]), 'test_neg_log_loss': array([-1.03252602, -1.00095979, -1.02576483, -1.0182766 , -0.98272496]), 'test_neg_mean_squared_error': array([-13.57824934, -12.46590608, -13.52241974, -16.59007694,\n",
      "       -15.47704962]), 'test_roc_auc_ovr': array([0.96891407, 0.9726225 , 0.97246307, 0.96648893, 0.9706784 ]), 'test_f1_weighted': array([0.74581488, 0.74695513, 0.73995017, 0.70787399, 0.7053624 ]), 'test_precision_weighted': array([0.76351305, 0.7598769 , 0.75137709, 0.72947445, 0.73186469]), 'test_recall_weighted': array([0.74217507, 0.7460865 , 0.73839215, 0.70443088, 0.70018573])}\n",
      "Samples: 0.35, features: 1\n",
      "{'fit_time': array([1250.17741156, 1215.59635448, 1221.13495445, 1253.77801323,\n",
      "       1255.18911695]), 'score_time': array([241.1143918 , 237.73783064, 238.15648055, 238.74665809,\n",
      "       238.87667727]), 'test_accuracy': array([0.82758621, 0.83576546, 0.83762271, 0.79145662, 0.79570178]), 'test_neg_log_loss': array([-0.60317611, -0.59562935, -0.58406051, -0.67051134, -0.66651575]), 'test_neg_mean_squared_error': array([ -8.99151194,  -8.87874768,  -7.05730963, -12.45768108,\n",
      "       -10.86680817]), 'test_roc_auc_ovr': array([0.98846572, 0.98788456, 0.98868093, 0.98300904, 0.98398545]), 'test_f1_weighted': array([0.83004187, 0.8362623 , 0.83956773, 0.7925548 , 0.79712815]), 'test_precision_weighted': array([0.83845222, 0.83928276, 0.84596856, 0.80147209, 0.80576784]), 'test_recall_weighted': array([0.82758621, 0.83576546, 0.83762271, 0.79145662, 0.79570178])}\n",
      "Samples: 0.7, features: 1\n",
      "{'fit_time': array([3670.4012363 , 3679.47813821, 3691.91536736, 3688.65297294,\n",
      "       3709.90045023]), 'score_time': array([418.77765441, 420.17600155, 418.41189528, 416.0157671 ,\n",
      "       417.57961369]), 'test_accuracy': array([0.86180371, 0.87131865, 0.87317591, 0.82621385, 0.83523481]), 'test_neg_log_loss': array([-0.47038536, -0.45758535, -0.44595865, -0.57134585, -0.54957391]), 'test_neg_mean_squared_error': array([ -7.22944297,  -6.58185195,  -5.72857522, -10.09233218,\n",
      "        -9.57362696]), 'test_roc_auc_ovr': array([0.99232499, 0.99207399, 0.99260602, 0.98681366, 0.98863202]), 'test_f1_weighted': array([0.86348141, 0.87099868, 0.8736036 , 0.82636424, 0.8357518 ]), 'test_precision_weighted': array([0.86869759, 0.87258466, 0.87651123, 0.83040402, 0.84046848]), 'test_recall_weighted': array([0.86180371, 0.87131865, 0.87317591, 0.82621385, 0.83523481])}\n",
      "Samples: 1, features: 0.25\n",
      "{'fit_time': array([2227.2211411 , 2021.72222733, 2069.35828781, 2006.80417085,\n",
      "       2253.50424385]), 'score_time': array([185.78934622, 181.70481491, 181.68906069, 180.8934865 ,\n",
      "       187.44133067]), 'test_accuracy': array([0.84880637, 0.85619528, 0.85990979, 0.80180419, 0.80233484]), 'test_neg_log_loss': array([-0.66994343, -0.64858277, -0.62344737, -0.76678538, -0.77667813]), 'test_neg_mean_squared_error': array([ -9.18859416,  -7.46272221,  -6.59697533, -11.05492173,\n",
      "       -11.97691695]), 'test_roc_auc_ovr': array([0.98708294, 0.98796769, 0.98864173, 0.9806137 , 0.98084403]), 'test_f1_weighted': array([0.85053127, 0.85585199, 0.86022753, 0.80215498, 0.80377089]), 'test_precision_weighted': array([0.85789527, 0.86038249, 0.86458405, 0.80927193, 0.81210556]), 'test_recall_weighted': array([0.84880637, 0.85619528, 0.85990979, 0.80180419, 0.80233484])}\n",
      "Samples: 1, features: 0.5\n",
      "{'fit_time': array([3762.36991215, 3948.46332002, 3781.15107584, 3678.50338602,\n",
      "       3693.33155918]), 'score_time': array([309.00523186, 322.08978248, 312.26619434, 309.18220901,\n",
      "       309.9890554 ]), 'test_accuracy': array([0.86763926, 0.87609445, 0.87927832, 0.82966304, 0.84054126]), 'test_neg_log_loss': array([-0.48094169, -0.48766145, -0.46544366, -0.58707208, -0.56119489]), 'test_neg_mean_squared_error': array([-6.86498674, -6.63412046, -5.4733351 , -9.62536482, -9.12894667]), 'test_roc_auc_ovr': array([0.9929205 , 0.99199956, 0.99297586, 0.98708181, 0.98905008]), 'test_f1_weighted': array([0.86851225, 0.87594759, 0.88006927, 0.8293481 , 0.84046616]), 'test_precision_weighted': array([0.8726617 , 0.87862418, 0.88397473, 0.83341551, 0.84526898]), 'test_recall_weighted': array([0.86763926, 0.87609445, 0.87927832, 0.82966304, 0.84054126])}\n",
      "Samples: 1, features: 0.75\n",
      "{'fit_time': array([5129.99694061, 5464.69192004, 5714.77099419, 5846.30649209,\n",
      "       5291.48040295]), 'score_time': array([430.37426925, 496.65409064, 480.18804741, 432.4143064 ,\n",
      "       437.38199449]), 'test_accuracy': array([0.87108753, 0.88299284, 0.88087026, 0.83417352, 0.84292916]), 'test_neg_log_loss': array([-0.43458475, -0.42165063, -0.41414067, -0.55193083, -0.52433963]), 'test_neg_mean_squared_error': array([-6.62466844, -5.96763067, -5.7911913 , -9.52586893, -9.21225789]), 'test_roc_auc_ovr': array([0.99357724, 0.99342073, 0.99376403, 0.98770668, 0.98984829]), 'test_f1_weighted': array([0.87231667, 0.88294007, 0.88185166, 0.83425009, 0.84301792]), 'test_precision_weighted': array([0.87653932, 0.88519025, 0.88492173, 0.83786631, 0.84621513]), 'test_recall_weighted': array([0.87108753, 0.88299284, 0.88087026, 0.83417352, 0.84292916])}\n",
      "Samples: 0.1, features: 1\n",
      "{'fit_time': array([143.1978569 , 143.10595918, 143.31464124, 144.04252505,\n",
      "       144.58688164]), 'score_time': array([80.07836199, 79.91525245, 79.21023536, 80.16977859, 80.10908532]), 'test_accuracy': array([0.74827586, 0.7508623 , 0.74661714, 0.71318652, 0.71477846]), 'test_neg_log_loss': array([-2.40542955, -2.40699472, -2.39584182, -2.41391118, -2.38489124]), 'test_neg_mean_squared_error': array([-13.16312997, -14.0498806 , -15.08357655, -17.29981427,\n",
      "       -15.73282038]), 'test_roc_auc_ovr': array([0.95123034, 0.95686273, 0.95652897, 0.94880725, 0.95190248]), 'test_f1_weighted': array([0.75050928, 0.75082233, 0.74826756, 0.71584472, 0.71695438]), 'test_precision_weighted': array([0.75700721, 0.75539527, 0.75482369, 0.72681102, 0.72742506]), 'test_recall_weighted': array([0.74827586, 0.7508623 , 0.74661714, 0.71318652, 0.71477846])}\n",
      "Samples: 0.35, features: 1\n",
      "{'fit_time': array([1222.33014894, 1214.1776011 , 1220.71215248, 1255.46160603,\n",
      "       1255.32957554]), 'score_time': array([240.86590266, 239.20943999, 239.18338108, 239.90986109,\n",
      "       239.37554264]), 'test_accuracy': array([0.82864721, 0.83496949, 0.8458477 , 0.798355  , 0.80339613]), 'test_neg_log_loss': array([-2.33448534, -2.33366921, -2.33368843, -2.36025016, -2.35637513]), 'test_neg_mean_squared_error': array([ -8.7994695 ,  -8.77447599,  -7.06845317, -12.71610507,\n",
      "       -10.58423985]), 'test_roc_auc_ovr': array([0.97559452, 0.9750306 , 0.97655446, 0.97106172, 0.97113276]), 'test_f1_weighted': array([0.83026937, 0.83476477, 0.84654585, 0.7992925 , 0.80398288]), 'test_precision_weighted': array([0.8349403 , 0.83554618, 0.84800446, 0.80309214, 0.80697958]), 'test_recall_weighted': array([0.82864721, 0.83496949, 0.8458477 , 0.798355  , 0.80339613])}\n",
      "Samples: 0.7, features: 1\n",
      "{'fit_time': array([3675.6033895 , 3681.59163308, 3692.32481289, 3705.25194049,\n",
      "       3726.5288682 ]), 'score_time': array([419.92994571, 420.15382314, 419.29371762, 419.5678525 ,\n",
      "       418.38241053]), 'test_accuracy': array([0.86180371, 0.8742372 , 0.87609445, 0.82727514, 0.83894932]), 'test_neg_log_loss': array([-2.33384392, -2.32466932, -2.32429665, -2.33823609, -2.3390592 ]), 'test_neg_mean_squared_error': array([ -7.4005305 ,  -6.63836561,  -5.61528257, -10.88352348,\n",
      "        -9.99655081]), 'test_roc_auc_ovr': array([0.98092412, 0.98195238, 0.98279602, 0.9760103 , 0.97780221]), 'test_f1_weighted': array([0.86245277, 0.87342537, 0.87624197, 0.82760371, 0.83901792]), 'test_precision_weighted': array([0.86456617, 0.87388416, 0.87676482, 0.82913083, 0.84055781]), 'test_recall_weighted': array([0.86180371, 0.8742372 , 0.87609445, 0.82727514, 0.83894932])}\n",
      "Samples: 1, features: 0.25\n",
      "{'fit_time': array([2190.24026656, 2300.69199038, 2097.90712023, 2242.84924984,\n",
      "       2076.44754887]), 'score_time': array([186.41214776, 188.11607647, 184.01620197, 186.12888288,\n",
      "       184.08656311]), 'test_accuracy': array([0.8602122 , 0.87105333, 0.86999204, 0.81294773, 0.81984611]), 'test_neg_log_loss': array([-2.35468829, -2.35424144, -2.34994394, -2.37217533, -2.36907061]), 'test_neg_mean_squared_error': array([ -7.44084881,  -7.36932873,  -6.13902892, -10.40408596,\n",
      "        -9.92942425]), 'test_roc_auc_ovr': array([0.98273386, 0.98350088, 0.98503611, 0.9778055 , 0.97843329]), 'test_f1_weighted': array([0.86154592, 0.87158924, 0.87105257, 0.81400017, 0.82089379]), 'test_precision_weighted': array([0.86531797, 0.87385601, 0.87448235, 0.81811259, 0.82545239]), 'test_recall_weighted': array([0.8602122 , 0.87105333, 0.86999204, 0.81294773, 0.81984611])}\n"
     ]
    },
    {
     "name": "stdout",
     "output_type": "stream",
     "text": [
      "Samples: 1, features: 0.5\n",
      "{'fit_time': array([3869.10345006, 3843.47206473, 3612.73425889, 3794.17781258,\n",
      "       3604.67475128]), 'score_time': array([314.03146791, 316.82461762, 308.79971576, 313.6022191 ,\n",
      "       311.20412183]), 'test_accuracy': array([0.8734748 , 0.88087026, 0.88299284, 0.83072433, 0.838684  ]), 'test_neg_log_loss': array([-2.33324503, -2.32945829, -2.33060984, -2.34056075, -2.33796621]), 'test_neg_mean_squared_error': array([-6.32095491, -6.00106129, -5.92332184, -9.60785354, -9.45449721]), 'test_roc_auc_ovr': array([0.98608608, 0.98770734, 0.98684618, 0.98106492, 0.98216681]), 'test_f1_weighted': array([0.87408639, 0.88037591, 0.88350422, 0.83098397, 0.8388703 ]), 'test_precision_weighted': array([0.87629491, 0.88109681, 0.88530988, 0.83342773, 0.84099954]), 'test_recall_weighted': array([0.8734748 , 0.88087026, 0.88299284, 0.83072433, 0.838684  ])}\n",
      "Samples: 1, features: 0.75\n",
      "{'fit_time': array([5152.01870775, 5203.89438987, 5332.218431  , 5689.703866  ,\n",
      "       5304.3261261 ]), 'score_time': array([436.82141876, 436.67957926, 433.14529037, 431.27408504,\n",
      "       437.87617302]), 'test_accuracy': array([0.87427056, 0.88431945, 0.88405413, 0.83523481, 0.85115415]), 'test_neg_log_loss': array([-2.32635537, -2.32313035, -2.32410327, -2.33239824, -2.3313233 ]), 'test_neg_mean_squared_error': array([-6.54774536, -5.93871053, -5.65428496, -9.75749536, -8.94215972]), 'test_roc_auc_ovr': array([0.98605353, 0.98776894, 0.98706457, 0.98130371, 0.98297533]), 'test_f1_weighted': array([0.87470904, 0.88375774, 0.88441979, 0.83550744, 0.85128566]), 'test_precision_weighted': array([0.8764648 , 0.88447663, 0.88546575, 0.83701462, 0.852533  ]), 'test_recall_weighted': array([0.87427056, 0.88431945, 0.88405413, 0.83523481, 0.85115415])}\n"
     ]
    }
   ],
   "source": [
    "for minor in minors:\n",
    "    scores = cross_validate(minor, svd_x_train, y_train, cv=5, scoring=('accuracy', 'neg_log_loss', 'neg_mean_squared_error', 'roc_auc_ovr', 'f1_weighted', 'precision_weighted', 'recall_weighted'))\n",
    "    print(\"Samples: \" + str(minor.samp) + \", features: \" + str(minor.feat))\n",
    "    print(scores)"
   ]
  },
  {
   "cell_type": "markdown",
   "metadata": {},
   "source": [
    "3a"
   ]
  },
  {
   "cell_type": "code",
   "execution_count": 13,
   "metadata": {},
   "outputs": [],
   "source": [
    "parts = [0.1, 0.25, 0.5, 0.75] ## for 1.0 already calculated"
   ]
  },
  {
   "cell_type": "code",
   "execution_count": 22,
   "metadata": {},
   "outputs": [],
   "source": [
    "n_samples = [0.1, 0.35, 0.7]\n",
    "n_features = [0.25, 0.5, 0.75]\n",
    "minors = []"
   ]
  },
  {
   "cell_type": "code",
   "execution_count": 23,
   "metadata": {},
   "outputs": [],
   "source": [
    "for n in n_samples:\n",
    "    minors.append(MinorClassifiers(n, 1, 'average'))\n",
    "    \n",
    "for n in n_features:\n",
    "    minors.append(MinorClassifiers(1, n, 'average'))"
   ]
  },
  {
   "cell_type": "code",
   "execution_count": 24,
   "metadata": {},
   "outputs": [
    {
     "name": "stdout",
     "output_type": "stream",
     "text": [
      "Data 0.1\n",
      "Samples: 0.7, features: 1\n",
      "{'fit_time': array([76.41327071, 75.94379377, 76.88744974, 73.38574314, 73.52283382]), 'score_time': array([5.86673832, 5.99670053, 5.93612862, 5.71173048, 6.10567951]), 'test_accuracy': array([0.74535809, 0.73474801, 0.72413793, 0.75596817, 0.7287234 ]), 'test_neg_log_loss': array([-1.08154999, -1.05632682, -1.05962249, -1.10169275, -1.11996161]), 'test_neg_mean_squared_error': array([-13.16710875, -11.50928382, -14.54376658, -15.23607427,\n",
      "       -13.1462766 ]), 'test_roc_auc_ovr': array([0.95871098, 0.96679956, 0.96866598, 0.96282195, 0.95810908]), 'test_f1_weighted': array([0.74606982, 0.73582449, 0.72886921, 0.75608787, 0.72404682]), 'test_precision_weighted': array([0.77087507, 0.75137784, 0.75825003, 0.77764468, 0.73074313]), 'test_recall_weighted': array([0.74535809, 0.73474801, 0.72413793, 0.75596817, 0.7287234 ])}\n",
      "Data 0.25\n",
      "Samples: 0.7, features: 1\n",
      "{'fit_time': array([422.98991966, 442.01739025, 432.92568946, 456.66984463,\n",
      "       456.49571562]), 'score_time': array([34.30745649, 32.75343418, 36.98967481, 36.82970405, 36.48362112]), 'test_accuracy': array([0.82396607, 0.81953291, 0.79936306, 0.81210191, 0.84288747]), 'test_neg_log_loss': array([-0.68965652, -0.66118488, -0.71518651, -0.67848868, -0.65004818]), 'test_neg_mean_squared_error': array([ -8.57370095,  -9.88428875, -11.72717622,  -8.7866242 ,\n",
      "        -9.09872611]), 'test_roc_auc_ovr': array([0.98261013, 0.98662418, 0.98444698, 0.9852991 , 0.98571707]), 'test_f1_weighted': array([0.82520268, 0.81975614, 0.80120546, 0.81232597, 0.84214123]), 'test_precision_weighted': array([0.83354153, 0.82283145, 0.80604166, 0.81714861, 0.84378376]), 'test_recall_weighted': array([0.82396607, 0.81953291, 0.79936306, 0.81210191, 0.84288747])}\n",
      "Data 0.5\n",
      "Samples: 0.7, features: 1\n",
      "{'fit_time': array([1468.00019145, 1476.77560854, 1458.67821002, 1375.67358685,\n",
      "       1281.04136801]), 'score_time': array([133.75397754, 131.90742254, 131.75512958, 118.53511381,\n",
      "       119.45966196]), 'test_accuracy': array([0.86259947, 0.84774536, 0.85782493, 0.8604034 , 0.86571125]), 'test_neg_log_loss': array([-0.4949615 , -0.53840243, -0.50328724, -0.50461271, -0.48829809]), 'test_neg_mean_squared_error': array([-7.04827586, -9.11405836, -7.45517241, -6.64490446, -6.77919321]), 'test_roc_auc_ovr': array([0.99074673, 0.99033814, 0.99106972, 0.99035786, 0.99109362]), 'test_f1_weighted': array([0.86359704, 0.84903383, 0.85791523, 0.86028061, 0.86679466]), 'test_precision_weighted': array([0.86727506, 0.85324071, 0.85896055, 0.8631071 , 0.86992906]), 'test_recall_weighted': array([0.86259947, 0.84774536, 0.85782493, 0.8604034 , 0.86571125])}\n",
      "Data 0.75\n",
      "Samples: 0.7, features: 1\n",
      "{'fit_time': array([2331.30258441, 2332.92710805, 2337.25086331, 2338.55006886,\n",
      "       2317.97078848]), 'score_time': array([251.46775293, 250.71164012, 250.14967012, 251.42606688,\n",
      "       247.25242615]), 'test_accuracy': array([0.86805801, 0.86664308, 0.87619385, 0.8712416 , 0.78308563]), 'test_neg_log_loss': array([-0.46532776, -0.46519154, -0.43489741, -0.46389107, -0.7445676 ]), 'test_neg_mean_squared_error': array([ -7.04563141,  -8.04704634,  -5.56844712,  -6.18677043,\n",
      "       -12.48690729]), 'test_roc_auc_ovr': array([0.99235407, 0.99200648, 0.99295904, 0.99169158, 0.97850828]), 'test_f1_weighted': array([0.86852143, 0.86711366, 0.87586568, 0.87142975, 0.78375541]), 'test_precision_weighted': array([0.87050655, 0.86857593, 0.87747038, 0.87266213, 0.78732943]), 'test_recall_weighted': array([0.86805801, 0.86664308, 0.87619385, 0.8712416 , 0.78308563])}\n"
     ]
    }
   ],
   "source": [
    "for p in parts:\n",
    "    new_X = svd_x_train[:int(p*svd_x_train.shape[0])]\n",
    "    new_Y = y_train[:int(p*y_train.shape[0])]\n",
    "    #clf = SVC(probability=True)\n",
    "    #scores = cross_validate(clf, new_X, new_Y, cv=5, scoring=('accuracy', 'neg_log_loss', 'neg_mean_squared_error', 'roc_auc_ovr', 'f1_weighted', 'precision_weighted', 'recall_weighted'))\n",
    "    #print(\"Full \" + str(p) + \"%\")\n",
    "    #print(scores)\n",
    "    print(\"Data \" + str(p))\n",
    "    for minor in minors:\n",
    "        scores = cross_validate(minor, new_X, new_Y, cv=5, scoring=('accuracy', 'neg_log_loss', 'neg_mean_squared_error', 'roc_auc_ovr', 'f1_weighted', 'precision_weighted', 'recall_weighted'))\n",
    "        print(\"Samples: \" + str(minor.samp) + \", features: \" + str(minor.feat))\n",
    "        print(scores)"
   ]
  },
  {
   "cell_type": "code",
   "execution_count": 8,
   "metadata": {},
   "outputs": [],
   "source": [
    "def make_noise_label(labels, percent):\n",
    "    labels_with_noise = deepcopy(labels)\n",
    "    arr_size = labels.shape[0]\n",
    "    indexes = [n for n in range(arr_size)]\n",
    "    indexes_to_change = sample(indexes, int(arr_size * percent))\n",
    "    \n",
    "    for i in indexes_to_change:\n",
    "        old_val = labels[i]\n",
    "        new_val = randint(0, classes_count-1)\n",
    "        while old_val == new_val:\n",
    "            new_val = randint(0, classes_count-1)\n",
    "        labels_with_noise[i] = new_val\n",
    "        \n",
    "    return labels_with_noise"
   ]
  },
  {
   "cell_type": "code",
   "execution_count": 9,
   "metadata": {},
   "outputs": [],
   "source": [
    "def make_noise_data(data, percent):\n",
    "    m = data.shape[0]\n",
    "    n = data.shape[1]\n",
    "    new_data = deepcopy(data)\n",
    "    for i in range(m):\n",
    "        for j in range(n):\n",
    "            rand = randrange(-1, 2, 2) #random integer from {-1, 1}\n",
    "            new_data[i][j] = (1 + rand * percent) * data[i][j]\n",
    "    return new_data"
   ]
  },
  {
   "cell_type": "markdown",
   "metadata": {},
   "source": [
    "3b"
   ]
  },
  {
   "cell_type": "code",
   "execution_count": 10,
   "metadata": {},
   "outputs": [],
   "source": [
    "n_samples = [0.1, 0.35, 0.7]\n",
    "n_features = [0.25, 0.5, 0.75]\n",
    "minors = []"
   ]
  },
  {
   "cell_type": "code",
   "execution_count": 11,
   "metadata": {},
   "outputs": [],
   "source": [
    "for n in n_samples:\n",
    "    minors.append(MinorClassifiers(n, 1, 'average'))\n",
    "    \n",
    "for n in n_features:\n",
    "    minors.append(MinorClassifiers(1, n, 'average'))"
   ]
  },
  {
   "cell_type": "code",
   "execution_count": 19,
   "metadata": {},
   "outputs": [
    {
     "name": "stderr",
     "output_type": "stream",
     "text": [
      "C:\\Users\\majer\\Anaconda3\\lib\\site-packages\\sklearn\\svm\\_base.py:231: ConvergenceWarning: Solver terminated early (max_iter=37).  Consider pre-processing your data with StandardScaler or MinMaxScaler.\n",
      "  % self.max_iter, ConvergenceWarning)\n",
      "C:\\Users\\majer\\Anaconda3\\lib\\site-packages\\sklearn\\svm\\_base.py:231: ConvergenceWarning: Solver terminated early (max_iter=37).  Consider pre-processing your data with StandardScaler or MinMaxScaler.\n",
      "  % self.max_iter, ConvergenceWarning)\n",
      "C:\\Users\\majer\\Anaconda3\\lib\\site-packages\\sklearn\\svm\\_base.py:231: ConvergenceWarning: Solver terminated early (max_iter=37).  Consider pre-processing your data with StandardScaler or MinMaxScaler.\n",
      "  % self.max_iter, ConvergenceWarning)\n",
      "C:\\Users\\majer\\Anaconda3\\lib\\site-packages\\sklearn\\svm\\_base.py:231: ConvergenceWarning: Solver terminated early (max_iter=37).  Consider pre-processing your data with StandardScaler or MinMaxScaler.\n",
      "  % self.max_iter, ConvergenceWarning)\n",
      "C:\\Users\\majer\\Anaconda3\\lib\\site-packages\\sklearn\\svm\\_base.py:231: ConvergenceWarning: Solver terminated early (max_iter=37).  Consider pre-processing your data with StandardScaler or MinMaxScaler.\n",
      "  % self.max_iter, ConvergenceWarning)\n",
      "C:\\Users\\majer\\Anaconda3\\lib\\site-packages\\sklearn\\svm\\_base.py:231: ConvergenceWarning: Solver terminated early (max_iter=37).  Consider pre-processing your data with StandardScaler or MinMaxScaler.\n",
      "  % self.max_iter, ConvergenceWarning)\n",
      "C:\\Users\\majer\\Anaconda3\\lib\\site-packages\\sklearn\\svm\\_base.py:231: ConvergenceWarning: Solver terminated early (max_iter=37).  Consider pre-processing your data with StandardScaler or MinMaxScaler.\n",
      "  % self.max_iter, ConvergenceWarning)\n",
      "C:\\Users\\majer\\Anaconda3\\lib\\site-packages\\sklearn\\svm\\_base.py:231: ConvergenceWarning: Solver terminated early (max_iter=37).  Consider pre-processing your data with StandardScaler or MinMaxScaler.\n",
      "  % self.max_iter, ConvergenceWarning)\n",
      "C:\\Users\\majer\\Anaconda3\\lib\\site-packages\\sklearn\\svm\\_base.py:231: ConvergenceWarning: Solver terminated early (max_iter=37).  Consider pre-processing your data with StandardScaler or MinMaxScaler.\n",
      "  % self.max_iter, ConvergenceWarning)\n",
      "C:\\Users\\majer\\Anaconda3\\lib\\site-packages\\sklearn\\svm\\_base.py:231: ConvergenceWarning: Solver terminated early (max_iter=37).  Consider pre-processing your data with StandardScaler or MinMaxScaler.\n",
      "  % self.max_iter, ConvergenceWarning)\n",
      "C:\\Users\\majer\\Anaconda3\\lib\\site-packages\\sklearn\\svm\\_base.py:231: ConvergenceWarning: Solver terminated early (max_iter=37).  Consider pre-processing your data with StandardScaler or MinMaxScaler.\n",
      "  % self.max_iter, ConvergenceWarning)\n",
      "C:\\Users\\majer\\Anaconda3\\lib\\site-packages\\sklearn\\svm\\_base.py:231: ConvergenceWarning: Solver terminated early (max_iter=37).  Consider pre-processing your data with StandardScaler or MinMaxScaler.\n",
      "  % self.max_iter, ConvergenceWarning)\n",
      "C:\\Users\\majer\\Anaconda3\\lib\\site-packages\\sklearn\\svm\\_base.py:231: ConvergenceWarning: Solver terminated early (max_iter=37).  Consider pre-processing your data with StandardScaler or MinMaxScaler.\n",
      "  % self.max_iter, ConvergenceWarning)\n",
      "C:\\Users\\majer\\Anaconda3\\lib\\site-packages\\sklearn\\svm\\_base.py:231: ConvergenceWarning: Solver terminated early (max_iter=37).  Consider pre-processing your data with StandardScaler or MinMaxScaler.\n",
      "  % self.max_iter, ConvergenceWarning)\n",
      "C:\\Users\\majer\\Anaconda3\\lib\\site-packages\\sklearn\\svm\\_base.py:231: ConvergenceWarning: Solver terminated early (max_iter=37).  Consider pre-processing your data with StandardScaler or MinMaxScaler.\n",
      "  % self.max_iter, ConvergenceWarning)\n",
      "C:\\Users\\majer\\Anaconda3\\lib\\site-packages\\sklearn\\svm\\_base.py:231: ConvergenceWarning: Solver terminated early (max_iter=37).  Consider pre-processing your data with StandardScaler or MinMaxScaler.\n",
      "  % self.max_iter, ConvergenceWarning)\n",
      "C:\\Users\\majer\\Anaconda3\\lib\\site-packages\\sklearn\\svm\\_base.py:231: ConvergenceWarning: Solver terminated early (max_iter=37).  Consider pre-processing your data with StandardScaler or MinMaxScaler.\n",
      "  % self.max_iter, ConvergenceWarning)\n",
      "C:\\Users\\majer\\Anaconda3\\lib\\site-packages\\sklearn\\svm\\_base.py:231: ConvergenceWarning: Solver terminated early (max_iter=37).  Consider pre-processing your data with StandardScaler or MinMaxScaler.\n",
      "  % self.max_iter, ConvergenceWarning)\n",
      "C:\\Users\\majer\\Anaconda3\\lib\\site-packages\\sklearn\\svm\\_base.py:231: ConvergenceWarning: Solver terminated early (max_iter=37).  Consider pre-processing your data with StandardScaler or MinMaxScaler.\n",
      "  % self.max_iter, ConvergenceWarning)\n",
      "C:\\Users\\majer\\Anaconda3\\lib\\site-packages\\sklearn\\svm\\_base.py:231: ConvergenceWarning: Solver terminated early (max_iter=37).  Consider pre-processing your data with StandardScaler or MinMaxScaler.\n",
      "  % self.max_iter, ConvergenceWarning)\n",
      "C:\\Users\\majer\\Anaconda3\\lib\\site-packages\\sklearn\\svm\\_base.py:231: ConvergenceWarning: Solver terminated early (max_iter=37).  Consider pre-processing your data with StandardScaler or MinMaxScaler.\n",
      "  % self.max_iter, ConvergenceWarning)\n",
      "C:\\Users\\majer\\Anaconda3\\lib\\site-packages\\sklearn\\svm\\_base.py:231: ConvergenceWarning: Solver terminated early (max_iter=37).  Consider pre-processing your data with StandardScaler or MinMaxScaler.\n",
      "  % self.max_iter, ConvergenceWarning)\n",
      "C:\\Users\\majer\\Anaconda3\\lib\\site-packages\\sklearn\\svm\\_base.py:231: ConvergenceWarning: Solver terminated early (max_iter=37).  Consider pre-processing your data with StandardScaler or MinMaxScaler.\n",
      "  % self.max_iter, ConvergenceWarning)\n",
      "C:\\Users\\majer\\Anaconda3\\lib\\site-packages\\sklearn\\svm\\_base.py:231: ConvergenceWarning: Solver terminated early (max_iter=37).  Consider pre-processing your data with StandardScaler or MinMaxScaler.\n",
      "  % self.max_iter, ConvergenceWarning)\n",
      "C:\\Users\\majer\\Anaconda3\\lib\\site-packages\\sklearn\\svm\\_base.py:231: ConvergenceWarning: Solver terminated early (max_iter=37).  Consider pre-processing your data with StandardScaler or MinMaxScaler.\n",
      "  % self.max_iter, ConvergenceWarning)\n",
      "C:\\Users\\majer\\Anaconda3\\lib\\site-packages\\sklearn\\svm\\_base.py:231: ConvergenceWarning: Solver terminated early (max_iter=37).  Consider pre-processing your data with StandardScaler or MinMaxScaler.\n",
      "  % self.max_iter, ConvergenceWarning)\n",
      "C:\\Users\\majer\\Anaconda3\\lib\\site-packages\\sklearn\\svm\\_base.py:231: ConvergenceWarning: Solver terminated early (max_iter=37).  Consider pre-processing your data with StandardScaler or MinMaxScaler.\n",
      "  % self.max_iter, ConvergenceWarning)\n",
      "C:\\Users\\majer\\Anaconda3\\lib\\site-packages\\sklearn\\svm\\_base.py:231: ConvergenceWarning: Solver terminated early (max_iter=37).  Consider pre-processing your data with StandardScaler or MinMaxScaler.\n",
      "  % self.max_iter, ConvergenceWarning)\n",
      "C:\\Users\\majer\\Anaconda3\\lib\\site-packages\\sklearn\\svm\\_base.py:231: ConvergenceWarning: Solver terminated early (max_iter=37).  Consider pre-processing your data with StandardScaler or MinMaxScaler.\n",
      "  % self.max_iter, ConvergenceWarning)\n",
      "C:\\Users\\majer\\Anaconda3\\lib\\site-packages\\sklearn\\svm\\_base.py:231: ConvergenceWarning: Solver terminated early (max_iter=37).  Consider pre-processing your data with StandardScaler or MinMaxScaler.\n",
      "  % self.max_iter, ConvergenceWarning)\n",
      "C:\\Users\\majer\\Anaconda3\\lib\\site-packages\\sklearn\\svm\\_base.py:231: ConvergenceWarning: Solver terminated early (max_iter=37).  Consider pre-processing your data with StandardScaler or MinMaxScaler.\n",
      "  % self.max_iter, ConvergenceWarning)\n",
      "C:\\Users\\majer\\Anaconda3\\lib\\site-packages\\sklearn\\svm\\_base.py:231: ConvergenceWarning: Solver terminated early (max_iter=37).  Consider pre-processing your data with StandardScaler or MinMaxScaler.\n",
      "  % self.max_iter, ConvergenceWarning)\n",
      "C:\\Users\\majer\\Anaconda3\\lib\\site-packages\\sklearn\\svm\\_base.py:231: ConvergenceWarning: Solver terminated early (max_iter=37).  Consider pre-processing your data with StandardScaler or MinMaxScaler.\n",
      "  % self.max_iter, ConvergenceWarning)\n",
      "C:\\Users\\majer\\Anaconda3\\lib\\site-packages\\sklearn\\svm\\_base.py:231: ConvergenceWarning: Solver terminated early (max_iter=37).  Consider pre-processing your data with StandardScaler or MinMaxScaler.\n",
      "  % self.max_iter, ConvergenceWarning)\n",
      "C:\\Users\\majer\\Anaconda3\\lib\\site-packages\\sklearn\\svm\\_base.py:231: ConvergenceWarning: Solver terminated early (max_iter=37).  Consider pre-processing your data with StandardScaler or MinMaxScaler.\n",
      "  % self.max_iter, ConvergenceWarning)\n"
     ]
    },
    {
     "name": "stderr",
     "output_type": "stream",
     "text": [
      "C:\\Users\\majer\\Anaconda3\\lib\\site-packages\\sklearn\\svm\\_base.py:231: ConvergenceWarning: Solver terminated early (max_iter=37).  Consider pre-processing your data with StandardScaler or MinMaxScaler.\n",
      "  % self.max_iter, ConvergenceWarning)\n",
      "C:\\Users\\majer\\Anaconda3\\lib\\site-packages\\sklearn\\svm\\_base.py:231: ConvergenceWarning: Solver terminated early (max_iter=37).  Consider pre-processing your data with StandardScaler or MinMaxScaler.\n",
      "  % self.max_iter, ConvergenceWarning)\n",
      "C:\\Users\\majer\\Anaconda3\\lib\\site-packages\\sklearn\\svm\\_base.py:231: ConvergenceWarning: Solver terminated early (max_iter=37).  Consider pre-processing your data with StandardScaler or MinMaxScaler.\n",
      "  % self.max_iter, ConvergenceWarning)\n",
      "C:\\Users\\majer\\Anaconda3\\lib\\site-packages\\sklearn\\svm\\_base.py:231: ConvergenceWarning: Solver terminated early (max_iter=37).  Consider pre-processing your data with StandardScaler or MinMaxScaler.\n",
      "  % self.max_iter, ConvergenceWarning)\n",
      "C:\\Users\\majer\\Anaconda3\\lib\\site-packages\\sklearn\\svm\\_base.py:231: ConvergenceWarning: Solver terminated early (max_iter=37).  Consider pre-processing your data with StandardScaler or MinMaxScaler.\n",
      "  % self.max_iter, ConvergenceWarning)\n",
      "C:\\Users\\majer\\Anaconda3\\lib\\site-packages\\sklearn\\svm\\_base.py:231: ConvergenceWarning: Solver terminated early (max_iter=37).  Consider pre-processing your data with StandardScaler or MinMaxScaler.\n",
      "  % self.max_iter, ConvergenceWarning)\n",
      "C:\\Users\\majer\\Anaconda3\\lib\\site-packages\\sklearn\\svm\\_base.py:231: ConvergenceWarning: Solver terminated early (max_iter=37).  Consider pre-processing your data with StandardScaler or MinMaxScaler.\n",
      "  % self.max_iter, ConvergenceWarning)\n",
      "C:\\Users\\majer\\Anaconda3\\lib\\site-packages\\sklearn\\svm\\_base.py:231: ConvergenceWarning: Solver terminated early (max_iter=37).  Consider pre-processing your data with StandardScaler or MinMaxScaler.\n",
      "  % self.max_iter, ConvergenceWarning)\n",
      "C:\\Users\\majer\\Anaconda3\\lib\\site-packages\\sklearn\\svm\\_base.py:231: ConvergenceWarning: Solver terminated early (max_iter=37).  Consider pre-processing your data with StandardScaler or MinMaxScaler.\n",
      "  % self.max_iter, ConvergenceWarning)\n",
      "C:\\Users\\majer\\Anaconda3\\lib\\site-packages\\sklearn\\svm\\_base.py:231: ConvergenceWarning: Solver terminated early (max_iter=37).  Consider pre-processing your data with StandardScaler or MinMaxScaler.\n",
      "  % self.max_iter, ConvergenceWarning)\n",
      "C:\\Users\\majer\\Anaconda3\\lib\\site-packages\\sklearn\\svm\\_base.py:231: ConvergenceWarning: Solver terminated early (max_iter=37).  Consider pre-processing your data with StandardScaler or MinMaxScaler.\n",
      "  % self.max_iter, ConvergenceWarning)\n",
      "C:\\Users\\majer\\Anaconda3\\lib\\site-packages\\sklearn\\svm\\_base.py:231: ConvergenceWarning: Solver terminated early (max_iter=37).  Consider pre-processing your data with StandardScaler or MinMaxScaler.\n",
      "  % self.max_iter, ConvergenceWarning)\n",
      "C:\\Users\\majer\\Anaconda3\\lib\\site-packages\\sklearn\\svm\\_base.py:231: ConvergenceWarning: Solver terminated early (max_iter=37).  Consider pre-processing your data with StandardScaler or MinMaxScaler.\n",
      "  % self.max_iter, ConvergenceWarning)\n",
      "C:\\Users\\majer\\Anaconda3\\lib\\site-packages\\sklearn\\svm\\_base.py:231: ConvergenceWarning: Solver terminated early (max_iter=37).  Consider pre-processing your data with StandardScaler or MinMaxScaler.\n",
      "  % self.max_iter, ConvergenceWarning)\n",
      "C:\\Users\\majer\\Anaconda3\\lib\\site-packages\\sklearn\\svm\\_base.py:231: ConvergenceWarning: Solver terminated early (max_iter=37).  Consider pre-processing your data with StandardScaler or MinMaxScaler.\n",
      "  % self.max_iter, ConvergenceWarning)\n"
     ]
    },
    {
     "name": "stdout",
     "output_type": "stream",
     "text": [
      "Samples: 0.1, features: 1\n",
      "{'fit_time': array([88.18258214, 88.79833651, 88.36883354, 88.65271568, 88.86816239]), 'score_time': array([70.55228567, 71.71939254, 71.96069217, 71.08581972, 71.06397247]), 'test_accuracy': array([0.71087533, 0.71212523, 0.71477846, 0.66887769, 0.66569382]), 'test_neg_log_loss': array([-1.21828004, -1.21973044, -1.21845791, -1.20584033, -1.20061204]), 'test_neg_mean_squared_error': array([-15.57453581, -16.97187583, -17.00530645, -20.36932873,\n",
      "       -19.63544707]), 'test_roc_auc_ovr': array([0.96612881, 0.9690826 , 0.96927898, 0.96246453, 0.96610453]), 'test_f1_weighted': array([0.71100002, 0.71377589, 0.71618044, 0.6763783 , 0.67076775]), 'test_precision_weighted': array([0.74159652, 0.73126927, 0.73426947, 0.70696561, 0.71098357]), 'test_recall_weighted': array([0.71087533, 0.71212523, 0.71477846, 0.66887769, 0.66569382])}\n"
     ]
    }
   ],
   "source": [
    "#0.1 samples, 1 features:\n",
    "minor = MinorClassifiers(0.1, 1, 'average', 37)\n",
    "scores = cross_validate(minor, svd_x_train, y_train, cv=5, scoring=('accuracy', 'neg_log_loss', 'neg_mean_squared_error', 'roc_auc_ovr', 'f1_weighted', 'precision_weighted', 'recall_weighted'))\n",
    "print(\"Samples: \" + str(minor.samp) + \", features: \" + str(minor.feat))\n",
    "print(scores)"
   ]
  },
  {
   "cell_type": "code",
   "execution_count": 25,
   "metadata": {},
   "outputs": [
    {
     "name": "stderr",
     "output_type": "stream",
     "text": [
      "C:\\Users\\majer\\Anaconda3\\lib\\site-packages\\sklearn\\svm\\_base.py:231: ConvergenceWarning: Solver terminated early (max_iter=67).  Consider pre-processing your data with StandardScaler or MinMaxScaler.\n",
      "  % self.max_iter, ConvergenceWarning)\n",
      "C:\\Users\\majer\\Anaconda3\\lib\\site-packages\\sklearn\\svm\\_base.py:231: ConvergenceWarning: Solver terminated early (max_iter=67).  Consider pre-processing your data with StandardScaler or MinMaxScaler.\n",
      "  % self.max_iter, ConvergenceWarning)\n",
      "C:\\Users\\majer\\Anaconda3\\lib\\site-packages\\sklearn\\svm\\_base.py:231: ConvergenceWarning: Solver terminated early (max_iter=67).  Consider pre-processing your data with StandardScaler or MinMaxScaler.\n",
      "  % self.max_iter, ConvergenceWarning)\n",
      "C:\\Users\\majer\\Anaconda3\\lib\\site-packages\\sklearn\\svm\\_base.py:231: ConvergenceWarning: Solver terminated early (max_iter=67).  Consider pre-processing your data with StandardScaler or MinMaxScaler.\n",
      "  % self.max_iter, ConvergenceWarning)\n",
      "C:\\Users\\majer\\Anaconda3\\lib\\site-packages\\sklearn\\svm\\_base.py:231: ConvergenceWarning: Solver terminated early (max_iter=67).  Consider pre-processing your data with StandardScaler or MinMaxScaler.\n",
      "  % self.max_iter, ConvergenceWarning)\n",
      "C:\\Users\\majer\\Anaconda3\\lib\\site-packages\\sklearn\\svm\\_base.py:231: ConvergenceWarning: Solver terminated early (max_iter=67).  Consider pre-processing your data with StandardScaler or MinMaxScaler.\n",
      "  % self.max_iter, ConvergenceWarning)\n",
      "C:\\Users\\majer\\Anaconda3\\lib\\site-packages\\sklearn\\svm\\_base.py:231: ConvergenceWarning: Solver terminated early (max_iter=67).  Consider pre-processing your data with StandardScaler or MinMaxScaler.\n",
      "  % self.max_iter, ConvergenceWarning)\n",
      "C:\\Users\\majer\\Anaconda3\\lib\\site-packages\\sklearn\\svm\\_base.py:231: ConvergenceWarning: Solver terminated early (max_iter=67).  Consider pre-processing your data with StandardScaler or MinMaxScaler.\n",
      "  % self.max_iter, ConvergenceWarning)\n",
      "C:\\Users\\majer\\Anaconda3\\lib\\site-packages\\sklearn\\svm\\_base.py:231: ConvergenceWarning: Solver terminated early (max_iter=67).  Consider pre-processing your data with StandardScaler or MinMaxScaler.\n",
      "  % self.max_iter, ConvergenceWarning)\n",
      "C:\\Users\\majer\\Anaconda3\\lib\\site-packages\\sklearn\\svm\\_base.py:231: ConvergenceWarning: Solver terminated early (max_iter=67).  Consider pre-processing your data with StandardScaler or MinMaxScaler.\n",
      "  % self.max_iter, ConvergenceWarning)\n",
      "C:\\Users\\majer\\Anaconda3\\lib\\site-packages\\sklearn\\svm\\_base.py:231: ConvergenceWarning: Solver terminated early (max_iter=67).  Consider pre-processing your data with StandardScaler or MinMaxScaler.\n",
      "  % self.max_iter, ConvergenceWarning)\n",
      "C:\\Users\\majer\\Anaconda3\\lib\\site-packages\\sklearn\\svm\\_base.py:231: ConvergenceWarning: Solver terminated early (max_iter=67).  Consider pre-processing your data with StandardScaler or MinMaxScaler.\n",
      "  % self.max_iter, ConvergenceWarning)\n",
      "C:\\Users\\majer\\Anaconda3\\lib\\site-packages\\sklearn\\svm\\_base.py:231: ConvergenceWarning: Solver terminated early (max_iter=67).  Consider pre-processing your data with StandardScaler or MinMaxScaler.\n",
      "  % self.max_iter, ConvergenceWarning)\n",
      "C:\\Users\\majer\\Anaconda3\\lib\\site-packages\\sklearn\\svm\\_base.py:231: ConvergenceWarning: Solver terminated early (max_iter=67).  Consider pre-processing your data with StandardScaler or MinMaxScaler.\n",
      "  % self.max_iter, ConvergenceWarning)\n",
      "C:\\Users\\majer\\Anaconda3\\lib\\site-packages\\sklearn\\svm\\_base.py:231: ConvergenceWarning: Solver terminated early (max_iter=67).  Consider pre-processing your data with StandardScaler or MinMaxScaler.\n",
      "  % self.max_iter, ConvergenceWarning)\n",
      "C:\\Users\\majer\\Anaconda3\\lib\\site-packages\\sklearn\\svm\\_base.py:231: ConvergenceWarning: Solver terminated early (max_iter=67).  Consider pre-processing your data with StandardScaler or MinMaxScaler.\n",
      "  % self.max_iter, ConvergenceWarning)\n",
      "C:\\Users\\majer\\Anaconda3\\lib\\site-packages\\sklearn\\svm\\_base.py:231: ConvergenceWarning: Solver terminated early (max_iter=67).  Consider pre-processing your data with StandardScaler or MinMaxScaler.\n",
      "  % self.max_iter, ConvergenceWarning)\n",
      "C:\\Users\\majer\\Anaconda3\\lib\\site-packages\\sklearn\\svm\\_base.py:231: ConvergenceWarning: Solver terminated early (max_iter=67).  Consider pre-processing your data with StandardScaler or MinMaxScaler.\n",
      "  % self.max_iter, ConvergenceWarning)\n",
      "C:\\Users\\majer\\Anaconda3\\lib\\site-packages\\sklearn\\svm\\_base.py:231: ConvergenceWarning: Solver terminated early (max_iter=67).  Consider pre-processing your data with StandardScaler or MinMaxScaler.\n",
      "  % self.max_iter, ConvergenceWarning)\n",
      "C:\\Users\\majer\\Anaconda3\\lib\\site-packages\\sklearn\\svm\\_base.py:231: ConvergenceWarning: Solver terminated early (max_iter=67).  Consider pre-processing your data with StandardScaler or MinMaxScaler.\n",
      "  % self.max_iter, ConvergenceWarning)\n",
      "C:\\Users\\majer\\Anaconda3\\lib\\site-packages\\sklearn\\svm\\_base.py:231: ConvergenceWarning: Solver terminated early (max_iter=67).  Consider pre-processing your data with StandardScaler or MinMaxScaler.\n",
      "  % self.max_iter, ConvergenceWarning)\n",
      "C:\\Users\\majer\\Anaconda3\\lib\\site-packages\\sklearn\\svm\\_base.py:231: ConvergenceWarning: Solver terminated early (max_iter=67).  Consider pre-processing your data with StandardScaler or MinMaxScaler.\n",
      "  % self.max_iter, ConvergenceWarning)\n",
      "C:\\Users\\majer\\Anaconda3\\lib\\site-packages\\sklearn\\svm\\_base.py:231: ConvergenceWarning: Solver terminated early (max_iter=67).  Consider pre-processing your data with StandardScaler or MinMaxScaler.\n",
      "  % self.max_iter, ConvergenceWarning)\n",
      "C:\\Users\\majer\\Anaconda3\\lib\\site-packages\\sklearn\\svm\\_base.py:231: ConvergenceWarning: Solver terminated early (max_iter=67).  Consider pre-processing your data with StandardScaler or MinMaxScaler.\n",
      "  % self.max_iter, ConvergenceWarning)\n",
      "C:\\Users\\majer\\Anaconda3\\lib\\site-packages\\sklearn\\svm\\_base.py:231: ConvergenceWarning: Solver terminated early (max_iter=67).  Consider pre-processing your data with StandardScaler or MinMaxScaler.\n",
      "  % self.max_iter, ConvergenceWarning)\n",
      "C:\\Users\\majer\\Anaconda3\\lib\\site-packages\\sklearn\\svm\\_base.py:231: ConvergenceWarning: Solver terminated early (max_iter=67).  Consider pre-processing your data with StandardScaler or MinMaxScaler.\n",
      "  % self.max_iter, ConvergenceWarning)\n",
      "C:\\Users\\majer\\Anaconda3\\lib\\site-packages\\sklearn\\svm\\_base.py:231: ConvergenceWarning: Solver terminated early (max_iter=67).  Consider pre-processing your data with StandardScaler or MinMaxScaler.\n",
      "  % self.max_iter, ConvergenceWarning)\n",
      "C:\\Users\\majer\\Anaconda3\\lib\\site-packages\\sklearn\\svm\\_base.py:231: ConvergenceWarning: Solver terminated early (max_iter=67).  Consider pre-processing your data with StandardScaler or MinMaxScaler.\n",
      "  % self.max_iter, ConvergenceWarning)\n",
      "C:\\Users\\majer\\Anaconda3\\lib\\site-packages\\sklearn\\svm\\_base.py:231: ConvergenceWarning: Solver terminated early (max_iter=67).  Consider pre-processing your data with StandardScaler or MinMaxScaler.\n",
      "  % self.max_iter, ConvergenceWarning)\n",
      "C:\\Users\\majer\\Anaconda3\\lib\\site-packages\\sklearn\\svm\\_base.py:231: ConvergenceWarning: Solver terminated early (max_iter=67).  Consider pre-processing your data with StandardScaler or MinMaxScaler.\n",
      "  % self.max_iter, ConvergenceWarning)\n",
      "C:\\Users\\majer\\Anaconda3\\lib\\site-packages\\sklearn\\svm\\_base.py:231: ConvergenceWarning: Solver terminated early (max_iter=67).  Consider pre-processing your data with StandardScaler or MinMaxScaler.\n",
      "  % self.max_iter, ConvergenceWarning)\n",
      "C:\\Users\\majer\\Anaconda3\\lib\\site-packages\\sklearn\\svm\\_base.py:231: ConvergenceWarning: Solver terminated early (max_iter=67).  Consider pre-processing your data with StandardScaler or MinMaxScaler.\n",
      "  % self.max_iter, ConvergenceWarning)\n",
      "C:\\Users\\majer\\Anaconda3\\lib\\site-packages\\sklearn\\svm\\_base.py:231: ConvergenceWarning: Solver terminated early (max_iter=67).  Consider pre-processing your data with StandardScaler or MinMaxScaler.\n",
      "  % self.max_iter, ConvergenceWarning)\n",
      "C:\\Users\\majer\\Anaconda3\\lib\\site-packages\\sklearn\\svm\\_base.py:231: ConvergenceWarning: Solver terminated early (max_iter=67).  Consider pre-processing your data with StandardScaler or MinMaxScaler.\n",
      "  % self.max_iter, ConvergenceWarning)\n",
      "C:\\Users\\majer\\Anaconda3\\lib\\site-packages\\sklearn\\svm\\_base.py:231: ConvergenceWarning: Solver terminated early (max_iter=67).  Consider pre-processing your data with StandardScaler or MinMaxScaler.\n",
      "  % self.max_iter, ConvergenceWarning)\n"
     ]
    },
    {
     "name": "stderr",
     "output_type": "stream",
     "text": [
      "C:\\Users\\majer\\Anaconda3\\lib\\site-packages\\sklearn\\svm\\_base.py:231: ConvergenceWarning: Solver terminated early (max_iter=67).  Consider pre-processing your data with StandardScaler or MinMaxScaler.\n",
      "  % self.max_iter, ConvergenceWarning)\n",
      "C:\\Users\\majer\\Anaconda3\\lib\\site-packages\\sklearn\\svm\\_base.py:231: ConvergenceWarning: Solver terminated early (max_iter=67).  Consider pre-processing your data with StandardScaler or MinMaxScaler.\n",
      "  % self.max_iter, ConvergenceWarning)\n",
      "C:\\Users\\majer\\Anaconda3\\lib\\site-packages\\sklearn\\svm\\_base.py:231: ConvergenceWarning: Solver terminated early (max_iter=67).  Consider pre-processing your data with StandardScaler or MinMaxScaler.\n",
      "  % self.max_iter, ConvergenceWarning)\n",
      "C:\\Users\\majer\\Anaconda3\\lib\\site-packages\\sklearn\\svm\\_base.py:231: ConvergenceWarning: Solver terminated early (max_iter=67).  Consider pre-processing your data with StandardScaler or MinMaxScaler.\n",
      "  % self.max_iter, ConvergenceWarning)\n",
      "C:\\Users\\majer\\Anaconda3\\lib\\site-packages\\sklearn\\svm\\_base.py:231: ConvergenceWarning: Solver terminated early (max_iter=67).  Consider pre-processing your data with StandardScaler or MinMaxScaler.\n",
      "  % self.max_iter, ConvergenceWarning)\n",
      "C:\\Users\\majer\\Anaconda3\\lib\\site-packages\\sklearn\\svm\\_base.py:231: ConvergenceWarning: Solver terminated early (max_iter=67).  Consider pre-processing your data with StandardScaler or MinMaxScaler.\n",
      "  % self.max_iter, ConvergenceWarning)\n",
      "C:\\Users\\majer\\Anaconda3\\lib\\site-packages\\sklearn\\svm\\_base.py:231: ConvergenceWarning: Solver terminated early (max_iter=67).  Consider pre-processing your data with StandardScaler or MinMaxScaler.\n",
      "  % self.max_iter, ConvergenceWarning)\n",
      "C:\\Users\\majer\\Anaconda3\\lib\\site-packages\\sklearn\\svm\\_base.py:231: ConvergenceWarning: Solver terminated early (max_iter=67).  Consider pre-processing your data with StandardScaler or MinMaxScaler.\n",
      "  % self.max_iter, ConvergenceWarning)\n",
      "C:\\Users\\majer\\Anaconda3\\lib\\site-packages\\sklearn\\svm\\_base.py:231: ConvergenceWarning: Solver terminated early (max_iter=67).  Consider pre-processing your data with StandardScaler or MinMaxScaler.\n",
      "  % self.max_iter, ConvergenceWarning)\n",
      "C:\\Users\\majer\\Anaconda3\\lib\\site-packages\\sklearn\\svm\\_base.py:231: ConvergenceWarning: Solver terminated early (max_iter=67).  Consider pre-processing your data with StandardScaler or MinMaxScaler.\n",
      "  % self.max_iter, ConvergenceWarning)\n",
      "C:\\Users\\majer\\Anaconda3\\lib\\site-packages\\sklearn\\svm\\_base.py:231: ConvergenceWarning: Solver terminated early (max_iter=67).  Consider pre-processing your data with StandardScaler or MinMaxScaler.\n",
      "  % self.max_iter, ConvergenceWarning)\n",
      "C:\\Users\\majer\\Anaconda3\\lib\\site-packages\\sklearn\\svm\\_base.py:231: ConvergenceWarning: Solver terminated early (max_iter=67).  Consider pre-processing your data with StandardScaler or MinMaxScaler.\n",
      "  % self.max_iter, ConvergenceWarning)\n",
      "C:\\Users\\majer\\Anaconda3\\lib\\site-packages\\sklearn\\svm\\_base.py:231: ConvergenceWarning: Solver terminated early (max_iter=67).  Consider pre-processing your data with StandardScaler or MinMaxScaler.\n",
      "  % self.max_iter, ConvergenceWarning)\n",
      "C:\\Users\\majer\\Anaconda3\\lib\\site-packages\\sklearn\\svm\\_base.py:231: ConvergenceWarning: Solver terminated early (max_iter=67).  Consider pre-processing your data with StandardScaler or MinMaxScaler.\n",
      "  % self.max_iter, ConvergenceWarning)\n",
      "C:\\Users\\majer\\Anaconda3\\lib\\site-packages\\sklearn\\svm\\_base.py:231: ConvergenceWarning: Solver terminated early (max_iter=67).  Consider pre-processing your data with StandardScaler or MinMaxScaler.\n",
      "  % self.max_iter, ConvergenceWarning)\n"
     ]
    },
    {
     "name": "stdout",
     "output_type": "stream",
     "text": [
      "Samples: 0.35, features: 1\n",
      "{'fit_time': array([679.35120106, 705.39891338, 708.47526312, 589.7783947 ,\n",
      "       579.19102955]), 'score_time': array([227.29149961, 227.5492425 , 224.91980171, 183.9766016 ,\n",
      "       184.35918283]), 'test_accuracy': array([0.78992042, 0.80047758, 0.79145662, 0.7402494 , 0.74422924]), 'test_neg_log_loss': array([-0.88485678, -0.85586388, -0.85271501, -0.90502966, -0.89169428]), 'test_neg_mean_squared_error': array([-12.55490716, -11.15494826, -10.81215176, -18.89944282,\n",
      "       -15.38604404]), 'test_roc_auc_ovr': array([0.98385408, 0.98441024, 0.98445036, 0.97971468, 0.97960131]), 'test_f1_weighted': array([0.79238135, 0.80023554, 0.79171325, 0.74816903, 0.74822482]), 'test_precision_weighted': array([0.81270595, 0.81514821, 0.80767963, 0.78599126, 0.77601008]), 'test_recall_weighted': array([0.78992042, 0.80047758, 0.79145662, 0.7402494 , 0.74422924])}\n"
     ]
    }
   ],
   "source": [
    "#0.35 samples, 1 features:\n",
    "minor = MinorClassifiers(0.35, 1, 'average', 67)\n",
    "scores = cross_validate(minor, svd_x_train, y_train, cv=5, scoring=('accuracy', 'neg_log_loss', 'neg_mean_squared_error', 'roc_auc_ovr', 'f1_weighted', 'precision_weighted', 'recall_weighted'))\n",
    "print(\"Samples: \" + str(minor.samp) + \", features: \" + str(minor.feat))\n",
    "print(scores)"
   ]
  },
  {
   "cell_type": "code",
   "execution_count": 26,
   "metadata": {},
   "outputs": [
    {
     "name": "stderr",
     "output_type": "stream",
     "text": [
      "C:\\Users\\majer\\Anaconda3\\lib\\site-packages\\sklearn\\svm\\_base.py:231: ConvergenceWarning: Solver terminated early (max_iter=60).  Consider pre-processing your data with StandardScaler or MinMaxScaler.\n",
      "  % self.max_iter, ConvergenceWarning)\n",
      "C:\\Users\\majer\\Anaconda3\\lib\\site-packages\\sklearn\\svm\\_base.py:231: ConvergenceWarning: Solver terminated early (max_iter=60).  Consider pre-processing your data with StandardScaler or MinMaxScaler.\n",
      "  % self.max_iter, ConvergenceWarning)\n",
      "C:\\Users\\majer\\Anaconda3\\lib\\site-packages\\sklearn\\svm\\_base.py:231: ConvergenceWarning: Solver terminated early (max_iter=60).  Consider pre-processing your data with StandardScaler or MinMaxScaler.\n",
      "  % self.max_iter, ConvergenceWarning)\n",
      "C:\\Users\\majer\\Anaconda3\\lib\\site-packages\\sklearn\\svm\\_base.py:231: ConvergenceWarning: Solver terminated early (max_iter=60).  Consider pre-processing your data with StandardScaler or MinMaxScaler.\n",
      "  % self.max_iter, ConvergenceWarning)\n",
      "C:\\Users\\majer\\Anaconda3\\lib\\site-packages\\sklearn\\svm\\_base.py:231: ConvergenceWarning: Solver terminated early (max_iter=60).  Consider pre-processing your data with StandardScaler or MinMaxScaler.\n",
      "  % self.max_iter, ConvergenceWarning)\n",
      "C:\\Users\\majer\\Anaconda3\\lib\\site-packages\\sklearn\\svm\\_base.py:231: ConvergenceWarning: Solver terminated early (max_iter=60).  Consider pre-processing your data with StandardScaler or MinMaxScaler.\n",
      "  % self.max_iter, ConvergenceWarning)\n",
      "C:\\Users\\majer\\Anaconda3\\lib\\site-packages\\sklearn\\svm\\_base.py:231: ConvergenceWarning: Solver terminated early (max_iter=60).  Consider pre-processing your data with StandardScaler or MinMaxScaler.\n",
      "  % self.max_iter, ConvergenceWarning)\n",
      "C:\\Users\\majer\\Anaconda3\\lib\\site-packages\\sklearn\\svm\\_base.py:231: ConvergenceWarning: Solver terminated early (max_iter=60).  Consider pre-processing your data with StandardScaler or MinMaxScaler.\n",
      "  % self.max_iter, ConvergenceWarning)\n",
      "C:\\Users\\majer\\Anaconda3\\lib\\site-packages\\sklearn\\svm\\_base.py:231: ConvergenceWarning: Solver terminated early (max_iter=60).  Consider pre-processing your data with StandardScaler or MinMaxScaler.\n",
      "  % self.max_iter, ConvergenceWarning)\n",
      "C:\\Users\\majer\\Anaconda3\\lib\\site-packages\\sklearn\\svm\\_base.py:231: ConvergenceWarning: Solver terminated early (max_iter=60).  Consider pre-processing your data with StandardScaler or MinMaxScaler.\n",
      "  % self.max_iter, ConvergenceWarning)\n",
      "C:\\Users\\majer\\Anaconda3\\lib\\site-packages\\sklearn\\svm\\_base.py:231: ConvergenceWarning: Solver terminated early (max_iter=60).  Consider pre-processing your data with StandardScaler or MinMaxScaler.\n",
      "  % self.max_iter, ConvergenceWarning)\n",
      "C:\\Users\\majer\\Anaconda3\\lib\\site-packages\\sklearn\\svm\\_base.py:231: ConvergenceWarning: Solver terminated early (max_iter=60).  Consider pre-processing your data with StandardScaler or MinMaxScaler.\n",
      "  % self.max_iter, ConvergenceWarning)\n",
      "C:\\Users\\majer\\Anaconda3\\lib\\site-packages\\sklearn\\svm\\_base.py:231: ConvergenceWarning: Solver terminated early (max_iter=60).  Consider pre-processing your data with StandardScaler or MinMaxScaler.\n",
      "  % self.max_iter, ConvergenceWarning)\n",
      "C:\\Users\\majer\\Anaconda3\\lib\\site-packages\\sklearn\\svm\\_base.py:231: ConvergenceWarning: Solver terminated early (max_iter=60).  Consider pre-processing your data with StandardScaler or MinMaxScaler.\n",
      "  % self.max_iter, ConvergenceWarning)\n",
      "C:\\Users\\majer\\Anaconda3\\lib\\site-packages\\sklearn\\svm\\_base.py:231: ConvergenceWarning: Solver terminated early (max_iter=60).  Consider pre-processing your data with StandardScaler or MinMaxScaler.\n",
      "  % self.max_iter, ConvergenceWarning)\n",
      "C:\\Users\\majer\\Anaconda3\\lib\\site-packages\\sklearn\\svm\\_base.py:231: ConvergenceWarning: Solver terminated early (max_iter=60).  Consider pre-processing your data with StandardScaler or MinMaxScaler.\n",
      "  % self.max_iter, ConvergenceWarning)\n",
      "C:\\Users\\majer\\Anaconda3\\lib\\site-packages\\sklearn\\svm\\_base.py:231: ConvergenceWarning: Solver terminated early (max_iter=60).  Consider pre-processing your data with StandardScaler or MinMaxScaler.\n",
      "  % self.max_iter, ConvergenceWarning)\n",
      "C:\\Users\\majer\\Anaconda3\\lib\\site-packages\\sklearn\\svm\\_base.py:231: ConvergenceWarning: Solver terminated early (max_iter=60).  Consider pre-processing your data with StandardScaler or MinMaxScaler.\n",
      "  % self.max_iter, ConvergenceWarning)\n",
      "C:\\Users\\majer\\Anaconda3\\lib\\site-packages\\sklearn\\svm\\_base.py:231: ConvergenceWarning: Solver terminated early (max_iter=60).  Consider pre-processing your data with StandardScaler or MinMaxScaler.\n",
      "  % self.max_iter, ConvergenceWarning)\n",
      "C:\\Users\\majer\\Anaconda3\\lib\\site-packages\\sklearn\\svm\\_base.py:231: ConvergenceWarning: Solver terminated early (max_iter=60).  Consider pre-processing your data with StandardScaler or MinMaxScaler.\n",
      "  % self.max_iter, ConvergenceWarning)\n",
      "C:\\Users\\majer\\Anaconda3\\lib\\site-packages\\sklearn\\svm\\_base.py:231: ConvergenceWarning: Solver terminated early (max_iter=60).  Consider pre-processing your data with StandardScaler or MinMaxScaler.\n",
      "  % self.max_iter, ConvergenceWarning)\n",
      "C:\\Users\\majer\\Anaconda3\\lib\\site-packages\\sklearn\\svm\\_base.py:231: ConvergenceWarning: Solver terminated early (max_iter=60).  Consider pre-processing your data with StandardScaler or MinMaxScaler.\n",
      "  % self.max_iter, ConvergenceWarning)\n",
      "C:\\Users\\majer\\Anaconda3\\lib\\site-packages\\sklearn\\svm\\_base.py:231: ConvergenceWarning: Solver terminated early (max_iter=60).  Consider pre-processing your data with StandardScaler or MinMaxScaler.\n",
      "  % self.max_iter, ConvergenceWarning)\n",
      "C:\\Users\\majer\\Anaconda3\\lib\\site-packages\\sklearn\\svm\\_base.py:231: ConvergenceWarning: Solver terminated early (max_iter=60).  Consider pre-processing your data with StandardScaler or MinMaxScaler.\n",
      "  % self.max_iter, ConvergenceWarning)\n",
      "C:\\Users\\majer\\Anaconda3\\lib\\site-packages\\sklearn\\svm\\_base.py:231: ConvergenceWarning: Solver terminated early (max_iter=60).  Consider pre-processing your data with StandardScaler or MinMaxScaler.\n",
      "  % self.max_iter, ConvergenceWarning)\n",
      "C:\\Users\\majer\\Anaconda3\\lib\\site-packages\\sklearn\\svm\\_base.py:231: ConvergenceWarning: Solver terminated early (max_iter=60).  Consider pre-processing your data with StandardScaler or MinMaxScaler.\n",
      "  % self.max_iter, ConvergenceWarning)\n",
      "C:\\Users\\majer\\Anaconda3\\lib\\site-packages\\sklearn\\svm\\_base.py:231: ConvergenceWarning: Solver terminated early (max_iter=60).  Consider pre-processing your data with StandardScaler or MinMaxScaler.\n",
      "  % self.max_iter, ConvergenceWarning)\n",
      "C:\\Users\\majer\\Anaconda3\\lib\\site-packages\\sklearn\\svm\\_base.py:231: ConvergenceWarning: Solver terminated early (max_iter=60).  Consider pre-processing your data with StandardScaler or MinMaxScaler.\n",
      "  % self.max_iter, ConvergenceWarning)\n",
      "C:\\Users\\majer\\Anaconda3\\lib\\site-packages\\sklearn\\svm\\_base.py:231: ConvergenceWarning: Solver terminated early (max_iter=60).  Consider pre-processing your data with StandardScaler or MinMaxScaler.\n",
      "  % self.max_iter, ConvergenceWarning)\n",
      "C:\\Users\\majer\\Anaconda3\\lib\\site-packages\\sklearn\\svm\\_base.py:231: ConvergenceWarning: Solver terminated early (max_iter=60).  Consider pre-processing your data with StandardScaler or MinMaxScaler.\n",
      "  % self.max_iter, ConvergenceWarning)\n",
      "C:\\Users\\majer\\Anaconda3\\lib\\site-packages\\sklearn\\svm\\_base.py:231: ConvergenceWarning: Solver terminated early (max_iter=60).  Consider pre-processing your data with StandardScaler or MinMaxScaler.\n",
      "  % self.max_iter, ConvergenceWarning)\n",
      "C:\\Users\\majer\\Anaconda3\\lib\\site-packages\\sklearn\\svm\\_base.py:231: ConvergenceWarning: Solver terminated early (max_iter=60).  Consider pre-processing your data with StandardScaler or MinMaxScaler.\n",
      "  % self.max_iter, ConvergenceWarning)\n",
      "C:\\Users\\majer\\Anaconda3\\lib\\site-packages\\sklearn\\svm\\_base.py:231: ConvergenceWarning: Solver terminated early (max_iter=60).  Consider pre-processing your data with StandardScaler or MinMaxScaler.\n",
      "  % self.max_iter, ConvergenceWarning)\n",
      "C:\\Users\\majer\\Anaconda3\\lib\\site-packages\\sklearn\\svm\\_base.py:231: ConvergenceWarning: Solver terminated early (max_iter=60).  Consider pre-processing your data with StandardScaler or MinMaxScaler.\n",
      "  % self.max_iter, ConvergenceWarning)\n",
      "C:\\Users\\majer\\Anaconda3\\lib\\site-packages\\sklearn\\svm\\_base.py:231: ConvergenceWarning: Solver terminated early (max_iter=60).  Consider pre-processing your data with StandardScaler or MinMaxScaler.\n",
      "  % self.max_iter, ConvergenceWarning)\n"
     ]
    },
    {
     "name": "stderr",
     "output_type": "stream",
     "text": [
      "C:\\Users\\majer\\Anaconda3\\lib\\site-packages\\sklearn\\svm\\_base.py:231: ConvergenceWarning: Solver terminated early (max_iter=60).  Consider pre-processing your data with StandardScaler or MinMaxScaler.\n",
      "  % self.max_iter, ConvergenceWarning)\n",
      "C:\\Users\\majer\\Anaconda3\\lib\\site-packages\\sklearn\\svm\\_base.py:231: ConvergenceWarning: Solver terminated early (max_iter=60).  Consider pre-processing your data with StandardScaler or MinMaxScaler.\n",
      "  % self.max_iter, ConvergenceWarning)\n",
      "C:\\Users\\majer\\Anaconda3\\lib\\site-packages\\sklearn\\svm\\_base.py:231: ConvergenceWarning: Solver terminated early (max_iter=60).  Consider pre-processing your data with StandardScaler or MinMaxScaler.\n",
      "  % self.max_iter, ConvergenceWarning)\n",
      "C:\\Users\\majer\\Anaconda3\\lib\\site-packages\\sklearn\\svm\\_base.py:231: ConvergenceWarning: Solver terminated early (max_iter=60).  Consider pre-processing your data with StandardScaler or MinMaxScaler.\n",
      "  % self.max_iter, ConvergenceWarning)\n",
      "C:\\Users\\majer\\Anaconda3\\lib\\site-packages\\sklearn\\svm\\_base.py:231: ConvergenceWarning: Solver terminated early (max_iter=60).  Consider pre-processing your data with StandardScaler or MinMaxScaler.\n",
      "  % self.max_iter, ConvergenceWarning)\n",
      "C:\\Users\\majer\\Anaconda3\\lib\\site-packages\\sklearn\\svm\\_base.py:231: ConvergenceWarning: Solver terminated early (max_iter=60).  Consider pre-processing your data with StandardScaler or MinMaxScaler.\n",
      "  % self.max_iter, ConvergenceWarning)\n",
      "C:\\Users\\majer\\Anaconda3\\lib\\site-packages\\sklearn\\svm\\_base.py:231: ConvergenceWarning: Solver terminated early (max_iter=60).  Consider pre-processing your data with StandardScaler or MinMaxScaler.\n",
      "  % self.max_iter, ConvergenceWarning)\n",
      "C:\\Users\\majer\\Anaconda3\\lib\\site-packages\\sklearn\\svm\\_base.py:231: ConvergenceWarning: Solver terminated early (max_iter=60).  Consider pre-processing your data with StandardScaler or MinMaxScaler.\n",
      "  % self.max_iter, ConvergenceWarning)\n",
      "C:\\Users\\majer\\Anaconda3\\lib\\site-packages\\sklearn\\svm\\_base.py:231: ConvergenceWarning: Solver terminated early (max_iter=60).  Consider pre-processing your data with StandardScaler or MinMaxScaler.\n",
      "  % self.max_iter, ConvergenceWarning)\n",
      "C:\\Users\\majer\\Anaconda3\\lib\\site-packages\\sklearn\\svm\\_base.py:231: ConvergenceWarning: Solver terminated early (max_iter=60).  Consider pre-processing your data with StandardScaler or MinMaxScaler.\n",
      "  % self.max_iter, ConvergenceWarning)\n",
      "C:\\Users\\majer\\Anaconda3\\lib\\site-packages\\sklearn\\svm\\_base.py:231: ConvergenceWarning: Solver terminated early (max_iter=60).  Consider pre-processing your data with StandardScaler or MinMaxScaler.\n",
      "  % self.max_iter, ConvergenceWarning)\n",
      "C:\\Users\\majer\\Anaconda3\\lib\\site-packages\\sklearn\\svm\\_base.py:231: ConvergenceWarning: Solver terminated early (max_iter=60).  Consider pre-processing your data with StandardScaler or MinMaxScaler.\n",
      "  % self.max_iter, ConvergenceWarning)\n",
      "C:\\Users\\majer\\Anaconda3\\lib\\site-packages\\sklearn\\svm\\_base.py:231: ConvergenceWarning: Solver terminated early (max_iter=60).  Consider pre-processing your data with StandardScaler or MinMaxScaler.\n",
      "  % self.max_iter, ConvergenceWarning)\n",
      "C:\\Users\\majer\\Anaconda3\\lib\\site-packages\\sklearn\\svm\\_base.py:231: ConvergenceWarning: Solver terminated early (max_iter=60).  Consider pre-processing your data with StandardScaler or MinMaxScaler.\n",
      "  % self.max_iter, ConvergenceWarning)\n",
      "C:\\Users\\majer\\Anaconda3\\lib\\site-packages\\sklearn\\svm\\_base.py:231: ConvergenceWarning: Solver terminated early (max_iter=60).  Consider pre-processing your data with StandardScaler or MinMaxScaler.\n",
      "  % self.max_iter, ConvergenceWarning)\n"
     ]
    },
    {
     "name": "stdout",
     "output_type": "stream",
     "text": [
      "Samples: 0.35, features: 1\n",
      "{'fit_time': array([518.06512356, 518.87955689, 518.64861751, 518.96508956,\n",
      "       519.59036708]), 'score_time': array([178.6300385 , 180.76850486, 180.87402821, 177.56428266,\n",
      "       177.83952188]), 'test_accuracy': array([0.77002653, 0.77155744, 0.77447599, 0.70628814, 0.72777925]), 'test_neg_log_loss': array([-0.95988191, -0.94984152, -0.94273586, -1.00934698, -0.96272312]), 'test_neg_mean_squared_error': array([-14.00159151, -13.59405678, -13.70098169, -21.5693818 ,\n",
      "       -16.76306713]), 'test_roc_auc_ovr': array([0.98235683, 0.98274584, 0.98266208, 0.97624718, 0.97846987]), 'test_f1_weighted': array([0.77289082, 0.77181284, 0.77632399, 0.7149581 , 0.73529219]), 'test_precision_weighted': array([0.80222289, 0.79565381, 0.80073138, 0.7751644 , 0.77971673]), 'test_recall_weighted': array([0.77002653, 0.77155744, 0.77447599, 0.70628814, 0.72777925])}\n"
     ]
    }
   ],
   "source": [
    "#0.35 samples, 1 features:\n",
    "minor = MinorClassifiers(0.35, 1, 'average', 60)\n",
    "scores = cross_validate(minor, svd_x_train, y_train, cv=5, scoring=('accuracy', 'neg_log_loss', 'neg_mean_squared_error', 'roc_auc_ovr', 'f1_weighted', 'precision_weighted', 'recall_weighted'))\n",
    "print(\"Samples: \" + str(minor.samp) + \", features: \" + str(minor.feat))\n",
    "print(scores)"
   ]
  },
  {
   "cell_type": "code",
   "execution_count": 27,
   "metadata": {},
   "outputs": [
    {
     "name": "stderr",
     "output_type": "stream",
     "text": [
      "C:\\Users\\majer\\Anaconda3\\lib\\site-packages\\sklearn\\svm\\_base.py:231: ConvergenceWarning: Solver terminated early (max_iter=75).  Consider pre-processing your data with StandardScaler or MinMaxScaler.\n",
      "  % self.max_iter, ConvergenceWarning)\n",
      "C:\\Users\\majer\\Anaconda3\\lib\\site-packages\\sklearn\\svm\\_base.py:231: ConvergenceWarning: Solver terminated early (max_iter=75).  Consider pre-processing your data with StandardScaler or MinMaxScaler.\n",
      "  % self.max_iter, ConvergenceWarning)\n",
      "C:\\Users\\majer\\Anaconda3\\lib\\site-packages\\sklearn\\svm\\_base.py:231: ConvergenceWarning: Solver terminated early (max_iter=75).  Consider pre-processing your data with StandardScaler or MinMaxScaler.\n",
      "  % self.max_iter, ConvergenceWarning)\n",
      "C:\\Users\\majer\\Anaconda3\\lib\\site-packages\\sklearn\\svm\\_base.py:231: ConvergenceWarning: Solver terminated early (max_iter=75).  Consider pre-processing your data with StandardScaler or MinMaxScaler.\n",
      "  % self.max_iter, ConvergenceWarning)\n",
      "C:\\Users\\majer\\Anaconda3\\lib\\site-packages\\sklearn\\svm\\_base.py:231: ConvergenceWarning: Solver terminated early (max_iter=75).  Consider pre-processing your data with StandardScaler or MinMaxScaler.\n",
      "  % self.max_iter, ConvergenceWarning)\n",
      "C:\\Users\\majer\\Anaconda3\\lib\\site-packages\\sklearn\\svm\\_base.py:231: ConvergenceWarning: Solver terminated early (max_iter=75).  Consider pre-processing your data with StandardScaler or MinMaxScaler.\n",
      "  % self.max_iter, ConvergenceWarning)\n",
      "C:\\Users\\majer\\Anaconda3\\lib\\site-packages\\sklearn\\svm\\_base.py:231: ConvergenceWarning: Solver terminated early (max_iter=75).  Consider pre-processing your data with StandardScaler or MinMaxScaler.\n",
      "  % self.max_iter, ConvergenceWarning)\n",
      "C:\\Users\\majer\\Anaconda3\\lib\\site-packages\\sklearn\\svm\\_base.py:231: ConvergenceWarning: Solver terminated early (max_iter=75).  Consider pre-processing your data with StandardScaler or MinMaxScaler.\n",
      "  % self.max_iter, ConvergenceWarning)\n",
      "C:\\Users\\majer\\Anaconda3\\lib\\site-packages\\sklearn\\svm\\_base.py:231: ConvergenceWarning: Solver terminated early (max_iter=75).  Consider pre-processing your data with StandardScaler or MinMaxScaler.\n",
      "  % self.max_iter, ConvergenceWarning)\n",
      "C:\\Users\\majer\\Anaconda3\\lib\\site-packages\\sklearn\\svm\\_base.py:231: ConvergenceWarning: Solver terminated early (max_iter=75).  Consider pre-processing your data with StandardScaler or MinMaxScaler.\n",
      "  % self.max_iter, ConvergenceWarning)\n",
      "C:\\Users\\majer\\Anaconda3\\lib\\site-packages\\sklearn\\svm\\_base.py:231: ConvergenceWarning: Solver terminated early (max_iter=75).  Consider pre-processing your data with StandardScaler or MinMaxScaler.\n",
      "  % self.max_iter, ConvergenceWarning)\n",
      "C:\\Users\\majer\\Anaconda3\\lib\\site-packages\\sklearn\\svm\\_base.py:231: ConvergenceWarning: Solver terminated early (max_iter=75).  Consider pre-processing your data with StandardScaler or MinMaxScaler.\n",
      "  % self.max_iter, ConvergenceWarning)\n",
      "C:\\Users\\majer\\Anaconda3\\lib\\site-packages\\sklearn\\svm\\_base.py:231: ConvergenceWarning: Solver terminated early (max_iter=75).  Consider pre-processing your data with StandardScaler or MinMaxScaler.\n",
      "  % self.max_iter, ConvergenceWarning)\n",
      "C:\\Users\\majer\\Anaconda3\\lib\\site-packages\\sklearn\\svm\\_base.py:231: ConvergenceWarning: Solver terminated early (max_iter=75).  Consider pre-processing your data with StandardScaler or MinMaxScaler.\n",
      "  % self.max_iter, ConvergenceWarning)\n",
      "C:\\Users\\majer\\Anaconda3\\lib\\site-packages\\sklearn\\svm\\_base.py:231: ConvergenceWarning: Solver terminated early (max_iter=75).  Consider pre-processing your data with StandardScaler or MinMaxScaler.\n",
      "  % self.max_iter, ConvergenceWarning)\n",
      "C:\\Users\\majer\\Anaconda3\\lib\\site-packages\\sklearn\\svm\\_base.py:231: ConvergenceWarning: Solver terminated early (max_iter=75).  Consider pre-processing your data with StandardScaler or MinMaxScaler.\n",
      "  % self.max_iter, ConvergenceWarning)\n",
      "C:\\Users\\majer\\Anaconda3\\lib\\site-packages\\sklearn\\svm\\_base.py:231: ConvergenceWarning: Solver terminated early (max_iter=75).  Consider pre-processing your data with StandardScaler or MinMaxScaler.\n",
      "  % self.max_iter, ConvergenceWarning)\n",
      "C:\\Users\\majer\\Anaconda3\\lib\\site-packages\\sklearn\\svm\\_base.py:231: ConvergenceWarning: Solver terminated early (max_iter=75).  Consider pre-processing your data with StandardScaler or MinMaxScaler.\n",
      "  % self.max_iter, ConvergenceWarning)\n",
      "C:\\Users\\majer\\Anaconda3\\lib\\site-packages\\sklearn\\svm\\_base.py:231: ConvergenceWarning: Solver terminated early (max_iter=75).  Consider pre-processing your data with StandardScaler or MinMaxScaler.\n",
      "  % self.max_iter, ConvergenceWarning)\n",
      "C:\\Users\\majer\\Anaconda3\\lib\\site-packages\\sklearn\\svm\\_base.py:231: ConvergenceWarning: Solver terminated early (max_iter=75).  Consider pre-processing your data with StandardScaler or MinMaxScaler.\n",
      "  % self.max_iter, ConvergenceWarning)\n",
      "C:\\Users\\majer\\Anaconda3\\lib\\site-packages\\sklearn\\svm\\_base.py:231: ConvergenceWarning: Solver terminated early (max_iter=75).  Consider pre-processing your data with StandardScaler or MinMaxScaler.\n",
      "  % self.max_iter, ConvergenceWarning)\n",
      "C:\\Users\\majer\\Anaconda3\\lib\\site-packages\\sklearn\\svm\\_base.py:231: ConvergenceWarning: Solver terminated early (max_iter=75).  Consider pre-processing your data with StandardScaler or MinMaxScaler.\n",
      "  % self.max_iter, ConvergenceWarning)\n",
      "C:\\Users\\majer\\Anaconda3\\lib\\site-packages\\sklearn\\svm\\_base.py:231: ConvergenceWarning: Solver terminated early (max_iter=75).  Consider pre-processing your data with StandardScaler or MinMaxScaler.\n",
      "  % self.max_iter, ConvergenceWarning)\n",
      "C:\\Users\\majer\\Anaconda3\\lib\\site-packages\\sklearn\\svm\\_base.py:231: ConvergenceWarning: Solver terminated early (max_iter=75).  Consider pre-processing your data with StandardScaler or MinMaxScaler.\n",
      "  % self.max_iter, ConvergenceWarning)\n",
      "C:\\Users\\majer\\Anaconda3\\lib\\site-packages\\sklearn\\svm\\_base.py:231: ConvergenceWarning: Solver terminated early (max_iter=75).  Consider pre-processing your data with StandardScaler or MinMaxScaler.\n",
      "  % self.max_iter, ConvergenceWarning)\n",
      "C:\\Users\\majer\\Anaconda3\\lib\\site-packages\\sklearn\\svm\\_base.py:231: ConvergenceWarning: Solver terminated early (max_iter=75).  Consider pre-processing your data with StandardScaler or MinMaxScaler.\n",
      "  % self.max_iter, ConvergenceWarning)\n",
      "C:\\Users\\majer\\Anaconda3\\lib\\site-packages\\sklearn\\svm\\_base.py:231: ConvergenceWarning: Solver terminated early (max_iter=75).  Consider pre-processing your data with StandardScaler or MinMaxScaler.\n",
      "  % self.max_iter, ConvergenceWarning)\n",
      "C:\\Users\\majer\\Anaconda3\\lib\\site-packages\\sklearn\\svm\\_base.py:231: ConvergenceWarning: Solver terminated early (max_iter=75).  Consider pre-processing your data with StandardScaler or MinMaxScaler.\n",
      "  % self.max_iter, ConvergenceWarning)\n",
      "C:\\Users\\majer\\Anaconda3\\lib\\site-packages\\sklearn\\svm\\_base.py:231: ConvergenceWarning: Solver terminated early (max_iter=75).  Consider pre-processing your data with StandardScaler or MinMaxScaler.\n",
      "  % self.max_iter, ConvergenceWarning)\n",
      "C:\\Users\\majer\\Anaconda3\\lib\\site-packages\\sklearn\\svm\\_base.py:231: ConvergenceWarning: Solver terminated early (max_iter=75).  Consider pre-processing your data with StandardScaler or MinMaxScaler.\n",
      "  % self.max_iter, ConvergenceWarning)\n",
      "C:\\Users\\majer\\Anaconda3\\lib\\site-packages\\sklearn\\svm\\_base.py:231: ConvergenceWarning: Solver terminated early (max_iter=75).  Consider pre-processing your data with StandardScaler or MinMaxScaler.\n",
      "  % self.max_iter, ConvergenceWarning)\n",
      "C:\\Users\\majer\\Anaconda3\\lib\\site-packages\\sklearn\\svm\\_base.py:231: ConvergenceWarning: Solver terminated early (max_iter=75).  Consider pre-processing your data with StandardScaler or MinMaxScaler.\n",
      "  % self.max_iter, ConvergenceWarning)\n",
      "C:\\Users\\majer\\Anaconda3\\lib\\site-packages\\sklearn\\svm\\_base.py:231: ConvergenceWarning: Solver terminated early (max_iter=75).  Consider pre-processing your data with StandardScaler or MinMaxScaler.\n",
      "  % self.max_iter, ConvergenceWarning)\n",
      "C:\\Users\\majer\\Anaconda3\\lib\\site-packages\\sklearn\\svm\\_base.py:231: ConvergenceWarning: Solver terminated early (max_iter=75).  Consider pre-processing your data with StandardScaler or MinMaxScaler.\n",
      "  % self.max_iter, ConvergenceWarning)\n",
      "C:\\Users\\majer\\Anaconda3\\lib\\site-packages\\sklearn\\svm\\_base.py:231: ConvergenceWarning: Solver terminated early (max_iter=75).  Consider pre-processing your data with StandardScaler or MinMaxScaler.\n",
      "  % self.max_iter, ConvergenceWarning)\n"
     ]
    },
    {
     "name": "stderr",
     "output_type": "stream",
     "text": [
      "C:\\Users\\majer\\Anaconda3\\lib\\site-packages\\sklearn\\svm\\_base.py:231: ConvergenceWarning: Solver terminated early (max_iter=75).  Consider pre-processing your data with StandardScaler or MinMaxScaler.\n",
      "  % self.max_iter, ConvergenceWarning)\n",
      "C:\\Users\\majer\\Anaconda3\\lib\\site-packages\\sklearn\\svm\\_base.py:231: ConvergenceWarning: Solver terminated early (max_iter=75).  Consider pre-processing your data with StandardScaler or MinMaxScaler.\n",
      "  % self.max_iter, ConvergenceWarning)\n",
      "C:\\Users\\majer\\Anaconda3\\lib\\site-packages\\sklearn\\svm\\_base.py:231: ConvergenceWarning: Solver terminated early (max_iter=75).  Consider pre-processing your data with StandardScaler or MinMaxScaler.\n",
      "  % self.max_iter, ConvergenceWarning)\n",
      "C:\\Users\\majer\\Anaconda3\\lib\\site-packages\\sklearn\\svm\\_base.py:231: ConvergenceWarning: Solver terminated early (max_iter=75).  Consider pre-processing your data with StandardScaler or MinMaxScaler.\n",
      "  % self.max_iter, ConvergenceWarning)\n",
      "C:\\Users\\majer\\Anaconda3\\lib\\site-packages\\sklearn\\svm\\_base.py:231: ConvergenceWarning: Solver terminated early (max_iter=75).  Consider pre-processing your data with StandardScaler or MinMaxScaler.\n",
      "  % self.max_iter, ConvergenceWarning)\n",
      "C:\\Users\\majer\\Anaconda3\\lib\\site-packages\\sklearn\\svm\\_base.py:231: ConvergenceWarning: Solver terminated early (max_iter=75).  Consider pre-processing your data with StandardScaler or MinMaxScaler.\n",
      "  % self.max_iter, ConvergenceWarning)\n",
      "C:\\Users\\majer\\Anaconda3\\lib\\site-packages\\sklearn\\svm\\_base.py:231: ConvergenceWarning: Solver terminated early (max_iter=75).  Consider pre-processing your data with StandardScaler or MinMaxScaler.\n",
      "  % self.max_iter, ConvergenceWarning)\n",
      "C:\\Users\\majer\\Anaconda3\\lib\\site-packages\\sklearn\\svm\\_base.py:231: ConvergenceWarning: Solver terminated early (max_iter=75).  Consider pre-processing your data with StandardScaler or MinMaxScaler.\n",
      "  % self.max_iter, ConvergenceWarning)\n",
      "C:\\Users\\majer\\Anaconda3\\lib\\site-packages\\sklearn\\svm\\_base.py:231: ConvergenceWarning: Solver terminated early (max_iter=75).  Consider pre-processing your data with StandardScaler or MinMaxScaler.\n",
      "  % self.max_iter, ConvergenceWarning)\n",
      "C:\\Users\\majer\\Anaconda3\\lib\\site-packages\\sklearn\\svm\\_base.py:231: ConvergenceWarning: Solver terminated early (max_iter=75).  Consider pre-processing your data with StandardScaler or MinMaxScaler.\n",
      "  % self.max_iter, ConvergenceWarning)\n",
      "C:\\Users\\majer\\Anaconda3\\lib\\site-packages\\sklearn\\svm\\_base.py:231: ConvergenceWarning: Solver terminated early (max_iter=75).  Consider pre-processing your data with StandardScaler or MinMaxScaler.\n",
      "  % self.max_iter, ConvergenceWarning)\n",
      "C:\\Users\\majer\\Anaconda3\\lib\\site-packages\\sklearn\\svm\\_base.py:231: ConvergenceWarning: Solver terminated early (max_iter=75).  Consider pre-processing your data with StandardScaler or MinMaxScaler.\n",
      "  % self.max_iter, ConvergenceWarning)\n",
      "C:\\Users\\majer\\Anaconda3\\lib\\site-packages\\sklearn\\svm\\_base.py:231: ConvergenceWarning: Solver terminated early (max_iter=75).  Consider pre-processing your data with StandardScaler or MinMaxScaler.\n",
      "  % self.max_iter, ConvergenceWarning)\n",
      "C:\\Users\\majer\\Anaconda3\\lib\\site-packages\\sklearn\\svm\\_base.py:231: ConvergenceWarning: Solver terminated early (max_iter=75).  Consider pre-processing your data with StandardScaler or MinMaxScaler.\n",
      "  % self.max_iter, ConvergenceWarning)\n",
      "C:\\Users\\majer\\Anaconda3\\lib\\site-packages\\sklearn\\svm\\_base.py:231: ConvergenceWarning: Solver terminated early (max_iter=75).  Consider pre-processing your data with StandardScaler or MinMaxScaler.\n",
      "  % self.max_iter, ConvergenceWarning)\n"
     ]
    },
    {
     "name": "stdout",
     "output_type": "stream",
     "text": [
      "Samples: 0.35, features: 1\n",
      "{'fit_time': array([632.91830993, 634.29189324, 634.90638423, 635.62602735,\n",
      "       635.1425612 ]), 'score_time': array([190.37768078, 192.55618072, 193.05149484, 189.80399752,\n",
      "       190.75811768]), 'test_accuracy': array([0.7994695 , 0.79013001, 0.80976386, 0.74820907, 0.75669939]), 'test_neg_log_loss': array([-0.80001471, -0.82590568, -0.78862186, -0.86273699, -0.82765372]), 'test_neg_mean_squared_error': array([-11.13554377, -11.35977713,  -8.74688246, -17.93871053,\n",
      "       -13.99204033]), 'test_roc_auc_ovr': array([0.98500296, 0.98462691, 0.98533116, 0.97954997, 0.98117357]), 'test_f1_weighted': array([0.80195404, 0.78858954, 0.80851991, 0.7544222 , 0.75882522]), 'test_precision_weighted': array([0.81667017, 0.81013221, 0.81824026, 0.78636961, 0.78616635]), 'test_recall_weighted': array([0.7994695 , 0.79013001, 0.80976386, 0.74820907, 0.75669939])}\n"
     ]
    }
   ],
   "source": [
    "#0.35 samples, 1 features:\n",
    "minor = MinorClassifiers(0.35, 1, 'average', 75)\n",
    "scores = cross_validate(minor, svd_x_train, y_train, cv=5, scoring=('accuracy', 'neg_log_loss', 'neg_mean_squared_error', 'roc_auc_ovr', 'f1_weighted', 'precision_weighted', 'recall_weighted'))\n",
    "print(\"Samples: \" + str(minor.samp) + \", features: \" + str(minor.feat))\n",
    "print(scores)"
   ]
  },
  {
   "cell_type": "code",
   "execution_count": 28,
   "metadata": {},
   "outputs": [
    {
     "name": "stderr",
     "output_type": "stream",
     "text": [
      "C:\\Users\\majer\\Anaconda3\\lib\\site-packages\\sklearn\\svm\\_base.py:231: ConvergenceWarning: Solver terminated early (max_iter=85).  Consider pre-processing your data with StandardScaler or MinMaxScaler.\n",
      "  % self.max_iter, ConvergenceWarning)\n",
      "C:\\Users\\majer\\Anaconda3\\lib\\site-packages\\sklearn\\svm\\_base.py:231: ConvergenceWarning: Solver terminated early (max_iter=85).  Consider pre-processing your data with StandardScaler or MinMaxScaler.\n",
      "  % self.max_iter, ConvergenceWarning)\n",
      "C:\\Users\\majer\\Anaconda3\\lib\\site-packages\\sklearn\\svm\\_base.py:231: ConvergenceWarning: Solver terminated early (max_iter=85).  Consider pre-processing your data with StandardScaler or MinMaxScaler.\n",
      "  % self.max_iter, ConvergenceWarning)\n",
      "C:\\Users\\majer\\Anaconda3\\lib\\site-packages\\sklearn\\svm\\_base.py:231: ConvergenceWarning: Solver terminated early (max_iter=85).  Consider pre-processing your data with StandardScaler or MinMaxScaler.\n",
      "  % self.max_iter, ConvergenceWarning)\n",
      "C:\\Users\\majer\\Anaconda3\\lib\\site-packages\\sklearn\\svm\\_base.py:231: ConvergenceWarning: Solver terminated early (max_iter=85).  Consider pre-processing your data with StandardScaler or MinMaxScaler.\n",
      "  % self.max_iter, ConvergenceWarning)\n",
      "C:\\Users\\majer\\Anaconda3\\lib\\site-packages\\sklearn\\svm\\_base.py:231: ConvergenceWarning: Solver terminated early (max_iter=85).  Consider pre-processing your data with StandardScaler or MinMaxScaler.\n",
      "  % self.max_iter, ConvergenceWarning)\n",
      "C:\\Users\\majer\\Anaconda3\\lib\\site-packages\\sklearn\\svm\\_base.py:231: ConvergenceWarning: Solver terminated early (max_iter=85).  Consider pre-processing your data with StandardScaler or MinMaxScaler.\n",
      "  % self.max_iter, ConvergenceWarning)\n",
      "C:\\Users\\majer\\Anaconda3\\lib\\site-packages\\sklearn\\svm\\_base.py:231: ConvergenceWarning: Solver terminated early (max_iter=85).  Consider pre-processing your data with StandardScaler or MinMaxScaler.\n",
      "  % self.max_iter, ConvergenceWarning)\n",
      "C:\\Users\\majer\\Anaconda3\\lib\\site-packages\\sklearn\\svm\\_base.py:231: ConvergenceWarning: Solver terminated early (max_iter=85).  Consider pre-processing your data with StandardScaler or MinMaxScaler.\n",
      "  % self.max_iter, ConvergenceWarning)\n",
      "C:\\Users\\majer\\Anaconda3\\lib\\site-packages\\sklearn\\svm\\_base.py:231: ConvergenceWarning: Solver terminated early (max_iter=85).  Consider pre-processing your data with StandardScaler or MinMaxScaler.\n",
      "  % self.max_iter, ConvergenceWarning)\n",
      "C:\\Users\\majer\\Anaconda3\\lib\\site-packages\\sklearn\\svm\\_base.py:231: ConvergenceWarning: Solver terminated early (max_iter=85).  Consider pre-processing your data with StandardScaler or MinMaxScaler.\n",
      "  % self.max_iter, ConvergenceWarning)\n",
      "C:\\Users\\majer\\Anaconda3\\lib\\site-packages\\sklearn\\svm\\_base.py:231: ConvergenceWarning: Solver terminated early (max_iter=85).  Consider pre-processing your data with StandardScaler or MinMaxScaler.\n",
      "  % self.max_iter, ConvergenceWarning)\n",
      "C:\\Users\\majer\\Anaconda3\\lib\\site-packages\\sklearn\\svm\\_base.py:231: ConvergenceWarning: Solver terminated early (max_iter=85).  Consider pre-processing your data with StandardScaler or MinMaxScaler.\n",
      "  % self.max_iter, ConvergenceWarning)\n",
      "C:\\Users\\majer\\Anaconda3\\lib\\site-packages\\sklearn\\svm\\_base.py:231: ConvergenceWarning: Solver terminated early (max_iter=85).  Consider pre-processing your data with StandardScaler or MinMaxScaler.\n",
      "  % self.max_iter, ConvergenceWarning)\n",
      "C:\\Users\\majer\\Anaconda3\\lib\\site-packages\\sklearn\\svm\\_base.py:231: ConvergenceWarning: Solver terminated early (max_iter=85).  Consider pre-processing your data with StandardScaler or MinMaxScaler.\n",
      "  % self.max_iter, ConvergenceWarning)\n",
      "C:\\Users\\majer\\Anaconda3\\lib\\site-packages\\sklearn\\svm\\_base.py:231: ConvergenceWarning: Solver terminated early (max_iter=85).  Consider pre-processing your data with StandardScaler or MinMaxScaler.\n",
      "  % self.max_iter, ConvergenceWarning)\n",
      "C:\\Users\\majer\\Anaconda3\\lib\\site-packages\\sklearn\\svm\\_base.py:231: ConvergenceWarning: Solver terminated early (max_iter=85).  Consider pre-processing your data with StandardScaler or MinMaxScaler.\n",
      "  % self.max_iter, ConvergenceWarning)\n",
      "C:\\Users\\majer\\Anaconda3\\lib\\site-packages\\sklearn\\svm\\_base.py:231: ConvergenceWarning: Solver terminated early (max_iter=85).  Consider pre-processing your data with StandardScaler or MinMaxScaler.\n",
      "  % self.max_iter, ConvergenceWarning)\n",
      "C:\\Users\\majer\\Anaconda3\\lib\\site-packages\\sklearn\\svm\\_base.py:231: ConvergenceWarning: Solver terminated early (max_iter=85).  Consider pre-processing your data with StandardScaler or MinMaxScaler.\n",
      "  % self.max_iter, ConvergenceWarning)\n",
      "C:\\Users\\majer\\Anaconda3\\lib\\site-packages\\sklearn\\svm\\_base.py:231: ConvergenceWarning: Solver terminated early (max_iter=85).  Consider pre-processing your data with StandardScaler or MinMaxScaler.\n",
      "  % self.max_iter, ConvergenceWarning)\n",
      "C:\\Users\\majer\\Anaconda3\\lib\\site-packages\\sklearn\\svm\\_base.py:231: ConvergenceWarning: Solver terminated early (max_iter=85).  Consider pre-processing your data with StandardScaler or MinMaxScaler.\n",
      "  % self.max_iter, ConvergenceWarning)\n",
      "C:\\Users\\majer\\Anaconda3\\lib\\site-packages\\sklearn\\svm\\_base.py:231: ConvergenceWarning: Solver terminated early (max_iter=85).  Consider pre-processing your data with StandardScaler or MinMaxScaler.\n",
      "  % self.max_iter, ConvergenceWarning)\n",
      "C:\\Users\\majer\\Anaconda3\\lib\\site-packages\\sklearn\\svm\\_base.py:231: ConvergenceWarning: Solver terminated early (max_iter=85).  Consider pre-processing your data with StandardScaler or MinMaxScaler.\n",
      "  % self.max_iter, ConvergenceWarning)\n",
      "C:\\Users\\majer\\Anaconda3\\lib\\site-packages\\sklearn\\svm\\_base.py:231: ConvergenceWarning: Solver terminated early (max_iter=85).  Consider pre-processing your data with StandardScaler or MinMaxScaler.\n",
      "  % self.max_iter, ConvergenceWarning)\n",
      "C:\\Users\\majer\\Anaconda3\\lib\\site-packages\\sklearn\\svm\\_base.py:231: ConvergenceWarning: Solver terminated early (max_iter=85).  Consider pre-processing your data with StandardScaler or MinMaxScaler.\n",
      "  % self.max_iter, ConvergenceWarning)\n",
      "C:\\Users\\majer\\Anaconda3\\lib\\site-packages\\sklearn\\svm\\_base.py:231: ConvergenceWarning: Solver terminated early (max_iter=85).  Consider pre-processing your data with StandardScaler or MinMaxScaler.\n",
      "  % self.max_iter, ConvergenceWarning)\n",
      "C:\\Users\\majer\\Anaconda3\\lib\\site-packages\\sklearn\\svm\\_base.py:231: ConvergenceWarning: Solver terminated early (max_iter=85).  Consider pre-processing your data with StandardScaler or MinMaxScaler.\n",
      "  % self.max_iter, ConvergenceWarning)\n",
      "C:\\Users\\majer\\Anaconda3\\lib\\site-packages\\sklearn\\svm\\_base.py:231: ConvergenceWarning: Solver terminated early (max_iter=85).  Consider pre-processing your data with StandardScaler or MinMaxScaler.\n",
      "  % self.max_iter, ConvergenceWarning)\n",
      "C:\\Users\\majer\\Anaconda3\\lib\\site-packages\\sklearn\\svm\\_base.py:231: ConvergenceWarning: Solver terminated early (max_iter=85).  Consider pre-processing your data with StandardScaler or MinMaxScaler.\n",
      "  % self.max_iter, ConvergenceWarning)\n",
      "C:\\Users\\majer\\Anaconda3\\lib\\site-packages\\sklearn\\svm\\_base.py:231: ConvergenceWarning: Solver terminated early (max_iter=85).  Consider pre-processing your data with StandardScaler or MinMaxScaler.\n",
      "  % self.max_iter, ConvergenceWarning)\n",
      "C:\\Users\\majer\\Anaconda3\\lib\\site-packages\\sklearn\\svm\\_base.py:231: ConvergenceWarning: Solver terminated early (max_iter=85).  Consider pre-processing your data with StandardScaler or MinMaxScaler.\n",
      "  % self.max_iter, ConvergenceWarning)\n",
      "C:\\Users\\majer\\Anaconda3\\lib\\site-packages\\sklearn\\svm\\_base.py:231: ConvergenceWarning: Solver terminated early (max_iter=85).  Consider pre-processing your data with StandardScaler or MinMaxScaler.\n",
      "  % self.max_iter, ConvergenceWarning)\n",
      "C:\\Users\\majer\\Anaconda3\\lib\\site-packages\\sklearn\\svm\\_base.py:231: ConvergenceWarning: Solver terminated early (max_iter=85).  Consider pre-processing your data with StandardScaler or MinMaxScaler.\n",
      "  % self.max_iter, ConvergenceWarning)\n",
      "C:\\Users\\majer\\Anaconda3\\lib\\site-packages\\sklearn\\svm\\_base.py:231: ConvergenceWarning: Solver terminated early (max_iter=85).  Consider pre-processing your data with StandardScaler or MinMaxScaler.\n",
      "  % self.max_iter, ConvergenceWarning)\n",
      "C:\\Users\\majer\\Anaconda3\\lib\\site-packages\\sklearn\\svm\\_base.py:231: ConvergenceWarning: Solver terminated early (max_iter=85).  Consider pre-processing your data with StandardScaler or MinMaxScaler.\n",
      "  % self.max_iter, ConvergenceWarning)\n"
     ]
    },
    {
     "name": "stderr",
     "output_type": "stream",
     "text": [
      "C:\\Users\\majer\\Anaconda3\\lib\\site-packages\\sklearn\\svm\\_base.py:231: ConvergenceWarning: Solver terminated early (max_iter=85).  Consider pre-processing your data with StandardScaler or MinMaxScaler.\n",
      "  % self.max_iter, ConvergenceWarning)\n",
      "C:\\Users\\majer\\Anaconda3\\lib\\site-packages\\sklearn\\svm\\_base.py:231: ConvergenceWarning: Solver terminated early (max_iter=85).  Consider pre-processing your data with StandardScaler or MinMaxScaler.\n",
      "  % self.max_iter, ConvergenceWarning)\n",
      "C:\\Users\\majer\\Anaconda3\\lib\\site-packages\\sklearn\\svm\\_base.py:231: ConvergenceWarning: Solver terminated early (max_iter=85).  Consider pre-processing your data with StandardScaler or MinMaxScaler.\n",
      "  % self.max_iter, ConvergenceWarning)\n",
      "C:\\Users\\majer\\Anaconda3\\lib\\site-packages\\sklearn\\svm\\_base.py:231: ConvergenceWarning: Solver terminated early (max_iter=85).  Consider pre-processing your data with StandardScaler or MinMaxScaler.\n",
      "  % self.max_iter, ConvergenceWarning)\n",
      "C:\\Users\\majer\\Anaconda3\\lib\\site-packages\\sklearn\\svm\\_base.py:231: ConvergenceWarning: Solver terminated early (max_iter=85).  Consider pre-processing your data with StandardScaler or MinMaxScaler.\n",
      "  % self.max_iter, ConvergenceWarning)\n",
      "C:\\Users\\majer\\Anaconda3\\lib\\site-packages\\sklearn\\svm\\_base.py:231: ConvergenceWarning: Solver terminated early (max_iter=85).  Consider pre-processing your data with StandardScaler or MinMaxScaler.\n",
      "  % self.max_iter, ConvergenceWarning)\n",
      "C:\\Users\\majer\\Anaconda3\\lib\\site-packages\\sklearn\\svm\\_base.py:231: ConvergenceWarning: Solver terminated early (max_iter=85).  Consider pre-processing your data with StandardScaler or MinMaxScaler.\n",
      "  % self.max_iter, ConvergenceWarning)\n",
      "C:\\Users\\majer\\Anaconda3\\lib\\site-packages\\sklearn\\svm\\_base.py:231: ConvergenceWarning: Solver terminated early (max_iter=85).  Consider pre-processing your data with StandardScaler or MinMaxScaler.\n",
      "  % self.max_iter, ConvergenceWarning)\n",
      "C:\\Users\\majer\\Anaconda3\\lib\\site-packages\\sklearn\\svm\\_base.py:231: ConvergenceWarning: Solver terminated early (max_iter=85).  Consider pre-processing your data with StandardScaler or MinMaxScaler.\n",
      "  % self.max_iter, ConvergenceWarning)\n",
      "C:\\Users\\majer\\Anaconda3\\lib\\site-packages\\sklearn\\svm\\_base.py:231: ConvergenceWarning: Solver terminated early (max_iter=85).  Consider pre-processing your data with StandardScaler or MinMaxScaler.\n",
      "  % self.max_iter, ConvergenceWarning)\n",
      "C:\\Users\\majer\\Anaconda3\\lib\\site-packages\\sklearn\\svm\\_base.py:231: ConvergenceWarning: Solver terminated early (max_iter=85).  Consider pre-processing your data with StandardScaler or MinMaxScaler.\n",
      "  % self.max_iter, ConvergenceWarning)\n",
      "C:\\Users\\majer\\Anaconda3\\lib\\site-packages\\sklearn\\svm\\_base.py:231: ConvergenceWarning: Solver terminated early (max_iter=85).  Consider pre-processing your data with StandardScaler or MinMaxScaler.\n",
      "  % self.max_iter, ConvergenceWarning)\n",
      "C:\\Users\\majer\\Anaconda3\\lib\\site-packages\\sklearn\\svm\\_base.py:231: ConvergenceWarning: Solver terminated early (max_iter=85).  Consider pre-processing your data with StandardScaler or MinMaxScaler.\n",
      "  % self.max_iter, ConvergenceWarning)\n",
      "C:\\Users\\majer\\Anaconda3\\lib\\site-packages\\sklearn\\svm\\_base.py:231: ConvergenceWarning: Solver terminated early (max_iter=85).  Consider pre-processing your data with StandardScaler or MinMaxScaler.\n",
      "  % self.max_iter, ConvergenceWarning)\n",
      "C:\\Users\\majer\\Anaconda3\\lib\\site-packages\\sklearn\\svm\\_base.py:231: ConvergenceWarning: Solver terminated early (max_iter=85).  Consider pre-processing your data with StandardScaler or MinMaxScaler.\n",
      "  % self.max_iter, ConvergenceWarning)\n"
     ]
    },
    {
     "name": "stdout",
     "output_type": "stream",
     "text": [
      "Samples: 0.35, features: 1\n",
      "{'fit_time': array([700.83008718, 702.66129637, 701.95059466, 703.01163602,\n",
      "       703.37542272]), 'score_time': array([197.17552614, 198.69432044, 200.1085608 , 196.42561603,\n",
      "       197.03189516]), 'test_accuracy': array([0.8005305 , 0.81321305, 0.81347838, 0.75829132, 0.76916954]), 'test_neg_log_loss': array([-0.7595405 , -0.73932792, -0.74086625, -0.80546789, -0.77781198]), 'test_neg_mean_squared_error': array([-10.93395225,  -9.61289467,  -8.56725922, -16.16290793,\n",
      "       -12.51101088]), 'test_roc_auc_ovr': array([0.98561887, 0.98635704, 0.98650887, 0.98109126, 0.98246566]), 'test_f1_weighted': array([0.80153787, 0.8141087 , 0.81189537, 0.76319254, 0.76979594]), 'test_precision_weighted': array([0.81595977, 0.82398607, 0.82251979, 0.78686616, 0.7916651 ]), 'test_recall_weighted': array([0.8005305 , 0.81321305, 0.81347838, 0.75829132, 0.76916954])}\n"
     ]
    }
   ],
   "source": [
    "#0.35 samples, 1 features:\n",
    "minor = MinorClassifiers(0.35, 1, 'average', 85)\n",
    "scores = cross_validate(minor, svd_x_train, y_train, cv=5, scoring=('accuracy', 'neg_log_loss', 'neg_mean_squared_error', 'roc_auc_ovr', 'f1_weighted', 'precision_weighted', 'recall_weighted'))\n",
    "print(\"Samples: \" + str(minor.samp) + \", features: \" + str(minor.feat))\n",
    "print(scores)"
   ]
  },
  {
   "cell_type": "code",
   "execution_count": 29,
   "metadata": {},
   "outputs": [
    {
     "name": "stderr",
     "output_type": "stream",
     "text": [
      "C:\\Users\\majer\\Anaconda3\\lib\\site-packages\\sklearn\\svm\\_base.py:231: ConvergenceWarning: Solver terminated early (max_iter=90).  Consider pre-processing your data with StandardScaler or MinMaxScaler.\n",
      "  % self.max_iter, ConvergenceWarning)\n",
      "C:\\Users\\majer\\Anaconda3\\lib\\site-packages\\sklearn\\svm\\_base.py:231: ConvergenceWarning: Solver terminated early (max_iter=90).  Consider pre-processing your data with StandardScaler or MinMaxScaler.\n",
      "  % self.max_iter, ConvergenceWarning)\n",
      "C:\\Users\\majer\\Anaconda3\\lib\\site-packages\\sklearn\\svm\\_base.py:231: ConvergenceWarning: Solver terminated early (max_iter=90).  Consider pre-processing your data with StandardScaler or MinMaxScaler.\n",
      "  % self.max_iter, ConvergenceWarning)\n",
      "C:\\Users\\majer\\Anaconda3\\lib\\site-packages\\sklearn\\svm\\_base.py:231: ConvergenceWarning: Solver terminated early (max_iter=90).  Consider pre-processing your data with StandardScaler or MinMaxScaler.\n",
      "  % self.max_iter, ConvergenceWarning)\n",
      "C:\\Users\\majer\\Anaconda3\\lib\\site-packages\\sklearn\\svm\\_base.py:231: ConvergenceWarning: Solver terminated early (max_iter=90).  Consider pre-processing your data with StandardScaler or MinMaxScaler.\n",
      "  % self.max_iter, ConvergenceWarning)\n",
      "C:\\Users\\majer\\Anaconda3\\lib\\site-packages\\sklearn\\svm\\_base.py:231: ConvergenceWarning: Solver terminated early (max_iter=90).  Consider pre-processing your data with StandardScaler or MinMaxScaler.\n",
      "  % self.max_iter, ConvergenceWarning)\n",
      "C:\\Users\\majer\\Anaconda3\\lib\\site-packages\\sklearn\\svm\\_base.py:231: ConvergenceWarning: Solver terminated early (max_iter=90).  Consider pre-processing your data with StandardScaler or MinMaxScaler.\n",
      "  % self.max_iter, ConvergenceWarning)\n",
      "C:\\Users\\majer\\Anaconda3\\lib\\site-packages\\sklearn\\svm\\_base.py:231: ConvergenceWarning: Solver terminated early (max_iter=90).  Consider pre-processing your data with StandardScaler or MinMaxScaler.\n",
      "  % self.max_iter, ConvergenceWarning)\n",
      "C:\\Users\\majer\\Anaconda3\\lib\\site-packages\\sklearn\\svm\\_base.py:231: ConvergenceWarning: Solver terminated early (max_iter=90).  Consider pre-processing your data with StandardScaler or MinMaxScaler.\n",
      "  % self.max_iter, ConvergenceWarning)\n",
      "C:\\Users\\majer\\Anaconda3\\lib\\site-packages\\sklearn\\svm\\_base.py:231: ConvergenceWarning: Solver terminated early (max_iter=90).  Consider pre-processing your data with StandardScaler or MinMaxScaler.\n",
      "  % self.max_iter, ConvergenceWarning)\n",
      "C:\\Users\\majer\\Anaconda3\\lib\\site-packages\\sklearn\\svm\\_base.py:231: ConvergenceWarning: Solver terminated early (max_iter=90).  Consider pre-processing your data with StandardScaler or MinMaxScaler.\n",
      "  % self.max_iter, ConvergenceWarning)\n",
      "C:\\Users\\majer\\Anaconda3\\lib\\site-packages\\sklearn\\svm\\_base.py:231: ConvergenceWarning: Solver terminated early (max_iter=90).  Consider pre-processing your data with StandardScaler or MinMaxScaler.\n",
      "  % self.max_iter, ConvergenceWarning)\n",
      "C:\\Users\\majer\\Anaconda3\\lib\\site-packages\\sklearn\\svm\\_base.py:231: ConvergenceWarning: Solver terminated early (max_iter=90).  Consider pre-processing your data with StandardScaler or MinMaxScaler.\n",
      "  % self.max_iter, ConvergenceWarning)\n",
      "C:\\Users\\majer\\Anaconda3\\lib\\site-packages\\sklearn\\svm\\_base.py:231: ConvergenceWarning: Solver terminated early (max_iter=90).  Consider pre-processing your data with StandardScaler or MinMaxScaler.\n",
      "  % self.max_iter, ConvergenceWarning)\n",
      "C:\\Users\\majer\\Anaconda3\\lib\\site-packages\\sklearn\\svm\\_base.py:231: ConvergenceWarning: Solver terminated early (max_iter=90).  Consider pre-processing your data with StandardScaler or MinMaxScaler.\n",
      "  % self.max_iter, ConvergenceWarning)\n",
      "C:\\Users\\majer\\Anaconda3\\lib\\site-packages\\sklearn\\svm\\_base.py:231: ConvergenceWarning: Solver terminated early (max_iter=90).  Consider pre-processing your data with StandardScaler or MinMaxScaler.\n",
      "  % self.max_iter, ConvergenceWarning)\n",
      "C:\\Users\\majer\\Anaconda3\\lib\\site-packages\\sklearn\\svm\\_base.py:231: ConvergenceWarning: Solver terminated early (max_iter=90).  Consider pre-processing your data with StandardScaler or MinMaxScaler.\n",
      "  % self.max_iter, ConvergenceWarning)\n",
      "C:\\Users\\majer\\Anaconda3\\lib\\site-packages\\sklearn\\svm\\_base.py:231: ConvergenceWarning: Solver terminated early (max_iter=90).  Consider pre-processing your data with StandardScaler or MinMaxScaler.\n",
      "  % self.max_iter, ConvergenceWarning)\n",
      "C:\\Users\\majer\\Anaconda3\\lib\\site-packages\\sklearn\\svm\\_base.py:231: ConvergenceWarning: Solver terminated early (max_iter=90).  Consider pre-processing your data with StandardScaler or MinMaxScaler.\n",
      "  % self.max_iter, ConvergenceWarning)\n",
      "C:\\Users\\majer\\Anaconda3\\lib\\site-packages\\sklearn\\svm\\_base.py:231: ConvergenceWarning: Solver terminated early (max_iter=90).  Consider pre-processing your data with StandardScaler or MinMaxScaler.\n",
      "  % self.max_iter, ConvergenceWarning)\n",
      "C:\\Users\\majer\\Anaconda3\\lib\\site-packages\\sklearn\\svm\\_base.py:231: ConvergenceWarning: Solver terminated early (max_iter=90).  Consider pre-processing your data with StandardScaler or MinMaxScaler.\n",
      "  % self.max_iter, ConvergenceWarning)\n",
      "C:\\Users\\majer\\Anaconda3\\lib\\site-packages\\sklearn\\svm\\_base.py:231: ConvergenceWarning: Solver terminated early (max_iter=90).  Consider pre-processing your data with StandardScaler or MinMaxScaler.\n",
      "  % self.max_iter, ConvergenceWarning)\n",
      "C:\\Users\\majer\\Anaconda3\\lib\\site-packages\\sklearn\\svm\\_base.py:231: ConvergenceWarning: Solver terminated early (max_iter=90).  Consider pre-processing your data with StandardScaler or MinMaxScaler.\n",
      "  % self.max_iter, ConvergenceWarning)\n",
      "C:\\Users\\majer\\Anaconda3\\lib\\site-packages\\sklearn\\svm\\_base.py:231: ConvergenceWarning: Solver terminated early (max_iter=90).  Consider pre-processing your data with StandardScaler or MinMaxScaler.\n",
      "  % self.max_iter, ConvergenceWarning)\n",
      "C:\\Users\\majer\\Anaconda3\\lib\\site-packages\\sklearn\\svm\\_base.py:231: ConvergenceWarning: Solver terminated early (max_iter=90).  Consider pre-processing your data with StandardScaler or MinMaxScaler.\n",
      "  % self.max_iter, ConvergenceWarning)\n",
      "C:\\Users\\majer\\Anaconda3\\lib\\site-packages\\sklearn\\svm\\_base.py:231: ConvergenceWarning: Solver terminated early (max_iter=90).  Consider pre-processing your data with StandardScaler or MinMaxScaler.\n",
      "  % self.max_iter, ConvergenceWarning)\n",
      "C:\\Users\\majer\\Anaconda3\\lib\\site-packages\\sklearn\\svm\\_base.py:231: ConvergenceWarning: Solver terminated early (max_iter=90).  Consider pre-processing your data with StandardScaler or MinMaxScaler.\n",
      "  % self.max_iter, ConvergenceWarning)\n",
      "C:\\Users\\majer\\Anaconda3\\lib\\site-packages\\sklearn\\svm\\_base.py:231: ConvergenceWarning: Solver terminated early (max_iter=90).  Consider pre-processing your data with StandardScaler or MinMaxScaler.\n",
      "  % self.max_iter, ConvergenceWarning)\n",
      "C:\\Users\\majer\\Anaconda3\\lib\\site-packages\\sklearn\\svm\\_base.py:231: ConvergenceWarning: Solver terminated early (max_iter=90).  Consider pre-processing your data with StandardScaler or MinMaxScaler.\n",
      "  % self.max_iter, ConvergenceWarning)\n",
      "C:\\Users\\majer\\Anaconda3\\lib\\site-packages\\sklearn\\svm\\_base.py:231: ConvergenceWarning: Solver terminated early (max_iter=90).  Consider pre-processing your data with StandardScaler or MinMaxScaler.\n",
      "  % self.max_iter, ConvergenceWarning)\n",
      "C:\\Users\\majer\\Anaconda3\\lib\\site-packages\\sklearn\\svm\\_base.py:231: ConvergenceWarning: Solver terminated early (max_iter=90).  Consider pre-processing your data with StandardScaler or MinMaxScaler.\n",
      "  % self.max_iter, ConvergenceWarning)\n",
      "C:\\Users\\majer\\Anaconda3\\lib\\site-packages\\sklearn\\svm\\_base.py:231: ConvergenceWarning: Solver terminated early (max_iter=90).  Consider pre-processing your data with StandardScaler or MinMaxScaler.\n",
      "  % self.max_iter, ConvergenceWarning)\n",
      "C:\\Users\\majer\\Anaconda3\\lib\\site-packages\\sklearn\\svm\\_base.py:231: ConvergenceWarning: Solver terminated early (max_iter=90).  Consider pre-processing your data with StandardScaler or MinMaxScaler.\n",
      "  % self.max_iter, ConvergenceWarning)\n",
      "C:\\Users\\majer\\Anaconda3\\lib\\site-packages\\sklearn\\svm\\_base.py:231: ConvergenceWarning: Solver terminated early (max_iter=90).  Consider pre-processing your data with StandardScaler or MinMaxScaler.\n",
      "  % self.max_iter, ConvergenceWarning)\n",
      "C:\\Users\\majer\\Anaconda3\\lib\\site-packages\\sklearn\\svm\\_base.py:231: ConvergenceWarning: Solver terminated early (max_iter=90).  Consider pre-processing your data with StandardScaler or MinMaxScaler.\n",
      "  % self.max_iter, ConvergenceWarning)\n"
     ]
    },
    {
     "name": "stderr",
     "output_type": "stream",
     "text": [
      "C:\\Users\\majer\\Anaconda3\\lib\\site-packages\\sklearn\\svm\\_base.py:231: ConvergenceWarning: Solver terminated early (max_iter=90).  Consider pre-processing your data with StandardScaler or MinMaxScaler.\n",
      "  % self.max_iter, ConvergenceWarning)\n",
      "C:\\Users\\majer\\Anaconda3\\lib\\site-packages\\sklearn\\svm\\_base.py:231: ConvergenceWarning: Solver terminated early (max_iter=90).  Consider pre-processing your data with StandardScaler or MinMaxScaler.\n",
      "  % self.max_iter, ConvergenceWarning)\n",
      "C:\\Users\\majer\\Anaconda3\\lib\\site-packages\\sklearn\\svm\\_base.py:231: ConvergenceWarning: Solver terminated early (max_iter=90).  Consider pre-processing your data with StandardScaler or MinMaxScaler.\n",
      "  % self.max_iter, ConvergenceWarning)\n",
      "C:\\Users\\majer\\Anaconda3\\lib\\site-packages\\sklearn\\svm\\_base.py:231: ConvergenceWarning: Solver terminated early (max_iter=90).  Consider pre-processing your data with StandardScaler or MinMaxScaler.\n",
      "  % self.max_iter, ConvergenceWarning)\n",
      "C:\\Users\\majer\\Anaconda3\\lib\\site-packages\\sklearn\\svm\\_base.py:231: ConvergenceWarning: Solver terminated early (max_iter=90).  Consider pre-processing your data with StandardScaler or MinMaxScaler.\n",
      "  % self.max_iter, ConvergenceWarning)\n",
      "C:\\Users\\majer\\Anaconda3\\lib\\site-packages\\sklearn\\svm\\_base.py:231: ConvergenceWarning: Solver terminated early (max_iter=90).  Consider pre-processing your data with StandardScaler or MinMaxScaler.\n",
      "  % self.max_iter, ConvergenceWarning)\n",
      "C:\\Users\\majer\\Anaconda3\\lib\\site-packages\\sklearn\\svm\\_base.py:231: ConvergenceWarning: Solver terminated early (max_iter=90).  Consider pre-processing your data with StandardScaler or MinMaxScaler.\n",
      "  % self.max_iter, ConvergenceWarning)\n",
      "C:\\Users\\majer\\Anaconda3\\lib\\site-packages\\sklearn\\svm\\_base.py:231: ConvergenceWarning: Solver terminated early (max_iter=90).  Consider pre-processing your data with StandardScaler or MinMaxScaler.\n",
      "  % self.max_iter, ConvergenceWarning)\n",
      "C:\\Users\\majer\\Anaconda3\\lib\\site-packages\\sklearn\\svm\\_base.py:231: ConvergenceWarning: Solver terminated early (max_iter=90).  Consider pre-processing your data with StandardScaler or MinMaxScaler.\n",
      "  % self.max_iter, ConvergenceWarning)\n",
      "C:\\Users\\majer\\Anaconda3\\lib\\site-packages\\sklearn\\svm\\_base.py:231: ConvergenceWarning: Solver terminated early (max_iter=90).  Consider pre-processing your data with StandardScaler or MinMaxScaler.\n",
      "  % self.max_iter, ConvergenceWarning)\n",
      "C:\\Users\\majer\\Anaconda3\\lib\\site-packages\\sklearn\\svm\\_base.py:231: ConvergenceWarning: Solver terminated early (max_iter=90).  Consider pre-processing your data with StandardScaler or MinMaxScaler.\n",
      "  % self.max_iter, ConvergenceWarning)\n",
      "C:\\Users\\majer\\Anaconda3\\lib\\site-packages\\sklearn\\svm\\_base.py:231: ConvergenceWarning: Solver terminated early (max_iter=90).  Consider pre-processing your data with StandardScaler or MinMaxScaler.\n",
      "  % self.max_iter, ConvergenceWarning)\n",
      "C:\\Users\\majer\\Anaconda3\\lib\\site-packages\\sklearn\\svm\\_base.py:231: ConvergenceWarning: Solver terminated early (max_iter=90).  Consider pre-processing your data with StandardScaler or MinMaxScaler.\n",
      "  % self.max_iter, ConvergenceWarning)\n",
      "C:\\Users\\majer\\Anaconda3\\lib\\site-packages\\sklearn\\svm\\_base.py:231: ConvergenceWarning: Solver terminated early (max_iter=90).  Consider pre-processing your data with StandardScaler or MinMaxScaler.\n",
      "  % self.max_iter, ConvergenceWarning)\n",
      "C:\\Users\\majer\\Anaconda3\\lib\\site-packages\\sklearn\\svm\\_base.py:231: ConvergenceWarning: Solver terminated early (max_iter=90).  Consider pre-processing your data with StandardScaler or MinMaxScaler.\n",
      "  % self.max_iter, ConvergenceWarning)\n"
     ]
    },
    {
     "name": "stdout",
     "output_type": "stream",
     "text": [
      "Samples: 0.35, features: 1\n",
      "{'fit_time': array([730.98269486, 733.2683804 , 732.77811146, 735.22843242,\n",
      "       733.40605879]), 'score_time': array([199.80270076, 201.70700336, 202.86931109, 199.58590865,\n",
      "       200.41521978]), 'test_accuracy': array([0.80848806, 0.81666224, 0.81347838, 0.76439374, 0.77951711]), 'test_neg_log_loss': array([-0.73191719, -0.72006375, -0.72047549, -0.77839905, -0.75115513]), 'test_neg_mean_squared_error': array([ -9.86233422, -10.20827806,  -8.25603608, -16.63916158,\n",
      "       -12.01963386]), 'test_roc_auc_ovr': array([0.98622476, 0.98642358, 0.98656918, 0.9816965 , 0.98251651]), 'test_f1_weighted': array([0.80891516, 0.81744713, 0.81183254, 0.76912524, 0.77980218]), 'test_precision_weighted': array([0.82119132, 0.82729571, 0.8236648 , 0.79060025, 0.79121644]), 'test_recall_weighted': array([0.80848806, 0.81666224, 0.81347838, 0.76439374, 0.77951711])}\n"
     ]
    }
   ],
   "source": [
    "#0.35 samples, 1 features:\n",
    "minor = MinorClassifiers(0.35, 1, 'average', 90)\n",
    "scores = cross_validate(minor, svd_x_train, y_train, cv=5, scoring=('accuracy', 'neg_log_loss', 'neg_mean_squared_error', 'roc_auc_ovr', 'f1_weighted', 'precision_weighted', 'recall_weighted'))\n",
    "print(\"Samples: \" + str(minor.samp) + \", features: \" + str(minor.feat))\n",
    "print(scores)"
   ]
  },
  {
   "cell_type": "code",
   "execution_count": null,
   "metadata": {},
   "outputs": [],
   "source": []
  },
  {
   "cell_type": "code",
   "execution_count": null,
   "metadata": {},
   "outputs": [],
   "source": [
    "#1 samples, 0.25 features:"
   ]
  },
  {
   "cell_type": "code",
   "execution_count": 52,
   "metadata": {},
   "outputs": [
    {
     "name": "stdout",
     "output_type": "stream",
     "text": [
      "Samples: 1, features: 0.25\n",
      "{'fit_time': array([654.58637667, 698.84309006, 700.00438643, 731.05498075,\n",
      "       711.61136723]), 'score_time': array([112.4843576 , 112.6858356 , 111.73476195, 111.47778559,\n",
      "       109.4632833 ]), 'test_accuracy': array([0.66047745, 0.67444946, 0.63279384, 0.57468825, 0.62722207]), 'test_neg_log_loss': array([-1.94342222, -1.89011763, -1.95764361, -1.85298489, -1.86447538]), 'test_neg_mean_squared_error': array([-35.75994695, -30.90368798, -38.58848501, -52.90846378,\n",
      "       -42.2194216 ]), 'test_roc_auc_ovr': array([0.94682403, 0.95399201, 0.94238097, 0.9583144 , 0.95595992]), 'test_f1_weighted': array([0.67707226, 0.68641156, 0.64683677, 0.61929707, 0.65191537]), 'test_precision_weighted': array([0.73981103, 0.73814242, 0.7169479 , 0.76390258, 0.74220858]), 'test_recall_weighted': array([0.66047745, 0.67444946, 0.63279384, 0.57468825, 0.62722207])}\n"
     ]
    }
   ],
   "source": [
    "minor = MinorClassifiers(1, 0.25, 'average', 60)\n",
    "scores = cross_validate(minor, svd_x_train, y_train, cv=5, scoring=('accuracy', 'neg_log_loss', 'neg_mean_squared_error', 'roc_auc_ovr', 'f1_weighted', 'precision_weighted', 'recall_weighted'))\n",
    "print(\"Samples: \" + str(minor.samp) + \", features: \" + str(minor.feat))\n",
    "print(scores)"
   ]
  },
  {
   "cell_type": "code",
   "execution_count": 53,
   "metadata": {},
   "outputs": [
    {
     "name": "stdout",
     "output_type": "stream",
     "text": [
      "Samples: 1, features: 0.25\n",
      "{'fit_time': array([642.57872462, 644.89121032, 635.11523223, 640.97578073,\n",
      "       639.1190567 ]), 'score_time': array([106.27422523, 105.53670454, 106.3424921 , 103.87617683,\n",
      "       101.62964511]), 'test_accuracy': array([0.64801061, 0.65269302, 0.64712125, 0.59166888, 0.57813744]), 'test_neg_log_loss': array([-1.94026266, -1.86607968, -1.9500675 , -1.90346203, -1.90262572]), 'test_neg_mean_squared_error': array([-36.533687  , -35.42425046, -36.88272751, -47.01830724,\n",
      "       -49.16821438]), 'test_roc_auc_ovr': array([0.93832816, 0.94292947, 0.93874092, 0.95833737, 0.95443233]), 'test_f1_weighted': array([0.66748531, 0.67124546, 0.66203296, 0.62901143, 0.61986535]), 'test_precision_weighted': array([0.72585274, 0.72944149, 0.7220945 , 0.75451119, 0.75872466]), 'test_recall_weighted': array([0.64801061, 0.65269302, 0.64712125, 0.59166888, 0.57813744])}\n"
     ]
    }
   ],
   "source": [
    "minor = MinorClassifiers(1, 0.25, 'average', 55)\n",
    "scores = cross_validate(minor, svd_x_train, y_train, cv=5, scoring=('accuracy', 'neg_log_loss', 'neg_mean_squared_error', 'roc_auc_ovr', 'f1_weighted', 'precision_weighted', 'recall_weighted'))\n",
    "print(\"Samples: \" + str(minor.samp) + \", features: \" + str(minor.feat))\n",
    "print(scores)"
   ]
  },
  {
   "cell_type": "code",
   "execution_count": 54,
   "metadata": {},
   "outputs": [
    {
     "name": "stdout",
     "output_type": "stream",
     "text": [
      "Samples: 1, features: 0.25\n",
      "{'fit_time': array([582.30747223, 580.84629846, 583.02487826, 584.32365823,\n",
      "       583.20498991]), 'score_time': array([ 98.58690286, 100.34554267,  99.14629984,  96.76612782,\n",
      "        98.49477625]), 'test_accuracy': array([0.60026525, 0.55054391, 0.59007694, 0.58503582, 0.6192624 ]), 'test_neg_log_loss': array([-2.07043357, -2.17885812, -2.13491448, -1.9662209 , -1.86354094]), 'test_neg_mean_squared_error': array([-45.36710875, -49.47731494, -45.78959936, -49.66038737,\n",
      "       -41.85248076]), 'test_roc_auc_ovr': array([0.92124689, 0.92165401, 0.92310427, 0.95218121, 0.95136383]), 'test_f1_weighted': array([0.62847176, 0.58267646, 0.61421211, 0.6215638 , 0.64589991]), 'test_precision_weighted': array([0.71086743, 0.70827138, 0.705795  , 0.74311935, 0.72838391]), 'test_recall_weighted': array([0.60026525, 0.55054391, 0.59007694, 0.58503582, 0.6192624 ])}\n"
     ]
    }
   ],
   "source": [
    "minor = MinorClassifiers(1, 0.25, 'average', 50)\n",
    "scores = cross_validate(minor, svd_x_train, y_train, cv=5, scoring=('accuracy', 'neg_log_loss', 'neg_mean_squared_error', 'roc_auc_ovr', 'f1_weighted', 'precision_weighted', 'recall_weighted'))\n",
    "print(\"Samples: \" + str(minor.samp) + \", features: \" + str(minor.feat))\n",
    "print(scores)"
   ]
  },
  {
   "cell_type": "code",
   "execution_count": 69,
   "metadata": {},
   "outputs": [
    {
     "name": "stdout",
     "output_type": "stream",
     "text": [
      "Samples: 1, features: 0.25\n",
      "{'fit_time': array([555.75384307, 559.56569028, 559.6182642 , 558.76342058,\n",
      "       559.1712389 ]), 'score_time': array([97.22147369, 96.8145082 , 96.0690465 , 94.39497876, 92.1265347 ]), 'test_accuracy': array([0.58302387, 0.60440435, 0.57946405, 0.49907137, 0.54656408]), 'test_neg_log_loss': array([-2.09836408, -2.02466279, -2.1420835 , -2.20278194, -2.09449683]), 'test_neg_mean_squared_error': array([-46.16604775, -44.03210401, -49.33271425, -63.2894667 ,\n",
      "       -54.99363226]), 'test_roc_auc_ovr': array([0.92454674, 0.93497974, 0.91770921, 0.93153972, 0.93208022]), 'test_f1_weighted': array([0.61046096, 0.63091561, 0.60634022, 0.5351385 , 0.58115379]), 'test_precision_weighted': array([0.70852733, 0.72774097, 0.70339212, 0.7148566 , 0.72475351]), 'test_recall_weighted': array([0.58302387, 0.60440435, 0.57946405, 0.49907137, 0.54656408])}\n"
     ]
    }
   ],
   "source": [
    "minor = MinorClassifiers(1, 0.25, 'average', 48)\n",
    "scores = cross_validate(minor, svd_x_train, y_train, cv=5, scoring=('accuracy', 'neg_log_loss', 'neg_mean_squared_error', 'roc_auc_ovr', 'f1_weighted', 'precision_weighted', 'recall_weighted'))\n",
    "print(\"Samples: \" + str(minor.samp) + \", features: \" + str(minor.feat))\n",
    "print(scores)"
   ]
  },
  {
   "cell_type": "code",
   "execution_count": 55,
   "metadata": {},
   "outputs": [
    {
     "name": "stdout",
     "output_type": "stream",
     "text": [
      "Samples: 1, features: 0.25\n",
      "{'fit_time': array([550.9587326 , 547.16493917, 550.95220542, 547.30124092,\n",
      "       545.87052321]), 'score_time': array([96.85340595, 95.28815508, 94.7938807 , 92.33134651, 92.91000605]), 'test_accuracy': array([0.60397878, 0.48421332, 0.6394269 , 0.56487132, 0.56274874]), 'test_neg_log_loss': array([-2.06884812, -2.23397127, -1.91563667, -2.00879462, -2.02722053]), 'test_neg_mean_squared_error': array([-42.50185676, -62.38630937, -38.40275935, -50.70522685,\n",
      "       -52.59219952]), 'test_roc_auc_ovr': array([0.93296272, 0.91450992, 0.93820658, 0.95035271, 0.94210977]), 'test_f1_weighted': array([0.63066433, 0.52358982, 0.65748222, 0.60111785, 0.59853042]), 'test_precision_weighted': array([0.71709477, 0.72975527, 0.71503173, 0.73404158, 0.73852151]), 'test_recall_weighted': array([0.60397878, 0.48421332, 0.6394269 , 0.56487132, 0.56274874])}\n"
     ]
    }
   ],
   "source": [
    "minor = MinorClassifiers(1, 0.25, 'average', 47)\n",
    "scores = cross_validate(minor, svd_x_train, y_train, cv=5, scoring=('accuracy', 'neg_log_loss', 'neg_mean_squared_error', 'roc_auc_ovr', 'f1_weighted', 'precision_weighted', 'recall_weighted'))\n",
    "print(\"Samples: \" + str(minor.samp) + \", features: \" + str(minor.feat))\n",
    "print(scores)"
   ]
  },
  {
   "cell_type": "code",
   "execution_count": 56,
   "metadata": {},
   "outputs": [
    {
     "name": "stdout",
     "output_type": "stream",
     "text": [
      "Samples: 1, features: 0.25\n",
      "{'fit_time': array([526.69562817, 527.19686818, 524.12829518, 523.70032048,\n",
      "       529.32794762]), 'score_time': array([92.87156844, 92.69515038, 91.84836292, 90.16693616, 89.5096252 ]), 'test_accuracy': array([0.52360743, 0.56911648, 0.59485275, 0.50358185, 0.5266649 ]), 'test_neg_log_loss': array([-2.26275732, -2.1444612 , -2.06042571, -2.15137214, -2.11434423]), 'test_neg_mean_squared_error': array([-55.98381963, -49.6120987 , -48.44812948, -64.60042452,\n",
      "       -56.8089679 ]), 'test_roc_auc_ovr': array([0.899797  , 0.91961648, 0.91856502, 0.94143668, 0.93307747]), 'test_f1_weighted': array([0.55058211, 0.60658039, 0.62027175, 0.54913919, 0.57110084]), 'test_precision_weighted': array([0.70934968, 0.71635015, 0.7053856 , 0.73587352, 0.72878509]), 'test_recall_weighted': array([0.52360743, 0.56911648, 0.59485275, 0.50358185, 0.5266649 ])}\n"
     ]
    }
   ],
   "source": [
    "minor = MinorClassifiers(1, 0.25, 'average', 45)\n",
    "scores = cross_validate(minor, svd_x_train, y_train, cv=5, scoring=('accuracy', 'neg_log_loss', 'neg_mean_squared_error', 'roc_auc_ovr', 'f1_weighted', 'precision_weighted', 'recall_weighted'))\n",
    "print(\"Samples: \" + str(minor.samp) + \", features: \" + str(minor.feat))\n",
    "print(scores)"
   ]
  },
  {
   "cell_type": "code",
   "execution_count": 57,
   "metadata": {},
   "outputs": [
    {
     "name": "stdout",
     "output_type": "stream",
     "text": [
      "Samples: 1, features: 0.25\n",
      "{'fit_time': array([499.78054619, 503.19740653, 502.67313623, 506.04485321,\n",
      "       506.23576498]), 'score_time': array([89.88369131, 88.80898714, 91.07708454, 86.74712849, 87.2606461 ]), 'test_accuracy': array([0.53262599, 0.5669939 , 0.54736004, 0.49880605, 0.60042452]), 'test_neg_log_loss': array([-2.25075629, -2.10284426, -2.220732  , -2.25508411, -2.01733956]), 'test_neg_mean_squared_error': array([-51.67161804, -50.83178562, -51.98248872, -63.26001592,\n",
      "       -41.04006368]), 'test_roc_auc_ovr': array([0.90182782, 0.92384392, 0.90464234, 0.92132083, 0.94286294]), 'test_f1_weighted': array([0.56847601, 0.60774299, 0.57875177, 0.53514647, 0.62071452]), 'test_precision_weighted': array([0.69341573, 0.72549898, 0.68806057, 0.71719928, 0.70636989]), 'test_recall_weighted': array([0.53262599, 0.5669939 , 0.54736004, 0.49880605, 0.60042452])}\n"
     ]
    }
   ],
   "source": [
    "minor = MinorClassifiers(1, 0.25, 'average', 43)\n",
    "scores = cross_validate(minor, svd_x_train, y_train, cv=5, scoring=('accuracy', 'neg_log_loss', 'neg_mean_squared_error', 'roc_auc_ovr', 'f1_weighted', 'precision_weighted', 'recall_weighted'))\n",
    "print(\"Samples: \" + str(minor.samp) + \", features: \" + str(minor.feat))\n",
    "print(scores)"
   ]
  },
  {
   "cell_type": "code",
   "execution_count": 58,
   "metadata": {},
   "outputs": [
    {
     "name": "stdout",
     "output_type": "stream",
     "text": [
      "Samples: 1, features: 0.25\n",
      "{'fit_time': array([467.63118362, 470.62720966, 471.17309952, 469.85717249,\n",
      "       470.55045462]), 'score_time': array([84.82701302, 86.05775023, 85.59438467, 83.19988012, 82.33481598]), 'test_accuracy': array([0.48169761, 0.46564075, 0.56778986, 0.56646325, 0.54231892]), 'test_neg_log_loss': array([-2.36131213, -2.31934225, -2.18454197, -2.07250712, -2.1825836 ]), 'test_neg_mean_squared_error': array([-61.26074271, -63.59750597, -50.85566463, -50.76731228,\n",
      "       -51.13239586]), 'test_roc_auc_ovr': array([0.86997185, 0.89414572, 0.90831853, 0.93920295, 0.92192539]), 'test_f1_weighted': array([0.52791254, 0.50586987, 0.59828362, 0.60329109, 0.57134658]), 'test_precision_weighted': array([0.6859626 , 0.70630083, 0.69906918, 0.72331383, 0.68582545]), 'test_recall_weighted': array([0.48169761, 0.46564075, 0.56778986, 0.56646325, 0.54231892])}\n"
     ]
    }
   ],
   "source": [
    "minor = MinorClassifiers(1, 0.25, 'average', 40)\n",
    "scores = cross_validate(minor, svd_x_train, y_train, cv=5, scoring=('accuracy', 'neg_log_loss', 'neg_mean_squared_error', 'roc_auc_ovr', 'f1_weighted', 'precision_weighted', 'recall_weighted'))\n",
    "print(\"Samples: \" + str(minor.samp) + \", features: \" + str(minor.feat))\n",
    "print(scores)"
   ]
  },
  {
   "cell_type": "code",
   "execution_count": 59,
   "metadata": {},
   "outputs": [
    {
     "name": "stdout",
     "output_type": "stream",
     "text": [
      "Samples: 1, features: 0.25\n",
      "{'fit_time': array([357.1370914 , 352.34810019, 353.69484925, 356.97817588,\n",
      "       356.283499  ]), 'score_time': array([68.62639594, 68.281394  , 69.30107832, 68.46598053, 66.4661963 ]), 'test_accuracy': array([0.45331565, 0.41973998, 0.44468029, 0.52693022, 0.45635447]), 'test_neg_log_loss': array([-2.44723106, -2.47852431, -2.46612485, -2.25295809, -2.39570416]), 'test_neg_mean_squared_error': array([-66.97559682, -69.13717166, -66.98885646, -51.78429292,\n",
      "       -62.65853011]), 'test_roc_auc_ovr': array([0.85048003, 0.849924  , 0.8528582 , 0.91572659, 0.89471948]), 'test_f1_weighted': array([0.50434621, 0.47665296, 0.49328694, 0.55839729, 0.48772439]), 'test_precision_weighted': array([0.66786294, 0.65727294, 0.64977726, 0.67991793, 0.66225973]), 'test_recall_weighted': array([0.45331565, 0.41973998, 0.44468029, 0.52693022, 0.45635447])}\n"
     ]
    }
   ],
   "source": [
    "minor = MinorClassifiers(1, 0.25, 'average', 30)\n",
    "scores = cross_validate(minor, svd_x_train, y_train, cv=5, scoring=('accuracy', 'neg_log_loss', 'neg_mean_squared_error', 'roc_auc_ovr', 'f1_weighted', 'precision_weighted', 'recall_weighted'))\n",
    "print(\"Samples: \" + str(minor.samp) + \", features: \" + str(minor.feat))\n",
    "print(scores)"
   ]
  },
  {
   "cell_type": "code",
   "execution_count": 60,
   "metadata": {},
   "outputs": [
    {
     "name": "stdout",
     "output_type": "stream",
     "text": [
      "Samples: 1, features: 0.25\n",
      "{'fit_time': array([345.14209461, 343.29029322, 340.17843246, 342.49989343,\n",
      "       347.44546533]), 'score_time': array([66.95394945, 69.25588274, 68.50326657, 71.49008751, 66.68162203]), 'test_accuracy': array([0.48647215, 0.42425046, 0.4531706 , 0.50835765, 0.48819315]), 'test_neg_log_loss': array([-2.34398554, -2.46811871, -2.43864547, -2.31379033, -2.36789936]), 'test_neg_mean_squared_error': array([-60.16286472, -68.72433006, -64.89254444, -59.65375431,\n",
      "       -57.27248607]), 'test_roc_auc_ovr': array([0.87060262, 0.86120753, 0.84822974, 0.9020852 , 0.89800368]), 'test_f1_weighted': array([0.53330292, 0.47520037, 0.49856031, 0.53818752, 0.51766989]), 'test_precision_weighted': array([0.67750834, 0.66913916, 0.64593037, 0.67946644, 0.66338337]), 'test_recall_weighted': array([0.48647215, 0.42425046, 0.4531706 , 0.50835765, 0.48819315])}\n"
     ]
    }
   ],
   "source": [
    "minor = MinorClassifiers(1, 0.25, 'average', 29)\n",
    "scores = cross_validate(minor, svd_x_train, y_train, cv=5, scoring=('accuracy', 'neg_log_loss', 'neg_mean_squared_error', 'roc_auc_ovr', 'f1_weighted', 'precision_weighted', 'recall_weighted'))\n",
    "print(\"Samples: \" + str(minor.samp) + \", features: \" + str(minor.feat))\n",
    "print(scores)"
   ]
  },
  {
   "cell_type": "code",
   "execution_count": 61,
   "metadata": {},
   "outputs": [
    {
     "name": "stdout",
     "output_type": "stream",
     "text": [
      "Samples: 1, features: 0.25\n",
      "{'fit_time': array([335.63943529, 332.738415  , 339.48606753, 333.25363588,\n",
      "       333.44349122]), 'score_time': array([66.02936602, 65.90219331, 66.77987671, 65.8019774 , 64.49197388]), 'test_accuracy': array([0.44854111, 0.37171664, 0.41602547, 0.46404882, 0.43114885]), 'test_neg_log_loss': array([-2.450547  , -2.50481542, -2.48972129, -2.42505484, -2.41978305]), 'test_neg_mean_squared_error': array([-63.50503979, -76.17829663, -70.23268772, -63.31122314,\n",
      "       -69.75457681]), 'test_roc_auc_ovr': array([0.86284376, 0.84860148, 0.84037468, 0.89849713, 0.88779606]), 'test_f1_weighted': array([0.48742804, 0.41699899, 0.46267296, 0.49553046, 0.4760672 ]), 'test_precision_weighted': array([0.65158164, 0.66446863, 0.66066056, 0.68075653, 0.6807329 ]), 'test_recall_weighted': array([0.44854111, 0.37171664, 0.41602547, 0.46404882, 0.43114885])}\n"
     ]
    }
   ],
   "source": [
    "minor = MinorClassifiers(1, 0.25, 'average', 28)\n",
    "scores = cross_validate(minor, svd_x_train, y_train, cv=5, scoring=('accuracy', 'neg_log_loss', 'neg_mean_squared_error', 'roc_auc_ovr', 'f1_weighted', 'precision_weighted', 'recall_weighted'))\n",
    "print(\"Samples: \" + str(minor.samp) + \", features: \" + str(minor.feat))\n",
    "print(scores)"
   ]
  },
  {
   "cell_type": "code",
   "execution_count": 62,
   "metadata": {},
   "outputs": [
    {
     "name": "stdout",
     "output_type": "stream",
     "text": [
      "Samples: 1, features: 0.25\n",
      "{'fit_time': array([297.49617386, 301.848176  , 301.38595152, 299.97268772,\n",
      "       304.39932299]), 'score_time': array([62.00866652, 60.79987717, 59.43598175, 58.71092343, 59.69434333]), 'test_accuracy': array([0.44350133, 0.42531175, 0.42769966, 0.51578668, 0.37171664]), 'test_neg_log_loss': array([-2.4813801 , -2.50691908, -2.50924677, -2.39655483, -2.54613854]), 'test_neg_mean_squared_error': array([-64.86790451, -65.09180154, -68.11912974, -52.01008225,\n",
      "       -68.30326347]), 'test_roc_auc_ovr': array([0.84878775, 0.84942283, 0.84115966, 0.90100161, 0.87016459]), 'test_f1_weighted': array([0.49106448, 0.47843171, 0.47476377, 0.54008773, 0.40421861]), 'test_precision_weighted': array([0.6495497 , 0.63673896, 0.64147212, 0.6590484 , 0.64369437]), 'test_recall_weighted': array([0.44350133, 0.42531175, 0.42769966, 0.51578668, 0.37171664])}\n"
     ]
    }
   ],
   "source": [
    "minor = MinorClassifiers(1, 0.25, 'average', 25)\n",
    "scores = cross_validate(minor, svd_x_train, y_train, cv=5, scoring=('accuracy', 'neg_log_loss', 'neg_mean_squared_error', 'roc_auc_ovr', 'f1_weighted', 'precision_weighted', 'recall_weighted'))\n",
    "print(\"Samples: \" + str(minor.samp) + \", features: \" + str(minor.feat))\n",
    "print(scores)"
   ]
  },
  {
   "cell_type": "code",
   "execution_count": 63,
   "metadata": {},
   "outputs": [
    {
     "name": "stdout",
     "output_type": "stream",
     "text": [
      "Samples: 1, features: 0.25\n",
      "{'fit_time': array([243.47384119, 243.0263443 , 243.94656134, 244.46072268,\n",
      "       244.72990632]), 'score_time': array([51.26190662, 52.10260653, 51.88672137, 49.54844069, 49.72197413]), 'test_accuracy': array([0.38992042, 0.33244893, 0.38524808, 0.36216503, 0.43512868]), 'test_neg_log_loss': array([-2.5943461 , -2.6592485 , -2.60081309, -2.63472731, -2.55735579]), 'test_neg_mean_squared_error': array([-70.61167109, -78.92119926, -74.45874237, -76.241974  ,\n",
      "       -59.20350226]), 'test_roc_auc_ovr': array([0.81933477, 0.80970277, 0.81069138, 0.84146263, 0.84987894]), 'test_f1_weighted': array([0.43628498, 0.38432592, 0.43790579, 0.38698576, 0.46600625]), 'test_precision_weighted': array([0.60445463, 0.61266317, 0.6362021 , 0.61546603, 0.62534279]), 'test_recall_weighted': array([0.38992042, 0.33244893, 0.38524808, 0.36216503, 0.43512868])}\n"
     ]
    }
   ],
   "source": [
    "minor = MinorClassifiers(1, 0.25, 'average', 20)\n",
    "scores = cross_validate(minor, svd_x_train, y_train, cv=5, scoring=('accuracy', 'neg_log_loss', 'neg_mean_squared_error', 'roc_auc_ovr', 'f1_weighted', 'precision_weighted', 'recall_weighted'))\n",
    "print(\"Samples: \" + str(minor.samp) + \", features: \" + str(minor.feat))\n",
    "print(scores)"
   ]
  },
  {
   "cell_type": "code",
   "execution_count": 64,
   "metadata": {},
   "outputs": [
    {
     "name": "stdout",
     "output_type": "stream",
     "text": [
      "Samples: 1, features: 0.25\n",
      "{'fit_time': array([185.07555819, 187.45811868, 185.26408243, 185.14032316,\n",
      "       186.42736697]), 'score_time': array([43.36550331, 41.6615746 , 43.59050202, 40.94208789, 38.69251704]), 'test_accuracy': array([0.31591512, 0.31069249, 0.314407  , 0.40010613, 0.43751658]), 'test_neg_log_loss': array([-2.74733816, -2.73776724, -2.72266074, -2.6163938 , -2.56880796]), 'test_neg_mean_squared_error': array([-76.70106101, -81.03024675, -83.51154152, -64.2515256 ,\n",
      "       -57.21544176]), 'test_roc_auc_ovr': array([0.77556153, 0.7770913 , 0.76726935, 0.84009568, 0.84048139]), 'test_f1_weighted': array([0.35736007, 0.36524782, 0.36613795, 0.41922828, 0.4656994 ]), 'test_precision_weighted': array([0.58173501, 0.58936945, 0.60335859, 0.58135693, 0.59914015]), 'test_recall_weighted': array([0.31591512, 0.31069249, 0.314407  , 0.40010613, 0.43751658])}\n"
     ]
    }
   ],
   "source": [
    "minor = MinorClassifiers(1, 0.25, 'average', 15)\n",
    "scores = cross_validate(minor, svd_x_train, y_train, cv=5, scoring=('accuracy', 'neg_log_loss', 'neg_mean_squared_error', 'roc_auc_ovr', 'f1_weighted', 'precision_weighted', 'recall_weighted'))\n",
    "print(\"Samples: \" + str(minor.samp) + \", features: \" + str(minor.feat))\n",
    "print(scores)"
   ]
  },
  {
   "cell_type": "code",
   "execution_count": 65,
   "metadata": {},
   "outputs": [
    {
     "name": "stdout",
     "output_type": "stream",
     "text": [
      "Samples: 1, features: 0.25\n",
      "{'fit_time': array([164.39329934, 162.27841687, 167.68766785, 165.13241696,\n",
      "       167.21511054]), 'score_time': array([38.00784135, 37.08639002, 38.05272174, 36.68836689, 34.82594943]), 'test_accuracy': array([0.33129973, 0.29211993, 0.29105864, 0.30405943, 0.37543115]), 'test_neg_log_loss': array([-2.73221991, -2.76460477, -2.81760962, -2.77883778, -2.68310712]), 'test_neg_mean_squared_error': array([-78.37453581, -81.47068188, -82.17723534, -72.67100027,\n",
      "       -65.25364818]), 'test_roc_auc_ovr': array([0.77903982, 0.7545565 , 0.73509122, 0.78493461, 0.81122771]), 'test_f1_weighted': array([0.37550804, 0.33968268, 0.3307604 , 0.332058  , 0.40148497]), 'test_precision_weighted': array([0.57764553, 0.58462264, 0.57491473, 0.52942048, 0.59195944]), 'test_recall_weighted': array([0.33129973, 0.29211993, 0.29105864, 0.30405943, 0.37543115])}\n"
     ]
    }
   ],
   "source": [
    "minor = MinorClassifiers(1, 0.25, 'average', 13)\n",
    "scores = cross_validate(minor, svd_x_train, y_train, cv=5, scoring=('accuracy', 'neg_log_loss', 'neg_mean_squared_error', 'roc_auc_ovr', 'f1_weighted', 'precision_weighted', 'recall_weighted'))\n",
    "print(\"Samples: \" + str(minor.samp) + \", features: \" + str(minor.feat))\n",
    "print(scores)"
   ]
  },
  {
   "cell_type": "code",
   "execution_count": 66,
   "metadata": {},
   "outputs": [
    {
     "name": "stdout",
     "output_type": "stream",
     "text": [
      "Samples: 1, features: 0.25\n",
      "{'fit_time': array([150.35279417, 151.83482432, 149.34844661, 149.7166121 ,\n",
      "       152.18495393]), 'score_time': array([35.51947069, 34.93705416, 34.0464077 , 35.14549899, 33.21118879]), 'test_accuracy': array([0.30344828, 0.29822234, 0.30087556, 0.36747148, 0.3605731 ]), 'test_neg_log_loss': array([-2.78598069, -2.78960198, -2.75993999, -2.69237641, -2.72511052]), 'test_neg_mean_squared_error': array([-78.03687003, -81.98328469, -83.24542319, -67.67365349,\n",
      "       -67.0047758 ]), 'test_roc_auc_ovr': array([0.75477398, 0.7509361 , 0.75598866, 0.81358275, 0.79356513]), 'test_f1_weighted': array([0.34681615, 0.35110219, 0.34856223, 0.40456793, 0.38128736]), 'test_precision_weighted': array([0.58502696, 0.5769988 , 0.62048477, 0.59624052, 0.56102763]), 'test_recall_weighted': array([0.30344828, 0.29822234, 0.30087556, 0.36747148, 0.3605731 ])}\n"
     ]
    }
   ],
   "source": [
    "minor = MinorClassifiers(1, 0.25, 'average', 12)\n",
    "scores = cross_validate(minor, svd_x_train, y_train, cv=5, scoring=('accuracy', 'neg_log_loss', 'neg_mean_squared_error', 'roc_auc_ovr', 'f1_weighted', 'precision_weighted', 'recall_weighted'))\n",
    "print(\"Samples: \" + str(minor.samp) + \", features: \" + str(minor.feat))\n",
    "print(scores)"
   ]
  },
  {
   "cell_type": "code",
   "execution_count": 67,
   "metadata": {},
   "outputs": [
    {
     "name": "stdout",
     "output_type": "stream",
     "text": [
      "Samples: 1, features: 0.25\n",
      "{'fit_time': array([140.42635131, 138.60924411, 137.73853636, 138.64474726,\n",
      "       139.11177826]), 'score_time': array([33.4910109 , 32.54544926, 34.12728167, 33.00320411, 30.95770407]), 'test_accuracy': array([0.30238727, 0.28760945, 0.29397718, 0.30936588, 0.34730698]), 'test_neg_log_loss': array([-2.79692628, -2.7691721 , -2.80372125, -2.77421529, -2.73233275]), 'test_neg_mean_squared_error': array([-79.86870027, -84.89227912, -85.22817724, -73.61740515,\n",
      "       -69.54789069]), 'test_roc_auc_ovr': array([0.74643216, 0.77471652, 0.74252966, 0.77551786, 0.79049409]), 'test_f1_weighted': array([0.34448603, 0.33967723, 0.34292818, 0.34572867, 0.36935052]), 'test_precision_weighted': array([0.56801713, 0.56785464, 0.6147552 , 0.55133303, 0.5666707 ]), 'test_recall_weighted': array([0.30238727, 0.28760945, 0.29397718, 0.30936588, 0.34730698])}\n"
     ]
    }
   ],
   "source": [
    "minor = MinorClassifiers(1, 0.25, 'average', 11)\n",
    "scores = cross_validate(minor, svd_x_train, y_train, cv=5, scoring=('accuracy', 'neg_log_loss', 'neg_mean_squared_error', 'roc_auc_ovr', 'f1_weighted', 'precision_weighted', 'recall_weighted'))\n",
    "print(\"Samples: \" + str(minor.samp) + \", features: \" + str(minor.feat))\n",
    "print(scores)"
   ]
  },
  {
   "cell_type": "code",
   "execution_count": 68,
   "metadata": {},
   "outputs": [
    {
     "name": "stdout",
     "output_type": "stream",
     "text": [
      "Samples: 1, features: 0.25\n",
      "{'fit_time': array([127.57225633, 129.75733089, 128.02307773, 130.41009378,\n",
      "       129.57045221]), 'score_time': array([32.1061151 , 31.16666079, 32.06870055, 30.89287639, 27.64254808]), 'test_accuracy': array([0.30981432, 0.29716105, 0.274078  , 0.37861502, 0.33934731]), 'test_neg_log_loss': array([-2.76557566, -2.78490221, -2.82739577, -2.71475573, -2.7499931 ]), 'test_neg_mean_squared_error': array([-82.233687  , -81.71345184, -86.59007694, -64.43672062,\n",
      "       -63.74475988]), 'test_roc_auc_ovr': array([0.75499207, 0.75647938, 0.72460849, 0.80028519, 0.79218731]), 'test_f1_weighted': array([0.34722277, 0.34607803, 0.31359362, 0.40641672, 0.3662373 ]), 'test_precision_weighted': array([0.55684378, 0.55579467, 0.54624522, 0.56233988, 0.56222084]), 'test_recall_weighted': array([0.30981432, 0.29716105, 0.274078  , 0.37861502, 0.33934731])}\n"
     ]
    }
   ],
   "source": [
    "minor = MinorClassifiers(1, 0.25, 'average', 10)\n",
    "scores = cross_validate(minor, svd_x_train, y_train, cv=5, scoring=('accuracy', 'neg_log_loss', 'neg_mean_squared_error', 'roc_auc_ovr', 'f1_weighted', 'precision_weighted', 'recall_weighted'))\n",
    "print(\"Samples: \" + str(minor.samp) + \", features: \" + str(minor.feat))\n",
    "print(scores)"
   ]
  },
  {
   "cell_type": "code",
   "execution_count": 31,
   "metadata": {},
   "outputs": [
    {
     "name": "stdout",
     "output_type": "stream",
     "text": [
      "Samples: 1, features: 0.25\n",
      "{'fit_time': array([93.4171679 , 94.19812822, 94.21342778, 94.64838552, 94.93701982]), 'score_time': array([23.02239776, 22.53022766, 22.81746578, 22.51076388, 21.06616497]), 'test_accuracy': array([0.25437666, 0.27248607, 0.22340143, 0.35526665, 0.31732555]), 'test_neg_log_loss': array([-2.87377157, -2.85869649, -2.92257668, -2.80895912, -2.80733294]), 'test_neg_mean_squared_error': array([-82.2535809 , -86.04643141, -85.83682674, -59.73175909,\n",
      "       -64.70522685]), 'test_roc_auc_ovr': array([0.71269201, 0.72177258, 0.67445088, 0.75987369, 0.76134147]), 'test_f1_weighted': array([0.27197697, 0.30821392, 0.23568709, 0.37066567, 0.3327849 ]), 'test_precision_weighted': array([0.46035447, 0.51500363, 0.49715844, 0.53948314, 0.48334562]), 'test_recall_weighted': array([0.25437666, 0.27248607, 0.22340143, 0.35526665, 0.31732555])}\n"
     ]
    }
   ],
   "source": [
    "minor = MinorClassifiers(1, 0.25, 'average', 7)\n",
    "scores = cross_validate(minor, svd_x_train, y_train, cv=5, scoring=('accuracy', 'neg_log_loss', 'neg_mean_squared_error', 'roc_auc_ovr', 'f1_weighted', 'precision_weighted', 'recall_weighted'))\n",
    "print(\"Samples: \" + str(minor.samp) + \", features: \" + str(minor.feat))\n",
    "print(scores)"
   ]
  },
  {
   "cell_type": "code",
   "execution_count": null,
   "metadata": {},
   "outputs": [],
   "source": []
  },
  {
   "cell_type": "code",
   "execution_count": null,
   "metadata": {},
   "outputs": [],
   "source": [
    "#1 samples, 0.5 features:"
   ]
  },
  {
   "cell_type": "code",
   "execution_count": 14,
   "metadata": {},
   "outputs": [
    {
     "name": "stdout",
     "output_type": "stream",
     "text": [
      "Samples: 1, features: 0.5\n",
      "{'fit_time': array([1144.51913548, 1269.81832838, 1263.22022533, 1256.05737472,\n",
      "       1240.44988084]), 'score_time': array([211.19423342, 209.85910654, 207.89694619, 200.09684467,\n",
      "       199.42312169]), 'test_accuracy': array([0.75092838, 0.74529053, 0.77394534, 0.73520828, 0.67391881]), 'test_neg_log_loss': array([-1.38366357, -1.439146  , -1.34668502, -1.21918287, -1.37010345]), 'test_neg_mean_squared_error': array([-21.66551724, -22.20535951, -20.03183868, -22.8920138 ,\n",
      "       -31.20986999]), 'test_roc_auc_ovr': array([0.9749813 , 0.97200358, 0.97707467, 0.9804277 , 0.97542686]), 'test_f1_weighted': array([0.76009923, 0.7503496 , 0.77723532, 0.74870659, 0.70294983]), 'test_precision_weighted': array([0.79059651, 0.78035193, 0.8017245 , 0.80192005, 0.79723029]), 'test_recall_weighted': array([0.75092838, 0.74529053, 0.77394534, 0.73520828, 0.67391881])}\n"
     ]
    }
   ],
   "source": [
    "minor = MinorClassifiers(1, 0.5, 'average', 60)\n",
    "scores = cross_validate(minor, svd_x_train, y_train, cv=5, scoring=('accuracy', 'neg_log_loss', 'neg_mean_squared_error', 'roc_auc_ovr', 'f1_weighted', 'precision_weighted', 'recall_weighted'))\n",
    "print(\"Samples: \" + str(minor.samp) + \", features: \" + str(minor.feat))\n",
    "print(scores)"
   ]
  },
  {
   "cell_type": "code",
   "execution_count": 15,
   "metadata": {},
   "outputs": [
    {
     "name": "stdout",
     "output_type": "stream",
     "text": [
      "Samples: 1, features: 0.5\n",
      "{'fit_time': array([1044.2687211 , 1040.26515889, 1041.57415724, 1042.31623793,\n",
      "       1041.89934921]), 'score_time': array([183.3406446 , 181.64133978, 183.2573452 , 179.08049512,\n",
      "       178.42865086]), 'test_accuracy': array([0.73421751, 0.72459538, 0.73175909, 0.65826479, 0.62616079]), 'test_neg_log_loss': array([-1.48145783, -1.55807806, -1.41340533, -1.50090212, -1.55875674]), 'test_neg_mean_squared_error': array([-22.6928382 , -25.35155214, -20.62032369, -32.97903953,\n",
      "       -38.37145131]), 'test_roc_auc_ovr': array([0.97040658, 0.96526174, 0.97271853, 0.97107566, 0.96790718]), 'test_f1_weighted': array([0.74109874, 0.73185341, 0.73192907, 0.68531159, 0.65948155]), 'test_precision_weighted': array([0.77103594, 0.76543908, 0.7556795 , 0.77537577, 0.77205569]), 'test_recall_weighted': array([0.73421751, 0.72459538, 0.73175909, 0.65826479, 0.62616079])}\n"
     ]
    }
   ],
   "source": [
    "minor = MinorClassifiers(1, 0.5, 'average', 50)\n",
    "scores = cross_validate(minor, svd_x_train, y_train, cv=5, scoring=('accuracy', 'neg_log_loss', 'neg_mean_squared_error', 'roc_auc_ovr', 'f1_weighted', 'precision_weighted', 'recall_weighted'))\n",
    "print(\"Samples: \" + str(minor.samp) + \", features: \" + str(minor.feat))\n",
    "print(scores)"
   ]
  },
  {
   "cell_type": "code",
   "execution_count": 16,
   "metadata": {},
   "outputs": [
    {
     "name": "stdout",
     "output_type": "stream",
     "text": [
      "Samples: 1, features: 0.5\n",
      "{'fit_time': array([838.02691913, 837.94887495, 837.80009604, 838.25180888,\n",
      "       850.23423314]), 'score_time': array([155.27617145, 155.37984633, 154.62994385, 153.26897717,\n",
      "       152.96733308]), 'test_accuracy': array([0.64748011, 0.65083577, 0.66038737, 0.63995755, 0.62324224]), 'test_neg_log_loss': array([-1.77503673, -1.72117414, -1.72888205, -1.62944843, -1.64356928]), 'test_neg_mean_squared_error': array([-38.52572944, -35.80976386, -33.83205094, -38.2265853 ,\n",
      "       -38.92438313]), 'test_roc_auc_ovr': array([0.94415328, 0.9509358 , 0.95207146, 0.96380261, 0.96234787]), 'test_f1_weighted': array([0.66870964, 0.6734906 , 0.67287001, 0.66943923, 0.65945725]), 'test_precision_weighted': array([0.73466962, 0.74101705, 0.72250256, 0.75152081, 0.75586274]), 'test_recall_weighted': array([0.64748011, 0.65083577, 0.66038737, 0.63995755, 0.62324224])}\n"
     ]
    }
   ],
   "source": [
    "minor = MinorClassifiers(1, 0.5, 'average', 40)\n",
    "scores = cross_validate(minor, svd_x_train, y_train, cv=5, scoring=('accuracy', 'neg_log_loss', 'neg_mean_squared_error', 'roc_auc_ovr', 'f1_weighted', 'precision_weighted', 'recall_weighted'))\n",
    "print(\"Samples: \" + str(minor.samp) + \", features: \" + str(minor.feat))\n",
    "print(scores)"
   ]
  },
  {
   "cell_type": "code",
   "execution_count": 17,
   "metadata": {},
   "outputs": [
    {
     "name": "stdout",
     "output_type": "stream",
     "text": [
      "Samples: 1, features: 0.5\n",
      "{'fit_time': array([633.9863584 , 634.42473125, 638.08588886, 634.94767046,\n",
      "       637.3531487 ]), 'score_time': array([125.26790667, 125.49726915, 125.53473306, 122.38419485,\n",
      "       123.00062919]), 'test_accuracy': array([0.59655172, 0.59246484, 0.58848501, 0.5492173 , 0.59379146]), 'test_neg_log_loss': array([-1.90122488, -1.91148248, -1.95839295, -1.93394028, -1.8043954 ]), 'test_neg_mean_squared_error': array([-44.48938992, -43.90846378, -48.4056779 , -52.99177501,\n",
      "       -40.51764394]), 'test_roc_auc_ovr': array([0.92505652, 0.93132333, 0.91308393, 0.94424849, 0.94622469]), 'test_f1_weighted': array([0.62327918, 0.6298884 , 0.62105363, 0.59637197, 0.62669502]), 'test_precision_weighted': array([0.69840662, 0.72228934, 0.70891509, 0.73124812, 0.72065215]), 'test_recall_weighted': array([0.59655172, 0.59246484, 0.58848501, 0.5492173 , 0.59379146])}\n"
     ]
    }
   ],
   "source": [
    "minor = MinorClassifiers(1, 0.5, 'average', 30)\n",
    "scores = cross_validate(minor, svd_x_train, y_train, cv=5, scoring=('accuracy', 'neg_log_loss', 'neg_mean_squared_error', 'roc_auc_ovr', 'f1_weighted', 'precision_weighted', 'recall_weighted'))\n",
    "print(\"Samples: \" + str(minor.samp) + \", features: \" + str(minor.feat))\n",
    "print(scores)"
   ]
  },
  {
   "cell_type": "code",
   "execution_count": 24,
   "metadata": {},
   "outputs": [
    {
     "name": "stdout",
     "output_type": "stream",
     "text": [
      "Samples: 1, features: 0.5\n",
      "{'fit_time': array([568.19140482, 586.37390924, 543.64614224, 547.91092396,\n",
      "       555.43582177]), 'score_time': array([119.62154579, 111.0768137 , 108.85527968, 109.19729185,\n",
      "       106.73456955]), 'test_accuracy': array([0.56233422, 0.53091006, 0.53011409, 0.57203502, 0.46670204]), 'test_neg_log_loss': array([-2.01439551, -2.10124608, -2.11982117, -1.94219811, -2.13217459]), 'test_neg_mean_squared_error': array([-47.75278515, -53.95622181, -54.98142743, -45.92730167,\n",
      "       -63.83788803]), 'test_roc_auc_ovr': array([0.91404782, 0.9061534 , 0.89225259, 0.94186771, 0.91659064]), 'test_f1_weighted': array([0.59710848, 0.57174781, 0.55837735, 0.60626789, 0.52083042]), 'test_precision_weighted': array([0.68701621, 0.69149985, 0.6638014 , 0.71241671, 0.70157132]), 'test_recall_weighted': array([0.56233422, 0.53091006, 0.53011409, 0.57203502, 0.46670204])}\n"
     ]
    }
   ],
   "source": [
    "minor = MinorClassifiers(1, 0.5, 'average', 26)\n",
    "scores = cross_validate(minor, svd_x_train, y_train, cv=5, scoring=('accuracy', 'neg_log_loss', 'neg_mean_squared_error', 'roc_auc_ovr', 'f1_weighted', 'precision_weighted', 'recall_weighted'))\n",
    "print(\"Samples: \" + str(minor.samp) + \", features: \" + str(minor.feat))\n",
    "print(scores)"
   ]
  },
  {
   "cell_type": "code",
   "execution_count": 23,
   "metadata": {},
   "outputs": [
    {
     "name": "stdout",
     "output_type": "stream",
     "text": [
      "Samples: 1, features: 0.5\n",
      "{'fit_time': array([523.83767247, 530.06394958, 527.52759123, 526.5650537 ,\n",
      "       526.38066554]), 'score_time': array([107.04924083, 108.21573639, 107.67451191, 103.65020537,\n",
      "       103.35913873]), 'test_accuracy': array([0.51167109, 0.51552136, 0.52878748, 0.50596975, 0.4863359 ]), 'test_neg_log_loss': array([-2.17556276, -2.10661232, -2.0813807 , -2.08934367, -2.14936271]), 'test_neg_mean_squared_error': array([-55.26339523, -55.70469621, -55.44945609, -59.34624569,\n",
      "       -62.9501194 ]), 'test_roc_auc_ovr': array([0.88709836, 0.90270909, 0.90200267, 0.92932802, 0.91428256]), 'test_f1_weighted': array([0.54981647, 0.56483924, 0.5709089 , 0.55487018, 0.53365735]), 'test_precision_weighted': array([0.66403531, 0.6871574 , 0.68150203, 0.7082915 , 0.69579219]), 'test_recall_weighted': array([0.51167109, 0.51552136, 0.52878748, 0.50596975, 0.4863359 ])}\n"
     ]
    }
   ],
   "source": [
    "minor = MinorClassifiers(1, 0.5, 'average', 25)\n",
    "scores = cross_validate(minor, svd_x_train, y_train, cv=5, scoring=('accuracy', 'neg_log_loss', 'neg_mean_squared_error', 'roc_auc_ovr', 'f1_weighted', 'precision_weighted', 'recall_weighted'))\n",
    "print(\"Samples: \" + str(minor.samp) + \", features: \" + str(minor.feat))\n",
    "print(scores)"
   ]
  },
  {
   "cell_type": "code",
   "execution_count": 18,
   "metadata": {},
   "outputs": [
    {
     "name": "stdout",
     "output_type": "stream",
     "text": [
      "Samples: 1, features: 0.5\n",
      "{'fit_time': array([430.71590805, 432.09831929, 427.86892366, 433.28405523,\n",
      "       427.37574673]), 'score_time': array([91.99243164, 91.34861422, 90.26054716, 88.93709803, 87.05512595]), 'test_accuracy': array([0.45437666, 0.45290528, 0.46882462, 0.42398514, 0.47625365]), 'test_neg_log_loss': array([-2.36626467, -2.31275286, -2.28573567, -2.30626271, -2.22556458]), 'test_neg_mean_squared_error': array([-63.24217507, -65.47545768, -64.63597771, -65.15521358,\n",
      "       -59.68187848]), 'test_roc_auc_ovr': array([0.85233154, 0.87049967, 0.86608022, 0.89674724, 0.90152849]), 'test_f1_weighted': array([0.49946235, 0.51105574, 0.51777339, 0.4645238 , 0.52226306]), 'test_precision_weighted': array([0.63726175, 0.67427574, 0.65727094, 0.65099412, 0.673387  ]), 'test_recall_weighted': array([0.45437666, 0.45290528, 0.46882462, 0.42398514, 0.47625365])}\n"
     ]
    }
   ],
   "source": [
    "minor = MinorClassifiers(1, 0.5, 'average', 20)\n",
    "scores = cross_validate(minor, svd_x_train, y_train, cv=5, scoring=('accuracy', 'neg_log_loss', 'neg_mean_squared_error', 'roc_auc_ovr', 'f1_weighted', 'precision_weighted', 'recall_weighted'))\n",
    "print(\"Samples: \" + str(minor.samp) + \", features: \" + str(minor.feat))\n",
    "print(scores)"
   ]
  },
  {
   "cell_type": "code",
   "execution_count": 34,
   "metadata": {},
   "outputs": [
    {
     "name": "stdout",
     "output_type": "stream",
     "text": [
      "Samples: 1, features: 0.5\n",
      "{'fit_time': array([344.37322378, 341.1944437 , 342.74176288, 337.52514148,\n",
      "       342.78057027]), 'score_time': array([73.14746165, 73.53495121, 73.35715365, 70.51329708, 70.69205379]), 'test_accuracy': array([0.41458886, 0.38604404, 0.40116742, 0.45529318, 0.45768108]), 'test_neg_log_loss': array([-2.46042492, -2.47081169, -2.48364511, -2.32623214, -2.32940396]), 'test_neg_mean_squared_error': array([-69.21564987, -76.18280711, -73.80657999, -62.93844521,\n",
      "       -58.99124436]), 'test_roc_auc_ovr': array([0.83219034, 0.837032  , 0.82542127, 0.89066812, 0.8854798 ]), 'test_f1_weighted': array([0.46773261, 0.44584477, 0.45399347, 0.49362314, 0.49256735]), 'test_precision_weighted': array([0.63433521, 0.63957447, 0.62738081, 0.65653321, 0.63158795]), 'test_recall_weighted': array([0.41458886, 0.38604404, 0.40116742, 0.45529318, 0.45768108])}\n"
     ]
    }
   ],
   "source": [
    "minor = MinorClassifiers(1, 0.5, 'average', 16)\n",
    "scores = cross_validate(minor, svd_x_train, y_train, cv=5, scoring=('accuracy', 'neg_log_loss', 'neg_mean_squared_error', 'roc_auc_ovr', 'f1_weighted', 'precision_weighted', 'recall_weighted'))\n",
    "print(\"Samples: \" + str(minor.samp) + \", features: \" + str(minor.feat))\n",
    "print(scores)"
   ]
  },
  {
   "cell_type": "code",
   "execution_count": 19,
   "metadata": {},
   "outputs": [
    {
     "name": "stdout",
     "output_type": "stream",
     "text": [
      "Samples: 1, features: 0.5\n",
      "{'fit_time': array([326.70945597, 328.47471452, 326.34596229, 326.71032429,\n",
      "       327.04601884]), 'score_time': array([70.79618835, 71.21680522, 71.14517403, 69.11581302, 65.8418386 ]), 'test_accuracy': array([0.3867374 , 0.38710533, 0.40196339, 0.49217299, 0.47784558]), 'test_neg_log_loss': array([-2.53810166, -2.47862545, -2.45818872, -2.34341286, -2.30864039]), 'test_neg_mean_squared_error': array([-75.49363395, -75.53409392, -72.07031043, -55.28601751,\n",
      "       -54.17458212]), 'test_roc_auc_ovr': array([0.81146765, 0.83137794, 0.83139789, 0.88372071, 0.88146139]), 'test_f1_weighted': array([0.43869523, 0.44499755, 0.45288991, 0.525556  , 0.51345627]), 'test_precision_weighted': array([0.62449705, 0.62911972, 0.62526292, 0.65123637, 0.62964143]), 'test_recall_weighted': array([0.3867374 , 0.38710533, 0.40196339, 0.49217299, 0.47784558])}\n"
     ]
    }
   ],
   "source": [
    "minor = MinorClassifiers(1, 0.5, 'average', 15)\n",
    "scores = cross_validate(minor, svd_x_train, y_train, cv=5, scoring=('accuracy', 'neg_log_loss', 'neg_mean_squared_error', 'roc_auc_ovr', 'f1_weighted', 'precision_weighted', 'recall_weighted'))\n",
    "print(\"Samples: \" + str(minor.samp) + \", features: \" + str(minor.feat))\n",
    "print(scores)"
   ]
  },
  {
   "cell_type": "code",
   "execution_count": 20,
   "metadata": {},
   "outputs": [
    {
     "name": "stdout",
     "output_type": "stream",
     "text": [
      "Samples: 1, features: 0.5\n",
      "{'fit_time': array([226.11112976, 225.8259151 , 224.49206901, 224.9707346 ,\n",
      "       225.79276156]), 'score_time': array([51.68074703, 52.54196978, 53.29293346, 50.91287112, 48.63521433]), 'test_accuracy': array([0.3066313 , 0.30167153, 0.32926506, 0.40275935, 0.37410454]), 'test_neg_log_loss': array([-2.73903816, -2.7107215 , -2.67694941, -2.55218217, -2.59221587]), 'test_neg_mean_squared_error': array([-81.8198939 , -84.2846909 , -83.62669143, -68.62695675,\n",
      "       -71.05969753]), 'test_roc_auc_ovr': array([0.74987175, 0.76915836, 0.76872375, 0.83451344, 0.8181311 ]), 'test_f1_weighted': array([0.35381774, 0.3581975 , 0.37944302, 0.44759478, 0.40318974]), 'test_precision_weighted': array([0.56969301, 0.57485565, 0.58398694, 0.61060675, 0.58599073]), 'test_recall_weighted': array([0.3066313 , 0.30167153, 0.32926506, 0.40275935, 0.37410454])}\n"
     ]
    }
   ],
   "source": [
    "minor = MinorClassifiers(1, 0.5, 'average', 10)\n",
    "scores = cross_validate(minor, svd_x_train, y_train, cv=5, scoring=('accuracy', 'neg_log_loss', 'neg_mean_squared_error', 'roc_auc_ovr', 'f1_weighted', 'precision_weighted', 'recall_weighted'))\n",
    "print(\"Samples: \" + str(minor.samp) + \", features: \" + str(minor.feat))\n",
    "print(scores)"
   ]
  },
  {
   "cell_type": "code",
   "execution_count": 35,
   "metadata": {},
   "outputs": [
    {
     "name": "stdout",
     "output_type": "stream",
     "text": [
      "Samples: 1, features: 0.5\n",
      "{'fit_time': array([179.82750559, 179.64545727, 183.09334469, 181.48761129,\n",
      "       179.73437428]), 'score_time': array([42.30403495, 43.29808927, 42.61553288, 40.9690814 , 39.6031239 ]), 'test_accuracy': array([0.30450928, 0.29291589, 0.26956752, 0.40063677, 0.38869727]), 'test_neg_log_loss': array([-2.75712741, -2.75287657, -2.78510721, -2.59472639, -2.62628442]), 'test_neg_mean_squared_error': array([-80.79920424, -84.22101353, -86.82196869, -60.27858849,\n",
      "       -64.47598833]), 'test_roc_auc_ovr': array([0.74813251, 0.75229819, 0.74027378, 0.8242897 , 0.81024702]), 'test_f1_weighted': array([0.33371906, 0.33715083, 0.31239475, 0.43189899, 0.41319022]), 'test_precision_weighted': array([0.53747322, 0.54262175, 0.55384802, 0.57525002, 0.56775877]), 'test_recall_weighted': array([0.30450928, 0.29291589, 0.26956752, 0.40063677, 0.38869727])}\n"
     ]
    }
   ],
   "source": [
    "minor = MinorClassifiers(1, 0.5, 'average', 8)\n",
    "scores = cross_validate(minor, svd_x_train, y_train, cv=5, scoring=('accuracy', 'neg_log_loss', 'neg_mean_squared_error', 'roc_auc_ovr', 'f1_weighted', 'precision_weighted', 'recall_weighted'))\n",
    "print(\"Samples: \" + str(minor.samp) + \", features: \" + str(minor.feat))\n",
    "print(scores)"
   ]
  },
  {
   "cell_type": "code",
   "execution_count": 22,
   "metadata": {},
   "outputs": [
    {
     "name": "stdout",
     "output_type": "stream",
     "text": [
      "Samples: 1, features: 0.5\n",
      "{'fit_time': array([144.9206686 , 166.44730639, 166.02456474, 165.11131692,\n",
      "       163.69526696]), 'score_time': array([39.73367906, 39.67960811, 41.04520416, 38.35888076, 37.21409965]), 'test_accuracy': array([0.29469496, 0.26956752, 0.26956752, 0.35791987, 0.36481825]), 'test_neg_log_loss': array([-2.77523933, -2.77462647, -2.84233997, -2.69538992, -2.66544632]), 'test_neg_mean_squared_error': array([-83.50026525, -87.75935261, -86.83841868, -64.85062351,\n",
      "       -68.06155479]), 'test_roc_auc_ovr': array([0.7398455 , 0.74526962, 0.70472902, 0.79057637, 0.79033756]), 'test_f1_weighted': array([0.32864982, 0.31694594, 0.29976518, 0.38750127, 0.38391606]), 'test_precision_weighted': array([0.54722527, 0.52857479, 0.52732321, 0.55805479, 0.52695154]), 'test_recall_weighted': array([0.29469496, 0.26956752, 0.26956752, 0.35791987, 0.36481825])}\n"
     ]
    }
   ],
   "source": [
    "minor = MinorClassifiers(1, 0.5, 'average', 7)\n",
    "scores = cross_validate(minor, svd_x_train, y_train, cv=5, scoring=('accuracy', 'neg_log_loss', 'neg_mean_squared_error', 'roc_auc_ovr', 'f1_weighted', 'precision_weighted', 'recall_weighted'))\n",
    "print(\"Samples: \" + str(minor.samp) + \", features: \" + str(minor.feat))\n",
    "print(scores)"
   ]
  },
  {
   "cell_type": "code",
   "execution_count": 21,
   "metadata": {},
   "outputs": [
    {
     "name": "stdout",
     "output_type": "stream",
     "text": [
      "Samples: 1, features: 0.5\n",
      "{'fit_time': array([124.74233699, 125.53978062, 125.0589819 , 124.47112346,\n",
      "       125.220541  ]), 'score_time': array([31.10384727, 30.41570377, 30.91230941, 30.88739133, 28.72564602]), 'test_accuracy': array([0.24217507, 0.24038206, 0.23374901, 0.31732555, 0.29822234]), 'test_neg_log_loss': array([-2.84723597, -2.84477822, -2.88289271, -2.75462895, -2.80419528]), 'test_neg_mean_squared_error': array([-78.58275862, -89.99548952, -90.70496153, -68.02042982,\n",
      "       -73.32050942]), 'test_roc_auc_ovr': array([0.71107852, 0.71907754, 0.69418005, 0.75087103, 0.7304167 ]), 'test_f1_weighted': array([0.27783853, 0.27036311, 0.25608045, 0.34873363, 0.3141416 ]), 'test_precision_weighted': array([0.50027735, 0.50000302, 0.49370853, 0.53404573, 0.48422591]), 'test_recall_weighted': array([0.24217507, 0.24038206, 0.23374901, 0.31732555, 0.29822234])}\n"
     ]
    }
   ],
   "source": [
    "minor = MinorClassifiers(1, 0.5, 'average', 5)\n",
    "scores = cross_validate(minor, svd_x_train, y_train, cv=5, scoring=('accuracy', 'neg_log_loss', 'neg_mean_squared_error', 'roc_auc_ovr', 'f1_weighted', 'precision_weighted', 'recall_weighted'))\n",
    "print(\"Samples: \" + str(minor.samp) + \", features: \" + str(minor.feat))\n",
    "print(scores)"
   ]
  },
  {
   "cell_type": "code",
   "execution_count": null,
   "metadata": {},
   "outputs": [],
   "source": []
  },
  {
   "cell_type": "code",
   "execution_count": 12,
   "metadata": {},
   "outputs": [],
   "source": [
    "#1 samples, 0.75 features:"
   ]
  },
  {
   "cell_type": "code",
   "execution_count": 13,
   "metadata": {},
   "outputs": [
    {
     "name": "stderr",
     "output_type": "stream",
     "text": [
      "c:\\users\\ania\\appdata\\local\\programs\\python\\python38\\lib\\site-packages\\sklearn\\svm\\_base.py:228: ConvergenceWarning: Solver terminated early (max_iter=90).  Consider pre-processing your data with StandardScaler or MinMaxScaler.\n",
      "  warnings.warn('Solver terminated early (max_iter=%i).'\n",
      "c:\\users\\ania\\appdata\\local\\programs\\python\\python38\\lib\\site-packages\\sklearn\\svm\\_base.py:228: ConvergenceWarning: Solver terminated early (max_iter=90).  Consider pre-processing your data with StandardScaler or MinMaxScaler.\n",
      "  warnings.warn('Solver terminated early (max_iter=%i).'\n",
      "c:\\users\\ania\\appdata\\local\\programs\\python\\python38\\lib\\site-packages\\sklearn\\svm\\_base.py:228: ConvergenceWarning: Solver terminated early (max_iter=90).  Consider pre-processing your data with StandardScaler or MinMaxScaler.\n",
      "  warnings.warn('Solver terminated early (max_iter=%i).'\n",
      "c:\\users\\ania\\appdata\\local\\programs\\python\\python38\\lib\\site-packages\\sklearn\\svm\\_base.py:228: ConvergenceWarning: Solver terminated early (max_iter=90).  Consider pre-processing your data with StandardScaler or MinMaxScaler.\n",
      "  warnings.warn('Solver terminated early (max_iter=%i).'\n",
      "c:\\users\\ania\\appdata\\local\\programs\\python\\python38\\lib\\site-packages\\sklearn\\svm\\_base.py:228: ConvergenceWarning: Solver terminated early (max_iter=90).  Consider pre-processing your data with StandardScaler or MinMaxScaler.\n",
      "  warnings.warn('Solver terminated early (max_iter=%i).'\n",
      "c:\\users\\ania\\appdata\\local\\programs\\python\\python38\\lib\\site-packages\\sklearn\\svm\\_base.py:228: ConvergenceWarning: Solver terminated early (max_iter=90).  Consider pre-processing your data with StandardScaler or MinMaxScaler.\n",
      "  warnings.warn('Solver terminated early (max_iter=%i).'\n",
      "c:\\users\\ania\\appdata\\local\\programs\\python\\python38\\lib\\site-packages\\sklearn\\svm\\_base.py:228: ConvergenceWarning: Solver terminated early (max_iter=90).  Consider pre-processing your data with StandardScaler or MinMaxScaler.\n",
      "  warnings.warn('Solver terminated early (max_iter=%i).'\n",
      "c:\\users\\ania\\appdata\\local\\programs\\python\\python38\\lib\\site-packages\\sklearn\\svm\\_base.py:228: ConvergenceWarning: Solver terminated early (max_iter=90).  Consider pre-processing your data with StandardScaler or MinMaxScaler.\n",
      "  warnings.warn('Solver terminated early (max_iter=%i).'\n",
      "c:\\users\\ania\\appdata\\local\\programs\\python\\python38\\lib\\site-packages\\sklearn\\svm\\_base.py:228: ConvergenceWarning: Solver terminated early (max_iter=90).  Consider pre-processing your data with StandardScaler or MinMaxScaler.\n",
      "  warnings.warn('Solver terminated early (max_iter=%i).'\n",
      "c:\\users\\ania\\appdata\\local\\programs\\python\\python38\\lib\\site-packages\\sklearn\\svm\\_base.py:228: ConvergenceWarning: Solver terminated early (max_iter=90).  Consider pre-processing your data with StandardScaler or MinMaxScaler.\n",
      "  warnings.warn('Solver terminated early (max_iter=%i).'\n",
      "c:\\users\\ania\\appdata\\local\\programs\\python\\python38\\lib\\site-packages\\sklearn\\svm\\_base.py:228: ConvergenceWarning: Solver terminated early (max_iter=90).  Consider pre-processing your data with StandardScaler or MinMaxScaler.\n",
      "  warnings.warn('Solver terminated early (max_iter=%i).'\n",
      "c:\\users\\ania\\appdata\\local\\programs\\python\\python38\\lib\\site-packages\\sklearn\\svm\\_base.py:228: ConvergenceWarning: Solver terminated early (max_iter=90).  Consider pre-processing your data with StandardScaler or MinMaxScaler.\n",
      "  warnings.warn('Solver terminated early (max_iter=%i).'\n",
      "c:\\users\\ania\\appdata\\local\\programs\\python\\python38\\lib\\site-packages\\sklearn\\svm\\_base.py:228: ConvergenceWarning: Solver terminated early (max_iter=90).  Consider pre-processing your data with StandardScaler or MinMaxScaler.\n",
      "  warnings.warn('Solver terminated early (max_iter=%i).'\n",
      "c:\\users\\ania\\appdata\\local\\programs\\python\\python38\\lib\\site-packages\\sklearn\\svm\\_base.py:228: ConvergenceWarning: Solver terminated early (max_iter=90).  Consider pre-processing your data with StandardScaler or MinMaxScaler.\n",
      "  warnings.warn('Solver terminated early (max_iter=%i).'\n",
      "c:\\users\\ania\\appdata\\local\\programs\\python\\python38\\lib\\site-packages\\sklearn\\svm\\_base.py:228: ConvergenceWarning: Solver terminated early (max_iter=90).  Consider pre-processing your data with StandardScaler or MinMaxScaler.\n",
      "  warnings.warn('Solver terminated early (max_iter=%i).'\n",
      "c:\\users\\ania\\appdata\\local\\programs\\python\\python38\\lib\\site-packages\\sklearn\\svm\\_base.py:228: ConvergenceWarning: Solver terminated early (max_iter=90).  Consider pre-processing your data with StandardScaler or MinMaxScaler.\n",
      "  warnings.warn('Solver terminated early (max_iter=%i).'\n",
      "c:\\users\\ania\\appdata\\local\\programs\\python\\python38\\lib\\site-packages\\sklearn\\svm\\_base.py:228: ConvergenceWarning: Solver terminated early (max_iter=90).  Consider pre-processing your data with StandardScaler or MinMaxScaler.\n",
      "  warnings.warn('Solver terminated early (max_iter=%i).'\n",
      "c:\\users\\ania\\appdata\\local\\programs\\python\\python38\\lib\\site-packages\\sklearn\\svm\\_base.py:228: ConvergenceWarning: Solver terminated early (max_iter=90).  Consider pre-processing your data with StandardScaler or MinMaxScaler.\n",
      "  warnings.warn('Solver terminated early (max_iter=%i).'\n",
      "c:\\users\\ania\\appdata\\local\\programs\\python\\python38\\lib\\site-packages\\sklearn\\svm\\_base.py:228: ConvergenceWarning: Solver terminated early (max_iter=90).  Consider pre-processing your data with StandardScaler or MinMaxScaler.\n",
      "  warnings.warn('Solver terminated early (max_iter=%i).'\n",
      "c:\\users\\ania\\appdata\\local\\programs\\python\\python38\\lib\\site-packages\\sklearn\\svm\\_base.py:228: ConvergenceWarning: Solver terminated early (max_iter=90).  Consider pre-processing your data with StandardScaler or MinMaxScaler.\n",
      "  warnings.warn('Solver terminated early (max_iter=%i).'\n",
      "c:\\users\\ania\\appdata\\local\\programs\\python\\python38\\lib\\site-packages\\sklearn\\svm\\_base.py:228: ConvergenceWarning: Solver terminated early (max_iter=90).  Consider pre-processing your data with StandardScaler or MinMaxScaler.\n",
      "  warnings.warn('Solver terminated early (max_iter=%i).'\n",
      "c:\\users\\ania\\appdata\\local\\programs\\python\\python38\\lib\\site-packages\\sklearn\\svm\\_base.py:228: ConvergenceWarning: Solver terminated early (max_iter=90).  Consider pre-processing your data with StandardScaler or MinMaxScaler.\n",
      "  warnings.warn('Solver terminated early (max_iter=%i).'\n",
      "c:\\users\\ania\\appdata\\local\\programs\\python\\python38\\lib\\site-packages\\sklearn\\svm\\_base.py:228: ConvergenceWarning: Solver terminated early (max_iter=90).  Consider pre-processing your data with StandardScaler or MinMaxScaler.\n",
      "  warnings.warn('Solver terminated early (max_iter=%i).'\n",
      "c:\\users\\ania\\appdata\\local\\programs\\python\\python38\\lib\\site-packages\\sklearn\\svm\\_base.py:228: ConvergenceWarning: Solver terminated early (max_iter=90).  Consider pre-processing your data with StandardScaler or MinMaxScaler.\n",
      "  warnings.warn('Solver terminated early (max_iter=%i).'\n",
      "c:\\users\\ania\\appdata\\local\\programs\\python\\python38\\lib\\site-packages\\sklearn\\svm\\_base.py:228: ConvergenceWarning: Solver terminated early (max_iter=90).  Consider pre-processing your data with StandardScaler or MinMaxScaler.\n",
      "  warnings.warn('Solver terminated early (max_iter=%i).'\n",
      "c:\\users\\ania\\appdata\\local\\programs\\python\\python38\\lib\\site-packages\\sklearn\\svm\\_base.py:228: ConvergenceWarning: Solver terminated early (max_iter=90).  Consider pre-processing your data with StandardScaler or MinMaxScaler.\n",
      "  warnings.warn('Solver terminated early (max_iter=%i).'\n",
      "c:\\users\\ania\\appdata\\local\\programs\\python\\python38\\lib\\site-packages\\sklearn\\svm\\_base.py:228: ConvergenceWarning: Solver terminated early (max_iter=90).  Consider pre-processing your data with StandardScaler or MinMaxScaler.\n",
      "  warnings.warn('Solver terminated early (max_iter=%i).'\n",
      "c:\\users\\ania\\appdata\\local\\programs\\python\\python38\\lib\\site-packages\\sklearn\\svm\\_base.py:228: ConvergenceWarning: Solver terminated early (max_iter=90).  Consider pre-processing your data with StandardScaler or MinMaxScaler.\n",
      "  warnings.warn('Solver terminated early (max_iter=%i).'\n",
      "c:\\users\\ania\\appdata\\local\\programs\\python\\python38\\lib\\site-packages\\sklearn\\svm\\_base.py:228: ConvergenceWarning: Solver terminated early (max_iter=90).  Consider pre-processing your data with StandardScaler or MinMaxScaler.\n",
      "  warnings.warn('Solver terminated early (max_iter=%i).'\n"
     ]
    },
    {
     "name": "stderr",
     "output_type": "stream",
     "text": [
      "c:\\users\\ania\\appdata\\local\\programs\\python\\python38\\lib\\site-packages\\sklearn\\svm\\_base.py:228: ConvergenceWarning: Solver terminated early (max_iter=90).  Consider pre-processing your data with StandardScaler or MinMaxScaler.\n",
      "  warnings.warn('Solver terminated early (max_iter=%i).'\n",
      "c:\\users\\ania\\appdata\\local\\programs\\python\\python38\\lib\\site-packages\\sklearn\\svm\\_base.py:228: ConvergenceWarning: Solver terminated early (max_iter=90).  Consider pre-processing your data with StandardScaler or MinMaxScaler.\n",
      "  warnings.warn('Solver terminated early (max_iter=%i).'\n",
      "c:\\users\\ania\\appdata\\local\\programs\\python\\python38\\lib\\site-packages\\sklearn\\svm\\_base.py:228: ConvergenceWarning: Solver terminated early (max_iter=90).  Consider pre-processing your data with StandardScaler or MinMaxScaler.\n",
      "  warnings.warn('Solver terminated early (max_iter=%i).'\n",
      "c:\\users\\ania\\appdata\\local\\programs\\python\\python38\\lib\\site-packages\\sklearn\\svm\\_base.py:228: ConvergenceWarning: Solver terminated early (max_iter=90).  Consider pre-processing your data with StandardScaler or MinMaxScaler.\n",
      "  warnings.warn('Solver terminated early (max_iter=%i).'\n",
      "c:\\users\\ania\\appdata\\local\\programs\\python\\python38\\lib\\site-packages\\sklearn\\svm\\_base.py:228: ConvergenceWarning: Solver terminated early (max_iter=90).  Consider pre-processing your data with StandardScaler or MinMaxScaler.\n",
      "  warnings.warn('Solver terminated early (max_iter=%i).'\n",
      "c:\\users\\ania\\appdata\\local\\programs\\python\\python38\\lib\\site-packages\\sklearn\\svm\\_base.py:228: ConvergenceWarning: Solver terminated early (max_iter=90).  Consider pre-processing your data with StandardScaler or MinMaxScaler.\n",
      "  warnings.warn('Solver terminated early (max_iter=%i).'\n",
      "c:\\users\\ania\\appdata\\local\\programs\\python\\python38\\lib\\site-packages\\sklearn\\svm\\_base.py:228: ConvergenceWarning: Solver terminated early (max_iter=90).  Consider pre-processing your data with StandardScaler or MinMaxScaler.\n",
      "  warnings.warn('Solver terminated early (max_iter=%i).'\n",
      "c:\\users\\ania\\appdata\\local\\programs\\python\\python38\\lib\\site-packages\\sklearn\\svm\\_base.py:228: ConvergenceWarning: Solver terminated early (max_iter=90).  Consider pre-processing your data with StandardScaler or MinMaxScaler.\n",
      "  warnings.warn('Solver terminated early (max_iter=%i).'\n",
      "c:\\users\\ania\\appdata\\local\\programs\\python\\python38\\lib\\site-packages\\sklearn\\svm\\_base.py:228: ConvergenceWarning: Solver terminated early (max_iter=90).  Consider pre-processing your data with StandardScaler or MinMaxScaler.\n",
      "  warnings.warn('Solver terminated early (max_iter=%i).'\n",
      "c:\\users\\ania\\appdata\\local\\programs\\python\\python38\\lib\\site-packages\\sklearn\\svm\\_base.py:228: ConvergenceWarning: Solver terminated early (max_iter=90).  Consider pre-processing your data with StandardScaler or MinMaxScaler.\n",
      "  warnings.warn('Solver terminated early (max_iter=%i).'\n",
      "c:\\users\\ania\\appdata\\local\\programs\\python\\python38\\lib\\site-packages\\sklearn\\svm\\_base.py:228: ConvergenceWarning: Solver terminated early (max_iter=90).  Consider pre-processing your data with StandardScaler or MinMaxScaler.\n",
      "  warnings.warn('Solver terminated early (max_iter=%i).'\n",
      "c:\\users\\ania\\appdata\\local\\programs\\python\\python38\\lib\\site-packages\\sklearn\\svm\\_base.py:228: ConvergenceWarning: Solver terminated early (max_iter=90).  Consider pre-processing your data with StandardScaler or MinMaxScaler.\n",
      "  warnings.warn('Solver terminated early (max_iter=%i).'\n",
      "c:\\users\\ania\\appdata\\local\\programs\\python\\python38\\lib\\site-packages\\sklearn\\svm\\_base.py:228: ConvergenceWarning: Solver terminated early (max_iter=90).  Consider pre-processing your data with StandardScaler or MinMaxScaler.\n",
      "  warnings.warn('Solver terminated early (max_iter=%i).'\n",
      "c:\\users\\ania\\appdata\\local\\programs\\python\\python38\\lib\\site-packages\\sklearn\\svm\\_base.py:228: ConvergenceWarning: Solver terminated early (max_iter=90).  Consider pre-processing your data with StandardScaler or MinMaxScaler.\n",
      "  warnings.warn('Solver terminated early (max_iter=%i).'\n",
      "c:\\users\\ania\\appdata\\local\\programs\\python\\python38\\lib\\site-packages\\sklearn\\svm\\_base.py:228: ConvergenceWarning: Solver terminated early (max_iter=90).  Consider pre-processing your data with StandardScaler or MinMaxScaler.\n",
      "  warnings.warn('Solver terminated early (max_iter=%i).'\n",
      "c:\\users\\ania\\appdata\\local\\programs\\python\\python38\\lib\\site-packages\\sklearn\\svm\\_base.py:228: ConvergenceWarning: Solver terminated early (max_iter=90).  Consider pre-processing your data with StandardScaler or MinMaxScaler.\n",
      "  warnings.warn('Solver terminated early (max_iter=%i).'\n",
      "c:\\users\\ania\\appdata\\local\\programs\\python\\python38\\lib\\site-packages\\sklearn\\svm\\_base.py:228: ConvergenceWarning: Solver terminated early (max_iter=90).  Consider pre-processing your data with StandardScaler or MinMaxScaler.\n",
      "  warnings.warn('Solver terminated early (max_iter=%i).'\n",
      "c:\\users\\ania\\appdata\\local\\programs\\python\\python38\\lib\\site-packages\\sklearn\\svm\\_base.py:228: ConvergenceWarning: Solver terminated early (max_iter=90).  Consider pre-processing your data with StandardScaler or MinMaxScaler.\n",
      "  warnings.warn('Solver terminated early (max_iter=%i).'\n",
      "c:\\users\\ania\\appdata\\local\\programs\\python\\python38\\lib\\site-packages\\sklearn\\svm\\_base.py:228: ConvergenceWarning: Solver terminated early (max_iter=90).  Consider pre-processing your data with StandardScaler or MinMaxScaler.\n",
      "  warnings.warn('Solver terminated early (max_iter=%i).'\n",
      "c:\\users\\ania\\appdata\\local\\programs\\python\\python38\\lib\\site-packages\\sklearn\\svm\\_base.py:228: ConvergenceWarning: Solver terminated early (max_iter=90).  Consider pre-processing your data with StandardScaler or MinMaxScaler.\n",
      "  warnings.warn('Solver terminated early (max_iter=%i).'\n",
      "c:\\users\\ania\\appdata\\local\\programs\\python\\python38\\lib\\site-packages\\sklearn\\svm\\_base.py:228: ConvergenceWarning: Solver terminated early (max_iter=90).  Consider pre-processing your data with StandardScaler or MinMaxScaler.\n",
      "  warnings.warn('Solver terminated early (max_iter=%i).'\n"
     ]
    },
    {
     "name": "stdout",
     "output_type": "stream",
     "text": [
      "Samples: 1, features: 0.75\n",
      "{'fit_time': array([2485.14245701, 2758.41878104, 2711.00652432, 2683.37046051,\n",
      "       2689.85736632]), 'score_time': array([394.5682354 , 382.81458092, 375.632231  , 372.23697329,\n",
      "       368.3742907 ]), 'test_accuracy': array([0.83209549, 0.82647917, 0.8161316 , 0.77500663, 0.77155744]), 'test_neg_log_loss': array([-0.86158139, -0.86407565, -0.85664187, -0.8522871 , -0.90533991]), 'test_neg_mean_squared_error': array([-10.41432361, -10.94560891, -10.87980897, -17.62058902,\n",
      "       -16.99310162]), 'test_roc_auc_ovr': array([0.98883854, 0.9885634 , 0.98815734, 0.98549664, 0.98582243]), 'test_f1_weighted': array([0.83422692, 0.82658692, 0.81608649, 0.78283122, 0.78042286]), 'test_precision_weighted': array([0.84998284, 0.84351768, 0.83656139, 0.82085289, 0.82533265]), 'test_recall_weighted': array([0.83209549, 0.82647917, 0.8161316 , 0.77500663, 0.77155744])}\n"
     ]
    }
   ],
   "source": [
    "minor = MinorClassifiers(1, 0.75, 'average', 90)\n",
    "scores = cross_validate(minor, svd_x_train, y_train, cv=5, scoring=('accuracy', 'neg_log_loss', 'neg_mean_squared_error', 'roc_auc_ovr', 'f1_weighted', 'precision_weighted', 'recall_weighted'))\n",
    "print(\"Samples: \" + str(minor.samp) + \", features: \" + str(minor.feat))\n",
    "print(scores)"
   ]
  },
  {
   "cell_type": "code",
   "execution_count": 14,
   "metadata": {},
   "outputs": [
    {
     "name": "stderr",
     "output_type": "stream",
     "text": [
      "c:\\users\\ania\\appdata\\local\\programs\\python\\python38\\lib\\site-packages\\sklearn\\svm\\_base.py:228: ConvergenceWarning: Solver terminated early (max_iter=60).  Consider pre-processing your data with StandardScaler or MinMaxScaler.\n",
      "  warnings.warn('Solver terminated early (max_iter=%i).'\n",
      "c:\\users\\ania\\appdata\\local\\programs\\python\\python38\\lib\\site-packages\\sklearn\\svm\\_base.py:228: ConvergenceWarning: Solver terminated early (max_iter=60).  Consider pre-processing your data with StandardScaler or MinMaxScaler.\n",
      "  warnings.warn('Solver terminated early (max_iter=%i).'\n",
      "c:\\users\\ania\\appdata\\local\\programs\\python\\python38\\lib\\site-packages\\sklearn\\svm\\_base.py:228: ConvergenceWarning: Solver terminated early (max_iter=60).  Consider pre-processing your data with StandardScaler or MinMaxScaler.\n",
      "  warnings.warn('Solver terminated early (max_iter=%i).'\n",
      "c:\\users\\ania\\appdata\\local\\programs\\python\\python38\\lib\\site-packages\\sklearn\\svm\\_base.py:228: ConvergenceWarning: Solver terminated early (max_iter=60).  Consider pre-processing your data with StandardScaler or MinMaxScaler.\n",
      "  warnings.warn('Solver terminated early (max_iter=%i).'\n",
      "c:\\users\\ania\\appdata\\local\\programs\\python\\python38\\lib\\site-packages\\sklearn\\svm\\_base.py:228: ConvergenceWarning: Solver terminated early (max_iter=60).  Consider pre-processing your data with StandardScaler or MinMaxScaler.\n",
      "  warnings.warn('Solver terminated early (max_iter=%i).'\n",
      "c:\\users\\ania\\appdata\\local\\programs\\python\\python38\\lib\\site-packages\\sklearn\\svm\\_base.py:228: ConvergenceWarning: Solver terminated early (max_iter=60).  Consider pre-processing your data with StandardScaler or MinMaxScaler.\n",
      "  warnings.warn('Solver terminated early (max_iter=%i).'\n",
      "c:\\users\\ania\\appdata\\local\\programs\\python\\python38\\lib\\site-packages\\sklearn\\svm\\_base.py:228: ConvergenceWarning: Solver terminated early (max_iter=60).  Consider pre-processing your data with StandardScaler or MinMaxScaler.\n",
      "  warnings.warn('Solver terminated early (max_iter=%i).'\n",
      "c:\\users\\ania\\appdata\\local\\programs\\python\\python38\\lib\\site-packages\\sklearn\\svm\\_base.py:228: ConvergenceWarning: Solver terminated early (max_iter=60).  Consider pre-processing your data with StandardScaler or MinMaxScaler.\n",
      "  warnings.warn('Solver terminated early (max_iter=%i).'\n",
      "c:\\users\\ania\\appdata\\local\\programs\\python\\python38\\lib\\site-packages\\sklearn\\svm\\_base.py:228: ConvergenceWarning: Solver terminated early (max_iter=60).  Consider pre-processing your data with StandardScaler or MinMaxScaler.\n",
      "  warnings.warn('Solver terminated early (max_iter=%i).'\n",
      "c:\\users\\ania\\appdata\\local\\programs\\python\\python38\\lib\\site-packages\\sklearn\\svm\\_base.py:228: ConvergenceWarning: Solver terminated early (max_iter=60).  Consider pre-processing your data with StandardScaler or MinMaxScaler.\n",
      "  warnings.warn('Solver terminated early (max_iter=%i).'\n",
      "c:\\users\\ania\\appdata\\local\\programs\\python\\python38\\lib\\site-packages\\sklearn\\svm\\_base.py:228: ConvergenceWarning: Solver terminated early (max_iter=60).  Consider pre-processing your data with StandardScaler or MinMaxScaler.\n",
      "  warnings.warn('Solver terminated early (max_iter=%i).'\n",
      "c:\\users\\ania\\appdata\\local\\programs\\python\\python38\\lib\\site-packages\\sklearn\\svm\\_base.py:228: ConvergenceWarning: Solver terminated early (max_iter=60).  Consider pre-processing your data with StandardScaler or MinMaxScaler.\n",
      "  warnings.warn('Solver terminated early (max_iter=%i).'\n",
      "c:\\users\\ania\\appdata\\local\\programs\\python\\python38\\lib\\site-packages\\sklearn\\svm\\_base.py:228: ConvergenceWarning: Solver terminated early (max_iter=60).  Consider pre-processing your data with StandardScaler or MinMaxScaler.\n",
      "  warnings.warn('Solver terminated early (max_iter=%i).'\n",
      "c:\\users\\ania\\appdata\\local\\programs\\python\\python38\\lib\\site-packages\\sklearn\\svm\\_base.py:228: ConvergenceWarning: Solver terminated early (max_iter=60).  Consider pre-processing your data with StandardScaler or MinMaxScaler.\n",
      "  warnings.warn('Solver terminated early (max_iter=%i).'\n",
      "c:\\users\\ania\\appdata\\local\\programs\\python\\python38\\lib\\site-packages\\sklearn\\svm\\_base.py:228: ConvergenceWarning: Solver terminated early (max_iter=60).  Consider pre-processing your data with StandardScaler or MinMaxScaler.\n",
      "  warnings.warn('Solver terminated early (max_iter=%i).'\n",
      "c:\\users\\ania\\appdata\\local\\programs\\python\\python38\\lib\\site-packages\\sklearn\\svm\\_base.py:228: ConvergenceWarning: Solver terminated early (max_iter=60).  Consider pre-processing your data with StandardScaler or MinMaxScaler.\n",
      "  warnings.warn('Solver terminated early (max_iter=%i).'\n",
      "c:\\users\\ania\\appdata\\local\\programs\\python\\python38\\lib\\site-packages\\sklearn\\svm\\_base.py:228: ConvergenceWarning: Solver terminated early (max_iter=60).  Consider pre-processing your data with StandardScaler or MinMaxScaler.\n",
      "  warnings.warn('Solver terminated early (max_iter=%i).'\n",
      "c:\\users\\ania\\appdata\\local\\programs\\python\\python38\\lib\\site-packages\\sklearn\\svm\\_base.py:228: ConvergenceWarning: Solver terminated early (max_iter=60).  Consider pre-processing your data with StandardScaler or MinMaxScaler.\n",
      "  warnings.warn('Solver terminated early (max_iter=%i).'\n",
      "c:\\users\\ania\\appdata\\local\\programs\\python\\python38\\lib\\site-packages\\sklearn\\svm\\_base.py:228: ConvergenceWarning: Solver terminated early (max_iter=60).  Consider pre-processing your data with StandardScaler or MinMaxScaler.\n",
      "  warnings.warn('Solver terminated early (max_iter=%i).'\n",
      "c:\\users\\ania\\appdata\\local\\programs\\python\\python38\\lib\\site-packages\\sklearn\\svm\\_base.py:228: ConvergenceWarning: Solver terminated early (max_iter=60).  Consider pre-processing your data with StandardScaler or MinMaxScaler.\n",
      "  warnings.warn('Solver terminated early (max_iter=%i).'\n",
      "c:\\users\\ania\\appdata\\local\\programs\\python\\python38\\lib\\site-packages\\sklearn\\svm\\_base.py:228: ConvergenceWarning: Solver terminated early (max_iter=60).  Consider pre-processing your data with StandardScaler or MinMaxScaler.\n",
      "  warnings.warn('Solver terminated early (max_iter=%i).'\n",
      "c:\\users\\ania\\appdata\\local\\programs\\python\\python38\\lib\\site-packages\\sklearn\\svm\\_base.py:228: ConvergenceWarning: Solver terminated early (max_iter=60).  Consider pre-processing your data with StandardScaler or MinMaxScaler.\n",
      "  warnings.warn('Solver terminated early (max_iter=%i).'\n",
      "c:\\users\\ania\\appdata\\local\\programs\\python\\python38\\lib\\site-packages\\sklearn\\svm\\_base.py:228: ConvergenceWarning: Solver terminated early (max_iter=60).  Consider pre-processing your data with StandardScaler or MinMaxScaler.\n",
      "  warnings.warn('Solver terminated early (max_iter=%i).'\n",
      "c:\\users\\ania\\appdata\\local\\programs\\python\\python38\\lib\\site-packages\\sklearn\\svm\\_base.py:228: ConvergenceWarning: Solver terminated early (max_iter=60).  Consider pre-processing your data with StandardScaler or MinMaxScaler.\n",
      "  warnings.warn('Solver terminated early (max_iter=%i).'\n",
      "c:\\users\\ania\\appdata\\local\\programs\\python\\python38\\lib\\site-packages\\sklearn\\svm\\_base.py:228: ConvergenceWarning: Solver terminated early (max_iter=60).  Consider pre-processing your data with StandardScaler or MinMaxScaler.\n",
      "  warnings.warn('Solver terminated early (max_iter=%i).'\n",
      "c:\\users\\ania\\appdata\\local\\programs\\python\\python38\\lib\\site-packages\\sklearn\\svm\\_base.py:228: ConvergenceWarning: Solver terminated early (max_iter=60).  Consider pre-processing your data with StandardScaler or MinMaxScaler.\n",
      "  warnings.warn('Solver terminated early (max_iter=%i).'\n",
      "c:\\users\\ania\\appdata\\local\\programs\\python\\python38\\lib\\site-packages\\sklearn\\svm\\_base.py:228: ConvergenceWarning: Solver terminated early (max_iter=60).  Consider pre-processing your data with StandardScaler or MinMaxScaler.\n",
      "  warnings.warn('Solver terminated early (max_iter=%i).'\n",
      "c:\\users\\ania\\appdata\\local\\programs\\python\\python38\\lib\\site-packages\\sklearn\\svm\\_base.py:228: ConvergenceWarning: Solver terminated early (max_iter=60).  Consider pre-processing your data with StandardScaler or MinMaxScaler.\n",
      "  warnings.warn('Solver terminated early (max_iter=%i).'\n",
      "c:\\users\\ania\\appdata\\local\\programs\\python\\python38\\lib\\site-packages\\sklearn\\svm\\_base.py:228: ConvergenceWarning: Solver terminated early (max_iter=60).  Consider pre-processing your data with StandardScaler or MinMaxScaler.\n",
      "  warnings.warn('Solver terminated early (max_iter=%i).'\n"
     ]
    },
    {
     "name": "stderr",
     "output_type": "stream",
     "text": [
      "c:\\users\\ania\\appdata\\local\\programs\\python\\python38\\lib\\site-packages\\sklearn\\svm\\_base.py:228: ConvergenceWarning: Solver terminated early (max_iter=60).  Consider pre-processing your data with StandardScaler or MinMaxScaler.\n",
      "  warnings.warn('Solver terminated early (max_iter=%i).'\n",
      "c:\\users\\ania\\appdata\\local\\programs\\python\\python38\\lib\\site-packages\\sklearn\\svm\\_base.py:228: ConvergenceWarning: Solver terminated early (max_iter=60).  Consider pre-processing your data with StandardScaler or MinMaxScaler.\n",
      "  warnings.warn('Solver terminated early (max_iter=%i).'\n",
      "c:\\users\\ania\\appdata\\local\\programs\\python\\python38\\lib\\site-packages\\sklearn\\svm\\_base.py:228: ConvergenceWarning: Solver terminated early (max_iter=60).  Consider pre-processing your data with StandardScaler or MinMaxScaler.\n",
      "  warnings.warn('Solver terminated early (max_iter=%i).'\n",
      "c:\\users\\ania\\appdata\\local\\programs\\python\\python38\\lib\\site-packages\\sklearn\\svm\\_base.py:228: ConvergenceWarning: Solver terminated early (max_iter=60).  Consider pre-processing your data with StandardScaler or MinMaxScaler.\n",
      "  warnings.warn('Solver terminated early (max_iter=%i).'\n",
      "c:\\users\\ania\\appdata\\local\\programs\\python\\python38\\lib\\site-packages\\sklearn\\svm\\_base.py:228: ConvergenceWarning: Solver terminated early (max_iter=60).  Consider pre-processing your data with StandardScaler or MinMaxScaler.\n",
      "  warnings.warn('Solver terminated early (max_iter=%i).'\n",
      "c:\\users\\ania\\appdata\\local\\programs\\python\\python38\\lib\\site-packages\\sklearn\\svm\\_base.py:228: ConvergenceWarning: Solver terminated early (max_iter=60).  Consider pre-processing your data with StandardScaler or MinMaxScaler.\n",
      "  warnings.warn('Solver terminated early (max_iter=%i).'\n",
      "c:\\users\\ania\\appdata\\local\\programs\\python\\python38\\lib\\site-packages\\sklearn\\svm\\_base.py:228: ConvergenceWarning: Solver terminated early (max_iter=60).  Consider pre-processing your data with StandardScaler or MinMaxScaler.\n",
      "  warnings.warn('Solver terminated early (max_iter=%i).'\n",
      "c:\\users\\ania\\appdata\\local\\programs\\python\\python38\\lib\\site-packages\\sklearn\\svm\\_base.py:228: ConvergenceWarning: Solver terminated early (max_iter=60).  Consider pre-processing your data with StandardScaler or MinMaxScaler.\n",
      "  warnings.warn('Solver terminated early (max_iter=%i).'\n",
      "c:\\users\\ania\\appdata\\local\\programs\\python\\python38\\lib\\site-packages\\sklearn\\svm\\_base.py:228: ConvergenceWarning: Solver terminated early (max_iter=60).  Consider pre-processing your data with StandardScaler or MinMaxScaler.\n",
      "  warnings.warn('Solver terminated early (max_iter=%i).'\n",
      "c:\\users\\ania\\appdata\\local\\programs\\python\\python38\\lib\\site-packages\\sklearn\\svm\\_base.py:228: ConvergenceWarning: Solver terminated early (max_iter=60).  Consider pre-processing your data with StandardScaler or MinMaxScaler.\n",
      "  warnings.warn('Solver terminated early (max_iter=%i).'\n",
      "c:\\users\\ania\\appdata\\local\\programs\\python\\python38\\lib\\site-packages\\sklearn\\svm\\_base.py:228: ConvergenceWarning: Solver terminated early (max_iter=60).  Consider pre-processing your data with StandardScaler or MinMaxScaler.\n",
      "  warnings.warn('Solver terminated early (max_iter=%i).'\n",
      "c:\\users\\ania\\appdata\\local\\programs\\python\\python38\\lib\\site-packages\\sklearn\\svm\\_base.py:228: ConvergenceWarning: Solver terminated early (max_iter=60).  Consider pre-processing your data with StandardScaler or MinMaxScaler.\n",
      "  warnings.warn('Solver terminated early (max_iter=%i).'\n",
      "c:\\users\\ania\\appdata\\local\\programs\\python\\python38\\lib\\site-packages\\sklearn\\svm\\_base.py:228: ConvergenceWarning: Solver terminated early (max_iter=60).  Consider pre-processing your data with StandardScaler or MinMaxScaler.\n",
      "  warnings.warn('Solver terminated early (max_iter=%i).'\n",
      "c:\\users\\ania\\appdata\\local\\programs\\python\\python38\\lib\\site-packages\\sklearn\\svm\\_base.py:228: ConvergenceWarning: Solver terminated early (max_iter=60).  Consider pre-processing your data with StandardScaler or MinMaxScaler.\n",
      "  warnings.warn('Solver terminated early (max_iter=%i).'\n",
      "c:\\users\\ania\\appdata\\local\\programs\\python\\python38\\lib\\site-packages\\sklearn\\svm\\_base.py:228: ConvergenceWarning: Solver terminated early (max_iter=60).  Consider pre-processing your data with StandardScaler or MinMaxScaler.\n",
      "  warnings.warn('Solver terminated early (max_iter=%i).'\n",
      "c:\\users\\ania\\appdata\\local\\programs\\python\\python38\\lib\\site-packages\\sklearn\\svm\\_base.py:228: ConvergenceWarning: Solver terminated early (max_iter=60).  Consider pre-processing your data with StandardScaler or MinMaxScaler.\n",
      "  warnings.warn('Solver terminated early (max_iter=%i).'\n",
      "c:\\users\\ania\\appdata\\local\\programs\\python\\python38\\lib\\site-packages\\sklearn\\svm\\_base.py:228: ConvergenceWarning: Solver terminated early (max_iter=60).  Consider pre-processing your data with StandardScaler or MinMaxScaler.\n",
      "  warnings.warn('Solver terminated early (max_iter=%i).'\n",
      "c:\\users\\ania\\appdata\\local\\programs\\python\\python38\\lib\\site-packages\\sklearn\\svm\\_base.py:228: ConvergenceWarning: Solver terminated early (max_iter=60).  Consider pre-processing your data with StandardScaler or MinMaxScaler.\n",
      "  warnings.warn('Solver terminated early (max_iter=%i).'\n",
      "c:\\users\\ania\\appdata\\local\\programs\\python\\python38\\lib\\site-packages\\sklearn\\svm\\_base.py:228: ConvergenceWarning: Solver terminated early (max_iter=60).  Consider pre-processing your data with StandardScaler or MinMaxScaler.\n",
      "  warnings.warn('Solver terminated early (max_iter=%i).'\n",
      "c:\\users\\ania\\appdata\\local\\programs\\python\\python38\\lib\\site-packages\\sklearn\\svm\\_base.py:228: ConvergenceWarning: Solver terminated early (max_iter=60).  Consider pre-processing your data with StandardScaler or MinMaxScaler.\n",
      "  warnings.warn('Solver terminated early (max_iter=%i).'\n",
      "c:\\users\\ania\\appdata\\local\\programs\\python\\python38\\lib\\site-packages\\sklearn\\svm\\_base.py:228: ConvergenceWarning: Solver terminated early (max_iter=60).  Consider pre-processing your data with StandardScaler or MinMaxScaler.\n",
      "  warnings.warn('Solver terminated early (max_iter=%i).'\n"
     ]
    },
    {
     "name": "stdout",
     "output_type": "stream",
     "text": [
      "Samples: 1, features: 0.75\n",
      "{'fit_time': array([1798.53538442, 1795.19978571, 1792.9759295 , 1775.52126813,\n",
      "       1770.79345608]), 'score_time': array([304.51403308, 302.0528996 , 303.0304215 , 292.75853252,\n",
      "       292.95642781]), 'test_accuracy': array([0.77559682, 0.77925179, 0.7959671 , 0.71849297, 0.72433006]), 'test_neg_log_loss': array([-1.17758077, -1.14233697, -1.1032391 , -1.10648095, -1.11728439]), 'test_neg_mean_squared_error': array([-17.29124668, -16.16954099, -13.27009817, -23.20960467,\n",
      "       -22.81958079]), 'test_roc_auc_ovr': array([0.98157503, 0.98105266, 0.9824414 , 0.98008731, 0.9801664 ]), 'test_f1_weighted': array([0.78280657, 0.78250286, 0.79707945, 0.73499423, 0.74104467]), 'test_precision_weighted': array([0.81143356, 0.803716  , 0.81320486, 0.79746926, 0.80725358]), 'test_recall_weighted': array([0.77559682, 0.77925179, 0.7959671 , 0.71849297, 0.72433006])}\n"
     ]
    }
   ],
   "source": [
    "minor = MinorClassifiers(1, 0.75, 'average', 60)\n",
    "scores = cross_validate(minor, svd_x_train, y_train, cv=5, scoring=('accuracy', 'neg_log_loss', 'neg_mean_squared_error', 'roc_auc_ovr', 'f1_weighted', 'precision_weighted', 'recall_weighted'))\n",
    "print(\"Samples: \" + str(minor.samp) + \", features: \" + str(minor.feat))\n",
    "print(scores)"
   ]
  },
  {
   "cell_type": "code",
   "execution_count": 20,
   "metadata": {},
   "outputs": [
    {
     "name": "stdout",
     "output_type": "stream",
     "text": [
      "Samples: 1, features: 0.75\n",
      "{'fit_time': array([1486.54743075, 1495.73224521, 1462.87799549, 1450.93219233,\n",
      "       1448.83346605]), 'score_time': array([270.70446253, 265.74816632, 259.24521017, 253.44904351,\n",
      "       251.96427417]), 'test_accuracy': array([0.76366048, 0.75908729, 0.76253648, 0.70416556, 0.69010348]), 'test_neg_log_loss': array([-1.25750628, -1.27983697, -1.27009179, -1.24468553, -1.27804606]), 'test_neg_mean_squared_error': array([-17.31803714, -18.13982489, -17.96258955, -25.83788803,\n",
      "       -28.10188379]), 'test_roc_auc_ovr': array([0.97631771, 0.97516494, 0.97572528, 0.97713241, 0.97558291]), 'test_f1_weighted': array([0.76706233, 0.76204539, 0.76572782, 0.72114488, 0.71397396]), 'test_precision_weighted': array([0.78430217, 0.78166589, 0.78380924, 0.78609726, 0.79884003]), 'test_recall_weighted': array([0.76366048, 0.75908729, 0.76253648, 0.70416556, 0.69010348])}\n"
     ]
    }
   ],
   "source": [
    "minor = MinorClassifiers(1, 0.75, 'average', 50)\n",
    "scores = cross_validate(minor, svd_x_train, y_train, cv=5, scoring=('accuracy', 'neg_log_loss', 'neg_mean_squared_error', 'roc_auc_ovr', 'f1_weighted', 'precision_weighted', 'recall_weighted'))\n",
    "print(\"Samples: \" + str(minor.samp) + \", features: \" + str(minor.feat))\n",
    "print(scores)"
   ]
  },
  {
   "cell_type": "code",
   "execution_count": 21,
   "metadata": {},
   "outputs": [
    {
     "name": "stdout",
     "output_type": "stream",
     "text": [
      "Samples: 1, features: 0.75\n",
      "{'fit_time': array([885.26541567, 889.15791965, 884.92542577, 889.24983311,\n",
      "       880.40921855]), 'score_time': array([178.69811726, 177.98836684, 178.55145884, 171.64732289,\n",
      "       173.1729157 ]), 'test_accuracy': array([0.6403183 , 0.61581321, 0.62695675, 0.59538339, 0.62191563]), 'test_neg_log_loss': array([-1.69700025, -1.74256022, -1.72107563, -1.69499423, -1.61304476]), 'test_neg_mean_squared_error': array([-36.80901857, -40.05757495, -39.10002653, -41.71106394,\n",
      "       -36.23985142]), 'test_roc_auc_ovr': array([0.93922891, 0.93801613, 0.93805882, 0.95460766, 0.95775476]), 'test_f1_weighted': array([0.65798986, 0.64189717, 0.64471948, 0.63211537, 0.65030909]), 'test_precision_weighted': array([0.71028783, 0.71324241, 0.70364226, 0.73442613, 0.73210802]), 'test_recall_weighted': array([0.6403183 , 0.61581321, 0.62695675, 0.59538339, 0.62191563])}\n"
     ]
    }
   ],
   "source": [
    "minor = MinorClassifiers(1, 0.75, 'average', 30)\n",
    "scores = cross_validate(minor, svd_x_train, y_train, cv=5, scoring=('accuracy', 'neg_log_loss', 'neg_mean_squared_error', 'roc_auc_ovr', 'f1_weighted', 'precision_weighted', 'recall_weighted'))\n",
    "print(\"Samples: \" + str(minor.samp) + \", features: \" + str(minor.feat))\n",
    "print(scores)"
   ]
  },
  {
   "cell_type": "code",
   "execution_count": 22,
   "metadata": {},
   "outputs": [
    {
     "name": "stdout",
     "output_type": "stream",
     "text": [
      "Samples: 1, features: 0.75\n",
      "{'fit_time': array([605.34411168, 601.07349539, 603.72115779, 606.40535784,\n",
      "       601.88770676]), 'score_time': array([129.9835999 , 128.09197903, 128.76151109, 123.91972136,\n",
      "       121.82814431]), 'test_accuracy': array([0.5071618 , 0.47121252, 0.49907137, 0.51339878, 0.50782701]), 'test_neg_log_loss': array([-2.10747964, -2.1732108 , -2.1535978 , -2.03975202, -2.01506029]), 'test_neg_mean_squared_error': array([-55.82281167, -61.1992571 , -58.80790661, -52.22791191,\n",
      "       -52.93844521]), 'test_roc_auc_ovr': array([0.88685735, 0.87970082, 0.87715391, 0.92408112, 0.92029032]), 'test_f1_weighted': array([0.54406733, 0.51699539, 0.53567016, 0.55393252, 0.54884971]), 'test_precision_weighted': array([0.65019913, 0.65703101, 0.6596353 , 0.68796526, 0.67665781]), 'test_recall_weighted': array([0.5071618 , 0.47121252, 0.49907137, 0.51339878, 0.50782701])}\n"
     ]
    }
   ],
   "source": [
    "minor = MinorClassifiers(1, 0.75, 'average', 20)\n",
    "scores = cross_validate(minor, svd_x_train, y_train, cv=5, scoring=('accuracy', 'neg_log_loss', 'neg_mean_squared_error', 'roc_auc_ovr', 'f1_weighted', 'precision_weighted', 'recall_weighted'))\n",
    "print(\"Samples: \" + str(minor.samp) + \", features: \" + str(minor.feat))\n",
    "print(scores)"
   ]
  },
  {
   "cell_type": "code",
   "execution_count": 30,
   "metadata": {},
   "outputs": [
    {
     "name": "stdout",
     "output_type": "stream",
     "text": [
      "Samples: 1, features: 0.75\n",
      "{'fit_time': array([543.2848134 , 542.75682473, 545.0330205 , 543.90491152,\n",
      "       544.73181605]), 'score_time': array([116.60086894, 114.68820333, 116.33433199, 115.2073648 ,\n",
      "       109.53170824]), 'test_accuracy': array([0.47427056, 0.4460069 , 0.46166092, 0.49986734, 0.46908994]), 'test_neg_log_loss': array([-2.1958687 , -2.24638702, -2.24491859, -2.09166133, -2.16360361]), 'test_neg_mean_squared_error': array([-60.82281167, -66.05253383, -62.43565933, -55.53356328,\n",
      "       -60.0628814 ]), 'test_roc_auc_ovr': array([0.87283345, 0.86794023, 0.86200725, 0.91351472, 0.90002562]), 'test_f1_weighted': array([0.52055165, 0.49776334, 0.50178686, 0.54129777, 0.51213135]), 'test_precision_weighted': array([0.65198465, 0.64723404, 0.64109106, 0.67440219, 0.65932564]), 'test_recall_weighted': array([0.47427056, 0.4460069 , 0.46166092, 0.49986734, 0.46908994])}\n"
     ]
    }
   ],
   "source": [
    "minor = MinorClassifiers(1, 0.75, 'average', 18)\n",
    "scores = cross_validate(minor, svd_x_train, y_train, cv=5, scoring=('accuracy', 'neg_log_loss', 'neg_mean_squared_error', 'roc_auc_ovr', 'f1_weighted', 'precision_weighted', 'recall_weighted'))\n",
    "print(\"Samples: \" + str(minor.samp) + \", features: \" + str(minor.feat))\n",
    "print(scores)"
   ]
  },
  {
   "cell_type": "code",
   "execution_count": 27,
   "metadata": {},
   "outputs": [
    {
     "name": "stdout",
     "output_type": "stream",
     "text": [
      "Samples: 1, features: 0.75\n",
      "{'fit_time': array([520.56329083, 516.32255888, 512.81572843, 515.9530642 ,\n",
      "       512.67361331]), 'score_time': array([111.91073942, 110.92907143, 111.13916683, 106.63560247,\n",
      "       105.16092849]), 'test_accuracy': array([0.45437666, 0.42531175, 0.45104802, 0.47253914, 0.45608915]), 'test_neg_log_loss': array([-2.2771376 , -2.31048711, -2.29229084, -2.18134571, -2.20043312]), 'test_neg_mean_squared_error': array([-63.84403183, -68.31122314, -65.51737862, -59.57123906,\n",
      "       -61.12841603]), 'test_roc_auc_ovr': array([0.85833698, 0.85531957, 0.85682158, 0.90094179, 0.89186044]), 'test_f1_weighted': array([0.49636403, 0.4826579 , 0.49590818, 0.51610359, 0.50086413]), 'test_precision_weighted': array([0.62881118, 0.65241621, 0.63746425, 0.66810244, 0.65034033]), 'test_recall_weighted': array([0.45437666, 0.42531175, 0.45104802, 0.47253914, 0.45608915])}\n"
     ]
    }
   ],
   "source": [
    "minor = MinorClassifiers(1, 0.75, 'average', 17)\n",
    "scores = cross_validate(minor, svd_x_train, y_train, cv=5, scoring=('accuracy', 'neg_log_loss', 'neg_mean_squared_error', 'roc_auc_ovr', 'f1_weighted', 'precision_weighted', 'recall_weighted'))\n",
    "print(\"Samples: \" + str(minor.samp) + \", features: \" + str(minor.feat))\n",
    "print(scores)"
   ]
  },
  {
   "cell_type": "code",
   "execution_count": 25,
   "metadata": {},
   "outputs": [
    {
     "name": "stdout",
     "output_type": "stream",
     "text": [
      "Samples: 1, features: 0.75\n",
      "{'fit_time': array([458.18233275, 458.94922185, 455.71453381, 458.29120445,\n",
      "       456.0075171 ]), 'score_time': array([101.73886085,  99.98978758,  99.31031156,  97.96914768,\n",
      "        94.51711583]), 'test_accuracy': array([0.42546419, 0.40169806, 0.41390289, 0.45900769, 0.43141417]), 'test_neg_log_loss': array([-2.33640001, -2.38923984, -2.38524626, -2.26303343, -2.30677453]), 'test_neg_mean_squared_error': array([-68.5204244 , -70.16715309, -70.62589546, -61.31042717,\n",
      "       -63.58105598]), 'test_roc_auc_ovr': array([0.84773667, 0.84433887, 0.83743299, 0.88821421, 0.87751997]), 'test_f1_weighted': array([0.47264245, 0.45858651, 0.46193671, 0.5006781 , 0.4730937 ]), 'test_precision_weighted': array([0.62460327, 0.63162272, 0.62337007, 0.65809789, 0.63443998]), 'test_recall_weighted': array([0.42546419, 0.40169806, 0.41390289, 0.45900769, 0.43141417])}\n"
     ]
    }
   ],
   "source": [
    "minor = MinorClassifiers(1, 0.75, 'average', 15)\n",
    "scores = cross_validate(minor, svd_x_train, y_train, cv=5, scoring=('accuracy', 'neg_log_loss', 'neg_mean_squared_error', 'roc_auc_ovr', 'f1_weighted', 'precision_weighted', 'recall_weighted'))\n",
    "print(\"Samples: \" + str(minor.samp) + \", features: \" + str(minor.feat))\n",
    "print(scores)"
   ]
  },
  {
   "cell_type": "code",
   "execution_count": 29,
   "metadata": {},
   "outputs": [
    {
     "name": "stdout",
     "output_type": "stream",
     "text": [
      "Samples: 1, features: 0.75\n",
      "{'fit_time': array([340.96674538, 343.14382362, 342.93684602, 344.92226934,\n",
      "       346.89476562]), 'score_time': array([77.52025342, 76.50937796, 81.18926787, 75.18470097, 70.77974772]), 'test_accuracy': array([0.3535809 , 0.3451844 , 0.33749005, 0.42478111, 0.4258424 ]), 'test_neg_log_loss': array([-2.53953884, -2.54133517, -2.59508552, -2.42667829, -2.40501375]), 'test_neg_mean_squared_error': array([-76.03554377, -79.36720616, -79.54629875, -64.91430088,\n",
      "       -61.50941894]), 'test_roc_auc_ovr': array([0.80265122, 0.80967978, 0.78887726, 0.85483641, 0.85509092]), 'test_f1_weighted': array([0.40063736, 0.40347097, 0.3874721 , 0.46607858, 0.46576514]), 'test_precision_weighted': array([0.58141617, 0.58810097, 0.5817773 , 0.62356358, 0.61107113]), 'test_recall_weighted': array([0.3535809 , 0.3451844 , 0.33749005, 0.42478111, 0.4258424 ])}\n"
     ]
    }
   ],
   "source": [
    "minor = MinorClassifiers(1, 0.75, 'average', 11)\n",
    "scores = cross_validate(minor, svd_x_train, y_train, cv=5, scoring=('accuracy', 'neg_log_loss', 'neg_mean_squared_error', 'roc_auc_ovr', 'f1_weighted', 'precision_weighted', 'recall_weighted'))\n",
    "print(\"Samples: \" + str(minor.samp) + \", features: \" + str(minor.feat))\n",
    "print(scores)"
   ]
  },
  {
   "cell_type": "code",
   "execution_count": 23,
   "metadata": {},
   "outputs": [
    {
     "name": "stdout",
     "output_type": "stream",
     "text": [
      "Samples: 1, features: 0.75\n",
      "{'fit_time': array([313.81512237, 315.01926184, 315.6699419 , 316.18299389,\n",
      "       313.71451807]), 'score_time': array([71.72010326, 71.46488166, 72.00461149, 68.82487416, 65.875911  ]), 'test_accuracy': array([0.33156499, 0.33351021, 0.32475458, 0.4234545 , 0.39877952]), 'test_neg_log_loss': array([-2.60271595, -2.58509251, -2.64581455, -2.43916448, -2.45705621]), 'test_neg_mean_squared_error': array([-80.46525199, -81.33297957, -83.05226851, -63.88511542,\n",
      "       -65.80366145]), 'test_roc_auc_ovr': array([0.78987905, 0.79998341, 0.77094091, 0.85266154, 0.83826409]), 'test_f1_weighted': array([0.3775018 , 0.39111919, 0.37290265, 0.46704879, 0.43357864]), 'test_precision_weighted': array([0.56420576, 0.58946058, 0.56980663, 0.61955335, 0.58746608]), 'test_recall_weighted': array([0.33156499, 0.33351021, 0.32475458, 0.4234545 , 0.39877952])}\n"
     ]
    }
   ],
   "source": [
    "minor = MinorClassifiers(1, 0.75, 'average', 10)\n",
    "scores = cross_validate(minor, svd_x_train, y_train, cv=5, scoring=('accuracy', 'neg_log_loss', 'neg_mean_squared_error', 'roc_auc_ovr', 'f1_weighted', 'precision_weighted', 'recall_weighted'))\n",
    "print(\"Samples: \" + str(minor.samp) + \", features: \" + str(minor.feat))\n",
    "print(scores)"
   ]
  },
  {
   "cell_type": "code",
   "execution_count": 26,
   "metadata": {},
   "outputs": [
    {
     "name": "stdout",
     "output_type": "stream",
     "text": [
      "Samples: 1, features: 0.75\n",
      "{'fit_time': array([231.5862422 , 229.10810566, 230.60734105, 230.28611374,\n",
      "       233.58469415]), 'score_time': array([52.39711094, 54.05704069, 54.2075491 , 53.4918735 , 52.97313595]), 'test_accuracy': array([0.28885942, 0.26983285, 0.27620058, 0.37357389, 0.36004245]), 'test_neg_log_loss': array([-2.72753288, -2.75358123, -2.7535398 , -2.6408754 , -2.61915646]), 'test_neg_mean_squared_error': array([-83.47108753, -86.71106394, -89.14141682, -69.43486336,\n",
      "       -68.28548687]), 'test_roc_auc_ovr': array([0.75522442, 0.75151091, 0.7441868 , 0.79336908, 0.79429558]), 'test_f1_weighted': array([0.32590375, 0.31780174, 0.31691427, 0.41084908, 0.38053513]), 'test_precision_weighted': array([0.53483045, 0.53308999, 0.53195986, 0.56378041, 0.54676665]), 'test_recall_weighted': array([0.28885942, 0.26983285, 0.27620058, 0.37357389, 0.36004245])}\n"
     ]
    }
   ],
   "source": [
    "minor = MinorClassifiers(1, 0.75, 'average', 7)\n",
    "scores = cross_validate(minor, svd_x_train, y_train, cv=5, scoring=('accuracy', 'neg_log_loss', 'neg_mean_squared_error', 'roc_auc_ovr', 'f1_weighted', 'precision_weighted', 'recall_weighted'))\n",
    "print(\"Samples: \" + str(minor.samp) + \", features: \" + str(minor.feat))\n",
    "print(scores)"
   ]
  },
  {
   "cell_type": "code",
   "execution_count": 24,
   "metadata": {},
   "outputs": [
    {
     "name": "stdout",
     "output_type": "stream",
     "text": [
      "Samples: 1, features: 0.75\n",
      "{'fit_time': array([174.13259482, 172.68857598, 173.33416319, 172.88527989,\n",
      "       173.12973428]), 'score_time': array([43.16913557, 42.38694286, 41.9971118 , 41.39183974, 37.69438601]), 'test_accuracy': array([0.26763926, 0.23003449, 0.23852481, 0.32077474, 0.33589812]), 'test_neg_log_loss': array([-2.81462134, -2.83578053, -2.85630931, -2.74322816, -2.720186  ]), 'test_neg_mean_squared_error': array([-81.5933687 , -91.75510746, -91.68108252, -70.47068188,\n",
      "       -67.91005572]), 'test_roc_auc_ovr': array([0.72636927, 0.72006857, 0.70560783, 0.74997932, 0.76318908]), 'test_f1_weighted': array([0.28466559, 0.2621218 , 0.26443505, 0.34843197, 0.34829801]), 'test_precision_weighted': array([0.49493684, 0.49677137, 0.49324667, 0.51578974, 0.48598147]), 'test_recall_weighted': array([0.26763926, 0.23003449, 0.23852481, 0.32077474, 0.33589812])}\n"
     ]
    }
   ],
   "source": [
    "minor = MinorClassifiers(1, 0.75, 'average', 5)\n",
    "scores = cross_validate(minor, svd_x_train, y_train, cv=5, scoring=('accuracy', 'neg_log_loss', 'neg_mean_squared_error', 'roc_auc_ovr', 'f1_weighted', 'precision_weighted', 'recall_weighted'))\n",
    "print(\"Samples: \" + str(minor.samp) + \", features: \" + str(minor.feat))\n",
    "print(scores)"
   ]
  },
  {
   "cell_type": "code",
   "execution_count": 28,
   "metadata": {},
   "outputs": [
    {
     "name": "stdout",
     "output_type": "stream",
     "text": [
      "Samples: 1, features: 0.75\n",
      "{'fit_time': array([144.6208396 , 145.08518982, 145.80395412, 144.94858265,\n",
      "       144.84199882]), 'score_time': array([35.57569957, 36.61703134, 34.7765727 , 34.84597135, 31.93229795]), 'test_accuracy': array([0.20557029, 0.21172725, 0.2194216 , 0.2799151 , 0.29981427]), 'test_neg_log_loss': array([-2.87825814, -2.88095561, -2.91086788, -2.78753094, -2.79013936]), 'test_neg_mean_squared_error': array([-81.30344828, -91.65348899, -91.26850624, -68.51499071,\n",
      "       -71.08224993]), 'test_roc_auc_ovr': array([0.69667086, 0.69754482, 0.67800833, 0.72023747, 0.73043098]), 'test_f1_weighted': array([0.24324792, 0.23637009, 0.2317789 , 0.3001158 , 0.30691546]), 'test_precision_weighted': array([0.48582467, 0.46314854, 0.4409292 , 0.48916202, 0.46735043]), 'test_recall_weighted': array([0.20557029, 0.21172725, 0.2194216 , 0.2799151 , 0.29981427])}\n"
     ]
    }
   ],
   "source": [
    "minor = MinorClassifiers(1, 0.75, 'average', 4)\n",
    "scores = cross_validate(minor, svd_x_train, y_train, cv=5, scoring=('accuracy', 'neg_log_loss', 'neg_mean_squared_error', 'roc_auc_ovr', 'f1_weighted', 'precision_weighted', 'recall_weighted'))\n",
    "print(\"Samples: \" + str(minor.samp) + \", features: \" + str(minor.feat))\n",
    "print(scores)"
   ]
  },
  {
   "cell_type": "markdown",
   "metadata": {},
   "source": [
    "4"
   ]
  },
  {
   "cell_type": "code",
   "execution_count": 10,
   "metadata": {},
   "outputs": [],
   "source": [
    "noises = [0.05, 0.1, 0.2, 0.4]"
   ]
  },
  {
   "cell_type": "code",
   "execution_count": 11,
   "metadata": {},
   "outputs": [],
   "source": [
    "n_samples = [0.1, 0.35, 0.7]\n",
    "n_features = [0.25, 0.5, 0.75]\n",
    "minors = []"
   ]
  },
  {
   "cell_type": "code",
   "execution_count": 12,
   "metadata": {},
   "outputs": [],
   "source": [
    "for n in n_samples:\n",
    "    minors.append(MinorClassifiers(n, 1, 'average'))\n",
    "    \n",
    "for n in n_features:\n",
    "    minors.append(MinorClassifiers(1, n, 'average'))"
   ]
  },
  {
   "cell_type": "code",
   "execution_count": 13,
   "metadata": {},
   "outputs": [
    {
     "name": "stdout",
     "output_type": "stream",
     "text": [
      "Noise on data: 0.05\n",
      "Samples: 0.1, features: 1\n",
      "{'fit_time': array([154.17217922, 150.05866861, 153.23058915, 151.83258295,\n",
      "       156.07881832]), 'score_time': array([84.33436298, 87.54580879, 84.91181469, 84.54791069, 82.25219893]), 'test_accuracy': array([0.74535809, 0.74767843, 0.74422924, 0.7105333 , 0.71477846]), 'test_neg_log_loss': array([-1.03093654, -1.00874163, -1.02946624, -1.02003515, -0.98535182]), 'test_neg_mean_squared_error': array([-13.14615385, -13.65640754, -15.24860706, -17.15388697,\n",
      "       -15.84505174]), 'test_roc_auc_ovr': array([0.96907094, 0.97211317, 0.97235117, 0.9662398 , 0.97053474]), 'test_f1_weighted': array([0.74770109, 0.74781188, 0.74619186, 0.71335642, 0.7177339 ]), 'test_precision_weighted': array([0.75464193, 0.75303739, 0.75324298, 0.72433503, 0.72822271]), 'test_recall_weighted': array([0.74535809, 0.74767843, 0.74422924, 0.7105333 , 0.71477846])}\n",
      "Samples: 0.35, features: 1\n",
      "{'fit_time': array([1257.66017866, 1234.03320789, 1240.05512547, 1274.67126441,\n",
      "       1272.04563308]), 'score_time': array([242.19577718, 239.53850675, 240.33082843, 241.37191796,\n",
      "       241.52037406]), 'test_accuracy': array([0.83236074, 0.83762271, 0.84292916, 0.79968161, 0.80286548]), 'test_neg_log_loss': array([-0.60370979, -0.59691848, -0.58650801, -0.67555496, -0.67221652]), 'test_neg_mean_squared_error': array([ -8.67984085,  -8.68479703,  -7.31838684, -12.82700982,\n",
      "       -10.95171133]), 'test_roc_auc_ovr': array([0.98849713, 0.98776332, 0.98849033, 0.98286824, 0.98369101]), 'test_f1_weighted': array([0.83389332, 0.83767082, 0.84344834, 0.80034868, 0.80308745]), 'test_precision_weighted': array([0.83856941, 0.83871851, 0.84499442, 0.80429732, 0.8059247 ]), 'test_recall_weighted': array([0.83236074, 0.83762271, 0.84292916, 0.79968161, 0.80286548])}\n",
      "Samples: 0.7, features: 1\n",
      "{'fit_time': array([3723.9217782 , 3736.63300037, 3749.52140594, 3745.84755063,\n",
      "       3771.90114355]), 'score_time': array([424.25946569, 423.126019  , 423.18175101, 420.43654037,\n",
      "       424.52818537]), 'test_accuracy': array([0.86392573, 0.8742372 , 0.87476784, 0.82647917, 0.83550013]), 'test_neg_log_loss': array([-0.47101477, -0.45918007, -0.44841884, -0.57402647, -0.55678746]), 'test_neg_mean_squared_error': array([ -6.92466844,  -6.66755107,  -5.89811621, -10.84558238,\n",
      "        -9.86813478]), 'test_roc_auc_ovr': array([0.99222946, 0.99206042, 0.99247653, 0.98678805, 0.9883045 ]), 'test_f1_weighted': array([0.86455896, 0.87362217, 0.87503484, 0.82683029, 0.83576424]), 'test_precision_weighted': array([0.86651571, 0.87423048, 0.87593225, 0.82836935, 0.83740296]), 'test_recall_weighted': array([0.86392573, 0.8742372 , 0.87476784, 0.82647917, 0.83550013])}\n",
      "Samples: 1, features: 0.25\n",
      "{'fit_time': array([2402.52454042, 2207.54183578, 2201.43411326, 2251.81046581,\n",
      "       2414.07797265]), 'score_time': array([191.59526038, 185.6243856 , 188.20949769, 190.3480444 ,\n",
      "       191.82433271]), 'test_accuracy': array([0.86339523, 0.87025736, 0.86495092, 0.81719289, 0.82382595]), 'test_neg_log_loss': array([-0.72598009, -0.65730393, -0.73431914, -0.82580419, -0.79745706]), 'test_neg_mean_squared_error': array([ -7.21193634,  -6.0557177 ,  -6.86442027, -10.47758026,\n",
      "       -10.42186256]), 'test_roc_auc_ovr': array([0.98987577, 0.99096931, 0.9890546 , 0.982729  , 0.98518039]), 'test_f1_weighted': array([0.86397244, 0.86950263, 0.86525012, 0.81717959, 0.82408045]), 'test_precision_weighted': array([0.86655682, 0.87074841, 0.86841497, 0.82014942, 0.82750113]), 'test_recall_weighted': array([0.86339523, 0.87025736, 0.86495092, 0.81719289, 0.82382595])}\n",
      "Samples: 1, features: 0.5\n",
      "{'fit_time': array([3671.98287511, 3886.76133585, 3967.413908  , 3669.68683338,\n",
      "       4005.50819421]), 'score_time': array([312.06331539, 315.37220383, 318.80692887, 311.09884524,\n",
      "       321.4195478 ]), 'test_accuracy': array([0.87533156, 0.88246219, 0.88829928, 0.83231626, 0.84372513]), 'test_neg_log_loss': array([-0.48397705, -0.48785698, -0.47412544, -0.59993177, -0.59432119]), 'test_neg_mean_squared_error': array([-6.87453581, -6.0734943 , -5.25630141, -9.75112762, -9.37145131]), 'test_roc_auc_ovr': array([0.99298282, 0.99261861, 0.99372709, 0.98751003, 0.98843869]), 'test_f1_weighted': array([0.87583426, 0.88178461, 0.8885128 , 0.83179877, 0.84339487]), 'test_precision_weighted': array([0.8778509 , 0.88282337, 0.88939499, 0.83307876, 0.84448064]), 'test_recall_weighted': array([0.87533156, 0.88246219, 0.88829928, 0.83231626, 0.84372513])}\n",
      "Samples: 1, features: 0.75\n",
      "{'fit_time': array([5115.60392451, 5136.16936398, 5016.35994744, 5340.06014729,\n",
      "       5407.03906083]), 'score_time': array([435.35699534, 435.23274755, 431.87063074, 441.40927482,\n",
      "       434.34838152]), 'test_accuracy': array([0.87745358, 0.88564606, 0.88538074, 0.83523481, 0.84611303]), 'test_neg_log_loss': array([-0.43415404, -0.42621478, -0.41833587, -0.54902137, -0.52848181]), 'test_neg_mean_squared_error': array([-6.51511936, -6.01326612, -5.73706553, -9.51870523, -8.93075086]), 'test_roc_auc_ovr': array([0.99352986, 0.99342062, 0.99353632, 0.98799967, 0.98962627]), 'test_f1_weighted': array([0.8779943 , 0.88501469, 0.88583851, 0.83518191, 0.84588977]), 'test_precision_weighted': array([0.87981418, 0.88573473, 0.88714644, 0.83637649, 0.84698654]), 'test_recall_weighted': array([0.87745358, 0.88564606, 0.88538074, 0.83523481, 0.84611303])}\n",
      "Noise on data: 0.1\n",
      "Samples: 0.1, features: 1\n",
      "{'fit_time': array([144.31267309, 144.21645117, 143.68274546, 145.08099914,\n",
      "       145.50137544]), 'score_time': array([79.8195765 , 79.32898927, 79.48854518, 79.90747547, 79.68184161]), 'test_accuracy': array([0.74403183, 0.75033165, 0.74449456, 0.71212523, 0.71477846]), 'test_neg_log_loss': array([-1.03523963, -1.0090973 , -1.03310516, -1.0253377 , -0.99033755]), 'test_neg_mean_squared_error': array([-13.34297082, -13.89519767, -14.89387105, -17.1435394 ,\n",
      "       -15.58768904]), 'test_roc_auc_ovr': array([0.96845737, 0.97196742, 0.97235928, 0.9661439 , 0.97042546]), 'test_f1_weighted': array([0.74608469, 0.75027239, 0.74612315, 0.7136134 , 0.71735984]), 'test_precision_weighted': array([0.75283054, 0.75531436, 0.75255818, 0.7224942 , 0.72707058]), 'test_recall_weighted': array([0.74403183, 0.75033165, 0.74449456, 0.71212523, 0.71477846])}\n",
      "Samples: 0.35, features: 1\n",
      "{'fit_time': array([1252.06844974, 1238.51931286, 1248.6714015 , 1289.36426592,\n",
      "       1291.03914022]), 'score_time': array([241.69937277, 239.95767665, 240.83180237, 241.72777629,\n",
      "       241.33973217]), 'test_accuracy': array([0.83156499, 0.83496949, 0.84054126, 0.79782436, 0.80153887]), 'test_neg_log_loss': array([-0.61115437, -0.60158744, -0.59269965, -0.68161777, -0.67564294]), 'test_neg_mean_squared_error': array([ -9.04986737,  -9.17511276,  -7.10719024, -12.54842133,\n",
      "       -11.47917219]), 'test_roc_auc_ovr': array([0.98815346, 0.98765992, 0.98833784, 0.98259519, 0.98360913]), 'test_f1_weighted': array([0.83292995, 0.8349248 , 0.84122551, 0.79859144, 0.80181184]), 'test_precision_weighted': array([0.83718169, 0.83582084, 0.84279072, 0.80206947, 0.8042511 ]), 'test_recall_weighted': array([0.83156499, 0.83496949, 0.84054126, 0.79782436, 0.80153887])}\n",
      "Samples: 0.7, features: 1\n",
      "{'fit_time': array([3757.29161954, 3782.29490685, 3779.4893837 , 3788.74973273,\n",
      "       3803.95630217]), 'score_time': array([426.52229667, 423.90548587, 423.94980145, 422.42169118,\n",
      "       425.14528346]), 'test_accuracy': array([0.86180371, 0.87609445, 0.87344123, 0.82064208, 0.83576546]), 'test_neg_log_loss': array([-0.47827653, -0.46497104, -0.45414353, -0.58254745, -0.56055555]), 'test_neg_mean_squared_error': array([ -7.36047745,  -6.54656408,  -5.75643407, -11.01910321,\n",
      "        -9.84850093]), 'test_roc_auc_ovr': array([0.99190895, 0.99178555, 0.99228316, 0.98647148, 0.98816695]), 'test_f1_weighted': array([0.86253274, 0.87551028, 0.87370807, 0.82075706, 0.83607238]), 'test_precision_weighted': array([0.86452597, 0.87607756, 0.87464679, 0.82219326, 0.83746141]), 'test_recall_weighted': array([0.86180371, 0.87609445, 0.87344123, 0.82064208, 0.83576546])}\n",
      "Samples: 1, features: 0.25\n",
      "{'fit_time': array([2190.41731381, 2789.97905612, 2215.39269423, 2163.12483358,\n",
      "       2247.47101498]), 'score_time': array([185.98359036, 188.51723886, 186.65708566, 185.49601769,\n",
      "       189.07675886]), 'test_accuracy': array([0.86206897, 0.86495092, 0.87025736, 0.81719289, 0.82674449]), 'test_neg_log_loss': array([-0.69851264, -0.68856221, -0.7029378 , -0.77838363, -0.81765113]), 'test_neg_mean_squared_error': array([ -7.60689655,  -6.53833908,  -6.32608119, -10.26505704,\n",
      "       -10.05704431]), 'test_roc_auc_ovr': array([0.98966955, 0.99082477, 0.99048491, 0.98383667, 0.98516087]), 'test_f1_weighted': array([0.86230041, 0.86404418, 0.87063871, 0.81660714, 0.82624912]), 'test_precision_weighted': array([0.86424244, 0.86453404, 0.87301063, 0.81855143, 0.82891761]), 'test_recall_weighted': array([0.86206897, 0.86495092, 0.87025736, 0.81719289, 0.82674449])}\n"
     ]
    },
    {
     "name": "stdout",
     "output_type": "stream",
     "text": [
      "Samples: 1, features: 0.5\n",
      "{'fit_time': array([3887.04473448, 3979.57309031, 3839.72717118, 3762.76277852,\n",
      "       3931.58019376]), 'score_time': array([315.352211  , 317.44698024, 317.20530248, 313.24389148,\n",
      "       318.80638123]), 'test_accuracy': array([0.87427056, 0.88458477, 0.88458477, 0.8315203 , 0.84186787]), 'test_neg_log_loss': array([-0.49783675, -0.49412846, -0.48165129, -0.61265261, -0.57796264]), 'test_neg_mean_squared_error': array([-7.04270557, -5.42504643, -5.10400637, -9.7224728 , -8.83921465]), 'test_roc_auc_ovr': array([0.9925213 , 0.99250592, 0.99320857, 0.98667697, 0.98915912]), 'test_f1_weighted': array([0.8749937 , 0.8840639 , 0.88483512, 0.83140918, 0.84108109]), 'test_precision_weighted': array([0.87692341, 0.88463625, 0.88603959, 0.8327402 , 0.84182772]), 'test_recall_weighted': array([0.87427056, 0.88458477, 0.88458477, 0.8315203 , 0.84186787])}\n",
      "Samples: 1, features: 0.75\n",
      "{'fit_time': array([5225.5091362 , 5437.13613319, 5360.36702347, 5503.38156438,\n",
      "       5232.76609731]), 'score_time': array([440.17045689, 441.52261329, 440.35918593, 441.12917733,\n",
      "       438.59052753]), 'test_accuracy': array([0.87904509, 0.88591138, 0.88644203, 0.83709207, 0.84850093]), 'test_neg_log_loss': array([-0.44465644, -0.43513147, -0.42410134, -0.55273076, -0.52780511]), 'test_neg_mean_squared_error': array([-6.39655172, -5.93340409, -5.34889891, -9.42027063, -8.85486867]), 'test_roc_auc_ovr': array([0.99310841, 0.99317983, 0.9935636 , 0.98789819, 0.98961526]), 'test_f1_weighted': array([0.87967859, 0.88532455, 0.8868116 , 0.83690431, 0.84847583]), 'test_precision_weighted': array([0.88165026, 0.88618648, 0.88792701, 0.83814968, 0.84959125]), 'test_recall_weighted': array([0.87904509, 0.88591138, 0.88644203, 0.83709207, 0.84850093])}\n",
      "Noise on data: 0.2\n",
      "Samples: 0.1, features: 1\n",
      "{'fit_time': array([144.78130221, 144.43403316, 144.36266184, 145.74020052,\n",
      "       145.84427881]), 'score_time': array([80.09651423, 79.71949196, 79.72385836, 80.34153032, 80.14996696]), 'test_accuracy': array([0.74137931, 0.74210666, 0.73759618, 0.69540992, 0.70124702]), 'test_neg_log_loss': array([-1.06592651, -1.03347226, -1.06055566, -1.06250447, -1.03239289]), 'test_neg_mean_squared_error': array([-12.90742706, -14.28522154, -15.39135049, -17.37383921,\n",
      "       -17.20058371]), 'test_roc_auc_ovr': array([0.96548035, 0.970461  , 0.97157133, 0.96399423, 0.96727008]), 'test_f1_weighted': array([0.74342249, 0.74233632, 0.73914474, 0.69950342, 0.70453365]), 'test_precision_weighted': array([0.74978075, 0.74788318, 0.74602251, 0.71309102, 0.71693194]), 'test_recall_weighted': array([0.74137931, 0.74210666, 0.73759618, 0.69540992, 0.70124702])}\n",
      "Samples: 0.35, features: 1\n",
      "{'fit_time': array([1284.28856063, 1287.4709177 , 1284.13022661, 1341.12376666,\n",
      "       1345.19236135]), 'score_time': array([243.84613466, 242.50124121, 243.4507854 , 245.74147773,\n",
      "       245.90927291]), 'test_accuracy': array([0.82679045, 0.83072433, 0.83576546, 0.78906872, 0.79384452]), 'test_neg_log_loss': array([-0.62710207, -0.61630632, -0.60380586, -0.70597132, -0.70126959]), 'test_neg_mean_squared_error': array([ -9.48355438,  -9.11461926,  -7.61713982, -13.0201645 ,\n",
      "       -12.00849032]), 'test_roc_auc_ovr': array([0.98718705, 0.98689089, 0.98792447, 0.98124369, 0.98243423]), 'test_f1_weighted': array([0.82808211, 0.83037401, 0.83643704, 0.79044275, 0.79394654]), 'test_precision_weighted': array([0.83249148, 0.83129721, 0.83797882, 0.79484673, 0.79702917]), 'test_recall_weighted': array([0.82679045, 0.83072433, 0.83576546, 0.78906872, 0.79384452])}\n",
      "Samples: 0.7, features: 1\n",
      "{'fit_time': array([3872.00635171, 3884.94728017, 3889.3459456 , 4101.66430306,\n",
      "       3919.79562998]), 'score_time': array([433.50264835, 431.76427007, 432.96658254, 432.6580677 ,\n",
      "       433.22025537]), 'test_accuracy': array([0.85941645, 0.86893075, 0.86919607, 0.81905015, 0.83019369]), 'test_neg_log_loss': array([-0.49219678, -0.4780926 , -0.46757336, -0.59841675, -0.58091585]), 'test_neg_mean_squared_error': array([ -7.34403183,  -6.77765986,  -5.98912178, -10.97824357,\n",
      "       -10.35287875]), 'test_roc_auc_ovr': array([0.99135528, 0.99147482, 0.99195254, 0.98573357, 0.98744921]), 'test_f1_weighted': array([0.85991771, 0.86810799, 0.869369  , 0.81896322, 0.83031421]), 'test_precision_weighted': array([0.86191761, 0.86841994, 0.87014916, 0.82021795, 0.83200897]), 'test_recall_weighted': array([0.85941645, 0.86893075, 0.86919607, 0.81905015, 0.83019369])}\n",
      "Samples: 1, features: 0.25\n",
      "{'fit_time': array([2276.40489554, 2312.86744857, 2290.26166344, 2288.80716443,\n",
      "       2288.37163162]), 'score_time': array([190.15023446, 189.89534616, 189.11942863, 189.19446921,\n",
      "       190.76364946]), 'test_accuracy': array([0.86312997, 0.86256301, 0.86707349, 0.81055983, 0.81692757]), 'test_neg_log_loss': array([-0.74935053, -0.72940205, -0.71454136, -0.83064875, -0.85367946]), 'test_neg_mean_squared_error': array([ -7.60450928,  -6.70761475,  -6.40382064, -10.97850889,\n",
      "       -10.57495357]), 'test_roc_auc_ovr': array([0.98875732, 0.99009549, 0.99069171, 0.98237671, 0.98340735]), 'test_f1_weighted': array([0.86374224, 0.86179212, 0.86700264, 0.80979361, 0.81619583]), 'test_precision_weighted': array([0.86651758, 0.86272863, 0.86891862, 0.81117828, 0.81944292]), 'test_recall_weighted': array([0.86312997, 0.86256301, 0.86707349, 0.81055983, 0.81692757])}\n",
      "Samples: 1, features: 0.5\n",
      "{'fit_time': array([3759.60306239, 4186.18649459, 4049.9468267 , 4061.79991341,\n",
      "       3930.31182146]), 'score_time': array([318.26168299, 328.48977351, 324.20653319, 323.73130703,\n",
      "       324.00506639]), 'test_accuracy': array([0.87108753, 0.87503317, 0.87848236, 0.82356063, 0.83735739]), 'test_neg_log_loss': array([-0.52400111, -0.51665574, -0.51015171, -0.64966737, -0.602347  ]), 'test_neg_mean_squared_error': array([-6.31830239, -6.5290528 , -5.93658795, -9.70496153, -9.26983285]), 'test_roc_auc_ovr': array([0.99211193, 0.99232605, 0.99249713, 0.98528064, 0.9884824 ]), 'test_f1_weighted': array([0.87141164, 0.87419066, 0.87866587, 0.82278678, 0.83704018]), 'test_precision_weighted': array([0.87361458, 0.87439686, 0.87996699, 0.82389668, 0.83863772]), 'test_recall_weighted': array([0.87108753, 0.87503317, 0.87848236, 0.82356063, 0.83735739])}\n",
      "Samples: 1, features: 0.75\n",
      "{'fit_time': array([5330.764292  , 5281.3418982 , 5453.33337831, 5389.32220364,\n",
      "       6096.57883668]), 'score_time': array([446.57297683, 445.74785852, 450.69730687, 447.64610124,\n",
      "       489.8886447 ]), 'test_accuracy': array([0.8729443 , 0.87689042, 0.88113558, 0.83337755, 0.84266384]), 'test_neg_log_loss': array([-0.46064062, -0.44985621, -0.43820101, -0.56954426, -0.54147344]), 'test_neg_mean_squared_error': array([-6.84429708, -6.59697533, -5.26028124, -9.63120191, -9.43831255]), 'test_roc_auc_ovr': array([0.99272034, 0.99271122, 0.99336339, 0.98721732, 0.98932792]), 'test_f1_weighted': array([0.87360079, 0.87612708, 0.88139456, 0.83316107, 0.84236143]), 'test_precision_weighted': array([0.87564959, 0.87667858, 0.88252323, 0.83434305, 0.84352204]), 'test_recall_weighted': array([0.8729443 , 0.87689042, 0.88113558, 0.83337755, 0.84266384])}\n",
      "Noise on data: 0.4\n",
      "Samples: 0.1, features: 1\n",
      "{'fit_time': array([151.77259469, 157.23863006, 149.60978246, 149.95386791,\n",
      "       161.13001037]), 'score_time': array([85.43307638, 86.97605586, 85.99227571, 86.95770073, 91.50636387]), 'test_accuracy': array([0.71246684, 0.71822765, 0.70947201, 0.67577607, 0.67206155]), 'test_neg_log_loss': array([-1.16363772, -1.10689844, -1.14988487, -1.16219887, -1.12287933]), 'test_neg_mean_squared_error': array([-15.27851459, -16.04961528, -18.71371717, -18.59564871,\n",
      "       -18.56805519]), 'test_roc_auc_ovr': array([0.96029134, 0.96668294, 0.9650497 , 0.95596214, 0.96025207]), 'test_f1_weighted': array([0.71482256, 0.71812887, 0.7131621 , 0.68013736, 0.67691825]), 'test_precision_weighted': array([0.72114138, 0.72350596, 0.72492918, 0.69174158, 0.69198594]), 'test_recall_weighted': array([0.71246684, 0.71822765, 0.70947201, 0.67577607, 0.67206155])}\n",
      "Samples: 0.35, features: 1\n",
      "{'fit_time': array([1641.44273043, 1718.46974969, 1472.13879156, 1448.70062947,\n",
      "       1496.61953115]), 'score_time': array([293.14886475, 275.36277533, 250.72489977, 252.45433259,\n",
      "       253.06104946]), 'test_accuracy': array([0.8127321 , 0.81692757, 0.82488724, 0.7710268 , 0.77553728]), 'test_neg_log_loss': array([-0.68946807, -0.68265943, -0.67433647, -0.77968096, -0.77617027]), 'test_neg_mean_squared_error': array([-10.46843501,  -9.67232688,  -8.9572831 , -14.31175378,\n",
      "       -12.04643141]), 'test_roc_auc_ovr': array([0.98461305, 0.98433688, 0.98476984, 0.9776198 , 0.97848259]), 'test_f1_weighted': array([0.81454   , 0.81671465, 0.82577155, 0.77266733, 0.77589447]), 'test_precision_weighted': array([0.81942297, 0.81728658, 0.82752182, 0.77702791, 0.77922738]), 'test_recall_weighted': array([0.8127321 , 0.81692757, 0.82488724, 0.7710268 , 0.77553728])}\n"
     ]
    },
    {
     "name": "stdout",
     "output_type": "stream",
     "text": [
      "Samples: 0.7, features: 1\n",
      "{'fit_time': array([4754.13093948, 4343.07299876, 4221.38828945, 4277.95838237,\n",
      "       4303.87766171]), 'score_time': array([501.75028634, 456.31798673, 454.77140641, 456.92040133,\n",
      "       459.5886271 ]), 'test_accuracy': array([0.84137931, 0.85195012, 0.86017511, 0.79676307, 0.80711064]), 'test_neg_log_loss': array([-0.55641008, -0.54709967, -0.5256149 , -0.67119989, -0.65484963]), 'test_neg_mean_squared_error': array([ -9.15888594,  -8.13823295,  -6.79623242, -12.48686654,\n",
      "       -11.6418148 ]), 'test_roc_auc_ovr': array([0.98904029, 0.98917666, 0.99016616, 0.98296026, 0.98423189]), 'test_f1_weighted': array([0.84208157, 0.85108148, 0.86040717, 0.79731334, 0.80726987]), 'test_precision_weighted': array([0.84379865, 0.85102208, 0.86160535, 0.79980474, 0.80919648]), 'test_recall_weighted': array([0.84137931, 0.85195012, 0.86017511, 0.79676307, 0.80711064])}\n",
      "Samples: 1, features: 0.25\n",
      "{'fit_time': array([2600.77160215, 2531.09497333, 2682.15796685, 2506.54630566,\n",
      "       2474.66666698]), 'score_time': array([200.83801031, 202.93345404, 203.04444909, 200.46589804,\n",
      "       198.27422619]), 'test_accuracy': array([0.84615385, 0.84637835, 0.84850093, 0.78349695, 0.80260016]), 'test_neg_log_loss': array([-0.8741497 , -0.87764136, -0.90958936, -0.99232883, -0.90247515]), 'test_neg_mean_squared_error': array([ -8.19522546,  -8.16317326,  -7.57521889, -11.83682674,\n",
      "       -11.15945874]), 'test_roc_auc_ovr': array([0.98653291, 0.98618729, 0.98619222, 0.97789464, 0.9824186 ]), 'test_f1_weighted': array([0.84604056, 0.84538703, 0.8488024 , 0.78224568, 0.8017776 ]), 'test_precision_weighted': array([0.84706189, 0.8459865 , 0.85191267, 0.78546421, 0.8062739 ]), 'test_recall_weighted': array([0.84615385, 0.84637835, 0.84850093, 0.78349695, 0.80260016])}\n",
      "Samples: 1, features: 0.5\n",
      "{'fit_time': array([4238.90240455, 4304.15989304, 4239.21653605, 4147.52989602,\n",
      "       4555.82554483]), 'score_time': array([339.72203875, 339.66929793, 338.87362742, 338.82052326,\n",
      "       341.08986115]), 'test_accuracy': array([0.85729443, 0.86521624, 0.86999204, 0.80551871, 0.81533563]), 'test_neg_log_loss': array([-0.6174621 , -0.60375556, -0.58495785, -0.71172145, -0.69013328]), 'test_neg_mean_squared_error': array([ -7.91962865,  -6.88485009,  -6.09153622, -11.53250199,\n",
      "       -10.9466702 ]), 'test_roc_auc_ovr': array([0.98968949, 0.99008431, 0.99132493, 0.98350336, 0.98498393]), 'test_f1_weighted': array([0.85757573, 0.86447648, 0.87000167, 0.80501763, 0.81476256]), 'test_precision_weighted': array([0.85870464, 0.86483084, 0.87104273, 0.80725124, 0.81666126]), 'test_recall_weighted': array([0.85729443, 0.86521624, 0.86999204, 0.80551871, 0.81533563])}\n",
      "Samples: 1, features: 0.75\n",
      "{'fit_time': array([6075.33158469, 6016.73251224, 5931.01872444, 5922.29472375,\n",
      "       6058.08679771]), 'score_time': array([481.52587414, 477.89186764, 477.00712895, 478.6428237 ,\n",
      "       481.05119061]), 'test_accuracy': array([0.85782493, 0.8660122 , 0.8718493 , 0.80604935, 0.81984611]), 'test_neg_log_loss': array([-0.53526882, -0.51838282, -0.50767695, -0.65088746, -0.62348119]), 'test_neg_mean_squared_error': array([ -7.64933687,  -7.28389493,  -5.81188644, -12.19527726,\n",
      "       -10.67471478]), 'test_roc_auc_ovr': array([0.99052626, 0.99071939, 0.99163279, 0.98460312, 0.98602143]), 'test_f1_weighted': array([0.85831121, 0.86517176, 0.87198258, 0.80579069, 0.81937599]), 'test_precision_weighted': array([0.85954015, 0.86539978, 0.87299116, 0.8076948 , 0.82080278]), 'test_recall_weighted': array([0.85782493, 0.8660122 , 0.8718493 , 0.80604935, 0.81984611])}\n"
     ]
    }
   ],
   "source": [
    "for n in noises:\n",
    "    new_x_train = make_noise_data(svd_x_train, n)\n",
    "    print(\"Noise on data: \" + str(n))\n",
    "    for minor in minors:\n",
    "        scores = cross_validate(minor, new_x_train, y_train, scoring=('accuracy', 'neg_log_loss', 'neg_mean_squared_error', 'roc_auc_ovr', 'f1_weighted', 'precision_weighted', 'recall_weighted'))\n",
    "        print(\"Samples: \" + str(minor.samp) + \", features: \" + str(minor.feat))\n",
    "        print(scores)"
   ]
  },
  {
   "cell_type": "code",
   "execution_count": 14,
   "metadata": {},
   "outputs": [
    {
     "name": "stdout",
     "output_type": "stream",
     "text": [
      "Noise on labels: 0.05\n",
      "Samples: 0.1, features: 1\n",
      "{'fit_time': array([147.3920486 , 145.00769901, 143.99762869, 149.63122702,\n",
      "       154.37247801]), 'score_time': array([80.12688184, 79.6095295 , 82.08589077, 80.63044739, 94.53331995]), 'test_accuracy': array([0.69708223, 0.71371717, 0.71000265, 0.66569382, 0.6821438 ]), 'test_neg_log_loss': array([-1.31655301, -1.25115119, -1.30059008, -1.27777832, -1.22312223]), 'test_neg_mean_squared_error': array([-16.8403183 , -15.20854338, -16.46059963, -19.75643407,\n",
      "       -18.91085168]), 'test_roc_auc_ovr': array([0.93925082, 0.9462846 , 0.94184798, 0.93913961, 0.94616271]), 'test_f1_weighted': array([0.69827101, 0.71298166, 0.71034135, 0.66821722, 0.68428299]), 'test_precision_weighted': array([0.70417301, 0.71538463, 0.71374635, 0.67812542, 0.69424198]), 'test_recall_weighted': array([0.69708223, 0.71371717, 0.71000265, 0.66569382, 0.6821438 ])}\n",
      "Samples: 0.35, features: 1\n",
      "{'fit_time': array([1306.8132813 , 1265.42759252, 1278.12685347, 1294.75572419,\n",
      "       1297.61899185]), 'score_time': array([245.97686124, 243.65156913, 242.41935372, 244.07620525,\n",
      "       244.60766053]), 'test_accuracy': array([0.78408488, 0.78827275, 0.78986469, 0.75882197, 0.76253648]), 'test_neg_log_loss': array([-0.94273263, -0.92751853, -0.94806801, -0.99724525, -0.97509452]), 'test_neg_mean_squared_error': array([-12.87400531, -11.75112762, -10.93764924, -15.31467233,\n",
      "       -13.96922261]), 'test_roc_auc_ovr': array([0.96010053, 0.9603854 , 0.95840816, 0.95534952, 0.95875109]), 'test_f1_weighted': array([0.78477431, 0.78744894, 0.79017875, 0.75944437, 0.76284208]), 'test_precision_weighted': array([0.78828101, 0.78833553, 0.79249739, 0.76326562, 0.76660249]), 'test_recall_weighted': array([0.78408488, 0.78827275, 0.78986469, 0.75882197, 0.76253648])}\n",
      "Samples: 0.7, features: 1\n",
      "{'fit_time': array([4016.69452429, 4010.67513466, 4016.50594711, 4016.05088878,\n",
      "       4055.68919349]), 'score_time': array([434.06287718, 433.96723914, 434.5279336 , 432.23394203,\n",
      "       434.21637464]), 'test_accuracy': array([0.81909814, 0.82754046, 0.82700982, 0.78561953, 0.79304855]), 'test_neg_log_loss': array([-0.83545135, -0.81501941, -0.83031826, -0.91822227, -0.8771909 ]), 'test_neg_mean_squared_error': array([-10.13342175,  -9.34359246,  -8.75431149, -13.69408331,\n",
      "       -12.86999204]), 'test_roc_auc_ovr': array([0.96398702, 0.96459931, 0.96256664, 0.95928002, 0.96385166]), 'test_f1_weighted': array([0.81935031, 0.82642729, 0.82728867, 0.78542383, 0.79344283]), 'test_precision_weighted': array([0.82134235, 0.82759341, 0.82887568, 0.78659047, 0.7959266 ]), 'test_recall_weighted': array([0.81909814, 0.82754046, 0.82700982, 0.78561953, 0.79304855])}\n",
      "Samples: 1, features: 0.25\n",
      "{'fit_time': array([2472.57892013, 2402.90915751, 2315.7508626 , 2347.97362995,\n",
      "       2352.45372391]), 'score_time': array([190.20527649, 190.09657097, 185.80544662, 190.75335193,\n",
      "       190.38378572]), 'test_accuracy': array([0.82068966, 0.82143805, 0.82515256, 0.76890422, 0.78270098]), 'test_neg_log_loss': array([-1.00413688, -1.00514953, -0.96047806, -1.12564552, -1.05169757]), 'test_neg_mean_squared_error': array([-10.60026525, -10.02175643,  -9.62165031, -13.72724861,\n",
      "       -12.77633324]), 'test_roc_auc_ovr': array([0.96176466, 0.96397188, 0.96228729, 0.95628769, 0.96077598]), 'test_f1_weighted': array([0.82090312, 0.82033919, 0.82476082, 0.76801165, 0.7822217 ]), 'test_precision_weighted': array([0.82246295, 0.82226472, 0.82668394, 0.77055055, 0.78623018]), 'test_recall_weighted': array([0.82068966, 0.82143805, 0.82515256, 0.76890422, 0.78270098])}\n",
      "Samples: 1, features: 0.5\n",
      "{'fit_time': array([4371.81589031, 4385.70851135, 3877.38749146, 4236.7240417 ,\n",
      "       4125.54274368]), 'score_time': array([331.43236399, 330.61781383, 314.93180227, 322.7687366 ,\n",
      "       321.11043811]), 'test_accuracy': array([0.83289125, 0.83470417, 0.8339082 , 0.7935792 , 0.80260016]), 'test_neg_log_loss': array([-0.86725875, -0.8473991 , -0.8446426 , -0.9222723 , -0.89184342]), 'test_neg_mean_squared_error': array([ -9.34535809,  -8.80870257,  -8.57442292, -12.84982754,\n",
      "       -11.76704696]), 'test_roc_auc_ovr': array([0.96470778, 0.96551079, 0.96289559, 0.96014296, 0.96449714]), 'test_f1_weighted': array([0.83305788, 0.83396581, 0.83412445, 0.79350615, 0.80238659]), 'test_precision_weighted': array([0.83455924, 0.83473639, 0.83657371, 0.79491464, 0.80489741]), 'test_recall_weighted': array([0.83289125, 0.83470417, 0.8339082 , 0.7935792 , 0.80260016])}\n",
      "Samples: 1, features: 0.75\n",
      "{'fit_time': array([5698.81972599, 5884.4567225 , 6125.28159952, 5823.06517267,\n",
      "       5776.60185504]), 'score_time': array([452.07239723, 495.41415668, 456.08260536, 453.36809158,\n",
      "       455.51222515]), 'test_accuracy': array([0.83129973, 0.83815336, 0.83470417, 0.79702839, 0.80684532]), 'test_neg_log_loss': array([-0.80896658, -0.78806936, -0.80856616, -0.88948346, -0.8594212 ]), 'test_neg_mean_squared_error': array([ -9.06206897,  -8.6524277 ,  -8.51419475, -12.89227912,\n",
      "       -11.09976121]), 'test_roc_auc_ovr': array([0.96466648, 0.96629864, 0.963639  , 0.96059491, 0.96461173]), 'test_f1_weighted': array([0.83145529, 0.83720286, 0.83478747, 0.79653611, 0.80640035]), 'test_precision_weighted': array([0.83304537, 0.83854789, 0.83656054, 0.79736513, 0.80881002]), 'test_recall_weighted': array([0.83129973, 0.83815336, 0.83470417, 0.79702839, 0.80684532])}\n",
      "Noise on labels: 0.1\n",
      "Samples: 0.1, features: 1\n",
      "{'fit_time': array([145.23566103, 145.41430879, 144.31302881, 145.83480978,\n",
      "       146.28584337]), 'score_time': array([80.34066272, 80.05587006, 79.68137765, 80.37469339, 81.27898717]), 'test_accuracy': array([0.65809019, 0.65879544, 0.64738657, 0.61873176, 0.62828336]), 'test_neg_log_loss': array([-1.49944885, -1.49141088, -1.53189905, -1.54091708, -1.48770493]), 'test_neg_mean_squared_error': array([-19.69124668, -20.45874237, -22.43990448, -23.28256832,\n",
      "       -22.25868931]), 'test_roc_auc_ovr': array([0.91774367, 0.92034867, 0.91865922, 0.90840614, 0.91644341]), 'test_f1_weighted': array([0.65976533, 0.65782309, 0.64839091, 0.62009931, 0.63117856]), 'test_precision_weighted': array([0.66691577, 0.66331038, 0.65710643, 0.63490928, 0.64382202]), 'test_recall_weighted': array([0.65809019, 0.65879544, 0.64738657, 0.61873176, 0.62828336])}\n",
      "Samples: 0.35, features: 1\n",
      "{'fit_time': array([1330.38190031, 1333.58085394, 1333.75477266, 1357.00448012,\n",
      "       1360.31822872]), 'score_time': array([249.73740768, 247.81502867, 249.10569477, 249.52580404,\n",
      "       249.56090713]), 'test_accuracy': array([0.73925729, 0.74927036, 0.74316795, 0.69673653, 0.70681878]), 'test_neg_log_loss': array([-1.1822708 , -1.17720827, -1.19763579, -1.31485891, -1.25797144]), 'test_neg_mean_squared_error': array([-16.05649867, -15.0533298 , -14.49721412, -18.8837888 ,\n",
      "       -18.02706288]), 'test_roc_auc_ovr': array([0.9367224 , 0.93588695, 0.93637457, 0.92327563, 0.93118944]), 'test_f1_weighted': array([0.73951589, 0.74836356, 0.74353404, 0.69609531, 0.70722927]), 'test_precision_weighted': array([0.74261814, 0.74997692, 0.7452328 , 0.69970509, 0.71106473]), 'test_recall_weighted': array([0.73925729, 0.74927036, 0.74316795, 0.69673653, 0.70681878])}\n",
      "Samples: 0.7, features: 1\n",
      "{'fit_time': array([4410.54866695, 4424.3319664 , 4433.26335406, 4373.8935647 ,\n",
      "       4419.64900899]), 'score_time': array([450.33713388, 450.80085683, 452.17055821, 447.11391926,\n",
      "       451.61216855]), 'test_accuracy': array([0.76737401, 0.7829663 , 0.77739453, 0.72486071, 0.73653489]), 'test_neg_log_loss': array([-1.08426351, -1.07855853, -1.08697185, -1.23341933, -1.16762884]), 'test_neg_mean_squared_error': array([-13.90397878, -12.73680021, -12.7758026 , -16.75112762,\n",
      "       -16.73971876]), 'test_roc_auc_ovr': array([0.94071118, 0.93921718, 0.94123734, 0.92818807, 0.93639411]), 'test_f1_weighted': array([0.76732225, 0.78186089, 0.7769845 , 0.72358054, 0.73656963]), 'test_precision_weighted': array([0.76978205, 0.78308023, 0.77798883, 0.72570159, 0.73895701]), 'test_recall_weighted': array([0.76737401, 0.7829663 , 0.77739453, 0.72486071, 0.73653489])}\n",
      "Samples: 1, features: 0.25\n",
      "{'fit_time': array([2476.74277997, 2654.88554287, 2576.51068449, 2585.66794276,\n",
      "       2601.84307599]), 'score_time': array([191.27840281, 196.28116226, 195.15280557, 196.45232058,\n",
      "       196.67285275]), 'test_accuracy': array([0.77453581, 0.77686389, 0.78031308, 0.71239055, 0.73441231]), 'test_neg_log_loss': array([-1.23864436, -1.25529951, -1.25698892, -1.38449053, -1.30219753]), 'test_neg_mean_squared_error': array([-14.09575597, -13.28548687, -12.41655612, -17.56725922,\n",
      "       -16.95171133]), 'test_roc_auc_ovr': array([0.93930005, 0.93987811, 0.94001751, 0.92726927, 0.93583262]), 'test_f1_weighted': array([0.7742789 , 0.77591472, 0.78010623, 0.71069867, 0.73404903]), 'test_precision_weighted': array([0.77821258, 0.77781663, 0.78190174, 0.71441351, 0.73836498]), 'test_recall_weighted': array([0.77453581, 0.77686389, 0.78031308, 0.71239055, 0.73441231])}\n"
     ]
    },
    {
     "name": "stdout",
     "output_type": "stream",
     "text": [
      "Samples: 1, features: 0.5\n",
      "{'fit_time': array([4653.22140098, 4476.5926919 , 4587.05533099, 4499.70081139,\n",
      "       4637.06842899]), 'score_time': array([335.92143774, 332.81360936, 335.58371782, 332.94712138,\n",
      "       337.47496176]), 'test_accuracy': array([0.78037135, 0.78906872, 0.78615017, 0.73202441, 0.74794375]), 'test_neg_log_loss': array([-1.11186426, -1.10133025, -1.10412853, -1.23772095, -1.17725273]), 'test_neg_mean_squared_error': array([-13.34509284, -12.54842133, -12.282303  , -16.49907137,\n",
      "       -15.77739453]), 'test_roc_auc_ovr': array([0.94062509, 0.9406932 , 0.94178923, 0.92906682, 0.93596105]), 'test_f1_weighted': array([0.78048486, 0.7884564 , 0.78634281, 0.73085363, 0.74749657]), 'test_precision_weighted': array([0.78330802, 0.78966377, 0.78795441, 0.73342932, 0.75044887]), 'test_recall_weighted': array([0.78037135, 0.78906872, 0.78615017, 0.73202441, 0.74794375])}\n",
      "Samples: 1, features: 0.75\n",
      "{'fit_time': array([6366.471174  , 6344.73523259, 6602.1999054 , 6388.5762136 ,\n",
      "       6481.70191026]), 'score_time': array([470.70466161, 469.85243034, 476.83791852, 470.37852025,\n",
      "       472.11167693]), 'test_accuracy': array([0.78275862, 0.79145662, 0.78986469, 0.73759618, 0.75059698]), 'test_neg_log_loss': array([-1.06407025, -1.05694887, -1.06402348, -1.20236855, -1.13562206]), 'test_neg_mean_squared_error': array([-13.57506631, -12.35871584, -11.97877421, -16.04643141,\n",
      "       -16.36322632]), 'test_roc_auc_ovr': array([0.94093295, 0.94112506, 0.94159439, 0.92933518, 0.93769253]), 'test_f1_weighted': array([0.78272308, 0.79058664, 0.79019342, 0.73636512, 0.75018257]), 'test_precision_weighted': array([0.78516799, 0.79178935, 0.79200152, 0.73846812, 0.75208249]), 'test_recall_weighted': array([0.78275862, 0.79145662, 0.78986469, 0.73759618, 0.75059698])}\n",
      "Noise on labels: 0.2\n",
      "Samples: 0.1, features: 1\n",
      "{'fit_time': array([146.2017262 , 146.5606699 , 145.71020985, 147.68754864,\n",
      "       147.45946264]), 'score_time': array([80.92160773, 81.06727099, 81.00210476, 81.22569489, 81.14382958]), 'test_accuracy': array([0.55172414, 0.54603343, 0.55372778, 0.54099231, 0.54178827]), 'test_neg_log_loss': array([-1.93902927, -1.95744355, -1.94032656, -1.90897141, -1.8916886 ]), 'test_neg_mean_squared_error': array([-26.51299735, -29.68479703, -29.82382595, -28.95622181,\n",
      "       -28.07402494]), 'test_roc_auc_ovr': array([0.85558291, 0.85489474, 0.86762687, 0.86075844, 0.86327307]), 'test_f1_weighted': array([0.55170517, 0.54523684, 0.55639999, 0.5419406 , 0.5444859 ]), 'test_precision_weighted': array([0.5602037 , 0.55246807, 0.56630596, 0.55171839, 0.55993493]), 'test_recall_weighted': array([0.55172414, 0.54603343, 0.55372778, 0.54099231, 0.54178827])}\n",
      "Samples: 0.35, features: 1\n",
      "{'fit_time': array([1431.51008034, 1433.29543734, 1443.44066215, 1464.8341794 ,\n",
      "       1457.06414795]), 'score_time': array([258.78914499, 256.10563993, 257.04602647, 259.33555794,\n",
      "       258.79094291]), 'test_accuracy': array([0.64005305, 0.64154948, 0.64367206, 0.6298753 , 0.61767047]), 'test_neg_log_loss': array([-1.6782734 , -1.68268021, -1.62911642, -1.64936661, -1.68019125]), 'test_neg_mean_squared_error': array([-23.46949602, -22.21570708, -20.46272221, -24.12841603,\n",
      "       -23.7781905 ]), 'test_roc_auc_ovr': array([0.87278625, 0.87565521, 0.88612335, 0.88015846, 0.87706967]), 'test_f1_weighted': array([0.63999288, 0.64034036, 0.64351965, 0.62934481, 0.61780737]), 'test_precision_weighted': array([0.64499213, 0.64228643, 0.64733945, 0.63143962, 0.62385845]), 'test_recall_weighted': array([0.64005305, 0.64154948, 0.64367206, 0.6298753 , 0.61767047])}\n",
      "Samples: 0.7, features: 1\n",
      "{'fit_time': array([5042.14959764, 5036.34483671, 5075.37366533, 5335.5267818 ,\n",
      "       5320.02227259]), 'score_time': array([478.38395262, 473.30460334, 477.02725792, 489.73596931,\n",
      "       495.76548004]), 'test_accuracy': array([0.67082228, 0.67710268, 0.68453171, 0.65216238, 0.64659061]), 'test_neg_log_loss': array([-1.5890457 , -1.57566754, -1.53128087, -1.5837803 , -1.61790755]), 'test_neg_mean_squared_error': array([-20.93580902, -20.10984346, -18.46749801, -23.2194216 ,\n",
      "       -22.21676837]), 'test_roc_auc_ovr': array([0.87920621, 0.88163198, 0.8907065 , 0.88496614, 0.88109248]), 'test_f1_weighted': array([0.66994331, 0.67588263, 0.68436984, 0.65130583, 0.64598749]), 'test_precision_weighted': array([0.67238616, 0.67763221, 0.68746949, 0.65299415, 0.64982002]), 'test_recall_weighted': array([0.67082228, 0.67710268, 0.68453171, 0.65216238, 0.64659061])}\n",
      "Samples: 1, features: 0.25\n",
      "{'fit_time': array([3374.57454038, 3387.59861231, 3762.05414677, 3595.49873996,\n",
      "       3263.581954  ]), 'score_time': array([237.78318834, 212.52116108, 240.6933763 , 205.43444037,\n",
      "       209.82250452]), 'test_accuracy': array([0.67506631, 0.68055187, 0.68426638, 0.64738657, 0.63783497]), 'test_neg_log_loss': array([-1.72442914, -1.6977657 , -1.69429056, -1.74930893, -1.72976158]), 'test_neg_mean_squared_error': array([-21.05994695, -19.64446803, -18.16423454, -23.18944017,\n",
      "       -22.41178031]), 'test_roc_auc_ovr': array([0.87796549, 0.88332333, 0.88895266, 0.87892243, 0.87981681]), 'test_f1_weighted': array([0.67413262, 0.67905927, 0.68478674, 0.6459544 , 0.63708421]), 'test_precision_weighted': array([0.67711652, 0.68195507, 0.68978984, 0.64914173, 0.64164257]), 'test_recall_weighted': array([0.67506631, 0.68055187, 0.68426638, 0.64738657, 0.63783497])}\n",
      "Samples: 1, features: 0.5\n",
      "{'fit_time': array([5460.91206169, 5354.85587764, 5317.16684318, 5328.50972986,\n",
      "       5371.01957965]), 'score_time': array([351.7596755 , 353.72902846, 354.1087997 , 357.97168803,\n",
      "       357.24124098]), 'test_accuracy': array([0.68541114, 0.69169541, 0.69487928, 0.65879544, 0.65375431]), 'test_neg_log_loss': array([-1.60043523, -1.59095432, -1.56541305, -1.5968352 , -1.61645689]), 'test_neg_mean_squared_error': array([-20.60530504, -19.20084903, -17.32395861, -22.44388432,\n",
      "       -21.51684797]), 'test_roc_auc_ovr': array([0.88077134, 0.88345739, 0.8893994 , 0.88456289, 0.8818723 ]), 'test_f1_weighted': array([0.68458629, 0.69038351, 0.69517519, 0.65689293, 0.65322361]), 'test_precision_weighted': array([0.68736898, 0.69255663, 0.69848796, 0.65848376, 0.65657561]), 'test_recall_weighted': array([0.68541114, 0.69169541, 0.69487928, 0.65879544, 0.65375431])}\n",
      "Samples: 1, features: 0.75\n",
      "{'fit_time': array([7551.94472098, 7443.72902513, 7390.33701324, 7478.15292716,\n",
      "       7421.89090276]), 'score_time': array([502.07054543, 498.52443957, 500.75733495, 503.10337687,\n",
      "       501.84055614]), 'test_accuracy': array([0.6862069 , 0.69328734, 0.69461396, 0.66383656, 0.65428496]), 'test_neg_log_loss': array([-1.56218306, -1.54678722, -1.52019201, -1.5672194 , -1.59202679]), 'test_neg_mean_squared_error': array([-20.47267905, -19.54046166, -17.55080923, -22.53117538,\n",
      "       -22.19235872]), 'test_roc_auc_ovr': array([0.88145259, 0.88459762, 0.88992603, 0.88566466, 0.88291005]), 'test_f1_weighted': array([0.68530681, 0.69213961, 0.69499391, 0.66273671, 0.65321526]), 'test_precision_weighted': array([0.68770591, 0.69434509, 0.69774894, 0.66432141, 0.65568618]), 'test_recall_weighted': array([0.6862069 , 0.69328734, 0.69461396, 0.66383656, 0.65428496])}\n",
      "Noise on labels: 0.4\n",
      "Samples: 0.1, features: 1\n",
      "{'fit_time': array([148.45590281, 148.10241199, 147.69073391, 149.08870769,\n",
      "       149.34623361]), 'score_time': array([81.74206185, 81.16076684, 81.03576756, 81.75452352, 81.81196594]), 'test_accuracy': array([0.36896552, 0.37277793, 0.39373839, 0.37118599, 0.38604404]), 'test_neg_log_loss': array([-2.48038921, -2.49048042, -2.48602921, -2.46642726, -2.44031947]), 'test_neg_mean_squared_error': array([-39.74854111, -40.4911117 , -39.20748209, -39.90130008,\n",
      "       -38.0581056 ]), 'test_roc_auc_ovr': array([0.75423857, 0.75494864, 0.75805243, 0.7534395 , 0.75872416]), 'test_f1_weighted': array([0.36955296, 0.37002099, 0.39282325, 0.37166737, 0.38647629]), 'test_precision_weighted': array([0.38262315, 0.37558405, 0.4063088 , 0.38992238, 0.39930549]), 'test_recall_weighted': array([0.36896552, 0.37277793, 0.39373839, 0.37118599, 0.38604404])}\n",
      "Samples: 0.35, features: 1\n",
      "{'fit_time': array([1614.03037858, 1619.3231442 , 1772.12585592, 1634.8345387 ,\n",
      "       1653.14798617]), 'score_time': array([269.97479725, 270.31855321, 271.32790709, 270.90637183,\n",
      "       272.77972531]), 'test_accuracy': array([0.44509284, 0.44786415, 0.46006898, 0.44547625, 0.46113027]), 'test_neg_log_loss': array([-2.31845264, -2.32387836, -2.28826857, -2.29125873, -2.27560246]), 'test_neg_mean_squared_error': array([-36.53952255, -36.4507827 , -35.72273813, -35.4613956 ,\n",
      "       -35.6654285 ]), 'test_roc_auc_ovr': array([0.7699079 , 0.7713057 , 0.77671481, 0.77461312, 0.77744929]), 'test_f1_weighted': array([0.44485334, 0.44799017, 0.45908816, 0.4437266 , 0.45950744]), 'test_precision_weighted': array([0.44691523, 0.45014181, 0.46154712, 0.44724808, 0.46697996]), 'test_recall_weighted': array([0.44509284, 0.44786415, 0.46006898, 0.44547625, 0.46113027])}\n"
     ]
    },
    {
     "name": "stdout",
     "output_type": "stream",
     "text": [
      "Samples: 0.7, features: 1\n",
      "{'fit_time': array([6813.23192263, 6201.19724369, 6200.78530812, 6187.20400405,\n",
      "       6221.60724497]), 'score_time': array([518.99287033, 516.62730479, 518.26143956, 520.71870971,\n",
      "       518.77536559]), 'test_accuracy': array([0.47612732, 0.47413107, 0.4887238 , 0.46829398, 0.48182542]), 'test_neg_log_loss': array([-2.26653771, -2.26814716, -2.22658226, -2.26174909, -2.22657176]), 'test_neg_mean_squared_error': array([-33.59071618, -33.92677103, -33.54178827, -35.02281772,\n",
      "       -34.78827275]), 'test_roc_auc_ovr': array([0.77576315, 0.77680069, 0.78608765, 0.7764357 , 0.78123108]), 'test_f1_weighted': array([0.47571956, 0.47390109, 0.48693187, 0.46741745, 0.48093589]), 'test_precision_weighted': array([0.47769613, 0.47683201, 0.48906016, 0.47025034, 0.48615523]), 'test_recall_weighted': array([0.47612732, 0.47413107, 0.4887238 , 0.46829398, 0.48182542])}\n",
      "Samples: 1, features: 0.25\n",
      "{'fit_time': array([3601.09884953, 3549.66617465, 3626.84223938, 3633.32772803,\n",
      "       3640.51345968]), 'score_time': array([214.03367615, 213.38255739, 214.25007391, 215.00730658,\n",
      "       214.32548428]), 'test_accuracy': array([0.4867374 , 0.48527461, 0.49747944, 0.46696737, 0.48421332]), 'test_neg_log_loss': array([-2.34730036, -2.35107302, -2.31148163, -2.34045473, -2.30005309]), 'test_neg_mean_squared_error': array([-31.50981432, -33.42929159, -32.83364288, -34.83576546,\n",
      "       -33.38445211]), 'test_roc_auc_ovr': array([0.77306187, 0.7783646 , 0.78551164, 0.77341785, 0.78230533]), 'test_f1_weighted': array([0.48520635, 0.48488734, 0.49432129, 0.46502978, 0.48201466]), 'test_precision_weighted': array([0.48656026, 0.49057116, 0.49821953, 0.47046908, 0.49078679]), 'test_recall_weighted': array([0.4867374 , 0.48527461, 0.49747944, 0.46696737, 0.48421332])}\n",
      "Samples: 1, features: 0.5\n",
      "{'fit_time': array([6617.13513756, 6685.11248755, 6684.49221778, 6789.82782602,\n",
      "       6876.47963524]), 'score_time': array([382.86829853, 383.82791853, 383.85392904, 386.82769227,\n",
      "       388.94206977]), 'test_accuracy': array([0.49257294, 0.48580525, 0.50092863, 0.47731494, 0.48898912]), 'test_neg_log_loss': array([-2.27593197, -2.286658  , -2.24109859, -2.25975567, -2.23256166]), 'test_neg_mean_squared_error': array([-31.8938992 , -34.16264261, -33.13186522, -34.10851685,\n",
      "       -34.01857257]), 'test_roc_auc_ovr': array([0.77614027, 0.77870544, 0.78634073, 0.7778405 , 0.78324123]), 'test_f1_weighted': array([0.49190884, 0.48537646, 0.49865059, 0.47543143, 0.48767043]), 'test_precision_weighted': array([0.49340537, 0.48900796, 0.50120626, 0.47855022, 0.49260653]), 'test_recall_weighted': array([0.49257294, 0.48580525, 0.50092863, 0.47731494, 0.48898912])}\n",
      "Samples: 1, features: 0.75\n",
      "{'fit_time': array([10128.85174417,  9543.87325501,  9609.45988846,  9571.25013781,\n",
      "        9627.83750868]), 'score_time': array([551.92353749, 551.88203812, 555.23478842, 553.3357985 ,\n",
      "       556.50002742]), 'test_accuracy': array([0.49575597, 0.48792783, 0.50570443, 0.47758026, 0.49456089]), 'test_neg_log_loss': array([-2.25111493, -2.25555696, -2.21265132, -2.24386797, -2.20925954]), 'test_neg_mean_squared_error': array([-31.93660477, -33.65428496, -32.85566463, -33.99787742,\n",
      "       -34.12496683]), 'test_roc_auc_ovr': array([0.7773251 , 0.77951056, 0.78750232, 0.77846741, 0.78335091]), 'test_f1_weighted': array([0.49514558, 0.48751568, 0.5035485 , 0.47616066, 0.49325795]), 'test_precision_weighted': array([0.49688637, 0.4904099 , 0.50654681, 0.47942406, 0.49751168]), 'test_recall_weighted': array([0.49575597, 0.48792783, 0.50570443, 0.47758026, 0.49456089])}\n"
     ]
    }
   ],
   "source": [
    "for n in noises:\n",
    "    new_y_train = make_noise_label(y_train, n)\n",
    "    print(\"Noise on labels: \" + str(n))\n",
    "    for minor in minors:\n",
    "        scores = cross_validate(minor, svd_x_train, new_y_train, scoring=('accuracy', 'neg_log_loss', 'neg_mean_squared_error', 'roc_auc_ovr', 'f1_weighted', 'precision_weighted', 'recall_weighted'))\n",
    "        print(\"Samples: \" + str(minor.samp) + \", features: \" + str(minor.feat))\n",
    "        print(scores)"
   ]
  },
  {
   "cell_type": "markdown",
   "metadata": {},
   "source": [
    "Wyniki jakości klasyfikatorów:"
   ]
  },
  {
   "cell_type": "code",
   "execution_count": 15,
   "metadata": {},
   "outputs": [
    {
     "ename": "TypeError",
     "evalue": "__init__() missing 1 required positional argument: 'voting'",
     "output_type": "error",
     "traceback": [
      "\u001b[1;31m---------------------------------------------------------------------------\u001b[0m",
      "\u001b[1;31mTypeError\u001b[0m                                 Traceback (most recent call last)",
      "\u001b[1;32m<ipython-input-15-f4afc98cd142>\u001b[0m in \u001b[0;36m<module>\u001b[1;34m\u001b[0m\n\u001b[0;32m      1\u001b[0m \u001b[0mmax_iters\u001b[0m \u001b[1;33m=\u001b[0m \u001b[1;36m121\u001b[0m\u001b[1;33m\u001b[0m\u001b[1;33m\u001b[0m\u001b[0m\n\u001b[1;32m----> 2\u001b[1;33m \u001b[0mclfs\u001b[0m \u001b[1;33m=\u001b[0m \u001b[0mMinorClassifiers\u001b[0m\u001b[1;33m(\u001b[0m\u001b[0mn_samples\u001b[0m\u001b[1;33m,\u001b[0m \u001b[0mn_features\u001b[0m\u001b[1;33m)\u001b[0m\u001b[1;33m\u001b[0m\u001b[1;33m\u001b[0m\u001b[0m\n\u001b[0m",
      "\u001b[1;31mTypeError\u001b[0m: __init__() missing 1 required positional argument: 'voting'"
     ]
    }
   ],
   "source": [
    "max_iters = 121\n",
    "clfs = MinorClassifiers(n_samples, n_features)"
   ]
  },
  {
   "cell_type": "code",
   "execution_count": null,
   "metadata": {},
   "outputs": [],
   "source": [
    "m = svd_x_train.shape[0]\n",
    "m2 = int(m*0.1)\n",
    "svd_x_train_10 = svd_x_train[:m2]\n",
    "y_train_10 = y_train[:m2]"
   ]
  },
  {
   "cell_type": "code",
   "execution_count": null,
   "metadata": {},
   "outputs": [],
   "source": [
    "svd_x_train_10.shape"
   ]
  },
  {
   "cell_type": "code",
   "execution_count": null,
   "metadata": {},
   "outputs": [],
   "source": [
    "y_train_40 = make_noise_label(y_train, 0.4)"
   ]
  },
  {
   "cell_type": "code",
   "execution_count": null,
   "metadata": {},
   "outputs": [],
   "source": [
    "print(y_train_40.shape)\n",
    "print(svd_x_train.shape)"
   ]
  },
  {
   "cell_type": "code",
   "execution_count": null,
   "metadata": {},
   "outputs": [],
   "source": [
    "#UWAGA NIE PUSZCZAĆ BEZ POWODU - linijka niezakomentowana żeby uniknąć restartowania kernela\n",
    "#cross-validation -> wybór metody fuzji decyzji?\n",
    "scores = cross_validate(clfs, svd_x_train, y_train, cv=5, scoring=('accuracy', \n",
    "                                                    'neg_log_loss', \n",
    "                                                    'neg_mean_squared_error', \n",
    "                                                    'roc_auc_ovr', \n",
    "                                                    'f1_weighted', \n",
    "                                                    'precision_weighted', \n",
    "                                                    'recall_weighted'))\n",
    "#print(scores['test_accuracy'])\n",
    "#print(scores['test_neg_log_loss'])\n",
    "#print(scores['test_precision_weighted'])\n",
    "#print(scores['test_recall_weighted'])\n",
    "#print(scores['test_f1_weighted'])\n",
    "#print(scores['test_roc_auc_ovr'])\n",
    "#print(scores['test_average_precision'])\n"
   ]
  },
  {
   "cell_type": "code",
   "execution_count": null,
   "metadata": {},
   "outputs": [],
   "source": [
    "scores"
   ]
  },
  {
   "cell_type": "code",
   "execution_count": null,
   "metadata": {},
   "outputs": [],
   "source": [
    "y_pred = clfs.predict(svd_x_test)\n",
    "accuracy = accuracy_score(y_test, y_pred)\n",
    "print('Accuracy score: {0:0.2f}'.format(accuracy))"
   ]
  },
  {
   "cell_type": "code",
   "execution_count": null,
   "metadata": {},
   "outputs": [],
   "source": [
    "y_pred_proba = clfs.predict_proba(svd_x_test)\n",
    "loss = log_loss(y_test, y_pred_proba)\n",
    "print('Loss score: {0:0.2f}'.format(loss))"
   ]
  },
  {
   "cell_type": "code",
   "execution_count": null,
   "metadata": {},
   "outputs": [],
   "source": [
    "average_precision = average_precision_score(y_test, y_pred, pos_label=1)\n",
    "print('Precision-recall score: {0:0.2f}'.format(average_precision))"
   ]
  },
  {
   "cell_type": "code",
   "execution_count": null,
   "metadata": {},
   "outputs": [],
   "source": [
    "x_train"
   ]
  },
  {
   "cell_type": "code",
   "execution_count": null,
   "metadata": {},
   "outputs": [],
   "source": [
    "a = x_train.toarray()"
   ]
  },
  {
   "cell_type": "code",
   "execution_count": null,
   "metadata": {},
   "outputs": [],
   "source": []
  },
  {
   "cell_type": "code",
   "execution_count": null,
   "metadata": {},
   "outputs": [],
   "source": []
  },
  {
   "cell_type": "code",
   "execution_count": 6,
   "metadata": {},
   "outputs": [],
   "source": [
    "b = np.array([[2.0,3.0], [2.0,4.], [4.,5.]])"
   ]
  },
  {
   "cell_type": "code",
   "execution_count": 17,
   "metadata": {},
   "outputs": [
    {
     "name": "stdout",
     "output_type": "stream",
     "text": [
      "[[ 0.22475435 -0.06248808 -0.01441603 ... -0.0168442   0.02101432\n",
      "  -0.0191214 ]\n",
      " [ 0.12599262 -0.08438557 -0.0357827  ... -0.01513339  0.00517915\n",
      "   0.02194321]\n",
      " [ 0.3346583  -0.04556982 -0.07380376 ...  0.00602186  0.01392154\n",
      "  -0.02985655]\n",
      " ...\n",
      " [ 0.1662913  -0.00550221 -0.0884303  ...  0.01776318 -0.00348805\n",
      "   0.01692393]\n",
      " [ 0.20675388 -0.07267247  0.03741476 ...  0.03050179  0.02278233\n",
      "  -0.02552414]\n",
      " [ 0.09054867 -0.09988643  0.00410151 ...  0.00048173 -0.02367268\n",
      "   0.00355212]]\n"
     ]
    }
   ],
   "source": [
    "c = make_noise_data(svd_x_train, 0.1)\n",
    "print(c)"
   ]
  },
  {
   "cell_type": "code",
   "execution_count": null,
   "metadata": {},
   "outputs": [],
   "source": []
  },
  {
   "cell_type": "code",
   "execution_count": null,
   "metadata": {},
   "outputs": [],
   "source": []
  }
 ],
 "metadata": {
  "@webio": {
   "lastCommId": null,
   "lastKernelId": null
  },
  "kernelspec": {
   "display_name": "Python 3",
   "language": "python",
   "name": "python3"
  },
  "language_info": {
   "codemirror_mode": {
    "name": "ipython",
    "version": 3
   },
   "file_extension": ".py",
   "mimetype": "text/x-python",
   "name": "python",
   "nbconvert_exporter": "python",
   "pygments_lexer": "ipython3",
   "version": "3.8.0"
  }
 },
 "nbformat": 4,
 "nbformat_minor": 2
}
